{
 "cells": [
  {
   "cell_type": "markdown",
   "metadata": {
    "button": false,
    "new_sheet": false,
    "run_control": {
     "read_only": false
    },
    "slideshow": {
     "slide_type": "slide"
    }
   },
   "source": [
    "# Class Diagrams\n",
    "\n",
    "This is a simple viewer for class diagrams.  Customized towards the book."
   ]
  },
  {
   "cell_type": "markdown",
   "metadata": {
    "button": false,
    "new_sheet": false,
    "run_control": {
     "read_only": false
    },
    "slideshow": {
     "slide_type": "subslide"
    }
   },
   "source": [
    "**Prerequisites**\n",
    "\n",
    "* _Refer to earlier chapters as notebooks here, as here:_ [Earlier Chapter](Fuzzer.ipynb)."
   ]
  },
  {
   "cell_type": "code",
   "execution_count": 1,
   "metadata": {
    "button": false,
    "new_sheet": false,
    "run_control": {
     "read_only": false
    },
    "slideshow": {
     "slide_type": "skip"
    }
   },
   "outputs": [],
   "source": [
    "import bookutils"
   ]
  },
  {
   "cell_type": "markdown",
   "metadata": {
    "slideshow": {
     "slide_type": "slide"
    }
   },
   "source": [
    "## Synopsis\n",
    "<!-- Automatically generated. Do not edit. -->\n",
    "\n",
    "To [use the code provided in this chapter](Importing.ipynb), write\n",
    "\n",
    "```python\n",
    ">>> from debuggingbook.ClassDiagram import <identifier>\n",
    "```\n",
    "\n",
    "and then make use of the following features.\n",
    "\n",
    "\n",
    "The `display_class_hierarchy()` function shows the class hierarchy for the given class (or list of classes).  Methods with docstrings (intended to be used by the public) are shown in bold.\n",
    "\n",
    "```python\n",
    ">>> display_class_hierarchy(D)\n",
    "```\n",
    "\n",
    "![](PICS/ClassDiagram-synopsis-1.svg)\n",
    "\n"
   ]
  },
  {
   "cell_type": "markdown",
   "metadata": {
    "button": false,
    "new_sheet": true,
    "run_control": {
     "read_only": false
    },
    "slideshow": {
     "slide_type": "slide"
    }
   },
   "source": [
    "## Getting a Class Hierarchy"
   ]
  },
  {
   "cell_type": "markdown",
   "metadata": {
    "slideshow": {
     "slide_type": "fragment"
    }
   },
   "source": [
    "Using `mro()`, we can access the class hierarchy.  We make sure to avoid duplicates created by `class X(X)`."
   ]
  },
  {
   "cell_type": "code",
   "execution_count": 2,
   "metadata": {
    "slideshow": {
     "slide_type": "fragment"
    }
   },
   "outputs": [],
   "source": [
    "def class_hierarchy(cls):\n",
    "    superclasses = cls.mro()\n",
    "    hierarchy = []\n",
    "    last_superclass_name = \"\"\n",
    "    for superclass in superclasses:\n",
    "        if superclass.__name__ != last_superclass_name:\n",
    "            hierarchy.append(superclass)\n",
    "            last_superclass_name = superclass.__name__\n",
    "    return hierarchy"
   ]
  },
  {
   "cell_type": "markdown",
   "metadata": {
    "slideshow": {
     "slide_type": "fragment"
    }
   },
   "source": [
    "Here's an example:"
   ]
  },
  {
   "cell_type": "code",
   "execution_count": 3,
   "metadata": {
    "slideshow": {
     "slide_type": "subslide"
    }
   },
   "outputs": [],
   "source": [
    "class A:\n",
    "    def foo(self):\n",
    "        pass"
   ]
  },
  {
   "cell_type": "code",
   "execution_count": 4,
   "metadata": {
    "slideshow": {
     "slide_type": "fragment"
    }
   },
   "outputs": [],
   "source": [
    "class B(A):\n",
    "    def foo(self):\n",
    "        pass\n",
    "    def bar(self):\n",
    "        pass"
   ]
  },
  {
   "cell_type": "code",
   "execution_count": 5,
   "metadata": {
    "slideshow": {
     "slide_type": "fragment"
    }
   },
   "outputs": [],
   "source": [
    "class C:\n",
    "    def qux(self):\n",
    "        pass"
   ]
  },
  {
   "cell_type": "code",
   "execution_count": 6,
   "metadata": {
    "slideshow": {
     "slide_type": "fragment"
    }
   },
   "outputs": [],
   "source": [
    "class D(B, C):\n",
    "    def foo(self):\n",
    "        B.foo(self)\n"
   ]
  },
  {
   "cell_type": "code",
   "execution_count": 7,
   "metadata": {
    "slideshow": {
     "slide_type": "subslide"
    }
   },
   "outputs": [
    {
     "data": {
      "text/plain": [
       "[__main__.A, object]"
      ]
     },
     "execution_count": 7,
     "metadata": {},
     "output_type": "execute_result"
    }
   ],
   "source": [
    "class_hierarchy(A)"
   ]
  },
  {
   "cell_type": "markdown",
   "metadata": {
    "slideshow": {
     "slide_type": "slide"
    }
   },
   "source": [
    "## Getting a Class Tree"
   ]
  },
  {
   "cell_type": "markdown",
   "metadata": {
    "slideshow": {
     "slide_type": "fragment"
    }
   },
   "source": [
    "We can use `__bases__` to obtain the immediate base classes."
   ]
  },
  {
   "cell_type": "code",
   "execution_count": 8,
   "metadata": {
    "slideshow": {
     "slide_type": "fragment"
    }
   },
   "outputs": [
    {
     "data": {
      "text/plain": [
       "(__main__.B, __main__.C)"
      ]
     },
     "execution_count": 8,
     "metadata": {},
     "output_type": "execute_result"
    }
   ],
   "source": [
    "D.__bases__"
   ]
  },
  {
   "cell_type": "code",
   "execution_count": 9,
   "metadata": {
    "slideshow": {
     "slide_type": "fragment"
    }
   },
   "outputs": [],
   "source": [
    "def class_tree(cls):\n",
    "    ret = []\n",
    "    for base in cls.__bases__:\n",
    "        if base.__name__ == cls.__name__:\n",
    "            ret += class_tree(base)\n",
    "        else:\n",
    "            ret.append((cls, class_tree(base)))\n",
    "    return ret"
   ]
  },
  {
   "cell_type": "code",
   "execution_count": 10,
   "metadata": {
    "slideshow": {
     "slide_type": "subslide"
    }
   },
   "outputs": [],
   "source": [
    "def class_tree(cls):\n",
    "    \n",
    "    def base_tree(base):\n",
    "        while base.__name__ == cls.__name__:\n",
    "            base = base.__bases__[0]\n",
    "        return class_tree(base)\n",
    "    \n",
    "    ret = []\n",
    "    for base in cls.__bases__:\n",
    "        ret.append((cls, base_tree(base)))\n",
    "    return ret"
   ]
  },
  {
   "cell_type": "code",
   "execution_count": 11,
   "metadata": {
    "slideshow": {
     "slide_type": "fragment"
    }
   },
   "outputs": [
    {
     "data": {
      "text/plain": [
       "[(__main__.D, [(__main__.B, [(__main__.A, [])])]),\n",
       " (__main__.D, [(__main__.C, [])])]"
      ]
     },
     "execution_count": 11,
     "metadata": {},
     "output_type": "execute_result"
    }
   ],
   "source": [
    "class_tree(D)"
   ]
  },
  {
   "cell_type": "markdown",
   "metadata": {
    "slideshow": {
     "slide_type": "subslide"
    }
   },
   "source": [
    "Not perfect yet (multiple instances of same class), but we're getting there."
   ]
  },
  {
   "cell_type": "markdown",
   "metadata": {
    "button": false,
    "new_sheet": false,
    "run_control": {
     "read_only": false
    },
    "slideshow": {
     "slide_type": "slide"
    }
   },
   "source": [
    "## Getting methods"
   ]
  },
  {
   "cell_type": "code",
   "execution_count": 12,
   "metadata": {
    "slideshow": {
     "slide_type": "skip"
    }
   },
   "outputs": [],
   "source": [
    "import inspect"
   ]
  },
  {
   "cell_type": "code",
   "execution_count": 13,
   "metadata": {
    "slideshow": {
     "slide_type": "subslide"
    }
   },
   "outputs": [],
   "source": [
    "def class_methods(cls):\n",
    "    def _class_methods(cls):\n",
    "        all_methods = inspect.getmembers(cls, lambda m: inspect.isfunction(m))\n",
    "        for base in cls.__bases__:\n",
    "            all_methods += _class_methods(base)\n",
    "        return all_methods\n",
    "\n",
    "    unique_methods = []\n",
    "    methods_seen = set()\n",
    "    for (name, fun) in _class_methods(cls):\n",
    "        if name not in methods_seen:\n",
    "            unique_methods.append((name, fun))\n",
    "            methods_seen.add(name)\n",
    "\n",
    "    return unique_methods"
   ]
  },
  {
   "cell_type": "code",
   "execution_count": 14,
   "metadata": {
    "slideshow": {
     "slide_type": "subslide"
    }
   },
   "outputs": [
    {
     "data": {
      "text/plain": [
       "[('bar', <function __main__.B.bar(self)>),\n",
       " ('foo', <function __main__.D.foo(self)>),\n",
       " ('qux', <function __main__.C.qux(self)>)]"
      ]
     },
     "execution_count": 14,
     "metadata": {},
     "output_type": "execute_result"
    }
   ],
   "source": [
    "class_methods(D)"
   ]
  },
  {
   "cell_type": "markdown",
   "metadata": {
    "slideshow": {
     "slide_type": "fragment"
    }
   },
   "source": [
    "We're only interested in \n",
    "\n",
    "* functions _defined_ in that class\n",
    "* functions that come with a docstring"
   ]
  },
  {
   "cell_type": "code",
   "execution_count": 15,
   "metadata": {
    "slideshow": {
     "slide_type": "fragment"
    }
   },
   "outputs": [],
   "source": [
    "def public_class_methods(cls):\n",
    "    return [(name, method) for (name, method) in class_methods(cls) if method.__qualname__.startswith(cls.__name__)]"
   ]
  },
  {
   "cell_type": "code",
   "execution_count": 16,
   "metadata": {
    "slideshow": {
     "slide_type": "fragment"
    }
   },
   "outputs": [],
   "source": [
    "def doc_class_methods(cls):\n",
    "    return [(name, method) for (name, method) in public_class_methods(cls) if method.__doc__ is not None]"
   ]
  },
  {
   "cell_type": "code",
   "execution_count": 17,
   "metadata": {
    "slideshow": {
     "slide_type": "fragment"
    }
   },
   "outputs": [
    {
     "data": {
      "text/plain": [
       "[('foo', <function __main__.D.foo(self)>)]"
      ]
     },
     "execution_count": 17,
     "metadata": {},
     "output_type": "execute_result"
    }
   ],
   "source": [
    "public_class_methods(D)"
   ]
  },
  {
   "cell_type": "code",
   "execution_count": 18,
   "metadata": {
    "slideshow": {
     "slide_type": "subslide"
    }
   },
   "outputs": [
    {
     "data": {
      "text/plain": [
       "[]"
      ]
     },
     "execution_count": 18,
     "metadata": {},
     "output_type": "execute_result"
    }
   ],
   "source": [
    "doc_class_methods(D)"
   ]
  },
  {
   "cell_type": "markdown",
   "metadata": {
    "slideshow": {
     "slide_type": "slide"
    }
   },
   "source": [
    "## Drawing Class Hierarchy with Method Names"
   ]
  },
  {
   "cell_type": "code",
   "execution_count": 19,
   "metadata": {
    "slideshow": {
     "slide_type": "subslide"
    }
   },
   "outputs": [],
   "source": [
    "def display_class_hierarchy(classes, include_methods=True):\n",
    "    from graphviz import Digraph\n",
    "    \n",
    "    CLASS_FONT = 'Patua One, Helvetica, sans-serif'\n",
    "    METHOD_FONT = 'monospace'\n",
    "\n",
    "    if isinstance(classes, list):\n",
    "        starting_class = classes[0]\n",
    "    else:\n",
    "        starting_class = classes\n",
    "        classes = [starting_class]\n",
    "\n",
    "    dot = Digraph(comment=starting_class.__name__ + \" hierarchy\")\n",
    "    dot.attr('node', shape='record', fontname=CLASS_FONT)\n",
    "    dot.attr('graph', rankdir='BT')\n",
    "    dot.attr('edge', arrowhead='empty')\n",
    "    edges = set()\n",
    "\n",
    "    def method_string(name, f):\n",
    "        method_string = '<font face=\"' + METHOD_FONT + '\" point-size=\"10\">'\n",
    "        if f.__doc__ is not None:\n",
    "            method_string += '<b>' + name + '()</b>'\n",
    "        else:\n",
    "            method_string += '<font color=\"#808080\">' + name + '()</font>'\n",
    "        method_string += '</font>'\n",
    "        return method_string\n",
    "\n",
    "    def class_methods_string(cls):\n",
    "        methods = public_class_methods(cls)\n",
    "        # return \"<br/>\".join([name + \"()\" for (name, f) in methods])\n",
    "\n",
    "        methods_string = '<table border=\"0\" cellpadding=\"0\" cellspacing=\"0\" align=\"left\">'\n",
    "        for doc in [True, False]:\n",
    "            for (name, f) in methods:\n",
    "                if (doc and f.__doc__ is not None) or (not doc and f.__doc__ is None):\n",
    "                    methods_string += '<tr><td align=\"left\" border=\"0\">'\n",
    "                    methods_string += method_string(name, f)\n",
    "                    methods_string += '</td></tr>'\n",
    "        methods_string += '</table>'\n",
    "        return methods_string\n",
    "\n",
    "    def display_class_node(cls):\n",
    "        name = cls.__name__\n",
    "        url = cls.__module__ + '.ipynb'\n",
    "        if include_methods:\n",
    "            methods = class_methods_string(cls)\n",
    "            spec = '<{<b><font color=\"#B03A2E\">' + cls.__name__ + '</font></b>|' + methods + '}>'\n",
    "        else:\n",
    "            spec = '<' + cls.__name__ + '>'\n",
    "        dot.node(name, spec, href=url)\n",
    "\n",
    "    def display_class_tree(trees):\n",
    "        for tree in trees:\n",
    "            (cls, subtrees) = tree\n",
    "            display_class_node(cls)\n",
    "            for subtree in subtrees:\n",
    "                (subcls, _) = subtree\n",
    "                if (cls, subcls) not in edges:\n",
    "                    dot.edge(cls.__name__, subcls.__name__)\n",
    "                    edges.add((cls, subcls))\n",
    "            display_class_tree(subtrees)\n",
    "\n",
    "    for cls in classes:\n",
    "        tree = class_tree(cls)\n",
    "        display_class_tree(tree)\n",
    "\n",
    "    return dot"
   ]
  },
  {
   "cell_type": "code",
   "execution_count": 20,
   "metadata": {
    "slideshow": {
     "slide_type": "subslide"
    }
   },
   "outputs": [
    {
     "data": {
      "image/svg+xml": [
       "<?xml version=\"1.0\" encoding=\"UTF-8\" standalone=\"no\"?>\n",
       "<!DOCTYPE svg PUBLIC \"-//W3C//DTD SVG 1.1//EN\"\n",
       " \"http://www.w3.org/Graphics/SVG/1.1/DTD/svg11.dtd\">\n",
       "<!-- Generated by graphviz version 2.40.1 (20161225.0304)\n",
       " -->\n",
       "<!-- Title: %3 Pages: 1 -->\n",
       "<svg width=\"134pt\" height=\"220pt\"\n",
       " viewBox=\"0.00 0.00 134.00 220.00\" xmlns=\"http://www.w3.org/2000/svg\" xmlns:xlink=\"http://www.w3.org/1999/xlink\">\n",
       "<g id=\"graph0\" class=\"graph\" transform=\"scale(1 1) rotate(0) translate(4 216)\">\n",
       "<title>%3</title>\n",
       "<polygon fill=\"#ffffff\" stroke=\"transparent\" points=\"-4,4 -4,-216 130,-216 130,4 -4,4\"/>\n",
       "<!-- D -->\n",
       "<g id=\"node1\" class=\"node\">\n",
       "<title>D</title>\n",
       "<g id=\"a_node1\"><a xlink:href=\"__main__.ipynb\" xlink:title=\"{&lt;b&gt;&lt;font color=&quot;#B03A2E&quot;&gt;D&lt;/font&gt;&lt;/b&gt;|&lt;table border=&quot;0&quot; cellpadding=&quot;0&quot; cellspacing=&quot;0&quot; align=&quot;left&quot;&gt;&lt;tr&gt;&lt;td align=&quot;left&quot; border=&quot;0&quot;&gt;&lt;font face=&quot;monospace&quot; point&#45;size=&quot;10&quot;&gt;&lt;font color=&quot;#808080&quot;&gt;foo()&lt;/font&gt;&lt;/font&gt;&lt;/td&gt;&lt;/tr&gt;&lt;/table&gt;}\">\n",
       "<polygon fill=\"none\" stroke=\"#000000\" points=\"36,-.5 36,-42.5 90,-42.5 90,-.5 36,-.5\"/>\n",
       "<text text-anchor=\"start\" x=\"58\" y=\"-28.3\" font-family=\"Patua One, Helvetica, sans-serif\" font-weight=\"bold\" font-size=\"14.00\" fill=\"#b03a2e\">D</text>\n",
       "<polyline fill=\"none\" stroke=\"#000000\" points=\"36,-19.5 90,-19.5 \"/>\n",
       "<text text-anchor=\"start\" x=\"48\" y=\"-7\" font-family=\"monospace\" font-size=\"10.00\" fill=\"#808080\">foo()</text>\n",
       "</a>\n",
       "</g>\n",
       "</g>\n",
       "<!-- B -->\n",
       "<g id=\"node2\" class=\"node\">\n",
       "<title>B</title>\n",
       "<g id=\"a_node2\"><a xlink:href=\"__main__.ipynb\" xlink:title=\"{&lt;b&gt;&lt;font color=&quot;#B03A2E&quot;&gt;B&lt;/font&gt;&lt;/b&gt;|&lt;table border=&quot;0&quot; cellpadding=&quot;0&quot; cellspacing=&quot;0&quot; align=&quot;left&quot;&gt;&lt;tr&gt;&lt;td align=&quot;left&quot; border=&quot;0&quot;&gt;&lt;font face=&quot;monospace&quot; point&#45;size=&quot;10&quot;&gt;&lt;font color=&quot;#808080&quot;&gt;bar()&lt;/font&gt;&lt;/font&gt;&lt;/td&gt;&lt;/tr&gt;&lt;tr&gt;&lt;td align=&quot;left&quot; border=&quot;0&quot;&gt;&lt;font face=&quot;monospace&quot; point&#45;size=&quot;10&quot;&gt;&lt;font color=&quot;#808080&quot;&gt;foo()&lt;/font&gt;&lt;/font&gt;&lt;/td&gt;&lt;/tr&gt;&lt;/table&gt;}\">\n",
       "<polygon fill=\"none\" stroke=\"#000000\" points=\"0,-79.5 0,-132.5 54,-132.5 54,-79.5 0,-79.5\"/>\n",
       "<text text-anchor=\"start\" x=\"22.5\" y=\"-118.3\" font-family=\"Patua One, Helvetica, sans-serif\" font-weight=\"bold\" font-size=\"14.00\" fill=\"#b03a2e\">B</text>\n",
       "<polyline fill=\"none\" stroke=\"#000000\" points=\"0,-109.5 54,-109.5 \"/>\n",
       "<text text-anchor=\"start\" x=\"12\" y=\"-97.5\" font-family=\"monospace\" font-size=\"10.00\" fill=\"#808080\">bar()</text>\n",
       "<text text-anchor=\"start\" x=\"12\" y=\"-86.5\" font-family=\"monospace\" font-size=\"10.00\" fill=\"#808080\">foo()</text>\n",
       "</a>\n",
       "</g>\n",
       "</g>\n",
       "<!-- D&#45;&gt;B -->\n",
       "<g id=\"edge1\" class=\"edge\">\n",
       "<title>D&#45;&gt;B</title>\n",
       "<path fill=\"none\" stroke=\"#000000\" d=\"M53.9157,-42.8229C50.4219,-51.0237 46.3285,-60.6318 42.4034,-69.8449\"/>\n",
       "<polygon fill=\"none\" stroke=\"#000000\" points=\"39.1057,-68.6557 38.4061,-79.2274 45.5456,-71.3994 39.1057,-68.6557\"/>\n",
       "</g>\n",
       "<!-- C -->\n",
       "<g id=\"node4\" class=\"node\">\n",
       "<title>C</title>\n",
       "<g id=\"a_node4\"><a xlink:href=\"__main__.ipynb\" xlink:title=\"{&lt;b&gt;&lt;font color=&quot;#B03A2E&quot;&gt;C&lt;/font&gt;&lt;/b&gt;|&lt;table border=&quot;0&quot; cellpadding=&quot;0&quot; cellspacing=&quot;0&quot; align=&quot;left&quot;&gt;&lt;tr&gt;&lt;td align=&quot;left&quot; border=&quot;0&quot;&gt;&lt;font face=&quot;monospace&quot; point&#45;size=&quot;10&quot;&gt;&lt;font color=&quot;#808080&quot;&gt;qux()&lt;/font&gt;&lt;/font&gt;&lt;/td&gt;&lt;/tr&gt;&lt;/table&gt;}\">\n",
       "<polygon fill=\"none\" stroke=\"#000000\" points=\"72,-85 72,-127 126,-127 126,-85 72,-85\"/>\n",
       "<text text-anchor=\"start\" x=\"95\" y=\"-112.8\" font-family=\"Patua One, Helvetica, sans-serif\" font-weight=\"bold\" font-size=\"14.00\" fill=\"#b03a2e\">C</text>\n",
       "<polyline fill=\"none\" stroke=\"#000000\" points=\"72,-104 126,-104 \"/>\n",
       "<text text-anchor=\"start\" x=\"84\" y=\"-91.5\" font-family=\"monospace\" font-size=\"10.00\" fill=\"#808080\">qux()</text>\n",
       "</a>\n",
       "</g>\n",
       "</g>\n",
       "<!-- D&#45;&gt;C -->\n",
       "<g id=\"edge3\" class=\"edge\">\n",
       "<title>D&#45;&gt;C</title>\n",
       "<path fill=\"none\" stroke=\"#000000\" d=\"M72.0843,-42.8229C76.2945,-52.7051 81.3753,-64.6308 85.9831,-75.4464\"/>\n",
       "<polygon fill=\"none\" stroke=\"#000000\" points=\"82.9038,-77.1486 90.0433,-84.9766 89.3437,-74.4049 82.9038,-77.1486\"/>\n",
       "</g>\n",
       "<!-- A -->\n",
       "<g id=\"node3\" class=\"node\">\n",
       "<title>A</title>\n",
       "<g id=\"a_node3\"><a xlink:href=\"__main__.ipynb\" xlink:title=\"{&lt;b&gt;&lt;font color=&quot;#B03A2E&quot;&gt;A&lt;/font&gt;&lt;/b&gt;|&lt;table border=&quot;0&quot; cellpadding=&quot;0&quot; cellspacing=&quot;0&quot; align=&quot;left&quot;&gt;&lt;tr&gt;&lt;td align=&quot;left&quot; border=&quot;0&quot;&gt;&lt;font face=&quot;monospace&quot; point&#45;size=&quot;10&quot;&gt;&lt;font color=&quot;#808080&quot;&gt;foo()&lt;/font&gt;&lt;/font&gt;&lt;/td&gt;&lt;/tr&gt;&lt;/table&gt;}\">\n",
       "<polygon fill=\"none\" stroke=\"#000000\" points=\"0,-169.5 0,-211.5 54,-211.5 54,-169.5 0,-169.5\"/>\n",
       "<text text-anchor=\"start\" x=\"22\" y=\"-197.3\" font-family=\"Patua One, Helvetica, sans-serif\" font-weight=\"bold\" font-size=\"14.00\" fill=\"#b03a2e\">A</text>\n",
       "<polyline fill=\"none\" stroke=\"#000000\" points=\"0,-188.5 54,-188.5 \"/>\n",
       "<text text-anchor=\"start\" x=\"12\" y=\"-176\" font-family=\"monospace\" font-size=\"10.00\" fill=\"#808080\">foo()</text>\n",
       "</a>\n",
       "</g>\n",
       "</g>\n",
       "<!-- B&#45;&gt;A -->\n",
       "<g id=\"edge2\" class=\"edge\">\n",
       "<title>B&#45;&gt;A</title>\n",
       "<path fill=\"none\" stroke=\"#000000\" d=\"M27,-132.7363C27,-141.1238 27,-150.4584 27,-159.1357\"/>\n",
       "<polygon fill=\"none\" stroke=\"#000000\" points=\"23.5001,-159.2861 27,-169.2862 30.5001,-159.2862 23.5001,-159.2861\"/>\n",
       "</g>\n",
       "</g>\n",
       "</svg>\n"
      ],
      "text/plain": [
       "<graphviz.dot.Digraph at 0x7ffa26d2a128>"
      ]
     },
     "execution_count": 20,
     "metadata": {},
     "output_type": "execute_result"
    }
   ],
   "source": [
    "display_class_hierarchy([D, A])"
   ]
  },
  {
   "cell_type": "markdown",
   "metadata": {
    "slideshow": {
     "slide_type": "slide"
    }
   },
   "source": [
    "## Synopsis"
   ]
  },
  {
   "cell_type": "markdown",
   "metadata": {
    "slideshow": {
     "slide_type": "fragment"
    }
   },
   "source": [
    "The `display_class_hierarchy()` function shows the class hierarchy for the given class (or list of classes).  Methods with docstrings (intended to be used by the public) are shown in bold."
   ]
  },
  {
   "cell_type": "code",
   "execution_count": 21,
   "metadata": {
    "slideshow": {
     "slide_type": "fragment"
    }
   },
   "outputs": [
    {
     "data": {
      "image/svg+xml": [
       "<?xml version=\"1.0\" encoding=\"UTF-8\" standalone=\"no\"?>\n",
       "<!DOCTYPE svg PUBLIC \"-//W3C//DTD SVG 1.1//EN\"\n",
       " \"http://www.w3.org/Graphics/SVG/1.1/DTD/svg11.dtd\">\n",
       "<!-- Generated by graphviz version 2.40.1 (20161225.0304)\n",
       " -->\n",
       "<!-- Title: %3 Pages: 1 -->\n",
       "<svg width=\"134pt\" height=\"220pt\"\n",
       " viewBox=\"0.00 0.00 134.00 220.00\" xmlns=\"http://www.w3.org/2000/svg\" xmlns:xlink=\"http://www.w3.org/1999/xlink\">\n",
       "<g id=\"graph0\" class=\"graph\" transform=\"scale(1 1) rotate(0) translate(4 216)\">\n",
       "<title>%3</title>\n",
       "<polygon fill=\"#ffffff\" stroke=\"transparent\" points=\"-4,4 -4,-216 130,-216 130,4 -4,4\"/>\n",
       "<!-- D -->\n",
       "<g id=\"node1\" class=\"node\">\n",
       "<title>D</title>\n",
       "<g id=\"a_node1\"><a xlink:href=\"__main__.ipynb\" xlink:title=\"{&lt;b&gt;&lt;font color=&quot;#B03A2E&quot;&gt;D&lt;/font&gt;&lt;/b&gt;|&lt;table border=&quot;0&quot; cellpadding=&quot;0&quot; cellspacing=&quot;0&quot; align=&quot;left&quot;&gt;&lt;tr&gt;&lt;td align=&quot;left&quot; border=&quot;0&quot;&gt;&lt;font face=&quot;monospace&quot; point&#45;size=&quot;10&quot;&gt;&lt;font color=&quot;#808080&quot;&gt;foo()&lt;/font&gt;&lt;/font&gt;&lt;/td&gt;&lt;/tr&gt;&lt;/table&gt;}\">\n",
       "<polygon fill=\"none\" stroke=\"#000000\" points=\"36,-.5 36,-42.5 90,-42.5 90,-.5 36,-.5\"/>\n",
       "<text text-anchor=\"start\" x=\"58\" y=\"-28.3\" font-family=\"Patua One, Helvetica, sans-serif\" font-weight=\"bold\" font-size=\"14.00\" fill=\"#b03a2e\">D</text>\n",
       "<polyline fill=\"none\" stroke=\"#000000\" points=\"36,-19.5 90,-19.5 \"/>\n",
       "<text text-anchor=\"start\" x=\"48\" y=\"-7\" font-family=\"monospace\" font-size=\"10.00\" fill=\"#808080\">foo()</text>\n",
       "</a>\n",
       "</g>\n",
       "</g>\n",
       "<!-- B -->\n",
       "<g id=\"node2\" class=\"node\">\n",
       "<title>B</title>\n",
       "<g id=\"a_node2\"><a xlink:href=\"__main__.ipynb\" xlink:title=\"{&lt;b&gt;&lt;font color=&quot;#B03A2E&quot;&gt;B&lt;/font&gt;&lt;/b&gt;|&lt;table border=&quot;0&quot; cellpadding=&quot;0&quot; cellspacing=&quot;0&quot; align=&quot;left&quot;&gt;&lt;tr&gt;&lt;td align=&quot;left&quot; border=&quot;0&quot;&gt;&lt;font face=&quot;monospace&quot; point&#45;size=&quot;10&quot;&gt;&lt;font color=&quot;#808080&quot;&gt;bar()&lt;/font&gt;&lt;/font&gt;&lt;/td&gt;&lt;/tr&gt;&lt;tr&gt;&lt;td align=&quot;left&quot; border=&quot;0&quot;&gt;&lt;font face=&quot;monospace&quot; point&#45;size=&quot;10&quot;&gt;&lt;font color=&quot;#808080&quot;&gt;foo()&lt;/font&gt;&lt;/font&gt;&lt;/td&gt;&lt;/tr&gt;&lt;/table&gt;}\">\n",
       "<polygon fill=\"none\" stroke=\"#000000\" points=\"0,-79.5 0,-132.5 54,-132.5 54,-79.5 0,-79.5\"/>\n",
       "<text text-anchor=\"start\" x=\"22.5\" y=\"-118.3\" font-family=\"Patua One, Helvetica, sans-serif\" font-weight=\"bold\" font-size=\"14.00\" fill=\"#b03a2e\">B</text>\n",
       "<polyline fill=\"none\" stroke=\"#000000\" points=\"0,-109.5 54,-109.5 \"/>\n",
       "<text text-anchor=\"start\" x=\"12\" y=\"-97.5\" font-family=\"monospace\" font-size=\"10.00\" fill=\"#808080\">bar()</text>\n",
       "<text text-anchor=\"start\" x=\"12\" y=\"-86.5\" font-family=\"monospace\" font-size=\"10.00\" fill=\"#808080\">foo()</text>\n",
       "</a>\n",
       "</g>\n",
       "</g>\n",
       "<!-- D&#45;&gt;B -->\n",
       "<g id=\"edge1\" class=\"edge\">\n",
       "<title>D&#45;&gt;B</title>\n",
       "<path fill=\"none\" stroke=\"#000000\" d=\"M53.9157,-42.8229C50.4219,-51.0237 46.3285,-60.6318 42.4034,-69.8449\"/>\n",
       "<polygon fill=\"none\" stroke=\"#000000\" points=\"39.1057,-68.6557 38.4061,-79.2274 45.5456,-71.3994 39.1057,-68.6557\"/>\n",
       "</g>\n",
       "<!-- C -->\n",
       "<g id=\"node4\" class=\"node\">\n",
       "<title>C</title>\n",
       "<g id=\"a_node4\"><a xlink:href=\"__main__.ipynb\" xlink:title=\"{&lt;b&gt;&lt;font color=&quot;#B03A2E&quot;&gt;C&lt;/font&gt;&lt;/b&gt;|&lt;table border=&quot;0&quot; cellpadding=&quot;0&quot; cellspacing=&quot;0&quot; align=&quot;left&quot;&gt;&lt;tr&gt;&lt;td align=&quot;left&quot; border=&quot;0&quot;&gt;&lt;font face=&quot;monospace&quot; point&#45;size=&quot;10&quot;&gt;&lt;font color=&quot;#808080&quot;&gt;qux()&lt;/font&gt;&lt;/font&gt;&lt;/td&gt;&lt;/tr&gt;&lt;/table&gt;}\">\n",
       "<polygon fill=\"none\" stroke=\"#000000\" points=\"72,-85 72,-127 126,-127 126,-85 72,-85\"/>\n",
       "<text text-anchor=\"start\" x=\"95\" y=\"-112.8\" font-family=\"Patua One, Helvetica, sans-serif\" font-weight=\"bold\" font-size=\"14.00\" fill=\"#b03a2e\">C</text>\n",
       "<polyline fill=\"none\" stroke=\"#000000\" points=\"72,-104 126,-104 \"/>\n",
       "<text text-anchor=\"start\" x=\"84\" y=\"-91.5\" font-family=\"monospace\" font-size=\"10.00\" fill=\"#808080\">qux()</text>\n",
       "</a>\n",
       "</g>\n",
       "</g>\n",
       "<!-- D&#45;&gt;C -->\n",
       "<g id=\"edge3\" class=\"edge\">\n",
       "<title>D&#45;&gt;C</title>\n",
       "<path fill=\"none\" stroke=\"#000000\" d=\"M72.0843,-42.8229C76.2945,-52.7051 81.3753,-64.6308 85.9831,-75.4464\"/>\n",
       "<polygon fill=\"none\" stroke=\"#000000\" points=\"82.9038,-77.1486 90.0433,-84.9766 89.3437,-74.4049 82.9038,-77.1486\"/>\n",
       "</g>\n",
       "<!-- A -->\n",
       "<g id=\"node3\" class=\"node\">\n",
       "<title>A</title>\n",
       "<g id=\"a_node3\"><a xlink:href=\"__main__.ipynb\" xlink:title=\"{&lt;b&gt;&lt;font color=&quot;#B03A2E&quot;&gt;A&lt;/font&gt;&lt;/b&gt;|&lt;table border=&quot;0&quot; cellpadding=&quot;0&quot; cellspacing=&quot;0&quot; align=&quot;left&quot;&gt;&lt;tr&gt;&lt;td align=&quot;left&quot; border=&quot;0&quot;&gt;&lt;font face=&quot;monospace&quot; point&#45;size=&quot;10&quot;&gt;&lt;font color=&quot;#808080&quot;&gt;foo()&lt;/font&gt;&lt;/font&gt;&lt;/td&gt;&lt;/tr&gt;&lt;/table&gt;}\">\n",
       "<polygon fill=\"none\" stroke=\"#000000\" points=\"0,-169.5 0,-211.5 54,-211.5 54,-169.5 0,-169.5\"/>\n",
       "<text text-anchor=\"start\" x=\"22\" y=\"-197.3\" font-family=\"Patua One, Helvetica, sans-serif\" font-weight=\"bold\" font-size=\"14.00\" fill=\"#b03a2e\">A</text>\n",
       "<polyline fill=\"none\" stroke=\"#000000\" points=\"0,-188.5 54,-188.5 \"/>\n",
       "<text text-anchor=\"start\" x=\"12\" y=\"-176\" font-family=\"monospace\" font-size=\"10.00\" fill=\"#808080\">foo()</text>\n",
       "</a>\n",
       "</g>\n",
       "</g>\n",
       "<!-- B&#45;&gt;A -->\n",
       "<g id=\"edge2\" class=\"edge\">\n",
       "<title>B&#45;&gt;A</title>\n",
       "<path fill=\"none\" stroke=\"#000000\" d=\"M27,-132.7363C27,-141.1238 27,-150.4584 27,-159.1357\"/>\n",
       "<polygon fill=\"none\" stroke=\"#000000\" points=\"23.5001,-159.2861 27,-169.2862 30.5001,-159.2862 23.5001,-159.2861\"/>\n",
       "</g>\n",
       "</g>\n",
       "</svg>\n"
      ],
      "text/plain": [
       "<graphviz.dot.Digraph at 0x7ffa26d2ac88>"
      ]
     },
     "execution_count": 21,
     "metadata": {},
     "output_type": "execute_result"
    }
   ],
   "source": [
    "display_class_hierarchy(D)"
   ]
  },
  {
   "cell_type": "markdown",
   "metadata": {
    "button": false,
    "new_sheet": true,
    "run_control": {
     "read_only": false
    },
    "slideshow": {
     "slide_type": "slide"
    }
   },
   "source": [
    "## Lessons Learned\n",
    "\n",
    "* _Lesson one_\n",
    "* _Lesson two_\n",
    "* _Lesson three_"
   ]
  },
  {
   "cell_type": "markdown",
   "metadata": {
    "button": false,
    "new_sheet": false,
    "run_control": {
     "read_only": false
    },
    "slideshow": {
     "slide_type": "slide"
    }
   },
   "source": [
    "## Next Steps\n",
    "\n",
    "_Link to subsequent chapters (notebooks) here, as in:_\n",
    "\n",
    "* [use _mutations_ on existing inputs to get more valid inputs](MutationFuzzer.ipynb)\n",
    "* [use _grammars_ (i.e., a specification of the input format) to get even more valid inputs](Grammars.ipynb)\n",
    "* [reduce _failing inputs_ for efficient debugging](Reducer.ipynb)\n"
   ]
  },
  {
   "cell_type": "markdown",
   "metadata": {
    "slideshow": {
     "slide_type": "slide"
    }
   },
   "source": [
    "## Background\n",
    "\n",
    "_Cite relevant works in the literature and put them into context, as in:_\n",
    "\n",
    "The idea of ensuring that each expansion in the grammar is used at least once goes back to Burkhardt \\cite{Burkhardt1967}, to be later rediscovered by Paul Purdom \\cite{Purdom1972}."
   ]
  },
  {
   "cell_type": "markdown",
   "metadata": {
    "button": false,
    "new_sheet": true,
    "run_control": {
     "read_only": false
    },
    "slideshow": {
     "slide_type": "slide"
    }
   },
   "source": [
    "## Exercises\n",
    "\n",
    "_Close the chapter with a few exercises such that people have things to do.  To make the solutions hidden (to be revealed by the user), have them start with_\n",
    "\n",
    "```markdown\n",
    "**Solution.**\n",
    "```\n",
    "\n",
    "_Your solution can then extend up to the next title (i.e., any markdown cell starting with `#`)._\n",
    "\n",
    "_Running `make metadata` will automatically add metadata to the cells such that the cells will be hidden by default, and can be uncovered by the user.  The button will be introduced above the solution._"
   ]
  },
  {
   "cell_type": "markdown",
   "metadata": {
    "button": false,
    "new_sheet": false,
    "run_control": {
     "read_only": false
    },
    "slideshow": {
     "slide_type": "subslide"
    }
   },
   "source": [
    "### Exercise 1: _Title_\n",
    "\n",
    "_Text of the exercise_"
   ]
  },
  {
   "cell_type": "code",
   "execution_count": 22,
   "metadata": {
    "cell_style": "center",
    "slideshow": {
     "slide_type": "fragment"
    }
   },
   "outputs": [],
   "source": [
    "# Some code that is part of the exercise\n",
    "pass"
   ]
  },
  {
   "cell_type": "markdown",
   "metadata": {
    "slideshow": {
     "slide_type": "fragment"
    },
    "solution2": "hidden",
    "solution2_first": true
   },
   "source": [
    "_Some more text for the exercise_"
   ]
  },
  {
   "cell_type": "markdown",
   "metadata": {
    "slideshow": {
     "slide_type": "skip"
    },
    "solution2": "hidden"
   },
   "source": [
    "**Solution.** _Some text for the solution_"
   ]
  },
  {
   "cell_type": "code",
   "execution_count": 23,
   "metadata": {
    "cell_style": "split",
    "slideshow": {
     "slide_type": "skip"
    },
    "solution2": "hidden"
   },
   "outputs": [
    {
     "data": {
      "text/plain": [
       "4"
      ]
     },
     "execution_count": 23,
     "metadata": {},
     "output_type": "execute_result"
    }
   ],
   "source": [
    "# Some code for the solution\n",
    "2 + 2"
   ]
  },
  {
   "cell_type": "markdown",
   "metadata": {
    "slideshow": {
     "slide_type": "skip"
    },
    "solution2": "hidden"
   },
   "source": [
    "_Some more text for the solution_"
   ]
  },
  {
   "cell_type": "markdown",
   "metadata": {
    "button": false,
    "new_sheet": false,
    "run_control": {
     "read_only": false
    },
    "slideshow": {
     "slide_type": "subslide"
    },
    "solution": "hidden",
    "solution2": "hidden",
    "solution2_first": true,
    "solution_first": true
   },
   "source": [
    "### Exercise 2: _Title_\n",
    "\n",
    "_Text of the exercise_"
   ]
  },
  {
   "cell_type": "markdown",
   "metadata": {
    "button": false,
    "new_sheet": false,
    "run_control": {
     "read_only": false
    },
    "slideshow": {
     "slide_type": "skip"
    },
    "solution": "hidden",
    "solution2": "hidden"
   },
   "source": [
    "**Solution.** _Solution for the exercise_"
   ]
  }
 ],
 "metadata": {
  "ipub": {
   "bibliography": "fuzzingbook.bib",
   "toc": true
  },
  "kernelspec": {
   "display_name": "Python 3",
   "language": "python",
   "name": "python3"
  },
  "language_info": {
   "codemirror_mode": {
    "name": "ipython",
    "version": 3
   },
   "file_extension": ".py",
   "mimetype": "text/x-python",
   "name": "python",
   "nbconvert_exporter": "python",
   "pygments_lexer": "ipython3",
   "version": "3.6.10"
  },
  "toc": {
   "base_numbering": 1,
   "nav_menu": {},
   "number_sections": true,
   "sideBar": true,
   "skip_h1_title": true,
   "title_cell": "",
   "title_sidebar": "Contents",
   "toc_cell": false,
   "toc_position": {},
   "toc_section_display": true,
   "toc_window_display": true
  },
  "toc-autonumbering": false
 },
 "nbformat": 4,
 "nbformat_minor": 4
}