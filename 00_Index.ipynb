{
 "cells": [
  {
   "cell_type": "markdown",
   "metadata": {},
   "source": [
    "# Index"
   ]
  },
  {
   "cell_type": "markdown",
   "metadata": {},
   "source": [
    "## A - E"
   ]
  },
  {
   "cell_type": "markdown",
   "metadata": {},
   "source": [
    "### A\n",
    "\n",
    "* abstract syntax tree &mdash; [Tracing Executions (Exercise 2: Syntax-Based Instrumentation)](Tracer.ipynb#Exercise-2:-Syntax-Based-Instrumentation)\n",
    "* `addDebug()` &mdash; [Railroad Diagrams (Excursion: Railroad diagrams implementation)](RailroadDiagrams.ipynb#Excursion:-Railroad-diagrams-implementation)\n",
    "* `addTo()` &mdash; [Railroad Diagrams (Excursion: Railroad diagrams implementation)](RailroadDiagrams.ipynb#Excursion:-Railroad-diagrams-implementation)\n",
    "* `add_calls()` &mdash; [Control Flow Graph (CFGNode)](ControlFlow.ipynb#CFGNode)\n",
    "* `add_child()` &mdash; [Control Flow Graph (CFGNode)](ControlFlow.ipynb#CFGNode)\n",
    "* `add_parent()` &mdash; [Control Flow Graph (CFGNode)](ControlFlow.ipynb#CFGNode)\n",
    "* `add_parents()` &mdash; [Control Flow Graph (CFGNode)](ControlFlow.ipynb#CFGNode)\n",
    "* `all_events()` &mdash; [Statistical Debugging (A Base Class for Statistical Debugging)](StatisticalDebugger.ipynb#A-Base-Class-for-Statistical-Debugging)\n",
    "* `all_fail_events()` &mdash; [Statistical Debugging (Collecting Passing and Failing Runs)](StatisticalDebugger.ipynb#Collecting-Passing-and-Failing-Runs)\n",
    "* `all_pass_events()` &mdash; [Statistical Debugging (Collecting Passing and Failing Runs)](StatisticalDebugger.ipynb#Collecting-Passing-and-Failing-Runs)\n",
    "* `AlternatingSequence` class &mdash; [Railroad Diagrams (Excursion: Railroad diagrams implementation)](RailroadDiagrams.ipynb#Excursion:-Railroad-diagrams-implementation)\n",
    "* `arc()` &mdash; [Railroad Diagrams (Excursion: Railroad diagrams implementation)](RailroadDiagrams.ipynb#Excursion:-Railroad-diagrams-implementation)\n",
    "* `arc_8()` &mdash; [Railroad Diagrams (Excursion: Railroad diagrams implementation)](RailroadDiagrams.ipynb#Excursion:-Railroad-diagrams-implementation)\n",
    "* `AR` &mdash; [Railroad Diagrams (Excursion: Railroad diagrams implementation)](RailroadDiagrams.ipynb#Excursion:-Railroad-diagrams-implementation)\n",
    "* `assign_command()` &mdash; [How Debuggers Work (Exercise 1: Changing State)](Debugger.ipynb#Exercise-1:-Changing-State)\n",
    "* AST &mdash; [Tracing Executions (Exercise 2: Syntax-Based Instrumentation)](Tracer.ipynb#Exercise-2:-Syntax-Based-Instrumentation)\n",
    "* `A` class &mdash; [Class Diagrams (Getting a Class Hierarchy)](ClassDiagram.ipynb#Getting-a-Class-Hierarchy)\n"
   ]
  },
  {
   "cell_type": "markdown",
   "metadata": {},
   "source": [
    "### B\n",
    "\n",
    "* `bar()` &mdash; [Class Diagrams (Getting a Class Hierarchy)](ClassDiagram.ipynb#Getting-a-Class-Hierarchy)\n",
    "* `base_tree()` &mdash; [Class Diagrams (Getting a Class Tree)](ClassDiagram.ipynb#Getting-a-Class-Tree)\n",
    "* blog post &mdash; [Control Flow Graph (Example: Maze)](ControlFlow.ipynb#Example:-Maze)\n",
    "* `break_command()` &mdash; [How Debuggers Work (Setting Breakpoints)](Debugger.ipynb#Setting-Breakpoints)\n",
    "* `brightness()` &mdash; [Statistical Debugging (Continuous Spectrum)](StatisticalDebugger.ipynb#Continuous-Spectrum)\n",
    "* bug &mdash; [Introduction to Debugging (From Defect to Failure)](Intro_Debugging.ipynb#From-Defect-to-Failure), [Introduction to Debugging (Lessons Learned)](Intro_Debugging.ipynb#Lessons-Learned)\n",
    "* `B` class &mdash; [Class Diagrams (Getting a Class Hierarchy)](ClassDiagram.ipynb#Getting-a-Class-Hierarchy)\n"
   ]
  },
  {
   "cell_type": "markdown",
   "metadata": {},
   "source": [
    "### C\n",
    "\n",
    "* `callgraph()` &mdash; [Control Flow Graph (Call Graph Helpers)](ControlFlow.ipynb#Call-Graph-Helpers)\n",
    "* `cancel()` &mdash; [Error Handling (Catching Timeouts)](ExpectError.ipynb#Catching-Timeouts)\n",
    "* cause-effect chain &mdash; [Introduction to Debugging (From Defect to Failure)](Intro_Debugging.ipynb#From-Defect-to-Failure)\n",
    "* `CFGNode` class &mdash; [Control Flow Graph (CFGNode)](ControlFlow.ipynb#CFGNode)\n",
    "* `cgi_decode()` &mdash; [Control Flow Graph (cgi_decode)](ControlFlow.ipynb#cgi_decode)\n",
    "* `changed_vars()` &mdash; [Tracing Executions (Tracing Variable Changes)](Tracer.ipynb#Tracing-Variable-Changes)\n",
    "* `CHAR_WIDTH` &mdash; [Railroad Diagrams (Excursion: Railroad diagrams implementation)](RailroadDiagrams.ipynb#Excursion:-Railroad-diagrams-implementation)\n",
    "* `check_time()` &mdash; [Error Handling (Catching Timeouts)](ExpectError.ipynb#Catching-Timeouts)\n",
    "* `check_triangle()` &mdash; [Control Flow Graph (check_triangle)](ControlFlow.ipynb#check_triangle)\n",
    "* `Choice` class &mdash; [Railroad Diagrams (Excursion: Railroad diagrams implementation)](RailroadDiagrams.ipynb#Excursion:-Railroad-diagrams-implementation)\n",
    "* `classifier()` &mdash; [Statistical Debugging (Training Classifiers)](StatisticalDebugger.ipynb#Training-Classifiers)\n",
    "* `ClassifyingDebugger` class &mdash; [Statistical Debugging (Training Classifiers)](StatisticalDebugger.ipynb#Training-Classifiers), [Statistical Debugging (Training Classifiers)](StatisticalDebugger.ipynb#Training-Classifiers), [Statistical Debugging (Training Classifiers)](StatisticalDebugger.ipynb#Training-Classifiers), [Statistical Debugging (Training Classifiers)](StatisticalDebugger.ipynb#Training-Classifiers), [Statistical Debugging (Training Classifiers)](StatisticalDebugger.ipynb#Training-Classifiers), [Statistical Debugging (Training Classifiers)](StatisticalDebugger.ipynb#Training-Classifiers), [Statistical Debugging (Training Classifiers)](StatisticalDebugger.ipynb#Training-Classifiers), [Statistical Debugging (Training Classifiers)](StatisticalDebugger.ipynb#Training-Classifiers)\n",
    "* `CLASS_FONT` &mdash; [Class Diagrams (Drawing Class Hierarchy with Method Names)](ClassDiagram.ipynb#Drawing-Class-Hierarchy-with-Method-Names)\n",
    "* `class_hierarchy()` &mdash; [Class Diagrams (Getting a Class Hierarchy)](ClassDiagram.ipynb#Getting-a-Class-Hierarchy)\n",
    "* `class_methods()` &mdash; [Class Diagrams (Getting methods)](ClassDiagram.ipynb#Getting-methods)\n",
    "* `_class_methods()` &mdash; [Class Diagrams (Getting methods)](ClassDiagram.ipynb#Getting-methods)\n",
    "* `class_methods_string()` &mdash; [Class Diagrams (Drawing Class Hierarchy with Method Names)](ClassDiagram.ipynb#Drawing-Class-Hierarchy-with-Method-Names)\n",
    "* `class_tree()` &mdash; [Class Diagrams (Getting a Class Tree)](ClassDiagram.ipynb#Getting-a-Class-Tree), [Class Diagrams (Getting a Class Tree)](ClassDiagram.ipynb#Getting-a-Class-Tree)\n",
    "* `clock()` &mdash; [Timer (Measuring Time)](Timer.ipynb#Measuring-Time)\n",
    "* `collect()` &mdash; [Statistical Debugging (Collecting Events)](StatisticalDebugger.ipynb#Collecting-Events), [Statistical Debugging (Collecting Coverage)](StatisticalDebugger.ipynb#Collecting-Coverage), [Statistical Debugging (A Base Class for Statistical Debugging)](StatisticalDebugger.ipynb#A-Base-Class-for-Statistical-Debugging), [Statistical Debugging (Other Events besides Coverage)](StatisticalDebugger.ipynb#Other-Events-besides-Coverage)\n",
    "* `collectors_without_event()` &mdash; [Statistical Debugging (Continuous Spectrum)](StatisticalDebugger.ipynb#Continuous-Spectrum)\n",
    "* `collectors_with_event()` &mdash; [Statistical Debugging (Continuous Spectrum)](StatisticalDebugger.ipynb#Continuous-Spectrum)\n",
    "* `Collector` class &mdash; [Statistical Debugging (Collecting Events)](StatisticalDebugger.ipynb#Collecting-Events), [Statistical Debugging (Collecting Events)](StatisticalDebugger.ipynb#Collecting-Events)\n",
    "* `collect_fail()` &mdash; [Statistical Debugging (Collecting Passing and Failing Runs)](StatisticalDebugger.ipynb#Collecting-Passing-and-Failing-Runs)\n",
    "* `collect_pass()` &mdash; [Statistical Debugging (Collecting Passing and Failing Runs)](StatisticalDebugger.ipynb#Collecting-Passing-and-Failing-Runs)\n",
    "* `color()` &mdash; [Statistical Debugging (Excursion: Printing an Event Table)](StatisticalDebugger.ipynb#Excursion:-Printing-an-Event-Table), [Statistical Debugging (Discrete Spectrum)](StatisticalDebugger.ipynb#Discrete-Spectrum), [Statistical Debugging (Continuous Spectrum)](StatisticalDebugger.ipynb#Continuous-Spectrum)\n",
    "* `commands()` &mdash; [How Debuggers Work (Excursion: Implementing execute())](Debugger.ipynb#Excursion:-Implementing-execute())\n",
    "* `command_method()` &mdash; [How Debuggers Work (Excursion: Implementing execute())](Debugger.ipynb#Excursion:-Implementing-execute())\n",
    "* `COMMENT_CHAR_WIDTH` &mdash; [Railroad Diagrams (Excursion: Railroad diagrams implementation)](RailroadDiagrams.ipynb#Excursion:-Railroad-diagrams-implementation)\n",
    "* `Comment` class &mdash; [Railroad Diagrams (Excursion: Railroad diagrams implementation)](RailroadDiagrams.ipynb#Excursion:-Railroad-diagrams-implementation)\n",
    "* comparison node &mdash; [Control Flow Graph (fib)](ControlFlow.ipynb#fib)\n",
    "* `compute_dominator()` &mdash; [Control Flow Graph (Supporting Functions)](ControlFlow.ipynb#Supporting-Functions)\n",
    "* `compute_flow()` &mdash; [Control Flow Graph (Supporting Functions)](ControlFlow.ipynb#Supporting-Functions)\n",
    "* `compute_gcd()` &mdash; [Control Flow Graph (gcd)](ControlFlow.ipynb#gcd)\n",
    "* `ConditionalTracer` class &mdash; [Tracing Executions (Conditional Tracing)](Tracer.ipynb#Conditional-Tracing), [Tracing Executions (Conditional Tracing)](Tracer.ipynb#Conditional-Tracing), [Tracing Executions (Conditional Tracing)](Tracer.ipynb#Conditional-Tracing), [Tracing Executions (Conditional Tracing)](Tracer.ipynb#Conditional-Tracing), [Tracing Executions (Conditional Tracing)](Tracer.ipynb#Conditional-Tracing)\n",
    "* `CONDITION` &mdash; [How Debuggers Work (Watchpoints (\"watch\"))](Debugger.ipynb#Watchpoints-(\"watch\"))\n",
    "* `construct_callgraph()` &mdash; [Control Flow Graph (Call Graph Helpers)](ControlFlow.ipynb#Call-Graph-Helpers)\n",
    "* `continue_command()` &mdash; [How Debuggers Work (Debugger Interaction)](Debugger.ipynb#Debugger-Interaction)\n",
    "* `ContinuousSpectrumDebugger` class &mdash; [Statistical Debugging (Continuous Spectrum)](StatisticalDebugger.ipynb#Continuous-Spectrum), [Statistical Debugging (Continuous Spectrum)](StatisticalDebugger.ipynb#Continuous-Spectrum), [Statistical Debugging (Continuous Spectrum)](StatisticalDebugger.ipynb#Continuous-Spectrum)\n",
    "* `CoverageCollector` class &mdash; [Statistical Debugging (Collecting Coverage)](StatisticalDebugger.ipynb#Collecting-Coverage), [Statistical Debugging (Collecting Coverage)](StatisticalDebugger.ipynb#Collecting-Coverage)\n",
    "* `C` class &mdash; [Class Diagrams (Getting a Class Hierarchy)](ClassDiagram.ipynb#Getting-a-Class-Hierarchy), [Railroad Diagrams (Excursion: Railroad diagrams implementation)](RailroadDiagrams.ipynb#Excursion:-Railroad-diagrams-implementation)\n"
   ]
  },
  {
   "cell_type": "markdown",
   "metadata": {},
   "source": [
    "### D\n",
    "\n",
    "* debuggers &mdash; [How Debuggers Work (Debuggers)](Debugger.ipynb#Debuggers)\n",
    "* `Debugger` class &mdash; [How Debuggers Work (Debugger Interaction)](Debugger.ipynb#Debugger-Interaction), [How Debuggers Work (Debugger Interaction)](Debugger.ipynb#Debugger-Interaction), [How Debuggers Work (Debugger Interaction)](Debugger.ipynb#Debugger-Interaction), [How Debuggers Work (Debugger Interaction)](Debugger.ipynb#Debugger-Interaction), [How Debuggers Work (Debugger Interaction)](Debugger.ipynb#Debugger-Interaction), [How Debuggers Work (Debugger Interaction)](Debugger.ipynb#Debugger-Interaction), [How Debuggers Work (Debugger Interaction)](Debugger.ipynb#Debugger-Interaction), [How Debuggers Work (Excursion: Implementing execute())](Debugger.ipynb#Excursion:-Implementing-execute()), [How Debuggers Work (Excursion: Implementing execute())](Debugger.ipynb#Excursion:-Implementing-execute()), [How Debuggers Work (Excursion: Implementing execute())](Debugger.ipynb#Excursion:-Implementing-execute()), [How Debuggers Work (Excursion: Implementing execute())](Debugger.ipynb#Excursion:-Implementing-execute()), [How Debuggers Work (Printing Values)](Debugger.ipynb#Printing-Values), [How Debuggers Work (Printing Values)](Debugger.ipynb#Printing-Values), [How Debuggers Work (Listing Source Code)](Debugger.ipynb#Listing-Source-Code), [How Debuggers Work (Setting Breakpoints)](Debugger.ipynb#Setting-Breakpoints), [How Debuggers Work (Deleting Breakpoints)](Debugger.ipynb#Deleting-Breakpoints), [How Debuggers Work (Listings with Benefits)](Debugger.ipynb#Listings-with-Benefits), [How Debuggers Work (Quitting)](Debugger.ipynb#Quitting), [How Debuggers Work (Exercise 1: Changing State)](Debugger.ipynb#Exercise-1:-Changing-State)\n",
    "* `DEBUG` &mdash; [Railroad Diagrams (Excursion: Railroad diagrams implementation)](RailroadDiagrams.ipynb#Excursion:-Railroad-diagrams-implementation)\n",
    "* Decision trees &mdash; [Statistical Debugging (Training Classifiers)](StatisticalDebugger.ipynb#Training-Classifiers)\n",
    "* `DEFAULT_STYLE` &mdash; [Railroad Diagrams (Excursion: Railroad diagrams implementation)](RailroadDiagrams.ipynb#Excursion:-Railroad-diagrams-implementation)\n",
    "* `delete_command()` &mdash; [How Debuggers Work (Deleting Breakpoints)](Debugger.ipynb#Deleting-Breakpoints)\n",
    "* `determineGaps()` &mdash; [Railroad Diagrams (Excursion: Railroad diagrams implementation)](RailroadDiagrams.ipynb#Excursion:-Railroad-diagrams-implementation)\n",
    "* diagnosis &mdash; [Introduction to Debugging (Fixing the Bug)](Intro_Debugging.ipynb#Fixing-the-Bug)\n",
    "* `DiagramItem` class &mdash; [Railroad Diagrams (Excursion: Railroad diagrams implementation)](RailroadDiagrams.ipynb#Excursion:-Railroad-diagrams-implementation)\n",
    "* `DIAGRAM_CLASS` &mdash; [Railroad Diagrams (Excursion: Railroad diagrams implementation)](RailroadDiagrams.ipynb#Excursion:-Railroad-diagrams-implementation)\n",
    "* `Diagram` class &mdash; [Railroad Diagrams (Excursion: Railroad diagrams implementation)](RailroadDiagrams.ipynb#Excursion:-Railroad-diagrams-implementation)\n",
    "* `DifferenceDebugger` class &mdash; [Statistical Debugging (Collecting Passing and Failing Runs)](StatisticalDebugger.ipynb#Collecting-Passing-and-Failing-Runs), [Statistical Debugging (Collecting Passing and Failing Runs)](StatisticalDebugger.ipynb#Collecting-Passing-and-Failing-Runs), [Statistical Debugging (Collecting Passing and Failing Runs)](StatisticalDebugger.ipynb#Collecting-Passing-and-Failing-Runs)\n",
    "* `DiscreteSpectrumDebugger` class &mdash; [Statistical Debugging (Discrete Spectrum)](StatisticalDebugger.ipynb#Discrete-Spectrum), [Statistical Debugging (Discrete Spectrum)](StatisticalDebugger.ipynb#Discrete-Spectrum)\n",
    "* `display_class_hierarchy()` &mdash; [Class Diagrams (Drawing Class Hierarchy with Method Names)](ClassDiagram.ipynb#Drawing-Class-Hierarchy-with-Method-Names)\n",
    "* `display_class_node()` &mdash; [Class Diagrams (Drawing Class Hierarchy with Method Names)](ClassDiagram.ipynb#Drawing-Class-Hierarchy-with-Method-Names)\n",
    "* `display_class_tree()` &mdash; [Class Diagrams (Drawing Class Hierarchy with Method Names)](ClassDiagram.ipynb#Drawing-Class-Hierarchy-with-Method-Names)\n",
    "* `doc_class_methods()` &mdash; [Class Diagrams (Getting methods)](ClassDiagram.ipynb#Getting-methods)\n",
    "* `doubleenumerate()` &mdash; [Railroad Diagrams (Excursion: Railroad diagrams implementation)](RailroadDiagrams.ipynb#Excursion:-Railroad-diagrams-implementation)\n",
    "* `down()` &mdash; [Railroad Diagrams (Excursion: Railroad diagrams implementation)](RailroadDiagrams.ipynb#Excursion:-Railroad-diagrams-implementation)\n",
    "* `do_report()` &mdash; [Tracing Executions (Conditional Tracing)](Tracer.ipynb#Conditional-Tracing), [Tracing Executions (Watching Events)](Tracer.ipynb#Watching-Events)\n",
    "* `D` class &mdash; [Class Diagrams (Getting a Class Hierarchy)](ClassDiagram.ipynb#Getting-a-Class-Hierarchy)\n"
   ]
  },
  {
   "cell_type": "markdown",
   "metadata": {},
   "source": [
    "### E\n",
    "\n",
    "* `e()` &mdash; [Railroad Diagrams (Excursion: Railroad diagrams implementation)](RailroadDiagrams.ipynb#Excursion:-Railroad-diagrams-implementation)\n",
    "* `elapsed_time()` &mdash; [Timer (Measuring Time)](Timer.ipynb#Measuring-Time)\n",
    "* `End` class &mdash; [Railroad Diagrams (Excursion: Railroad diagrams implementation)](RailroadDiagrams.ipynb#Excursion:-Railroad-diagrams-implementation)\n",
    "* `__enter__()` &mdash; [Tracing Executions (A Tracer Class)](Tracer.ipynb#A-Tracer-Class), [Error Handling (Catching Errors)](ExpectError.ipynb#Catching-Errors), [Error Handling (Catching Timeouts)](ExpectError.ipynb#Catching-Timeouts), [Timer (Measuring Time)](Timer.ipynb#Measuring-Time)\n",
    "* `__eq__()` &mdash; [Control Flow Graph (CFGNode)](ControlFlow.ipynb#CFGNode), [Railroad Diagrams (Excursion: Railroad diagrams implementation)](RailroadDiagrams.ipynb#Excursion:-Railroad-diagrams-implementation)\n",
    "* error &mdash; [Introduction to Debugging (From Defect to Failure)](Intro_Debugging.ipynb#From-Defect-to-Failure)\n",
    "* `eval_in_context()` &mdash; [Tracing Executions (Conditional Tracing)](Tracer.ipynb#Conditional-Tracing), [Tracing Executions (Conditional Tracing)](Tracer.ipynb#Conditional-Tracing)\n",
    "* `events()` &mdash; [Statistical Debugging (Collecting Events)](StatisticalDebugger.ipynb#Collecting-Events), [Statistical Debugging (Collecting Coverage)](StatisticalDebugger.ipynb#Collecting-Coverage), [Statistical Debugging (Other Events besides Coverage)](StatisticalDebugger.ipynb#Other-Events-besides-Coverage)\n",
    "* `events_changed()` &mdash; [Tracing Executions (Watching Events)](Tracer.ipynb#Watching-Events)\n",
    "* `EventTracer` class &mdash; [Tracing Executions (Watching Events)](Tracer.ipynb#Watching-Events), [Tracing Executions (Watching Events)](Tracer.ipynb#Watching-Events), [Tracing Executions (Watching Events)](Tracer.ipynb#Watching-Events)\n",
    "* `event_fraction()` &mdash; [Statistical Debugging (Continuous Spectrum)](StatisticalDebugger.ipynb#Continuous-Spectrum)\n",
    "* `event_table()` &mdash; [Statistical Debugging (Excursion: Printing an Event Table)](StatisticalDebugger.ipynb#Excursion:-Printing-an-Event-Table)\n",
    "* excellent library from Tab Atkins jr. &mdash; [Railroad Diagrams](RailroadDiagrams.ipynb#Railroad-Diagrams)\n",
    "* `execute()` &mdash; [How Debuggers Work (Debugger Interaction)](Debugger.ipynb#Debugger-Interaction), [How Debuggers Work (Excursion: Implementing execute())](Debugger.ipynb#Excursion:-Implementing-execute())\n",
    "* execution log &mdash; [Tracing Executions (Tracing Python Programs)](Tracer.ipynb#Tracing-Python-Programs)\n",
    "* `execution_diagram()` &mdash; [Introduction to Debugging (From Defect to Failure)](Intro_Debugging.ipynb#From-Defect-to-Failure)\n",
    "* `__exit__()` &mdash; [Tracing Executions (A Tracer Class)](Tracer.ipynb#A-Tracer-Class), [Error Handling (Catching Errors)](ExpectError.ipynb#Catching-Errors), [Error Handling (Catching Timeouts)](ExpectError.ipynb#Catching-Timeouts), [Timer (Measuring Time)](Timer.ipynb#Measuring-Time)\n",
    "* `ExpectError` class &mdash; [Error Handling (Catching Errors)](ExpectError.ipynb#Catching-Errors)\n",
    "* `ExpectTimeout` class &mdash; [Error Handling (Catching Timeouts)](ExpectError.ipynb#Catching-Timeouts)\n"
   ]
  },
  {
   "cell_type": "markdown",
   "metadata": {},
   "source": [
    "## F - L"
   ]
  },
  {
   "cell_type": "markdown",
   "metadata": {},
   "source": [
    "### F\n",
    "\n",
    "* `fail()` &mdash; [Tracing Executions (Exercise 1: Exception Handling)](Tracer.ipynb#Exercise-1:-Exception-Handling)\n",
    "* `failed_fraction()` &mdash; [Statistical Debugging (Continuous Spectrum)](StatisticalDebugger.ipynb#Continuous-Spectrum)\n",
    "* failure &mdash; [Introduction to Debugging (From Defect to Failure)](Intro_Debugging.ipynb#From-Defect-to-Failure)\n",
    "* `fail_collectors()` &mdash; [Statistical Debugging (Collecting Passing and Failing Runs)](StatisticalDebugger.ipynb#Collecting-Passing-and-Failing-Runs)\n",
    "* `FAIL_COLOR` &mdash; [Introduction to Debugging (Visualizing Code)](Intro_Debugging.ipynb#Visualizing-Code)\n",
    "* `fail_test()` &mdash; [Error Handling (Catching Errors)](ExpectError.ipynb#Catching-Errors)\n",
    "* `FAIL_VALUE` &mdash; [Statistical Debugging (Training Classifiers)](StatisticalDebugger.ipynb#Training-Classifiers)\n",
    "* `FAIL` &mdash; [Introduction to Debugging (Visualizing Code)](Intro_Debugging.ipynb#Visualizing-Code), [Statistical Debugging (Collecting Passing and Failing Runs)](StatisticalDebugger.ipynb#Collecting-Passing-and-Failing-Runs)\n",
    "* fault &mdash; [Introduction to Debugging (From Defect to Failure)](Intro_Debugging.ipynb#From-Defect-to-Failure)\n",
    "* `features()` &mdash; [Statistical Debugging (Training Classifiers)](StatisticalDebugger.ipynb#Training-Classifiers)\n",
    "* `feature_names()` &mdash; [Statistical Debugging (Training Classifiers)](StatisticalDebugger.ipynb#Training-Classifiers)\n",
    "* `fib()` &mdash; [Control Flow Graph (fib)](ControlFlow.ipynb#fib)\n",
    "* First actual case of bug being found &mdash; [Introduction to Debugging (History of Debugging)](Intro_Debugging.ipynb#History-of-Debugging)\n",
    "* `FONT_NAME` &mdash; [Introduction to Debugging (Visualizing Code)](Intro_Debugging.ipynb#Visualizing-Code)\n",
    "* `foo()` &mdash; [Tracing Executions (Exercise 2: Syntax-Based Instrumentation)](Tracer.ipynb#Exercise-2:-Syntax-Based-Instrumentation), [Class Diagrams (Getting a Class Hierarchy)](ClassDiagram.ipynb#Getting-a-Class-Hierarchy), [Class Diagrams (Getting a Class Hierarchy)](ClassDiagram.ipynb#Getting-a-Class-Hierarchy), [Class Diagrams (Getting a Class Hierarchy)](ClassDiagram.ipynb#Getting-a-Class-Hierarchy)\n",
    "* for-loop &mdash; [Control Flow Graph (fib)](ControlFlow.ipynb#fib)\n",
    "* `format()` &mdash; [Railroad Diagrams (Excursion: Railroad diagrams implementation)](RailroadDiagrams.ipynb#Excursion:-Railroad-diagrams-implementation), [Railroad Diagrams (Excursion: Railroad diagrams implementation)](RailroadDiagrams.ipynb#Excursion:-Railroad-diagrams-implementation), [Railroad Diagrams (Excursion: Railroad diagrams implementation)](RailroadDiagrams.ipynb#Excursion:-Railroad-diagrams-implementation), [Railroad Diagrams (Excursion: Railroad diagrams implementation)](RailroadDiagrams.ipynb#Excursion:-Railroad-diagrams-implementation), [Railroad Diagrams (Excursion: Railroad diagrams implementation)](RailroadDiagrams.ipynb#Excursion:-Railroad-diagrams-implementation), [Railroad Diagrams (Excursion: Railroad diagrams implementation)](RailroadDiagrams.ipynb#Excursion:-Railroad-diagrams-implementation), [Railroad Diagrams (Excursion: Railroad diagrams implementation)](RailroadDiagrams.ipynb#Excursion:-Railroad-diagrams-implementation), [Railroad Diagrams (Excursion: Railroad diagrams implementation)](RailroadDiagrams.ipynb#Excursion:-Railroad-diagrams-implementation), [Railroad Diagrams (Excursion: Railroad diagrams implementation)](RailroadDiagrams.ipynb#Excursion:-Railroad-diagrams-implementation), [Railroad Diagrams (Excursion: Railroad diagrams implementation)](RailroadDiagrams.ipynb#Excursion:-Railroad-diagrams-implementation), [Railroad Diagrams (Excursion: Railroad diagrams implementation)](RailroadDiagrams.ipynb#Excursion:-Railroad-diagrams-implementation), [Railroad Diagrams (Excursion: Railroad diagrams implementation)](RailroadDiagrams.ipynb#Excursion:-Railroad-diagrams-implementation), [Railroad Diagrams (Excursion: Railroad diagrams implementation)](RailroadDiagrams.ipynb#Excursion:-Railroad-diagrams-implementation), [Railroad Diagrams (Excursion: Railroad diagrams implementation)](RailroadDiagrams.ipynb#Excursion:-Railroad-diagrams-implementation), [Railroad Diagrams (Excursion: Railroad diagrams implementation)](RailroadDiagrams.ipynb#Excursion:-Railroad-diagrams-implementation), [Railroad Diagrams (Excursion: Railroad diagrams implementation)](RailroadDiagrams.ipynb#Excursion:-Railroad-diagrams-implementation), [Railroad Diagrams (Excursion: Railroad diagrams implementation)](RailroadDiagrams.ipynb#Excursion:-Railroad-diagrams-implementation), [Railroad Diagrams (Excursion: Railroad diagrams implementation)](RailroadDiagrams.ipynb#Excursion:-Railroad-diagrams-implementation)\n",
    "* `FUNCTION` &mdash; [How Debuggers Work (Named breakpoints (\"break\"))](Debugger.ipynb#Named-breakpoints-(\"break\"))\n"
   ]
  },
  {
   "cell_type": "markdown",
   "metadata": {},
   "source": [
    "### G\n",
    "\n",
    "* `gcd()` &mdash; [Control Flow Graph (gcd)](ControlFlow.ipynb#gcd)\n",
    "* `generate_good_tile()` &mdash; [Control Flow Graph (Example: Maze)](ControlFlow.ipynb#Example:-Maze)\n",
    "* `generate_maze_code()` &mdash; [Control Flow Graph (Example: Maze)](ControlFlow.ipynb#Example:-Maze)\n",
    "* `generate_print_maze()` &mdash; [Control Flow Graph (Example: Maze)](ControlFlow.ipynb#Example:-Maze)\n",
    "* `generate_target_tile()` &mdash; [Control Flow Graph (Example: Maze)](ControlFlow.ipynb#Example:-Maze)\n",
    "* `generate_trap_tile()` &mdash; [Control Flow Graph (Example: Maze)](ControlFlow.ipynb#Example:-Maze)\n",
    "* `gen_cfg()` &mdash; [Control Flow Graph (PyCFG)](ControlFlow.ipynb#PyCFG), [Control Flow Graph (Supporting Functions)](ControlFlow.ipynb#Supporting-Functions)\n",
    "* `get_callgraph()` &mdash; [Control Flow Graph (Call Graph Helpers)](ControlFlow.ipynb#Call-Graph-Helpers)\n",
    "* `get_cfg()` &mdash; [Control Flow Graph (Supporting Functions)](ControlFlow.ipynb#Supporting-Functions)\n",
    "* `get_defining_function()` &mdash; [Control Flow Graph (PyCFG)](ControlFlow.ipynb#PyCFG)\n",
    "* `get_func()` &mdash; [Control Flow Graph (PyCFG)](ControlFlow.ipynb#PyCFG)\n",
    "* `get_registry()` &mdash; [Control Flow Graph (Registry)](ControlFlow.ipynb#Registry)\n",
    "* `get_registry_idx()` &mdash; [Control Flow Graph (Registry)](ControlFlow.ipynb#Registry), [Control Flow Graph (CFGNode)](ControlFlow.ipynb#CFGNode)\n",
    "* `graph()` &mdash; [Introduction to Debugging (Visualizing Code)](Intro_Debugging.ipynb#Visualizing-Code)\n",
    "* \"Green Tree Snakes - the missing Python AST docs\" &mdash; [Tracing Executions (Exercise 2: Syntax-Based Instrumentation)](Tracer.ipynb#Exercise-2:-Syntax-Based-Instrumentation)\n"
   ]
  },
  {
   "cell_type": "markdown",
   "metadata": {},
   "source": [
    "### H\n",
    "\n",
    "* `h()` &mdash; [Railroad Diagrams (Excursion: Railroad diagrams implementation)](RailroadDiagrams.ipynb#Excursion:-Railroad-diagrams-implementation)\n",
    "* hardware breakpoints &mdash; [Tracing Executions (Tracing Binary Executables)](Tracer.ipynb#Tracing-Binary-Executables)\n",
    "* hardware watchpoints &mdash; [Tracing Executions (Tracing Binary Executables)](Tracer.ipynb#Tracing-Binary-Executables)\n",
    "* `help_command()` &mdash; [How Debuggers Work (Excursion: Implementing execute())](Debugger.ipynb#Excursion:-Implementing-execute())\n",
    "* `HorizontalChoice` class &mdash; [Railroad Diagrams (Excursion: Railroad diagrams implementation)](RailroadDiagrams.ipynb#Excursion:-Railroad-diagrams-implementation)\n",
    "* `hue()` &mdash; [Statistical Debugging (Continuous Spectrum)](StatisticalDebugger.ipynb#Continuous-Spectrum), [Statistical Debugging (The Ochiai Metric)](StatisticalDebugger.ipynb#The-Ochiai-Metric)\n"
   ]
  },
  {
   "cell_type": "markdown",
   "metadata": {},
   "source": [
    "### I\n",
    "\n",
    "* `i()` &mdash; [Control Flow Graph (CFGNode)](ControlFlow.ipynb#CFGNode)\n",
    "* `id()` &mdash; [Statistical Debugging (Collecting Events)](StatisticalDebugger.ipynb#Collecting-Events)\n",
    "* infection &mdash; [Introduction to Debugging (From Defect to Failure)](Intro_Debugging.ipynb#From-Defect-to-Failure), [Introduction to Debugging (Lessons Learned)](Intro_Debugging.ipynb#Lessons-Learned)\n",
    "* `__init__()` &mdash; [Tracing Executions (A Tracer Class)](Tracer.ipynb#A-Tracer-Class), [Tracing Executions (Tracing Variable Changes)](Tracer.ipynb#Tracing-Variable-Changes), [Tracing Executions (Conditional Tracing)](Tracer.ipynb#Conditional-Tracing), [Tracing Executions (Watching Events)](Tracer.ipynb#Watching-Events), [How Debuggers Work (Debugger Interaction)](Debugger.ipynb#Debugger-Interaction), [Statistical Debugging (Collecting Events)](StatisticalDebugger.ipynb#Collecting-Events), [Statistical Debugging (Collecting Coverage)](StatisticalDebugger.ipynb#Collecting-Coverage), [Statistical Debugging (A Base Class for Statistical Debugging)](StatisticalDebugger.ipynb#A-Base-Class-for-Statistical-Debugging), [Statistical Debugging (Other Events besides Coverage)](StatisticalDebugger.ipynb#Other-Events-besides-Coverage), [Error Handling (Catching Errors)](ExpectError.ipynb#Catching-Errors), [Error Handling (Catching Timeouts)](ExpectError.ipynb#Catching-Timeouts), [Error Handling (Catching Timeouts)](ExpectError.ipynb#Catching-Timeouts), [Control Flow Graph (CFGNode)](ControlFlow.ipynb#CFGNode), [Control Flow Graph (PyCFG)](ControlFlow.ipynb#PyCFG), [Railroad Diagrams (Excursion: Railroad diagrams implementation)](RailroadDiagrams.ipynb#Excursion:-Railroad-diagrams-implementation), [Railroad Diagrams (Excursion: Railroad diagrams implementation)](RailroadDiagrams.ipynb#Excursion:-Railroad-diagrams-implementation), [Railroad Diagrams (Excursion: Railroad diagrams implementation)](RailroadDiagrams.ipynb#Excursion:-Railroad-diagrams-implementation), [Railroad Diagrams (Excursion: Railroad diagrams implementation)](RailroadDiagrams.ipynb#Excursion:-Railroad-diagrams-implementation), [Railroad Diagrams (Excursion: Railroad diagrams implementation)](RailroadDiagrams.ipynb#Excursion:-Railroad-diagrams-implementation), [Railroad Diagrams (Excursion: Railroad diagrams implementation)](RailroadDiagrams.ipynb#Excursion:-Railroad-diagrams-implementation), [Railroad Diagrams (Excursion: Railroad diagrams implementation)](RailroadDiagrams.ipynb#Excursion:-Railroad-diagrams-implementation), [Railroad Diagrams (Excursion: Railroad diagrams implementation)](RailroadDiagrams.ipynb#Excursion:-Railroad-diagrams-implementation), [Railroad Diagrams (Excursion: Railroad diagrams implementation)](RailroadDiagrams.ipynb#Excursion:-Railroad-diagrams-implementation), [Railroad Diagrams (Excursion: Railroad diagrams implementation)](RailroadDiagrams.ipynb#Excursion:-Railroad-diagrams-implementation), [Railroad Diagrams (Excursion: Railroad diagrams implementation)](RailroadDiagrams.ipynb#Excursion:-Railroad-diagrams-implementation), [Railroad Diagrams (Excursion: Railroad diagrams implementation)](RailroadDiagrams.ipynb#Excursion:-Railroad-diagrams-implementation), [Railroad Diagrams (Excursion: Railroad diagrams implementation)](RailroadDiagrams.ipynb#Excursion:-Railroad-diagrams-implementation), [Railroad Diagrams (Excursion: Railroad diagrams implementation)](RailroadDiagrams.ipynb#Excursion:-Railroad-diagrams-implementation), [Railroad Diagrams (Excursion: Railroad diagrams implementation)](RailroadDiagrams.ipynb#Excursion:-Railroad-diagrams-implementation), [Railroad Diagrams (Excursion: Railroad diagrams implementation)](RailroadDiagrams.ipynb#Excursion:-Railroad-diagrams-implementation), [Railroad Diagrams (Excursion: Railroad diagrams implementation)](RailroadDiagrams.ipynb#Excursion:-Railroad-diagrams-implementation), [Railroad Diagrams (Excursion: Railroad diagrams implementation)](RailroadDiagrams.ipynb#Excursion:-Railroad-diagrams-implementation)\n",
    "* `InjectPass` class &mdash; [Tracing Executions (Exercise 2: Syntax-Based Instrumentation)](Tracer.ipynb#Exercise-2:-Syntax-Based-Instrumentation)\n",
    "* `insert_tracer()` &mdash; [Tracing Executions (Efficient Tracing)](Tracer.ipynb#Efficient-Tracing)\n",
    "* `interaction_loop()` &mdash; [How Debuggers Work (Debugger Interaction)](Debugger.ipynb#Debugger-Interaction)\n",
    "* `INTERNAL_ALIGNMENT` &mdash; [Railroad Diagrams (Excursion: Railroad diagrams implementation)](RailroadDiagrams.ipynb#Excursion:-Railroad-diagrams-implementation)\n"
   ]
  },
  {
   "cell_type": "markdown",
   "metadata": {},
   "source": [
    "### L\n",
    "\n",
    "* `left()` &mdash; [Railroad Diagrams (Excursion: Railroad diagrams implementation)](RailroadDiagrams.ipynb#Excursion:-Railroad-diagrams-implementation)\n",
    "* `lineno()` &mdash; [Control Flow Graph (CFGNode)](ControlFlow.ipynb#CFGNode)\n",
    "* `LINE` &mdash; [How Debuggers Work (Execute until line (\"until\"))](Debugger.ipynb#Execute-until-line-(\"until\")), [How Debuggers Work (Execute until line (\"until\"))](Debugger.ipynb#Execute-until-line-(\"until\"))\n",
    "* `link_functions()` &mdash; [Control Flow Graph (PyCFG)](ControlFlow.ipynb#PyCFG)\n",
    "* `list_command()` &mdash; [How Debuggers Work (Listing Source Code)](Debugger.ipynb#Listing-Source-Code), [How Debuggers Work (Listings with Benefits)](Debugger.ipynb#Listings-with-Benefits)\n",
    "* `list_with_coverage()` &mdash; [Statistical Debugging (Collecting Coverage)](StatisticalDebugger.ipynb#Collecting-Coverage)\n",
    "* `list_with_spectrum()` &mdash; [Statistical Debugging (Discrete Spectrum)](StatisticalDebugger.ipynb#Discrete-Spectrum)\n",
    "* `ll()` &mdash; [Railroad Diagrams (Excursion: Railroad diagrams implementation)](RailroadDiagrams.ipynb#Excursion:-Railroad-diagrams-implementation)\n",
    "* `log()` &mdash; [Tracing Executions (A Tracer Class)](Tracer.ipynb#A-Tracer-Class)\n",
    "* `long_running_test()` &mdash; [Error Handling (Catching Timeouts)](ExpectError.ipynb#Catching-Timeouts)\n"
   ]
  },
  {
   "cell_type": "markdown",
   "metadata": {},
   "source": [
    "## M - Q"
   ]
  },
  {
   "cell_type": "markdown",
   "metadata": {},
   "source": [
    "### M\n",
    "\n",
    "* `m()` &mdash; [Railroad Diagrams (Excursion: Railroad diagrams implementation)](RailroadDiagrams.ipynb#Excursion:-Railroad-diagrams-implementation)\n",
    "* malfunction &mdash; [Introduction to Debugging (From Defect to Failure)](Intro_Debugging.ipynb#From-Defect-to-Failure), [Introduction to Debugging (Lessons Learned)](Intro_Debugging.ipynb#Lessons-Learned)\n",
    "* Master Mind Board Grame &mdash; [Introduction to Debugging (Keep a Log)](Intro_Debugging.ipynb#Keep-a-Log)\n",
    "* `maze()` &mdash; [Control Flow Graph (Example: Maze)](ControlFlow.ipynb#Example:-Maze)\n",
    "* `METHOD_FONT` &mdash; [Class Diagrams (Drawing Class Hierarchy with Method Names)](ClassDiagram.ipynb#Drawing-Class-Hierarchy-with-Method-Names)\n",
    "* `method_string()` &mdash; [Class Diagrams (Drawing Class Hierarchy with Method Names)](ClassDiagram.ipynb#Drawing-Class-Hierarchy-with-Method-Names)\n",
    "* `middle()` &mdash; [Statistical Debugging (Continuous Spectrum)](StatisticalDebugger.ipynb#Continuous-Spectrum)\n",
    "* `middle_fixed()` &mdash; [Statistical Debugging (Continuous Spectrum)](StatisticalDebugger.ipynb#Continuous-Spectrum)\n",
    "* `MultipleChoice` class &mdash; [Railroad Diagrams (Excursion: Railroad diagrams implementation)](RailroadDiagrams.ipynb#Excursion:-Railroad-diagrams-implementation)\n"
   ]
  },
  {
   "cell_type": "markdown",
   "metadata": {},
   "source": [
    "### N\n",
    "\n",
    "* `NAME` &mdash; [How Debuggers Work (Synopsis)](Debugger.ipynb#Synopsis), [How Debuggers Work (Printing Values)](Debugger.ipynb#Printing-Values), [How Debuggers Work (Synopsis)](Debugger.ipynb#Synopsis)\n",
    "* `__neq__()` &mdash; [Control Flow Graph (CFGNode)](ControlFlow.ipynb#CFGNode)\n",
    "* `__new__()` &mdash; [Railroad Diagrams (Excursion: Railroad diagrams implementation)](RailroadDiagrams.ipynb#Excursion:-Railroad-diagrams-implementation), [Railroad Diagrams (Excursion: Railroad diagrams implementation)](RailroadDiagrams.ipynb#Excursion:-Railroad-diagrams-implementation), [Railroad Diagrams (Excursion: Railroad diagrams implementation)](RailroadDiagrams.ipynb#Excursion:-Railroad-diagrams-implementation)\n",
    "* `__ne__()` &mdash; [Railroad Diagrams (Excursion: Railroad diagrams implementation)](RailroadDiagrams.ipynb#Excursion:-Railroad-diagrams-implementation)\n",
    "* `NonTerminal` class &mdash; [Railroad Diagrams (Excursion: Railroad diagrams implementation)](RailroadDiagrams.ipynb#Excursion:-Railroad-diagrams-implementation)\n"
   ]
  },
  {
   "cell_type": "markdown",
   "metadata": {},
   "source": [
    "### O\n",
    "\n",
    "* `OchiaiDebugger` class &mdash; [Statistical Debugging (The Ochiai Metric)](StatisticalDebugger.ipynb#The-Ochiai-Metric)\n",
    "* `OneOrMore` class &mdash; [Railroad Diagrams (Excursion: Railroad diagrams implementation)](RailroadDiagrams.ipynb#Excursion:-Railroad-diagrams-implementation)\n",
    "* `only_fail_events()` &mdash; [Statistical Debugging (Collecting Passing and Failing Runs)](StatisticalDebugger.ipynb#Collecting-Passing-and-Failing-Runs)\n",
    "* `only_pass_events()` &mdash; [Statistical Debugging (Collecting Passing and Failing Runs)](StatisticalDebugger.ipynb#Collecting-Passing-and-Failing-Runs)\n",
    "* `on_annassign()` &mdash; [Control Flow Graph (PyCFG)](ControlFlow.ipynb#PyCFG)\n",
    "* `on_assign()` &mdash; [Control Flow Graph (PyCFG)](ControlFlow.ipynb#PyCFG)\n",
    "* `on_augassign()` &mdash; [Control Flow Graph (PyCFG)](ControlFlow.ipynb#PyCFG)\n",
    "* `on_binop()` &mdash; [Control Flow Graph (PyCFG)](ControlFlow.ipynb#PyCFG)\n",
    "* `on_break()` &mdash; [Control Flow Graph (PyCFG)](ControlFlow.ipynb#PyCFG)\n",
    "* `on_call()` &mdash; [Control Flow Graph (PyCFG)](ControlFlow.ipynb#PyCFG)\n",
    "* `on_compare()` &mdash; [Control Flow Graph (PyCFG)](ControlFlow.ipynb#PyCFG)\n",
    "* `on_continue()` &mdash; [Control Flow Graph (PyCFG)](ControlFlow.ipynb#PyCFG)\n",
    "* `on_expr()` &mdash; [Control Flow Graph (PyCFG)](ControlFlow.ipynb#PyCFG)\n",
    "* `on_for()` &mdash; [Control Flow Graph (PyCFG)](ControlFlow.ipynb#PyCFG)\n",
    "* `on_functiondef()` &mdash; [Control Flow Graph (PyCFG)](ControlFlow.ipynb#PyCFG)\n",
    "* `on_if()` &mdash; [Control Flow Graph (PyCFG)](ControlFlow.ipynb#PyCFG)\n",
    "* `on_module()` &mdash; [Control Flow Graph (PyCFG)](ControlFlow.ipynb#PyCFG)\n",
    "* `on_pass()` &mdash; [Control Flow Graph (PyCFG)](ControlFlow.ipynb#PyCFG)\n",
    "* `on_return()` &mdash; [Control Flow Graph (PyCFG)](ControlFlow.ipynb#PyCFG)\n",
    "* `on_unaryop()` &mdash; [Control Flow Graph (PyCFG)](ControlFlow.ipynb#PyCFG)\n",
    "* `on_while()` &mdash; [Control Flow Graph (PyCFG)](ControlFlow.ipynb#PyCFG)\n",
    "* `Optional()` &mdash; [Railroad Diagrams (Excursion: Railroad diagrams implementation)](RailroadDiagrams.ipynb#Excursion:-Railroad-diagrams-implementation)\n",
    "* `OptionalSequence` class &mdash; [Railroad Diagrams (Excursion: Railroad diagrams implementation)](RailroadDiagrams.ipynb#Excursion:-Railroad-diagrams-implementation)\n"
   ]
  },
  {
   "cell_type": "markdown",
   "metadata": {},
   "source": [
    "### P\n",
    "\n",
    "* `parse()` &mdash; [Control Flow Graph (PyCFG)](ControlFlow.ipynb#PyCFG)\n",
    "* `parseCSSGrammar()` &mdash; [Railroad Diagrams (Excursion: Railroad diagrams implementation)](RailroadDiagrams.ipynb#Excursion:-Railroad-diagrams-implementation)\n",
    "* `passed_fraction()` &mdash; [Statistical Debugging (Continuous Spectrum)](StatisticalDebugger.ipynb#Continuous-Spectrum)\n",
    "* `pass_collectors()` &mdash; [Statistical Debugging (Collecting Passing and Failing Runs)](StatisticalDebugger.ipynb#Collecting-Passing-and-Failing-Runs)\n",
    "* `PASS_COLOR` &mdash; [Introduction to Debugging (Visualizing Code)](Intro_Debugging.ipynb#Visualizing-Code)\n",
    "* `PASS_VALUE` &mdash; [Statistical Debugging (Training Classifiers)](StatisticalDebugger.ipynb#Training-Classifiers)\n",
    "* `PASS` &mdash; [Introduction to Debugging (Visualizing Code)](Intro_Debugging.ipynb#Visualizing-Code), [Statistical Debugging (Collecting Passing and Failing Runs)](StatisticalDebugger.ipynb#Collecting-Passing-and-Failing-Runs)\n",
    "* `Path` class &mdash; [Railroad Diagrams (Excursion: Railroad diagrams implementation)](RailroadDiagrams.ipynb#Excursion:-Railroad-diagrams-implementation)\n",
    "* `print_command()` &mdash; [How Debuggers Work (Printing Values)](Debugger.ipynb#Printing-Values), [How Debuggers Work (Printing Values)](Debugger.ipynb#Printing-Values)\n",
    "* `print_debugger_status()` &mdash; [Tracing Executions (Tracing Variable Changes)](Tracer.ipynb#Tracing-Variable-Changes), [Tracing Executions (Exercise 1: Exception Handling)](Tracer.ipynb#Exercise-1:-Exception-Handling)\n",
    "* `print_maze()` &mdash; [Control Flow Graph (Example: Maze)](ControlFlow.ipynb#Example:-Maze)\n",
    "* `public_class_methods()` &mdash; [Class Diagrams (Getting methods)](ClassDiagram.ipynb#Getting-methods)\n",
    "* `PyCFG` class &mdash; [Control Flow Graph (PyCFG)](ControlFlow.ipynb#PyCFG), [Control Flow Graph (PyCFG)](ControlFlow.ipynb#PyCFG), [Control Flow Graph (PyCFG)](ControlFlow.ipynb#PyCFG), [Control Flow Graph (PyCFG)](ControlFlow.ipynb#PyCFG), [Control Flow Graph (PyCFG)](ControlFlow.ipynb#PyCFG), [Control Flow Graph (PyCFG)](ControlFlow.ipynb#PyCFG), [Control Flow Graph (PyCFG)](ControlFlow.ipynb#PyCFG), [Control Flow Graph (PyCFG)](ControlFlow.ipynb#PyCFG), [Control Flow Graph (PyCFG)](ControlFlow.ipynb#PyCFG), [Control Flow Graph (PyCFG)](ControlFlow.ipynb#PyCFG), [Control Flow Graph (PyCFG)](ControlFlow.ipynb#PyCFG), [Control Flow Graph (PyCFG)](ControlFlow.ipynb#PyCFG), [Control Flow Graph (PyCFG)](ControlFlow.ipynb#PyCFG), [Control Flow Graph (PyCFG)](ControlFlow.ipynb#PyCFG), [Control Flow Graph (PyCFG)](ControlFlow.ipynb#PyCFG), [Control Flow Graph (PyCFG)](ControlFlow.ipynb#PyCFG), [Control Flow Graph (PyCFG)](ControlFlow.ipynb#PyCFG), [Control Flow Graph (PyCFG)](ControlFlow.ipynb#PyCFG), [Control Flow Graph (PyCFG)](ControlFlow.ipynb#PyCFG), [Control Flow Graph (PyCFG)](ControlFlow.ipynb#PyCFG), [Control Flow Graph (PyCFG)](ControlFlow.ipynb#PyCFG), [Control Flow Graph (PyCFG)](ControlFlow.ipynb#PyCFG), [Control Flow Graph (PyCFG)](ControlFlow.ipynb#PyCFG), [Control Flow Graph (PyCFG)](ControlFlow.ipynb#PyCFG), [Control Flow Graph (PyCFG)](ControlFlow.ipynb#PyCFG)\n",
    "* Python tutorial &mdash; [Introduction to Debugging (Understanding Python Programs)](Intro_Debugging.ipynb#Understanding-Python-Programs)\n"
   ]
  },
  {
   "cell_type": "markdown",
   "metadata": {},
   "source": [
    "### Q\n",
    "\n",
    "* `quad_solver()` &mdash; [Control Flow Graph (quad_solver)](ControlFlow.ipynb#quad_solver)\n",
    "* `quit_command()` &mdash; [How Debuggers Work (Quitting)](Debugger.ipynb#Quitting)\n",
    "* `qux()` &mdash; [Class Diagrams (Getting a Class Hierarchy)](ClassDiagram.ipynb#Getting-a-Class-Hierarchy)\n"
   ]
  },
  {
   "cell_type": "markdown",
   "metadata": {},
   "source": [
    "## R - V"
   ]
  },
  {
   "cell_type": "markdown",
   "metadata": {},
   "source": [
    "### R\n",
    "\n",
    "* `RankingDebugger` class &mdash; [Statistical Debugging (Ranking Lines by Suspiciousness)](StatisticalDebugger.ipynb#Ranking-Lines-by-Suspiciousness)\n",
    "* `rank_by_suspiciousness()` &mdash; [Statistical Debugging (Ranking Lines by Suspiciousness)](StatisticalDebugger.ipynb#Ranking-Lines-by-Suspiciousness)\n",
    "* `register_node()` &mdash; [Control Flow Graph (Registry)](ControlFlow.ipynb#Registry), [Control Flow Graph (CFGNode)](ControlFlow.ipynb#CFGNode)\n",
    "* `REGISTRY_IDX` &mdash; [Control Flow Graph (Registry)](ControlFlow.ipynb#Registry), [Control Flow Graph (Registry)](ControlFlow.ipynb#Registry), [Control Flow Graph (CFGNode)](ControlFlow.ipynb#CFGNode), [Control Flow Graph (CFGNode)](ControlFlow.ipynb#CFGNode)\n",
    "* `REGISTRY` &mdash; [Control Flow Graph (Registry)](ControlFlow.ipynb#Registry), [Control Flow Graph (Registry)](ControlFlow.ipynb#Registry), [Control Flow Graph (CFGNode)](ControlFlow.ipynb#CFGNode), [Control Flow Graph (CFGNode)](ControlFlow.ipynb#CFGNode)\n",
    "* `remove_html_markup()` &mdash; [Introduction to Debugging (A Simple Function)](Intro_Debugging.ipynb#A-Simple-Function), [Introduction to Debugging (A First Fix)](Intro_Debugging.ipynb#A-First-Fix), [Introduction to Debugging (Fixing the Bug)](Intro_Debugging.ipynb#Fixing-the-Bug), [Introduction to Debugging (Alternate Paths)](Intro_Debugging.ipynb#Alternate-Paths), [Statistical Debugging (Collecting Events)](StatisticalDebugger.ipynb#Collecting-Events)\n",
    "* `remove_html_markup_fixed()` &mdash; [Introduction to Debugging (Use the Most Obvious Fix)](Intro_Debugging.ipynb#Use-the-Most-Obvious-Fix)\n",
    "* `remove_html_markup_traced()` &mdash; [Tracing Executions (Tracing Python Programs)](Tracer.ipynb#Tracing-Python-Programs)\n",
    "* `remove_html_markup_without_quotes()` &mdash; [Introduction to Debugging (Debugging into Existence)](Intro_Debugging.ipynb#Debugging-into-Existence)\n",
    "* `remove_html_markup_with_print()` &mdash; [Introduction to Debugging (Printf Debugging)](Intro_Debugging.ipynb#Printf-Debugging)\n",
    "* `remove_html_markup_with_proper_quotes()` &mdash; [Introduction to Debugging (Part 3: Fix the Problem)](Intro_Debugging.ipynb#Part-3:-Fix-the-Problem)\n",
    "* `remove_html_markup_with_quote_assert()` &mdash; [Introduction to Debugging (Refuting a Hypothesis)](Intro_Debugging.ipynb#Refuting-a-Hypothesis)\n",
    "* `remove_html_markup_with_tag_assert()` &mdash; [Introduction to Debugging (Refining a Hypothesis)](Intro_Debugging.ipynb#Refining-a-Hypothesis)\n",
    "* `__repr__()` &mdash; [Control Flow Graph (CFGNode)](ControlFlow.ipynb#CFGNode), [Railroad Diagrams (Excursion: Railroad diagrams implementation)](RailroadDiagrams.ipynb#Excursion:-Railroad-diagrams-implementation), [Railroad Diagrams (Excursion: Railroad diagrams implementation)](RailroadDiagrams.ipynb#Excursion:-Railroad-diagrams-implementation), [Railroad Diagrams (Excursion: Railroad diagrams implementation)](RailroadDiagrams.ipynb#Excursion:-Railroad-diagrams-implementation), [Railroad Diagrams (Excursion: Railroad diagrams implementation)](RailroadDiagrams.ipynb#Excursion:-Railroad-diagrams-implementation), [Railroad Diagrams (Excursion: Railroad diagrams implementation)](RailroadDiagrams.ipynb#Excursion:-Railroad-diagrams-implementation), [Railroad Diagrams (Excursion: Railroad diagrams implementation)](RailroadDiagrams.ipynb#Excursion:-Railroad-diagrams-implementation), [Railroad Diagrams (Excursion: Railroad diagrams implementation)](RailroadDiagrams.ipynb#Excursion:-Railroad-diagrams-implementation), [Railroad Diagrams (Excursion: Railroad diagrams implementation)](RailroadDiagrams.ipynb#Excursion:-Railroad-diagrams-implementation), [Railroad Diagrams (Excursion: Railroad diagrams implementation)](RailroadDiagrams.ipynb#Excursion:-Railroad-diagrams-implementation), [Railroad Diagrams (Excursion: Railroad diagrams implementation)](RailroadDiagrams.ipynb#Excursion:-Railroad-diagrams-implementation), [Railroad Diagrams (Excursion: Railroad diagrams implementation)](RailroadDiagrams.ipynb#Excursion:-Railroad-diagrams-implementation), [Railroad Diagrams (Excursion: Railroad diagrams implementation)](RailroadDiagrams.ipynb#Excursion:-Railroad-diagrams-implementation), [Railroad Diagrams (Excursion: Railroad diagrams implementation)](RailroadDiagrams.ipynb#Excursion:-Railroad-diagrams-implementation), [Railroad Diagrams (Excursion: Railroad diagrams implementation)](RailroadDiagrams.ipynb#Excursion:-Railroad-diagrams-implementation), [Railroad Diagrams (Excursion: Railroad diagrams implementation)](RailroadDiagrams.ipynb#Excursion:-Railroad-diagrams-implementation), [Railroad Diagrams (Excursion: Railroad diagrams implementation)](RailroadDiagrams.ipynb#Excursion:-Railroad-diagrams-implementation)\n",
    "* `reset_registry()` &mdash; [Control Flow Graph (Registry)](ControlFlow.ipynb#Registry), [Control Flow Graph (CFGNode)](ControlFlow.ipynb#CFGNode)\n",
    "* `right()` &mdash; [Railroad Diagrams (Excursion: Railroad diagrams implementation)](RailroadDiagrams.ipynb#Excursion:-Railroad-diagrams-implementation)\n",
    "* rubber duck debugging &mdash; [Introduction to Debugging (Rubberducking)](Intro_Debugging.ipynb#Rubberducking)\n",
    "* Rubber duck debugging &mdash; [Introduction to Debugging (Rubberducking)](Intro_Debugging.ipynb#Rubberducking)\n",
    "* rubberducking &mdash; [Introduction to Debugging (Rubberducking)](Intro_Debugging.ipynb#Rubberducking)\n"
   ]
  },
  {
   "cell_type": "markdown",
   "metadata": {},
   "source": [
    "### S\n",
    "\n",
    "* `samples()` &mdash; [Statistical Debugging (Training Classifiers)](StatisticalDebugger.ipynb#Training-Classifiers)\n",
    "* scientific method &mdash; [Introduction to Debugging (The Scientific Method)](Intro_Debugging.ipynb#The-Scientific-Method)\n",
    "* `Sequence` class &mdash; [Railroad Diagrams (Excursion: Railroad diagrams implementation)](RailroadDiagrams.ipynb#Excursion:-Railroad-diagrams-implementation)\n",
    "* `set_parents()` &mdash; [Control Flow Graph (CFGNode)](ControlFlow.ipynb#CFGNode)\n",
    "* `shape()` &mdash; [Statistical Debugging (Training Classifiers)](StatisticalDebugger.ipynb#Training-Classifiers)\n",
    "* `show_ast()` &mdash; [Tracing Executions (Exercise 2: Syntax-Based Instrumentation)](Tracer.ipynb#Exercise-2:-Syntax-Based-Instrumentation)\n",
    "* `show_classifier()` &mdash; [Statistical Debugging (Training Classifiers)](StatisticalDebugger.ipynb#Training-Classifiers)\n",
    "* `show_diagram()` &mdash; [Railroad Diagrams (Excursion: Railroad diagrams implementation)](RailroadDiagrams.ipynb#Excursion:-Railroad-diagrams-implementation)\n",
    "* `Skip` class &mdash; [Railroad Diagrams (Excursion: Railroad diagrams implementation)](RailroadDiagrams.ipynb#Excursion:-Railroad-diagrams-implementation)\n",
    "* `slider()` &mdash; [How Debuggers Work (Part 3: Graphical User Interface)](Debugger.ipynb#Part-3:-Graphical-User-Interface)\n",
    "* `some_extreme_function()` &mdash; [Tracing Executions (Efficient Tracing)](Tracer.ipynb#Efficient-Tracing)\n",
    "* `some_long_running_function()` &mdash; [Timer (Measuring Time)](Timer.ipynb#Measuring-Time)\n",
    "* `source()` &mdash; [Control Flow Graph (CFGNode)](ControlFlow.ipynb#CFGNode)\n",
    "* `Stack` class &mdash; [Railroad Diagrams (Excursion: Railroad diagrams implementation)](RailroadDiagrams.ipynb#Excursion:-Railroad-diagrams-implementation)\n",
    "* `Start` class &mdash; [Railroad Diagrams (Excursion: Railroad diagrams implementation)](RailroadDiagrams.ipynb#Excursion:-Railroad-diagrams-implementation)\n",
    "* `StatisticalDebugger` class &mdash; [Statistical Debugging (A Base Class for Statistical Debugging)](StatisticalDebugger.ipynb#A-Base-Class-for-Statistical-Debugging), [Statistical Debugging (A Base Class for Statistical Debugging)](StatisticalDebugger.ipynb#A-Base-Class-for-Statistical-Debugging), [Statistical Debugging (A Base Class for Statistical Debugging)](StatisticalDebugger.ipynb#A-Base-Class-for-Statistical-Debugging), [Statistical Debugging (Excursion: Printing an Event Table)](StatisticalDebugger.ipynb#Excursion:-Printing-an-Event-Table)\n",
    "* `STEP_COLOR` &mdash; [Introduction to Debugging (Visualizing Code)](Intro_Debugging.ipynb#Visualizing-Code)\n",
    "* `step_command()` &mdash; [How Debuggers Work (Debugger Interaction)](Debugger.ipynb#Debugger-Interaction)\n",
    "* `stop_here()` &mdash; [How Debuggers Work (Debugger Interaction)](Debugger.ipynb#Debugger-Interaction)\n",
    "* `STROKE_ODD_PIXEL_LENGTH` &mdash; [Railroad Diagrams (Excursion: Railroad diagrams implementation)](RailroadDiagrams.ipynb#Excursion:-Railroad-diagrams-implementation)\n",
    "* `__str__()` &mdash; [Error Handling (Catching Timeouts)](ExpectError.ipynb#Catching-Timeouts), [Control Flow Graph (CFGNode)](ControlFlow.ipynb#CFGNode)\n",
    "* `Style` class &mdash; [Railroad Diagrams (Excursion: Railroad diagrams implementation)](RailroadDiagrams.ipynb#Excursion:-Railroad-diagrams-implementation)\n",
    "* `suspiciousness()` &mdash; [Statistical Debugging (Ranking Lines by Suspiciousness)](StatisticalDebugger.ipynb#Ranking-Lines-by-Suspiciousness), [Statistical Debugging (The Tarantula Metric)](StatisticalDebugger.ipynb#The-Tarantula-Metric), [Statistical Debugging (The Ochiai Metric)](StatisticalDebugger.ipynb#The-Ochiai-Metric)\n"
   ]
  },
  {
   "cell_type": "markdown",
   "metadata": {},
   "source": [
    "### T\n",
    "\n",
    "* `TarantulaDebugger` class &mdash; [Statistical Debugging (The Tarantula Metric)](StatisticalDebugger.ipynb#The-Tarantula-Metric)\n",
    "* `target_tile()` &mdash; [Control Flow Graph (Example: Maze)](ControlFlow.ipynb#Example:-Maze)\n",
    "* `Terminal` class &mdash; [Railroad Diagrams (Excursion: Railroad diagrams implementation)](RailroadDiagrams.ipynb#Excursion:-Railroad-diagrams-implementation)\n",
    "* test &mdash; [Introduction to Debugging (Running a Function)](Intro_Debugging.ipynb#Running-a-Function)\n",
    "* `test_debugger_html()` &mdash; [Statistical Debugging (Collecting Passing and Failing Runs)](StatisticalDebugger.ipynb#Collecting-Passing-and-Failing-Runs)\n",
    "* `test_debugger_middle()` &mdash; [Statistical Debugging (Continuous Spectrum)](StatisticalDebugger.ipynb#Continuous-Spectrum)\n",
    "* the GNU command-line debugger (GDB) &mdash; [How Debuggers Work (Exercise 2: More Commands)](Debugger.ipynb#Exercise-2:-More-Commands)\n",
    "* theory &mdash; [Introduction to Debugging (The Scientific Method)](Intro_Debugging.ipynb#The-Scientific-Method), [Introduction to Debugging (Fixing the Bug)](Intro_Debugging.ipynb#Fixing-the-Bug)\n",
    "* `tile_()` &mdash; [Control Flow Graph (Example: Maze)](ControlFlow.ipynb#Example:-Maze), [Control Flow Graph (Example: Maze)](ControlFlow.ipynb#Example:-Maze), [Control Flow Graph (Example: Maze)](ControlFlow.ipynb#Example:-Maze)\n",
    "* `Timer` class &mdash; [Timer (Measuring Time)](Timer.ipynb#Measuring-Time)\n",
    "* `to_graph()` &mdash; [Control Flow Graph (Supporting Functions)](ControlFlow.ipynb#Supporting-Functions)\n",
    "* `to_json()` &mdash; [Control Flow Graph (CFGNode)](ControlFlow.ipynb#CFGNode)\n",
    "* trace &mdash; [Tracing Executions (Tracing Python Programs)](Tracer.ipynb#Tracing-Python-Programs)\n",
    "* `traceit()` &mdash; [Tracing Executions (Tracing Python Programs)](Tracer.ipynb#Tracing-Python-Programs), [Tracing Executions (Tracing Python Programs)](Tracer.ipynb#Tracing-Python-Programs), [Tracing Executions (Tracing Python Programs)](Tracer.ipynb#Tracing-Python-Programs), [Tracing Executions (A Tracer Class)](Tracer.ipynb#A-Tracer-Class), [Tracing Executions (Accessing Source Code)](Tracer.ipynb#Accessing-Source-Code), [Tracing Executions (Tracing Calls and Returns)](Tracer.ipynb#Tracing-Calls-and-Returns), [Tracing Executions (Tracing Variable Changes)](Tracer.ipynb#Tracing-Variable-Changes), [Tracing Executions (Conditional Tracing)](Tracer.ipynb#Conditional-Tracing), [How Debuggers Work (Debugger Interaction)](Debugger.ipynb#Debugger-Interaction), [Statistical Debugging (Collecting Events)](StatisticalDebugger.ipynb#Collecting-Events), [Statistical Debugging (Collecting Events)](StatisticalDebugger.ipynb#Collecting-Events)\n",
    "* `_traceit()` &mdash; [Tracing Executions (A Tracer Class)](Tracer.ipynb#A-Tracer-Class)\n",
    "* `TRACER_CODE` &mdash; [Tracing Executions (Efficient Tracing)](Tracer.ipynb#Efficient-Tracing)\n",
    "* `TRACER` &mdash; [Tracing Executions (Efficient Tracing)](Tracer.ipynb#Efficient-Tracing), [Tracing Executions (Efficient Tracing)](Tracer.ipynb#Efficient-Tracing)\n",
    "* `Tracer` class &mdash; [Tracing Executions (A Tracer Class)](Tracer.ipynb#A-Tracer-Class), [Tracing Executions (Accessing Source Code)](Tracer.ipynb#Accessing-Source-Code), [Tracing Executions (Tracing Calls and Returns)](Tracer.ipynb#Tracing-Calls-and-Returns), [Tracing Executions (Tracing Variable Changes)](Tracer.ipynb#Tracing-Variable-Changes), [Tracing Executions (Tracing Variable Changes)](Tracer.ipynb#Tracing-Variable-Changes), [Tracing Executions (Exercise 1: Exception Handling)](Tracer.ipynb#Exercise-1:-Exception-Handling)\n",
    "* tracing function &mdash; [Tracing Executions (Tracing Python Programs)](Tracer.ipynb#Tracing-Python-Programs)\n"
   ]
  },
  {
   "cell_type": "markdown",
   "metadata": {},
   "source": [
    "### U\n",
    "\n",
    "* `unhack()` &mdash; [Control Flow Graph (Supporting Functions)](ControlFlow.ipynb#Supporting-Functions)\n",
    "* `up()` &mdash; [Railroad Diagrams (Excursion: Railroad diagrams implementation)](RailroadDiagrams.ipynb#Excursion:-Railroad-diagrams-implementation)\n",
    "* `update_children()` &mdash; [Control Flow Graph (CFGNode)](ControlFlow.ipynb#CFGNode), [Control Flow Graph (PyCFG)](ControlFlow.ipynb#PyCFG)\n",
    "* `update_functions()` &mdash; [Control Flow Graph (PyCFG)](ControlFlow.ipynb#PyCFG)\n"
   ]
  },
  {
   "cell_type": "markdown",
   "metadata": {},
   "source": [
    "### V\n",
    "\n",
    "* `v()` &mdash; [Railroad Diagrams (Excursion: Railroad diagrams implementation)](RailroadDiagrams.ipynb#Excursion:-Railroad-diagrams-implementation)\n",
    "* `ValueCollector` class &mdash; [Statistical Debugging (Other Events besides Coverage)](StatisticalDebugger.ipynb#Other-Events-besides-Coverage)\n",
    "* `VALUE` &mdash; [How Debuggers Work (Exercise 1: Changing State)](Debugger.ipynb#Exercise-1:-Changing-State)\n",
    "* `VAR` &mdash; [How Debuggers Work (Exercise 1: Changing State)](Debugger.ipynb#Exercise-1:-Changing-State)\n",
    "* `visit_FunctionDef()` &mdash; [Tracing Executions (Exercise 2: Syntax-Based Instrumentation)](Tracer.ipynb#Exercise-2:-Syntax-Based-Instrumentation)\n",
    "* `VS` &mdash; [Railroad Diagrams (Excursion: Railroad diagrams implementation)](RailroadDiagrams.ipynb#Excursion:-Railroad-diagrams-implementation)\n"
   ]
  },
  {
   "cell_type": "markdown",
   "metadata": {},
   "source": [
    "## W - Z"
   ]
  },
  {
   "cell_type": "markdown",
   "metadata": {},
   "source": [
    "### W\n",
    "\n",
    "* `walk()` &mdash; [Control Flow Graph (PyCFG)](ControlFlow.ipynb#PyCFG)\n",
    "* watchpoints &mdash; [Tracing Executions (Watching Events)](Tracer.ipynb#Watching-Events)\n",
    "* `wrapString()` &mdash; [Railroad Diagrams (Excursion: Railroad diagrams implementation)](RailroadDiagrams.ipynb#Excursion:-Railroad-diagrams-implementation)\n",
    "* `writeSvg()` &mdash; [Railroad Diagrams (Excursion: Railroad diagrams implementation)](RailroadDiagrams.ipynb#Excursion:-Railroad-diagrams-implementation), [Railroad Diagrams (Excursion: Railroad diagrams implementation)](RailroadDiagrams.ipynb#Excursion:-Railroad-diagrams-implementation), [Railroad Diagrams (Excursion: Railroad diagrams implementation)](RailroadDiagrams.ipynb#Excursion:-Railroad-diagrams-implementation)\n"
   ]
  },
  {
   "cell_type": "markdown",
   "metadata": {},
   "source": [
    "### X\n",
    "\n",
    "* `X()` &mdash; [Statistical Debugging (Training Classifiers)](StatisticalDebugger.ipynb#Training-Classifiers)\n"
   ]
  },
  {
   "cell_type": "markdown",
   "metadata": {},
   "source": [
    "### Y\n",
    "\n",
    "* `Y()` &mdash; [Statistical Debugging (Training Classifiers)](StatisticalDebugger.ipynb#Training-Classifiers)\n"
   ]
  },
  {
   "cell_type": "markdown",
   "metadata": {},
   "source": [
    "### Z\n",
    "\n",
    "* `ZeroOrMore()` &mdash; [Railroad Diagrams (Excursion: Railroad diagrams implementation)](RailroadDiagrams.ipynb#Excursion:-Railroad-diagrams-implementation)\n"
   ]
  }
 ],
 "metadata": {
  "kernelspec": {
   "display_name": "Python 3",
   "language": "python",
   "name": "python3"
  },
  "language_info": {
   "codemirror_mode": {
    "name": "ipython",
    "version": 3
   },
   "file_extension": ".py",
   "mimetype": "text/x-python",
   "name": "python",
   "nbconvert_exporter": "python",
   "pygments_lexer": "ipython3",
   "version": "3.6.6"
  },
  "toc-autonumbering": false
 },
 "nbformat": 4,
 "nbformat_minor": 4
}