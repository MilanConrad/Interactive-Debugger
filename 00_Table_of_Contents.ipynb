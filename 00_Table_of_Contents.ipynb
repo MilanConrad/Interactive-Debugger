{
 "cells": [
  {
   "cell_type": "markdown",
   "metadata": {},
   "source": [
    "# The Debugging Book"
   ]
  },
  {
   "cell_type": "markdown",
   "metadata": {},
   "source": [
    "## Sitemap\n",
    "This sitemap shows possible paths through the book chapters.  An arrow $A \\rightarrow B$ means that chapter $A$ is a prerequisite for chapter $B$."
   ]
  },
  {
   "cell_type": "code",
   "execution_count": 1,
   "metadata": {},
   "outputs": [],
   "source": [
    "from IPython.display import SVG"
   ]
  },
  {
   "cell_type": "code",
   "execution_count": 2,
   "metadata": {},
   "outputs": [
    {
     "data": {
      "image/svg+xml": [
       "<svg height=\"188pt\" viewBox=\"0.00 0.00 325.50 188.00\" width=\"326pt\" xmlns=\"http://www.w3.org/2000/svg\" xmlns:xlink=\"http://www.w3.org/1999/xlink\">\n",
       "<g class=\"graph\" id=\"graph0\" transform=\"scale(1 1) rotate(0) translate(4 184)\">\n",
       "<title>%3</title>\n",
       "<polygon fill=\"#ffffff\" points=\"-4,4 -4,-184 321.5,-184 321.5,4 -4,4\" stroke=\"transparent\"/>\n",
       "<!-- Tracer -->\n",
       "<g class=\"node\" id=\"node1\">\n",
       "<title>Tracer</title>\n",
       "<g id=\"a_node1\"><a xlink:href=\"Tracer.ipynb\" xlink:title=\"Tracer\">\n",
       "<polygon fill=\"#ffffff\" points=\"220.5,-108 92.5,-108 92.5,-72 226.5,-72 226.5,-102 220.5,-108\" stroke=\"#000000\"/>\n",
       "<polyline fill=\"none\" points=\"220.5,-108 220.5,-102 \" stroke=\"#000000\"/>\n",
       "<polyline fill=\"none\" points=\"226.5,-102 220.5,-102 \" stroke=\"#000000\"/>\n",
       "<text fill=\"#b03a2e\" font-family=\"Patua One\" font-size=\"14.00\" text-anchor=\"middle\" x=\"159.5\" y=\"-86.3\">Tracing Executions</text>\n",
       "</a>\n",
       "</g>\n",
       "</g>\n",
       "<!-- Debugger -->\n",
       "<g class=\"node\" id=\"node2\">\n",
       "<title>Debugger</title>\n",
       "<g id=\"a_node2\"><a xlink:href=\"Debugger.ipynb\" xlink:title=\"Debugger\">\n",
       "<polygon fill=\"#ffffff\" points=\"145,-36 0,-36 0,0 151,0 151,-30 145,-36\" stroke=\"#000000\"/>\n",
       "<polyline fill=\"none\" points=\"145,-36 145,-30 \" stroke=\"#000000\"/>\n",
       "<polyline fill=\"none\" points=\"151,-30 145,-30 \" stroke=\"#000000\"/>\n",
       "<text fill=\"#b03a2e\" font-family=\"Patua One\" font-size=\"14.00\" text-anchor=\"middle\" x=\"75.5\" y=\"-14.3\">How Debuggers Work</text>\n",
       "</a>\n",
       "</g>\n",
       "</g>\n",
       "<!-- Tracer&#45;&gt;Debugger -->\n",
       "<g class=\"edge\" id=\"edge1\">\n",
       "<title>Tracer-&gt;Debugger</title>\n",
       "<path d=\"M138.3033,-71.8314C128.0566,-63.0485 115.5997,-52.3712 104.4903,-42.8489\" fill=\"none\" stroke=\"#000000\"/>\n",
       "<polygon fill=\"#000000\" points=\"106.5603,-40.0134 96.69,-36.1628 102.0048,-45.3282 106.5603,-40.0134\" stroke=\"#000000\"/>\n",
       "</g>\n",
       "<!-- StatisticalDebugger -->\n",
       "<g class=\"node\" id=\"node3\">\n",
       "<title>StatisticalDebugger</title>\n",
       "<g id=\"a_node3\"><a xlink:href=\"StatisticalDebugger.ipynb\" xlink:title=\"StatisticalDebugger\">\n",
       "<polygon fill=\"#ffffff\" points=\"311.5,-36 169.5,-36 169.5,0 317.5,0 317.5,-30 311.5,-36\" stroke=\"#000000\"/>\n",
       "<polyline fill=\"none\" points=\"311.5,-36 311.5,-30 \" stroke=\"#000000\"/>\n",
       "<polyline fill=\"none\" points=\"317.5,-30 311.5,-30 \" stroke=\"#000000\"/>\n",
       "<text fill=\"#b03a2e\" font-family=\"Patua One\" font-size=\"14.00\" text-anchor=\"middle\" x=\"243.5\" y=\"-14.3\">Statistical Debugging</text>\n",
       "</a>\n",
       "</g>\n",
       "</g>\n",
       "<!-- Tracer&#45;&gt;StatisticalDebugger -->\n",
       "<g class=\"edge\" id=\"edge2\">\n",
       "<title>Tracer-&gt;StatisticalDebugger</title>\n",
       "<path d=\"M180.6967,-71.8314C190.9434,-63.0485 203.4003,-52.3712 214.5097,-42.8489\" fill=\"none\" stroke=\"#000000\"/>\n",
       "<polygon fill=\"#000000\" points=\"216.9952,-45.3282 222.31,-36.1628 212.4397,-40.0134 216.9952,-45.3282\" stroke=\"#000000\"/>\n",
       "</g>\n",
       "<!-- Intro_Debugging -->\n",
       "<g class=\"node\" id=\"node4\">\n",
       "<title>Intro_Debugging</title>\n",
       "<g id=\"a_node4\"><a xlink:href=\"Intro_Debugging.ipynb\" xlink:title=\"Intro_Debugging\">\n",
       "<polygon fill=\"#ffffff\" points=\"243.5,-180 69.5,-180 69.5,-144 249.5,-144 249.5,-174 243.5,-180\" stroke=\"#000000\"/>\n",
       "<polyline fill=\"none\" points=\"243.5,-180 243.5,-174 \" stroke=\"#000000\"/>\n",
       "<polyline fill=\"none\" points=\"249.5,-174 243.5,-174 \" stroke=\"#000000\"/>\n",
       "<text fill=\"#b03a2e\" font-family=\"Patua One\" font-size=\"14.00\" text-anchor=\"middle\" x=\"159.5\" y=\"-158.3\">Introduction to Debugging</text>\n",
       "</a>\n",
       "</g>\n",
       "</g>\n",
       "<!-- Intro_Debugging&#45;&gt;Tracer -->\n",
       "<g class=\"edge\" id=\"edge3\">\n",
       "<title>Intro_Debugging-&gt;Tracer</title>\n",
       "<path d=\"M159.5,-143.8314C159.5,-136.131 159.5,-126.9743 159.5,-118.4166\" fill=\"none\" stroke=\"#000000\"/>\n",
       "<polygon fill=\"#000000\" points=\"163.0001,-118.4132 159.5,-108.4133 156.0001,-118.4133 163.0001,-118.4132\" stroke=\"#000000\"/>\n",
       "</g>\n",
       "</g>\n",
       "</svg>"
      ],
      "text/plain": [
       "<IPython.core.display.SVG object>"
      ]
     },
     "execution_count": 2,
     "metadata": {},
     "output_type": "execute_result"
    }
   ],
   "source": [
    "SVG(filename='PICS/Sitemap.svg')"
   ]
  },
  {
   "cell_type": "markdown",
   "metadata": {},
   "source": [
    "## [Table of Contents](index.ipynb)\n",
    "\n",
    "\n",
    "### [Part I: Whetting Your Appetite](01_Intro.ipynb)\n",
    "\n",
    "* [Tours through the Book](Tours.ipynb)\n",
    "* [Introduction to Debugging](Intro_Debugging.ipynb)\n",
    "\n",
    "### [Part III: Observing Executions](03_Observing.ipynb)\n",
    "\n",
    "* [Tracing Executions](Tracer.ipynb)\n",
    "* [How Debuggers Work](Debugger.ipynb)\n",
    "* [Statistical Debugging](StatisticalDebugger.ipynb)\n",
    "\n",
    "### [Appendices](99_Appendices.ipynb)\n",
    "\n",
    "* [Error Handling](ExpectError.ipynb)\n",
    "* [Timer](Timer.ipynb)\n",
    "* [Class Diagrams](ClassDiagram.ipynb)\n",
    "* [Control Flow Graph](ControlFlow.ipynb)\n",
    "* [Railroad Diagrams](RailroadDiagrams.ipynb)\n"
   ]
  }
 ],
 "metadata": {
  "ipub": {
   "bibliography": "fuzzingbook.bib"
  },
  "kernelspec": {
   "display_name": "Python 3",
   "language": "python",
   "name": "python3"
  },
  "language_info": {
   "codemirror_mode": {
    "name": "ipython",
    "version": 3
   },
   "file_extension": ".py",
   "mimetype": "text/x-python",
   "name": "python",
   "nbconvert_exporter": "python",
   "pygments_lexer": "ipython3",
   "version": "3.6.10"
  },
  "toc": {
   "base_numbering": 1,
   "nav_menu": {},
   "number_sections": true,
   "sideBar": true,
   "skip_h1_title": true,
   "title_cell": "",
   "title_sidebar": "Contents",
   "toc_cell": false,
   "toc_position": {},
   "toc_section_display": true,
   "toc_window_display": true
  },
  "toc-autonumbering": false
 },
 "nbformat": 4,
 "nbformat_minor": 4
}
