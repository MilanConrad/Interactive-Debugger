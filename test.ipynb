{
 "cells": [
  {
   "cell_type": "code",
   "execution_count": 8,
   "metadata": {},
   "outputs": [],
   "source": [
    "import sys\n",
    "import bookutils\n",
    "import ipywidgets as widgets"
   ]
  },
  {
   "cell_type": "code",
   "execution_count": 9,
   "metadata": {
    "pycharm": {
     "name": "#%%\n"
    }
   },
   "outputs": [],
   "source": [
    "from Tracer import Tracer"
   ]
  },
  {
   "cell_type": "code",
   "execution_count": 10,
   "outputs": [],
   "source": [
    "class State():\n",
    "    def __init__(self,lineno,code,changedVars,callStack):\n",
    "        self.lineno = lineno\n",
    "        self.code = code\n",
    "        self.changedVars = changedVars\n",
    "        self.callStack = callStack\n",
    "\n",
    "    def __str__(self):\n",
    "        return str(self.lineno) + '   '+ repr(self.code) + '   '+ repr(self.changedVars)"
   ],
   "metadata": {
    "collapsed": false,
    "pycharm": {
     "name": "#%%\n"
    }
   }
  },
  {
   "cell_type": "code",
   "execution_count": 11,
   "metadata": {
    "pycharm": {
     "name": "#%%\n"
    }
   },
   "outputs": [],
   "source": [
    "def remove_html_markup(s):\n",
    "    tag = False\n",
    "    quote = False\n",
    "    out = \"\"\n",
    "\n",
    "    for c in s:\n",
    "        if c == '<' and not quote:\n",
    "            tag = True\n",
    "        elif c == '>' and not quote:\n",
    "            tag = False\n",
    "        elif c == '\"' or c == \"'\" and tag:\n",
    "            quote = not quote\n",
    "        elif not tag:\n",
    "            out = out + c\n",
    "\n",
    "    return out"
   ]
  },
  {
   "cell_type": "code",
   "execution_count": 12,
   "metadata": {
    "pycharm": {
     "name": "#%%\n"
    }
   },
   "outputs": [],
   "source": [
    "class Tracer(object):\n",
    "    def __init__(self, file=sys.stdout):\n",
    "        \"\"\"Trace a block of code, sending logs to file (default: stdout)\"\"\"\n",
    "        self.original_trace_function = None\n",
    "        self.file = file\n",
    "        self.log_dict =[]\n",
    "        pass\n",
    "\n",
    "    def log(self, *objects, sep=' ', end='\\n', flush=False):\n",
    "        \"\"\"Like print(), but always sending to file given at initialization,\n",
    "           and always flushing\"\"\"\n",
    "        # print(*objects, sep=sep, end=end, file=self.file, flush=True)\n",
    "        # self.logger = self.logger + \"\\n\" + \" \".join(objects)\n",
    "\n",
    "        current_state = State(objects[1],objects[2],objects[3],None)\n",
    "        self.log_dict.append(current_state)\n",
    "\n",
    "\n",
    "    def traceit(self, frame, event, arg):\n",
    "        \"\"\"Tracing function. To be overridden in subclasses.\"\"\"\n",
    "        self.log(event, frame.f_lineno, frame.f_code.co_name, frame.f_locals)\n",
    "\n",
    "    def _traceit(self, frame, event, arg):\n",
    "        \"\"\"Internal tracing function.\"\"\"\n",
    "        if frame.f_code.co_name == '__exit__':\n",
    "            # Do not trace our own __exit__() method\n",
    "            pass\n",
    "        else:\n",
    "            self.traceit(frame, event, arg)\n",
    "        return self._traceit\n",
    "\n",
    "    def __enter__(self):\n",
    "        \"\"\"Called at begin of `with` block. Turn tracing on.\"\"\"\n",
    "        self.original_trace_function = sys.gettrace()\n",
    "        sys.settrace(self._traceit)\n",
    "        return self\n",
    "\n",
    "    def __exit__(self, tp, value, traceback):\n",
    "        \"\"\"Called at begin of `with` block. Turn tracing off.\"\"\"\n",
    "        sys.settrace(self.original_trace_function)\n",
    "        self.get_log()\n",
    "\n",
    "    def get_log(self):\n",
    "        index = 0\n",
    "        for log in self.log_dict:\n",
    "            print('Log Entry: ' + str(index))\n",
    "            index = index + 1\n",
    "            print(log)"
   ]
  },
  {
   "cell_type": "code",
   "execution_count": 13,
   "outputs": [
    {
     "data": {
      "text/plain": "AppLayout(children=(HBox(children=(Play(value=0, description='Press play'), IntSlider(value=0)), layout=Layout…",
      "application/vnd.jupyter.widget-view+json": {
       "version_major": 2,
       "version_minor": 0,
       "model_id": "bec4612b65ac47e6bd49178d228cf191"
      }
     },
     "metadata": {},
     "output_type": "display_data"
    }
   ],
   "source": [
    "play = widgets.Play(\n",
    "#     interval=10,\n",
    "    value=0,\n",
    "    min=0,\n",
    "    max=100,\n",
    "    step=1,\n",
    "    description=\"Press play\",\n",
    "    disabled=False\n",
    ")\n",
    "slider = widgets.IntSlider()\n",
    "widgets.jslink((play, 'value'), (slider, 'value'))\n",
    "tester = widgets.HBox([play, slider])\n",
    "\n",
    "def create_expanded_button(description, button_style):\n",
    "    return widgets.Button(description=description, button_style=button_style, layout=widgets.Layout(height='auto', width='auto'))\n",
    "\n",
    "top_left_button = create_expanded_button(\"Top left\", 'info')\n",
    "top_right_button = create_expanded_button(\"Top right\", 'success')\n",
    "bottom_left_button = create_expanded_button(\"Bottom left\", 'danger')\n",
    "bottom_right_button = create_expanded_button(\"Bottom right\", 'warning')\n",
    "\n",
    "top_left_text = widgets.IntText(description='Top left', layout=widgets.Layout(width='auto', height='auto'))\n",
    "top_right_text = widgets.IntText(description='Top right', layout=widgets.Layout(width='auto', height='auto'))\n",
    "bottom_left_slider = widgets.IntSlider(description='Bottom left', layout=widgets.Layout(width='auto', height='auto'))\n",
    "bottom_right_slider = widgets.IntSlider(description='Bottom right', layout=widgets.Layout(width='auto', height='auto'))\n",
    "\n",
    "header_button = create_expanded_button('Header', 'success')\n",
    "left_button = create_expanded_button('Left', 'info')\n",
    "center_button = create_expanded_button('Center', 'warning')\n",
    "right_button = create_expanded_button('Right', 'info')\n",
    "footer_button = create_expanded_button('Footer', 'success')\n",
    "\n",
    "widgets.AppLayout(header=tester,\n",
    "          center=center_button,\n",
    "          right_sidebar=right_button,\n",
    "          pane_widths=[2, 0.5, 1],\n",
    "          pane_heights=[1, 17, 1])\n"
   ],
   "metadata": {
    "collapsed": false,
    "pycharm": {
     "name": "#%%\n"
    }
   }
  },
  {
   "cell_type": "code",
   "execution_count": 14,
   "metadata": {
    "pycharm": {
     "name": "#%%\n"
    }
   },
   "outputs": [
    {
     "name": "stdout",
     "output_type": "stream",
     "text": [
      "Log Entry: 0\n",
      "1   'remove_html_markup'   {'s': '<b>bold</b>', 'tag': False, 'quote': False, 'out': 'bold', 'c': '>'}\n",
      "Log Entry: 1\n",
      "2   'remove_html_markup'   {'s': '<b>bold</b>', 'tag': False, 'quote': False, 'out': 'bold', 'c': '>'}\n",
      "Log Entry: 2\n",
      "3   'remove_html_markup'   {'s': '<b>bold</b>', 'tag': False, 'quote': False, 'out': 'bold', 'c': '>'}\n",
      "Log Entry: 3\n",
      "4   'remove_html_markup'   {'s': '<b>bold</b>', 'tag': False, 'quote': False, 'out': 'bold', 'c': '>'}\n",
      "Log Entry: 4\n",
      "6   'remove_html_markup'   {'s': '<b>bold</b>', 'tag': False, 'quote': False, 'out': 'bold', 'c': '>'}\n",
      "Log Entry: 5\n",
      "7   'remove_html_markup'   {'s': '<b>bold</b>', 'tag': False, 'quote': False, 'out': 'bold', 'c': '>'}\n",
      "Log Entry: 6\n",
      "8   'remove_html_markup'   {'s': '<b>bold</b>', 'tag': False, 'quote': False, 'out': 'bold', 'c': '>'}\n",
      "Log Entry: 7\n",
      "6   'remove_html_markup'   {'s': '<b>bold</b>', 'tag': False, 'quote': False, 'out': 'bold', 'c': '>'}\n",
      "Log Entry: 8\n",
      "7   'remove_html_markup'   {'s': '<b>bold</b>', 'tag': False, 'quote': False, 'out': 'bold', 'c': '>'}\n",
      "Log Entry: 9\n",
      "9   'remove_html_markup'   {'s': '<b>bold</b>', 'tag': False, 'quote': False, 'out': 'bold', 'c': '>'}\n",
      "Log Entry: 10\n",
      "11   'remove_html_markup'   {'s': '<b>bold</b>', 'tag': False, 'quote': False, 'out': 'bold', 'c': '>'}\n",
      "Log Entry: 11\n",
      "13   'remove_html_markup'   {'s': '<b>bold</b>', 'tag': False, 'quote': False, 'out': 'bold', 'c': '>'}\n",
      "Log Entry: 12\n",
      "6   'remove_html_markup'   {'s': '<b>bold</b>', 'tag': False, 'quote': False, 'out': 'bold', 'c': '>'}\n",
      "Log Entry: 13\n",
      "7   'remove_html_markup'   {'s': '<b>bold</b>', 'tag': False, 'quote': False, 'out': 'bold', 'c': '>'}\n",
      "Log Entry: 14\n",
      "9   'remove_html_markup'   {'s': '<b>bold</b>', 'tag': False, 'quote': False, 'out': 'bold', 'c': '>'}\n",
      "Log Entry: 15\n",
      "10   'remove_html_markup'   {'s': '<b>bold</b>', 'tag': False, 'quote': False, 'out': 'bold', 'c': '>'}\n",
      "Log Entry: 16\n",
      "6   'remove_html_markup'   {'s': '<b>bold</b>', 'tag': False, 'quote': False, 'out': 'bold', 'c': '>'}\n",
      "Log Entry: 17\n",
      "7   'remove_html_markup'   {'s': '<b>bold</b>', 'tag': False, 'quote': False, 'out': 'bold', 'c': '>'}\n",
      "Log Entry: 18\n",
      "9   'remove_html_markup'   {'s': '<b>bold</b>', 'tag': False, 'quote': False, 'out': 'bold', 'c': '>'}\n",
      "Log Entry: 19\n",
      "11   'remove_html_markup'   {'s': '<b>bold</b>', 'tag': False, 'quote': False, 'out': 'bold', 'c': '>'}\n",
      "Log Entry: 20\n",
      "13   'remove_html_markup'   {'s': '<b>bold</b>', 'tag': False, 'quote': False, 'out': 'bold', 'c': '>'}\n",
      "Log Entry: 21\n",
      "14   'remove_html_markup'   {'s': '<b>bold</b>', 'tag': False, 'quote': False, 'out': 'bold', 'c': '>'}\n",
      "Log Entry: 22\n",
      "6   'remove_html_markup'   {'s': '<b>bold</b>', 'tag': False, 'quote': False, 'out': 'bold', 'c': '>'}\n",
      "Log Entry: 23\n",
      "7   'remove_html_markup'   {'s': '<b>bold</b>', 'tag': False, 'quote': False, 'out': 'bold', 'c': '>'}\n",
      "Log Entry: 24\n",
      "9   'remove_html_markup'   {'s': '<b>bold</b>', 'tag': False, 'quote': False, 'out': 'bold', 'c': '>'}\n",
      "Log Entry: 25\n",
      "11   'remove_html_markup'   {'s': '<b>bold</b>', 'tag': False, 'quote': False, 'out': 'bold', 'c': '>'}\n",
      "Log Entry: 26\n",
      "13   'remove_html_markup'   {'s': '<b>bold</b>', 'tag': False, 'quote': False, 'out': 'bold', 'c': '>'}\n",
      "Log Entry: 27\n",
      "14   'remove_html_markup'   {'s': '<b>bold</b>', 'tag': False, 'quote': False, 'out': 'bold', 'c': '>'}\n",
      "Log Entry: 28\n",
      "6   'remove_html_markup'   {'s': '<b>bold</b>', 'tag': False, 'quote': False, 'out': 'bold', 'c': '>'}\n",
      "Log Entry: 29\n",
      "7   'remove_html_markup'   {'s': '<b>bold</b>', 'tag': False, 'quote': False, 'out': 'bold', 'c': '>'}\n",
      "Log Entry: 30\n",
      "9   'remove_html_markup'   {'s': '<b>bold</b>', 'tag': False, 'quote': False, 'out': 'bold', 'c': '>'}\n",
      "Log Entry: 31\n",
      "11   'remove_html_markup'   {'s': '<b>bold</b>', 'tag': False, 'quote': False, 'out': 'bold', 'c': '>'}\n",
      "Log Entry: 32\n",
      "13   'remove_html_markup'   {'s': '<b>bold</b>', 'tag': False, 'quote': False, 'out': 'bold', 'c': '>'}\n",
      "Log Entry: 33\n",
      "14   'remove_html_markup'   {'s': '<b>bold</b>', 'tag': False, 'quote': False, 'out': 'bold', 'c': '>'}\n",
      "Log Entry: 34\n",
      "6   'remove_html_markup'   {'s': '<b>bold</b>', 'tag': False, 'quote': False, 'out': 'bold', 'c': '>'}\n",
      "Log Entry: 35\n",
      "7   'remove_html_markup'   {'s': '<b>bold</b>', 'tag': False, 'quote': False, 'out': 'bold', 'c': '>'}\n",
      "Log Entry: 36\n",
      "9   'remove_html_markup'   {'s': '<b>bold</b>', 'tag': False, 'quote': False, 'out': 'bold', 'c': '>'}\n",
      "Log Entry: 37\n",
      "11   'remove_html_markup'   {'s': '<b>bold</b>', 'tag': False, 'quote': False, 'out': 'bold', 'c': '>'}\n",
      "Log Entry: 38\n",
      "13   'remove_html_markup'   {'s': '<b>bold</b>', 'tag': False, 'quote': False, 'out': 'bold', 'c': '>'}\n",
      "Log Entry: 39\n",
      "14   'remove_html_markup'   {'s': '<b>bold</b>', 'tag': False, 'quote': False, 'out': 'bold', 'c': '>'}\n",
      "Log Entry: 40\n",
      "6   'remove_html_markup'   {'s': '<b>bold</b>', 'tag': False, 'quote': False, 'out': 'bold', 'c': '>'}\n",
      "Log Entry: 41\n",
      "7   'remove_html_markup'   {'s': '<b>bold</b>', 'tag': False, 'quote': False, 'out': 'bold', 'c': '>'}\n",
      "Log Entry: 42\n",
      "8   'remove_html_markup'   {'s': '<b>bold</b>', 'tag': False, 'quote': False, 'out': 'bold', 'c': '>'}\n",
      "Log Entry: 43\n",
      "6   'remove_html_markup'   {'s': '<b>bold</b>', 'tag': False, 'quote': False, 'out': 'bold', 'c': '>'}\n",
      "Log Entry: 44\n",
      "7   'remove_html_markup'   {'s': '<b>bold</b>', 'tag': False, 'quote': False, 'out': 'bold', 'c': '>'}\n",
      "Log Entry: 45\n",
      "9   'remove_html_markup'   {'s': '<b>bold</b>', 'tag': False, 'quote': False, 'out': 'bold', 'c': '>'}\n",
      "Log Entry: 46\n",
      "11   'remove_html_markup'   {'s': '<b>bold</b>', 'tag': False, 'quote': False, 'out': 'bold', 'c': '>'}\n",
      "Log Entry: 47\n",
      "13   'remove_html_markup'   {'s': '<b>bold</b>', 'tag': False, 'quote': False, 'out': 'bold', 'c': '>'}\n",
      "Log Entry: 48\n",
      "6   'remove_html_markup'   {'s': '<b>bold</b>', 'tag': False, 'quote': False, 'out': 'bold', 'c': '>'}\n",
      "Log Entry: 49\n",
      "7   'remove_html_markup'   {'s': '<b>bold</b>', 'tag': False, 'quote': False, 'out': 'bold', 'c': '>'}\n",
      "Log Entry: 50\n",
      "9   'remove_html_markup'   {'s': '<b>bold</b>', 'tag': False, 'quote': False, 'out': 'bold', 'c': '>'}\n",
      "Log Entry: 51\n",
      "11   'remove_html_markup'   {'s': '<b>bold</b>', 'tag': False, 'quote': False, 'out': 'bold', 'c': '>'}\n",
      "Log Entry: 52\n",
      "13   'remove_html_markup'   {'s': '<b>bold</b>', 'tag': False, 'quote': False, 'out': 'bold', 'c': '>'}\n",
      "Log Entry: 53\n",
      "6   'remove_html_markup'   {'s': '<b>bold</b>', 'tag': False, 'quote': False, 'out': 'bold', 'c': '>'}\n",
      "Log Entry: 54\n",
      "7   'remove_html_markup'   {'s': '<b>bold</b>', 'tag': False, 'quote': False, 'out': 'bold', 'c': '>'}\n",
      "Log Entry: 55\n",
      "9   'remove_html_markup'   {'s': '<b>bold</b>', 'tag': False, 'quote': False, 'out': 'bold', 'c': '>'}\n",
      "Log Entry: 56\n",
      "10   'remove_html_markup'   {'s': '<b>bold</b>', 'tag': False, 'quote': False, 'out': 'bold', 'c': '>'}\n",
      "Log Entry: 57\n",
      "6   'remove_html_markup'   {'s': '<b>bold</b>', 'tag': False, 'quote': False, 'out': 'bold', 'c': '>'}\n",
      "Log Entry: 58\n",
      "16   'remove_html_markup'   {'s': '<b>bold</b>', 'tag': False, 'quote': False, 'out': 'bold', 'c': '>'}\n",
      "Log Entry: 59\n",
      "16   'remove_html_markup'   {'s': '<b>bold</b>', 'tag': False, 'quote': False, 'out': 'bold', 'c': '>'}\n"
     ]
    }
   ],
   "source": [
    "with Tracer():\n",
    "    remove_html_markup(\"<b>bold</b>\")\n",
    "\n",
    "\n"
   ]
  },
  {
   "cell_type": "code",
   "execution_count": 14,
   "outputs": [],
   "source": [],
   "metadata": {
    "collapsed": false,
    "pycharm": {
     "name": "#%%\n"
    }
   }
  },
  {
   "cell_type": "code",
   "execution_count": 14,
   "outputs": [],
   "source": [],
   "metadata": {
    "collapsed": false,
    "pycharm": {
     "name": "#%%\n"
    }
   }
  }
 ],
 "metadata": {
  "kernelspec": {
   "display_name": "Python 3",
   "language": "python",
   "name": "python3"
  },
  "language_info": {
   "codemirror_mode": {
    "name": "ipython",
    "version": 3
   },
   "file_extension": ".py",
   "mimetype": "text/x-python",
   "name": "python",
   "nbconvert_exporter": "python",
   "pygments_lexer": "ipython3",
   "version": "3.8.6"
  }
 },
 "nbformat": 4,
 "nbformat_minor": 1
}