{
 "cells": [
  {
   "cell_type": "code",
   "execution_count": 11,
   "metadata": {},
   "outputs": [],
   "source": [
    "import sys\n",
    "import bookutils"
   ]
  },
  {
   "cell_type": "code",
   "execution_count": 12,
   "metadata": {
    "pycharm": {
     "name": "#%%\n"
    }
   },
   "outputs": [],
   "source": [
    "from Tracer import Tracer"
   ]
  },
  {
   "cell_type": "code",
   "execution_count": 13,
   "metadata": {
    "pycharm": {
     "name": "#%%\n"
    }
   },
   "outputs": [],
   "source": [
    "def remove_html_markup(s):\n",
    "    tag = False\n",
    "    quote = False\n",
    "    out = \"\"\n",
    "\n",
    "    for c in s:\n",
    "        if c == '<' and not quote:\n",
    "            tag = True\n",
    "        elif c == '>' and not quote:\n",
    "            tag = False\n",
    "        elif c == '\"' or c == \"'\" and tag:\n",
    "            quote = not quote\n",
    "        elif not tag:\n",
    "            out = out + c\n",
    "\n",
    "    return out"
   ]
  },
  {
   "cell_type": "code",
   "execution_count": 14,
   "metadata": {
    "pycharm": {
     "name": "#%%\n"
    }
   },
   "outputs": [],
   "source": [
    "class Tracer(object):\n",
    "    def __init__(self, file=sys.stdout):\n",
    "        \"\"\"Trace a block of code, sending logs to file (default: stdout)\"\"\"\n",
    "        self.original_trace_function = None\n",
    "        self.file = file\n",
    "        self.log_dict ={}\n",
    "        self.step=0\n",
    "\n",
    "        pass\n",
    "\n",
    "    def log(self, *objects, sep=' ', end='\\n', flush=False):\n",
    "        \"\"\"Like print(), but always sending to file given at initialization,\n",
    "           and always flushing\"\"\"\n",
    "        # print(*objects, sep=sep, end=end, file=self.file, flush=True)\n",
    "        # self.logger = self.logger + \"\\n\" + \" \".join(objects)\n",
    "        current_step=\"\"\n",
    "        for o in objects:\n",
    "            current_step += repr(o)\n",
    "        self.log_dict[self.step] = current_step\n",
    "        self.step += 1\n",
    "\n",
    "    def traceit(self, frame, event, arg):\n",
    "        \"\"\"Tracing function. To be overridden in subclasses.\"\"\"\n",
    "        self.log(event, frame.f_lineno, frame.f_code.co_name, frame.f_locals)\n",
    "\n",
    "    def _traceit(self, frame, event, arg):\n",
    "        \"\"\"Internal tracing function.\"\"\"\n",
    "        if frame.f_code.co_name == '__exit__':\n",
    "            # Do not trace our own __exit__() method\n",
    "            pass\n",
    "        else:\n",
    "            self.traceit(frame, event, arg)\n",
    "        return self._traceit\n",
    "\n",
    "    def __enter__(self):\n",
    "        \"\"\"Called at begin of `with` block. Turn tracing on.\"\"\"\n",
    "        self.original_trace_function = sys.gettrace()\n",
    "        sys.settrace(self._traceit)\n",
    "        return self\n",
    "\n",
    "    def __exit__(self, tp, value, traceback):\n",
    "        \"\"\"Called at begin of `with` block. Turn tracing off.\"\"\"\n",
    "        sys.settrace(self.original_trace_function)\n",
    "        self.get_log()\n",
    "\n",
    "    def get_log(self):\n",
    "        print(self.log_dict)"
   ]
  },
  {
   "cell_type": "code",
   "execution_count": 15,
   "metadata": {
    "pycharm": {
     "name": "#%%\n"
    }
   },
   "outputs": [
    {
     "name": "stdout",
     "output_type": "stream",
     "text": [
      "{0: \"'call'1'remove_html_markup'{'s': '<b>bold</b>'}\", 1: \"'line'2'remove_html_markup'{'s': '<b>bold</b>'}\", 2: \"'line'3'remove_html_markup'{'s': '<b>bold</b>', 'tag': False}\", 3: \"'line'4'remove_html_markup'{'s': '<b>bold</b>', 'tag': False, 'quote': False}\", 4: \"'line'6'remove_html_markup'{'s': '<b>bold</b>', 'tag': False, 'quote': False, 'out': ''}\", 5: \"'line'7'remove_html_markup'{'s': '<b>bold</b>', 'tag': False, 'quote': False, 'out': '', 'c': '<'}\", 6: \"'line'8'remove_html_markup'{'s': '<b>bold</b>', 'tag': False, 'quote': False, 'out': '', 'c': '<'}\", 7: \"'line'6'remove_html_markup'{'s': '<b>bold</b>', 'tag': True, 'quote': False, 'out': '', 'c': '<'}\", 8: \"'line'7'remove_html_markup'{'s': '<b>bold</b>', 'tag': True, 'quote': False, 'out': '', 'c': 'b'}\", 9: \"'line'9'remove_html_markup'{'s': '<b>bold</b>', 'tag': True, 'quote': False, 'out': '', 'c': 'b'}\", 10: \"'line'11'remove_html_markup'{'s': '<b>bold</b>', 'tag': True, 'quote': False, 'out': '', 'c': 'b'}\", 11: \"'line'13'remove_html_markup'{'s': '<b>bold</b>', 'tag': True, 'quote': False, 'out': '', 'c': 'b'}\", 12: \"'line'6'remove_html_markup'{'s': '<b>bold</b>', 'tag': True, 'quote': False, 'out': '', 'c': 'b'}\", 13: \"'line'7'remove_html_markup'{'s': '<b>bold</b>', 'tag': True, 'quote': False, 'out': '', 'c': '>'}\", 14: \"'line'9'remove_html_markup'{'s': '<b>bold</b>', 'tag': True, 'quote': False, 'out': '', 'c': '>'}\", 15: \"'line'10'remove_html_markup'{'s': '<b>bold</b>', 'tag': True, 'quote': False, 'out': '', 'c': '>'}\", 16: \"'line'6'remove_html_markup'{'s': '<b>bold</b>', 'tag': False, 'quote': False, 'out': '', 'c': '>'}\", 17: \"'line'7'remove_html_markup'{'s': '<b>bold</b>', 'tag': False, 'quote': False, 'out': '', 'c': 'b'}\", 18: \"'line'9'remove_html_markup'{'s': '<b>bold</b>', 'tag': False, 'quote': False, 'out': '', 'c': 'b'}\", 19: \"'line'11'remove_html_markup'{'s': '<b>bold</b>', 'tag': False, 'quote': False, 'out': '', 'c': 'b'}\", 20: \"'line'13'remove_html_markup'{'s': '<b>bold</b>', 'tag': False, 'quote': False, 'out': '', 'c': 'b'}\", 21: \"'line'14'remove_html_markup'{'s': '<b>bold</b>', 'tag': False, 'quote': False, 'out': '', 'c': 'b'}\", 22: \"'line'6'remove_html_markup'{'s': '<b>bold</b>', 'tag': False, 'quote': False, 'out': 'b', 'c': 'b'}\", 23: \"'line'7'remove_html_markup'{'s': '<b>bold</b>', 'tag': False, 'quote': False, 'out': 'b', 'c': 'o'}\", 24: \"'line'9'remove_html_markup'{'s': '<b>bold</b>', 'tag': False, 'quote': False, 'out': 'b', 'c': 'o'}\", 25: \"'line'11'remove_html_markup'{'s': '<b>bold</b>', 'tag': False, 'quote': False, 'out': 'b', 'c': 'o'}\", 26: \"'line'13'remove_html_markup'{'s': '<b>bold</b>', 'tag': False, 'quote': False, 'out': 'b', 'c': 'o'}\", 27: \"'line'14'remove_html_markup'{'s': '<b>bold</b>', 'tag': False, 'quote': False, 'out': 'b', 'c': 'o'}\", 28: \"'line'6'remove_html_markup'{'s': '<b>bold</b>', 'tag': False, 'quote': False, 'out': 'bo', 'c': 'o'}\", 29: \"'line'7'remove_html_markup'{'s': '<b>bold</b>', 'tag': False, 'quote': False, 'out': 'bo', 'c': 'l'}\", 30: \"'line'9'remove_html_markup'{'s': '<b>bold</b>', 'tag': False, 'quote': False, 'out': 'bo', 'c': 'l'}\", 31: \"'line'11'remove_html_markup'{'s': '<b>bold</b>', 'tag': False, 'quote': False, 'out': 'bo', 'c': 'l'}\", 32: \"'line'13'remove_html_markup'{'s': '<b>bold</b>', 'tag': False, 'quote': False, 'out': 'bo', 'c': 'l'}\", 33: \"'line'14'remove_html_markup'{'s': '<b>bold</b>', 'tag': False, 'quote': False, 'out': 'bo', 'c': 'l'}\", 34: \"'line'6'remove_html_markup'{'s': '<b>bold</b>', 'tag': False, 'quote': False, 'out': 'bol', 'c': 'l'}\", 35: \"'line'7'remove_html_markup'{'s': '<b>bold</b>', 'tag': False, 'quote': False, 'out': 'bol', 'c': 'd'}\", 36: \"'line'9'remove_html_markup'{'s': '<b>bold</b>', 'tag': False, 'quote': False, 'out': 'bol', 'c': 'd'}\", 37: \"'line'11'remove_html_markup'{'s': '<b>bold</b>', 'tag': False, 'quote': False, 'out': 'bol', 'c': 'd'}\", 38: \"'line'13'remove_html_markup'{'s': '<b>bold</b>', 'tag': False, 'quote': False, 'out': 'bol', 'c': 'd'}\", 39: \"'line'14'remove_html_markup'{'s': '<b>bold</b>', 'tag': False, 'quote': False, 'out': 'bol', 'c': 'd'}\", 40: \"'line'6'remove_html_markup'{'s': '<b>bold</b>', 'tag': False, 'quote': False, 'out': 'bold', 'c': 'd'}\", 41: \"'line'7'remove_html_markup'{'s': '<b>bold</b>', 'tag': False, 'quote': False, 'out': 'bold', 'c': '<'}\", 42: \"'line'8'remove_html_markup'{'s': '<b>bold</b>', 'tag': False, 'quote': False, 'out': 'bold', 'c': '<'}\", 43: \"'line'6'remove_html_markup'{'s': '<b>bold</b>', 'tag': True, 'quote': False, 'out': 'bold', 'c': '<'}\", 44: \"'line'7'remove_html_markup'{'s': '<b>bold</b>', 'tag': True, 'quote': False, 'out': 'bold', 'c': '/'}\", 45: \"'line'9'remove_html_markup'{'s': '<b>bold</b>', 'tag': True, 'quote': False, 'out': 'bold', 'c': '/'}\", 46: \"'line'11'remove_html_markup'{'s': '<b>bold</b>', 'tag': True, 'quote': False, 'out': 'bold', 'c': '/'}\", 47: \"'line'13'remove_html_markup'{'s': '<b>bold</b>', 'tag': True, 'quote': False, 'out': 'bold', 'c': '/'}\", 48: \"'line'6'remove_html_markup'{'s': '<b>bold</b>', 'tag': True, 'quote': False, 'out': 'bold', 'c': '/'}\", 49: \"'line'7'remove_html_markup'{'s': '<b>bold</b>', 'tag': True, 'quote': False, 'out': 'bold', 'c': 'b'}\", 50: \"'line'9'remove_html_markup'{'s': '<b>bold</b>', 'tag': True, 'quote': False, 'out': 'bold', 'c': 'b'}\", 51: \"'line'11'remove_html_markup'{'s': '<b>bold</b>', 'tag': True, 'quote': False, 'out': 'bold', 'c': 'b'}\", 52: \"'line'13'remove_html_markup'{'s': '<b>bold</b>', 'tag': True, 'quote': False, 'out': 'bold', 'c': 'b'}\", 53: \"'line'6'remove_html_markup'{'s': '<b>bold</b>', 'tag': True, 'quote': False, 'out': 'bold', 'c': 'b'}\", 54: \"'line'7'remove_html_markup'{'s': '<b>bold</b>', 'tag': True, 'quote': False, 'out': 'bold', 'c': '>'}\", 55: \"'line'9'remove_html_markup'{'s': '<b>bold</b>', 'tag': True, 'quote': False, 'out': 'bold', 'c': '>'}\", 56: \"'line'10'remove_html_markup'{'s': '<b>bold</b>', 'tag': True, 'quote': False, 'out': 'bold', 'c': '>'}\", 57: \"'line'6'remove_html_markup'{'s': '<b>bold</b>', 'tag': False, 'quote': False, 'out': 'bold', 'c': '>'}\", 58: \"'line'16'remove_html_markup'{'s': '<b>bold</b>', 'tag': False, 'quote': False, 'out': 'bold', 'c': '>'}\", 59: \"'return'16'remove_html_markup'{'s': '<b>bold</b>', 'tag': False, 'quote': False, 'out': 'bold', 'c': '>'}\"}\n"
     ]
    }
   ],
   "source": [
    "with Tracer():\n",
    "    remove_html_markup(\"<b>bold</b>\")\n",
    "\n",
    "\n"
   ]
  },
  {
   "cell_type": "code",
   "execution_count": 15,
   "outputs": [],
   "source": [],
   "metadata": {
    "collapsed": false,
    "pycharm": {
     "name": "#%%\n"
    }
   }
  },
  {
   "cell_type": "code",
   "execution_count": 15,
   "metadata": {},
   "outputs": [],
   "source": []
  }
 ],
 "metadata": {
  "kernelspec": {
   "display_name": "Python 3",
   "language": "python",
   "name": "python3"
  },
  "language_info": {
   "codemirror_mode": {
    "name": "ipython",
    "version": 3
   },
   "file_extension": ".py",
   "mimetype": "text/x-python",
   "name": "python",
   "nbconvert_exporter": "python",
   "pygments_lexer": "ipython3",
   "version": "3.8.6"
  }
 },
 "nbformat": 4,
 "nbformat_minor": 1
}