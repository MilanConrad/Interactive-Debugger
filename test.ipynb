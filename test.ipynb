{
 "cells": [
  {
   "cell_type": "code",
   "execution_count": 1,
   "metadata": {},
   "outputs": [],
   "source": [
    "import sys\n",
    "import bookutils"
   ]
  },
  {
   "cell_type": "code",
   "execution_count": 2,
   "metadata": {
    "pycharm": {
     "name": "#%%\n"
    }
   },
   "outputs": [],
   "source": [
    "from Tracer import Tracer"
   ]
  },
  {
   "cell_type": "code",
   "execution_count": 3,
   "outputs": [],
   "source": [
    "class State():\n",
    "    def __init__(self,lineno,code,changedVars,callStack):\n",
    "        self.lineno = lineno\n",
    "        self.code = code\n",
    "        self.changedVars = changedVars\n",
    "        self.callStack = callStack\n",
    "\n",
    "    def __str__(self):\n",
    "        return str(self.lineno) + '   '+ repr(self.code) + '   '+ repr(self.changedVars)"
   ],
   "metadata": {
    "collapsed": false,
    "pycharm": {
     "name": "#%%\n"
    }
   }
  },
  {
   "cell_type": "code",
   "execution_count": 4,
   "metadata": {
    "pycharm": {
     "name": "#%%\n"
    }
   },
   "outputs": [],
   "source": [
    "def remove_html_markup(s):\n",
    "    tag = False\n",
    "    quote = False\n",
    "    out = \"\"\n",
    "\n",
    "    for c in s:\n",
    "        if c == '<' and not quote:\n",
    "            tag = True\n",
    "        elif c == '>' and not quote:\n",
    "            tag = False\n",
    "        elif c == '\"' or c == \"'\" and tag:\n",
    "            quote = not quote\n",
    "        elif not tag:\n",
    "            out = out + c\n",
    "\n",
    "    return out"
   ]
  },
  {
   "cell_type": "code",
   "execution_count": 5,
   "metadata": {
    "pycharm": {
     "name": "#%%\n"
    }
   },
   "outputs": [],
   "source": [
    "class Tracer(object):\n",
    "    def __init__(self, file=sys.stdout):\n",
    "        \"\"\"Trace a block of code, sending logs to file (default: stdout)\"\"\"\n",
    "        self.original_trace_function = None\n",
    "        self.file = file\n",
    "        self.log_dict =[]\n",
    "        pass\n",
    "\n",
    "    def log(self, *objects, sep=' ', end='\\n', flush=False):\n",
    "        \"\"\"Like print(), but always sending to file given at initialization,\n",
    "           and always flushing\"\"\"\n",
    "        # print(*objects, sep=sep, end=end, file=self.file, flush=True)\n",
    "        # self.logger = self.logger + \"\\n\" + \" \".join(objects)\n",
    "\n",
    "        current_state = State(objects[1],objects[2],objects[3],None)\n",
    "        self.log_dict.append(current_state)\n",
    "\n",
    "\n",
    "    def traceit(self, frame, event, arg):\n",
    "        \"\"\"Tracing function. To be overridden in subclasses.\"\"\"\n",
    "        self.log(event, frame.f_lineno, frame.f_code.co_name, frame.f_locals)\n",
    "\n",
    "    def _traceit(self, frame, event, arg):\n",
    "        \"\"\"Internal tracing function.\"\"\"\n",
    "        if frame.f_code.co_name == '__exit__':\n",
    "            # Do not trace our own __exit__() method\n",
    "            pass\n",
    "        else:\n",
    "            self.traceit(frame, event, arg)\n",
    "        return self._traceit\n",
    "\n",
    "    def __enter__(self):\n",
    "        \"\"\"Called at begin of `with` block. Turn tracing on.\"\"\"\n",
    "        self.original_trace_function = sys.gettrace()\n",
    "        sys.settrace(self._traceit)\n",
    "        return self\n",
    "\n",
    "    def __exit__(self, tp, value, traceback):\n",
    "        \"\"\"Called at begin of `with` block. Turn tracing off.\"\"\"\n",
    "        sys.settrace(self.original_trace_function)\n",
    "        self.get_log()\n",
    "\n",
    "    def get_log(self):\n",
    "        index = 0\n",
    "        for log in self.log_dict:\n",
    "            print('Log Entry: ' + str(index))\n",
    "            index = index + 1\n",
    "            print(log)"
   ]
  },
  {
   "cell_type": "code",
   "execution_count": 6,
   "metadata": {
    "pycharm": {
     "name": "#%%\n"
    }
   },
   "outputs": [
    {
     "name": "stdout",
     "output_type": "stream",
     "text": [
      "Log Entry: 0\n",
      "1   'remove_html_markup'   {'s': '<b>bold</b>', 'tag': False, 'quote': False, 'out': 'bold', 'c': '>'}\n",
      "Log Entry: 1\n",
      "2   'remove_html_markup'   {'s': '<b>bold</b>', 'tag': False, 'quote': False, 'out': 'bold', 'c': '>'}\n",
      "Log Entry: 2\n",
      "3   'remove_html_markup'   {'s': '<b>bold</b>', 'tag': False, 'quote': False, 'out': 'bold', 'c': '>'}\n",
      "Log Entry: 3\n",
      "4   'remove_html_markup'   {'s': '<b>bold</b>', 'tag': False, 'quote': False, 'out': 'bold', 'c': '>'}\n",
      "Log Entry: 4\n",
      "6   'remove_html_markup'   {'s': '<b>bold</b>', 'tag': False, 'quote': False, 'out': 'bold', 'c': '>'}\n",
      "Log Entry: 5\n",
      "7   'remove_html_markup'   {'s': '<b>bold</b>', 'tag': False, 'quote': False, 'out': 'bold', 'c': '>'}\n",
      "Log Entry: 6\n",
      "8   'remove_html_markup'   {'s': '<b>bold</b>', 'tag': False, 'quote': False, 'out': 'bold', 'c': '>'}\n",
      "Log Entry: 7\n",
      "6   'remove_html_markup'   {'s': '<b>bold</b>', 'tag': False, 'quote': False, 'out': 'bold', 'c': '>'}\n",
      "Log Entry: 8\n",
      "7   'remove_html_markup'   {'s': '<b>bold</b>', 'tag': False, 'quote': False, 'out': 'bold', 'c': '>'}\n",
      "Log Entry: 9\n",
      "9   'remove_html_markup'   {'s': '<b>bold</b>', 'tag': False, 'quote': False, 'out': 'bold', 'c': '>'}\n",
      "Log Entry: 10\n",
      "11   'remove_html_markup'   {'s': '<b>bold</b>', 'tag': False, 'quote': False, 'out': 'bold', 'c': '>'}\n",
      "Log Entry: 11\n",
      "13   'remove_html_markup'   {'s': '<b>bold</b>', 'tag': False, 'quote': False, 'out': 'bold', 'c': '>'}\n",
      "Log Entry: 12\n",
      "6   'remove_html_markup'   {'s': '<b>bold</b>', 'tag': False, 'quote': False, 'out': 'bold', 'c': '>'}\n",
      "Log Entry: 13\n",
      "7   'remove_html_markup'   {'s': '<b>bold</b>', 'tag': False, 'quote': False, 'out': 'bold', 'c': '>'}\n",
      "Log Entry: 14\n",
      "9   'remove_html_markup'   {'s': '<b>bold</b>', 'tag': False, 'quote': False, 'out': 'bold', 'c': '>'}\n",
      "Log Entry: 15\n",
      "10   'remove_html_markup'   {'s': '<b>bold</b>', 'tag': False, 'quote': False, 'out': 'bold', 'c': '>'}\n",
      "Log Entry: 16\n",
      "6   'remove_html_markup'   {'s': '<b>bold</b>', 'tag': False, 'quote': False, 'out': 'bold', 'c': '>'}\n",
      "Log Entry: 17\n",
      "7   'remove_html_markup'   {'s': '<b>bold</b>', 'tag': False, 'quote': False, 'out': 'bold', 'c': '>'}\n",
      "Log Entry: 18\n",
      "9   'remove_html_markup'   {'s': '<b>bold</b>', 'tag': False, 'quote': False, 'out': 'bold', 'c': '>'}\n",
      "Log Entry: 19\n",
      "11   'remove_html_markup'   {'s': '<b>bold</b>', 'tag': False, 'quote': False, 'out': 'bold', 'c': '>'}\n",
      "Log Entry: 20\n",
      "13   'remove_html_markup'   {'s': '<b>bold</b>', 'tag': False, 'quote': False, 'out': 'bold', 'c': '>'}\n",
      "Log Entry: 21\n",
      "14   'remove_html_markup'   {'s': '<b>bold</b>', 'tag': False, 'quote': False, 'out': 'bold', 'c': '>'}\n",
      "Log Entry: 22\n",
      "6   'remove_html_markup'   {'s': '<b>bold</b>', 'tag': False, 'quote': False, 'out': 'bold', 'c': '>'}\n",
      "Log Entry: 23\n",
      "7   'remove_html_markup'   {'s': '<b>bold</b>', 'tag': False, 'quote': False, 'out': 'bold', 'c': '>'}\n",
      "Log Entry: 24\n",
      "9   'remove_html_markup'   {'s': '<b>bold</b>', 'tag': False, 'quote': False, 'out': 'bold', 'c': '>'}\n",
      "Log Entry: 25\n",
      "11   'remove_html_markup'   {'s': '<b>bold</b>', 'tag': False, 'quote': False, 'out': 'bold', 'c': '>'}\n",
      "Log Entry: 26\n",
      "13   'remove_html_markup'   {'s': '<b>bold</b>', 'tag': False, 'quote': False, 'out': 'bold', 'c': '>'}\n",
      "Log Entry: 27\n",
      "14   'remove_html_markup'   {'s': '<b>bold</b>', 'tag': False, 'quote': False, 'out': 'bold', 'c': '>'}\n",
      "Log Entry: 28\n",
      "6   'remove_html_markup'   {'s': '<b>bold</b>', 'tag': False, 'quote': False, 'out': 'bold', 'c': '>'}\n",
      "Log Entry: 29\n",
      "7   'remove_html_markup'   {'s': '<b>bold</b>', 'tag': False, 'quote': False, 'out': 'bold', 'c': '>'}\n",
      "Log Entry: 30\n",
      "9   'remove_html_markup'   {'s': '<b>bold</b>', 'tag': False, 'quote': False, 'out': 'bold', 'c': '>'}\n",
      "Log Entry: 31\n",
      "11   'remove_html_markup'   {'s': '<b>bold</b>', 'tag': False, 'quote': False, 'out': 'bold', 'c': '>'}\n",
      "Log Entry: 32\n",
      "13   'remove_html_markup'   {'s': '<b>bold</b>', 'tag': False, 'quote': False, 'out': 'bold', 'c': '>'}\n",
      "Log Entry: 33\n",
      "14   'remove_html_markup'   {'s': '<b>bold</b>', 'tag': False, 'quote': False, 'out': 'bold', 'c': '>'}\n",
      "Log Entry: 34\n",
      "6   'remove_html_markup'   {'s': '<b>bold</b>', 'tag': False, 'quote': False, 'out': 'bold', 'c': '>'}\n",
      "Log Entry: 35\n",
      "7   'remove_html_markup'   {'s': '<b>bold</b>', 'tag': False, 'quote': False, 'out': 'bold', 'c': '>'}\n",
      "Log Entry: 36\n",
      "9   'remove_html_markup'   {'s': '<b>bold</b>', 'tag': False, 'quote': False, 'out': 'bold', 'c': '>'}\n",
      "Log Entry: 37\n",
      "11   'remove_html_markup'   {'s': '<b>bold</b>', 'tag': False, 'quote': False, 'out': 'bold', 'c': '>'}\n",
      "Log Entry: 38\n",
      "13   'remove_html_markup'   {'s': '<b>bold</b>', 'tag': False, 'quote': False, 'out': 'bold', 'c': '>'}\n",
      "Log Entry: 39\n",
      "14   'remove_html_markup'   {'s': '<b>bold</b>', 'tag': False, 'quote': False, 'out': 'bold', 'c': '>'}\n",
      "Log Entry: 40\n",
      "6   'remove_html_markup'   {'s': '<b>bold</b>', 'tag': False, 'quote': False, 'out': 'bold', 'c': '>'}\n",
      "Log Entry: 41\n",
      "7   'remove_html_markup'   {'s': '<b>bold</b>', 'tag': False, 'quote': False, 'out': 'bold', 'c': '>'}\n",
      "Log Entry: 42\n",
      "8   'remove_html_markup'   {'s': '<b>bold</b>', 'tag': False, 'quote': False, 'out': 'bold', 'c': '>'}\n",
      "Log Entry: 43\n",
      "6   'remove_html_markup'   {'s': '<b>bold</b>', 'tag': False, 'quote': False, 'out': 'bold', 'c': '>'}\n",
      "Log Entry: 44\n",
      "7   'remove_html_markup'   {'s': '<b>bold</b>', 'tag': False, 'quote': False, 'out': 'bold', 'c': '>'}\n",
      "Log Entry: 45\n",
      "9   'remove_html_markup'   {'s': '<b>bold</b>', 'tag': False, 'quote': False, 'out': 'bold', 'c': '>'}\n",
      "Log Entry: 46\n",
      "11   'remove_html_markup'   {'s': '<b>bold</b>', 'tag': False, 'quote': False, 'out': 'bold', 'c': '>'}\n",
      "Log Entry: 47\n",
      "13   'remove_html_markup'   {'s': '<b>bold</b>', 'tag': False, 'quote': False, 'out': 'bold', 'c': '>'}\n",
      "Log Entry: 48\n",
      "6   'remove_html_markup'   {'s': '<b>bold</b>', 'tag': False, 'quote': False, 'out': 'bold', 'c': '>'}\n",
      "Log Entry: 49\n",
      "7   'remove_html_markup'   {'s': '<b>bold</b>', 'tag': False, 'quote': False, 'out': 'bold', 'c': '>'}\n",
      "Log Entry: 50\n",
      "9   'remove_html_markup'   {'s': '<b>bold</b>', 'tag': False, 'quote': False, 'out': 'bold', 'c': '>'}\n",
      "Log Entry: 51\n",
      "11   'remove_html_markup'   {'s': '<b>bold</b>', 'tag': False, 'quote': False, 'out': 'bold', 'c': '>'}\n",
      "Log Entry: 52\n",
      "13   'remove_html_markup'   {'s': '<b>bold</b>', 'tag': False, 'quote': False, 'out': 'bold', 'c': '>'}\n",
      "Log Entry: 53\n",
      "6   'remove_html_markup'   {'s': '<b>bold</b>', 'tag': False, 'quote': False, 'out': 'bold', 'c': '>'}\n",
      "Log Entry: 54\n",
      "7   'remove_html_markup'   {'s': '<b>bold</b>', 'tag': False, 'quote': False, 'out': 'bold', 'c': '>'}\n",
      "Log Entry: 55\n",
      "9   'remove_html_markup'   {'s': '<b>bold</b>', 'tag': False, 'quote': False, 'out': 'bold', 'c': '>'}\n",
      "Log Entry: 56\n",
      "10   'remove_html_markup'   {'s': '<b>bold</b>', 'tag': False, 'quote': False, 'out': 'bold', 'c': '>'}\n",
      "Log Entry: 57\n",
      "6   'remove_html_markup'   {'s': '<b>bold</b>', 'tag': False, 'quote': False, 'out': 'bold', 'c': '>'}\n",
      "Log Entry: 58\n",
      "16   'remove_html_markup'   {'s': '<b>bold</b>', 'tag': False, 'quote': False, 'out': 'bold', 'c': '>'}\n",
      "Log Entry: 59\n",
      "16   'remove_html_markup'   {'s': '<b>bold</b>', 'tag': False, 'quote': False, 'out': 'bold', 'c': '>'}\n"
     ]
    }
   ],
   "source": [
    "with Tracer():\n",
    "    remove_html_markup(\"<b>bold</b>\")\n",
    "\n",
    "\n"
   ]
  },
  {
   "cell_type": "code",
   "execution_count": 6,
   "outputs": [],
   "source": [],
   "metadata": {
    "collapsed": false,
    "pycharm": {
     "name": "#%%\n"
    }
   }
  },
  {
   "cell_type": "code",
   "execution_count": null,
   "outputs": [],
   "source": [],
   "metadata": {
    "collapsed": false,
    "pycharm": {
     "name": "#%%\n"
    }
   }
  }
 ],
 "metadata": {
  "kernelspec": {
   "display_name": "Python 3",
   "language": "python",
   "name": "python3"
  },
  "language_info": {
   "codemirror_mode": {
    "name": "ipython",
    "version": 3
   },
   "file_extension": ".py",
   "mimetype": "text/x-python",
   "name": "python",
   "nbconvert_exporter": "python",
   "pygments_lexer": "ipython3",
   "version": "3.8.6"
  }
 },
 "nbformat": 4,
 "nbformat_minor": 1
}