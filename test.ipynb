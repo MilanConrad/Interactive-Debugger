{
 "cells": [
  {
   "cell_type": "markdown",
   "metadata": {
    "pycharm": {
     "name": "#%% md\n"
    }
   },
   "source": [
    "## Personal information"
   ]
  },
  {
   "cell_type": "code",
   "execution_count": 1,
   "metadata": {
    "pycharm": {
     "name": "#%%\n"
    }
   },
   "outputs": [],
   "source": [
    "PROJECT_TYPE = 2\n",
    "NAME = [\"Milan Conrad\", \"Matthias Wilms\"]\n",
    "ID = [\"2569325\", \"2575720\"]"
   ]
  },
  {
   "cell_type": "code",
   "execution_count": 2,
   "metadata": {
    "pycharm": {
     "name": "#%%\n"
    }
   },
   "outputs": [],
   "source": [
    "IMPLEMENTED = set()"
   ]
  },
  {
   "cell_type": "code",
   "execution_count": 3,
   "metadata": {},
   "outputs": [],
   "source": [
    "import asyncio\n",
    "import inspect\n",
    "import os\n",
    "import sys\n",
    "import time\n",
    "import bookutils\n",
    "import ipywidgets as widgets"
   ]
  },
  {
   "cell_type": "code",
   "execution_count": 4,
   "metadata": {
    "pycharm": {
     "name": "#%%\n"
    }
   },
   "outputs": [],
   "source": [
    "from bookutils import input,next_inputs\n",
    "import re"
   ]
  },
  {
   "cell_type": "markdown",
   "metadata": {
    "pycharm": {
     "name": "#%% md\n"
    }
   },
   "source": [
    "## State\n",
    "This represents the program state at a given point, containing attributes like event-type, line# number etc.\n",
    "- `rel_lineno` is the line number within a function (i.e def ... is has rel_lineno 1)\n",
    "- `code` is the code of the current line\n",
    "- `changed_vars` contains only changed variables\n",
    "- `fun_code` contains a list of the lines of the function this the program is currently in\n",
    "- `parent` used for the callstack, references the caller. Will be set in Debugger (by `construct_state_parents()`)"
   ]
  },
  {
   "cell_type": "code",
   "execution_count": 5,
   "metadata": {
    "pycharm": {
     "name": "#%%\n"
    }
   },
   "outputs": [],
   "source": [
    "class State:\n",
    "    \"\"\"Represents the execution at a given point\"\"\"\n",
    "    def __init__(self,event,abs_lineno,code,changed_vars,frame,rel_lineno,fun_name,file,fun_code):\n",
    "        self.event = event\n",
    "        self.abs_lineno = abs_lineno\n",
    "        self.rel_lineno = rel_lineno\n",
    "        self.code = code\n",
    "        self.changed_vars = changed_vars\n",
    "        self.frame = frame #Remove?\n",
    "        self.fun_name = fun_name\n",
    "        self.file = file\n",
    "        self.fun_code = fun_code\n",
    "        self.parent=None\n",
    "\n",
    "    def __str__(self):\n",
    "        return 'Line: ' + str(self.abs_lineno) + ' ('+ str(self.rel_lineno)+'), ('+repr(self.event)+\") \" + \\\n",
    "               repr(self.code) + '   '+ repr(self.changed_vars) + '   ' + repr(self.fun_name) + '  ('+ repr(self.file)+')'\n",
    "        # return 'Line: ' + str(self.abs_lineno) + ' ('+ str(self.rel_lineno)+'), ('+repr(self.event)+\") \" + \\\n",
    "        #        repr(self.fun_code[self.rel_lineno-1]) + '   '+ repr(self.changed_vars) + '   ' + repr(self.fun_name) + '  ('+ repr(self.file)+')'\n",
    "\n",
    "\n"
   ]
  },
  {
   "cell_type": "markdown",
   "metadata": {
    "pycharm": {
     "name": "#%% md\n"
    }
   },
   "source": [
    "## TimeTravelDebugger\n",
    "This is class to use in a with block around the code that is to be traced. The TimeTravelDebugger class contains the tracing functionality. It\n",
    "records a log of program states. The main difference to the lecture's Tracer is that instead of printing stuff a list of States is generated.\n",
    "After the tracing has been turned off again, the interactive session is started by using the Debugger class. It is initialized with the traced log.\n",
    "\n",
    "Only changed variables are recorded and save to each State\n",
    "Member variables have a `'member_'`-prefix."
   ]
  },
  {
   "cell_type": "code",
   "execution_count": 6,
   "metadata": {
    "pycharm": {
     "name": "#%%\n"
    }
   },
   "outputs": [],
   "source": [
    "class TimeTravelDebugger(object):\n",
    "    \"\"\"Trace a block of code and create a log for it. Then call a Debugger object which controls the interactive session \"\"\"\n",
    "    def __init__(self, interactive_session=True,file=sys.stdout):\n",
    "        self.original_trace_function = None\n",
    "        self.file = file\n",
    "        self.loglist =[]\n",
    "        self.last_vars = {}\n",
    "        self.interactive_session=interactive_session\n",
    "\n",
    "    def changed_vars(self, new_vars):\n",
    "        # only changed variables are recorded\n",
    "        changed = {}\n",
    "        variables = new_vars.copy()\n",
    "        for var in new_vars:\n",
    "            if var==\"self\":\n",
    "                try:\n",
    "                    val =eval(var,globals(),variables)\n",
    "                    if callable(type(val)):\n",
    "                        member_vars = val.__dict__.copy()\n",
    "                        for member_var,val in member_vars.items():\n",
    "                            variables[\"member_\"+member_var]=val\n",
    "                except Exception:\n",
    "                    pass\n",
    "\n",
    "        for var_name in variables:\n",
    "            if (var_name not in self.last_vars or\n",
    "                    self.last_vars[var_name] != variables[var_name]):\n",
    "                changed[var_name] = variables[var_name]\n",
    "        self.last_vars = variables.copy()\n",
    "        return changed\n",
    "\n",
    "    def log(self, *objects, sep=' ', end='\\n', flush=False):\n",
    "        \"\"\"Like print(), but always sending to file given at initialization,\n",
    "           and always flushing\"\"\"\n",
    "        current_state = State(objects[0], objects[1],objects[2],objects[3],objects[4],objects[5],objects[6],objects[7],objects[8])\n",
    "        self.loglist.append(current_state)\n",
    "\n",
    "\n",
    "    def traceit(self, frame, event, arg):\n",
    "        \"\"\"Tracing function.\"\"\"\n",
    "        self.log_state(frame, event, arg)\n",
    "\n",
    "    def log_state(self, frame, event, arg):\n",
    "\n",
    "        changes = self.changed_vars(frame.f_locals)\n",
    "\n",
    "        source,function_start = inspect.getsourcelines(frame.f_code)\n",
    "        path=inspect.getsourcefile(frame)\n",
    "        _, file = os.path.split(path)\n",
    "        relative_lineno = frame.f_lineno-function_start + 1\n",
    "        current_line = source[relative_lineno - 1]\n",
    "        func_code = source\n",
    "\n",
    "        if event == 'call':\n",
    "            self.log(event, frame.f_lineno, frame.f_code.co_name, changes, frame, relative_lineno,frame.f_code.co_name,file,func_code)\n",
    "\n",
    "        if event == 'line':\n",
    "\n",
    "            self.log(event, frame.f_lineno, current_line, changes, frame, relative_lineno,frame.f_code.co_name,file,func_code)\n",
    "\n",
    "        if event == 'return':\n",
    "            self.log(event, frame.f_lineno, repr(arg), changes, frame, relative_lineno,frame.f_code.co_name,file,func_code)\n",
    "            self.last_vars = {}  # Delete 'last' variables\n",
    "\n",
    "\n",
    "    def _traceit(self, frame, event, arg):\n",
    "        \"\"\"Internal tracing function.\"\"\"\n",
    "        if frame.f_code.co_name == '__exit__':\n",
    "            # Do not trace our own _exit_() method\n",
    "            pass\n",
    "        else:\n",
    "            self.traceit(frame, event, arg)\n",
    "        return self._traceit\n",
    "\n",
    "    def __enter__(self):\n",
    "        \"\"\"Called at begin of `with` block. Turn tracing on.\"\"\"\n",
    "        self.original_trace_function = sys.gettrace()\n",
    "        sys.settrace(self._traceit)\n",
    "        return self\n",
    "\n",
    "    def __exit__(self, tp, value, traceback):\n",
    "        \"\"\"Called at end of `with` block. Turn tracing off. Then start interactive session.\"\"\"\n",
    "        sys.settrace(self.original_trace_function)\n",
    "        if self.interactive_session:\n",
    "            debugger = Debugger(self.loglist)\n",
    "            #self.print_log()\n",
    "            debugger.start()\n",
    "\n",
    "\n",
    "    def print_log(self):\n",
    "        for log in self.loglist:\n",
    "            print(log)\n",
    "\n",
    "    def get_log(self):\n",
    "        return self.loglist"
   ]
  },
  {
   "cell_type": "markdown",
   "metadata": {
    "pycharm": {
     "name": "#%% md\n"
    }
   },
   "source": [
    "## Debugger\n",
    "This class manages the actual interaction. It stores and navigates the program states.\n",
    "The command dispatcher is essentially the same as in the lecture.\n",
    "About the attributes:\n",
    "- `callstack_depth` is used to store the position in the callstack when using up or down commands. A value of -1 indicates there has been no such command since the last navigation command\n",
    "- `interact` controls whether the Debugger will wait for console commands\n",
    "- `variables` represents the variables for the current step/state\n",
    "- `execution_log` is a list of all States\n",
    "- `print_debugger_status` prints a representation of the current state\n",
    "- `help_command` help view for the commands, same as lecture /R2/\n",
    "- `quit_command` ends the interactive session /R1/\n",
    "\n",
    "/R3/ is distributed over all the the command methods."
   ]
  },
  {
   "cell_type": "code",
   "execution_count": 7,
   "metadata": {
    "pycharm": {
     "name": "#%%\n"
    }
   },
   "outputs": [],
   "source": [
    "IMPLEMENTED.add(\"/R1/\")\n",
    "IMPLEMENTED.add(\"/R2/\")"
   ]
  },
  {
   "cell_type": "code",
   "execution_count": 8,
   "metadata": {
    "pycharm": {
     "name": "#%%\n"
    }
   },
   "outputs": [],
   "source": [
    "class Debugger(object):\n",
    "    \"\"\"This is the core of the interactive debugger. Handles all commands.\"\"\"\n",
    "    def __init__(self,execution_log,interactive_session=True):\n",
    "\n",
    "        self.current_state = None\n",
    "        self.callstack_depth = -1\n",
    "        self.current_step = 0\n",
    "        self.breakpoints = dict()\n",
    "        self.watchpoints = dict()\n",
    "        self.interact = interactive_session\n",
    "        self.variables = {}\n",
    "        self.interactive_session = interactive_session\n",
    "        self.execution_log=execution_log\n",
    "\n",
    "\n",
    "    def start(self):\n",
    "        \"\"\"Initialize values and start the interaction.\"\"\"\n",
    "        if len(self.execution_log)<1:\n",
    "            print(\"Log is empty\")\n",
    "            return\n",
    "        self.current_state=self.execution_log[0]\n",
    "        self.construct_state_parents()\n",
    "        if self.interact:\n",
    "            self.step_command()\n",
    "            self.interaction_loop()\n",
    "\n",
    "\n",
    "    def interaction_loop(self):\n",
    "        \"\"\"Takes command inputs.\"\"\"\n",
    "        while self.interact:\n",
    "            command = input(\"(debugger) \")\n",
    "            self.execute(command)\n",
    "\n",
    "    def commands(self):\n",
    "        cmds = [method.replace('_command', '')\n",
    "                for method in dir(self.__class__)\n",
    "                if method.endswith('_command')]\n",
    "        cmds.sort()\n",
    "        return cmds\n",
    "\n",
    "\n",
    "    def command_method(self, command):\n",
    "        if command.startswith('#'):\n",
    "            return None  # Comment\n",
    "\n",
    "        possible_cmds = [possible_cmd for possible_cmd in self.commands()\n",
    "                         if possible_cmd==command]\n",
    "        if len(possible_cmds) != 1:\n",
    "            self.help_command(command)\n",
    "            return None\n",
    "\n",
    "        cmd = possible_cmds[0]\n",
    "        return getattr(self, cmd + '_command')\n",
    "\n",
    "    def execute(self, command):\n",
    "        sep = command.find(' ')\n",
    "        if sep > 0:\n",
    "            cmd = command[:sep].strip()\n",
    "            arg = command[sep + 1:].strip()\n",
    "        else:\n",
    "            cmd = command.strip()\n",
    "            arg = \"\"\n",
    "\n",
    "        method = self.command_method(cmd)\n",
    "        if method:\n",
    "            method(arg)\n",
    "\n",
    "\n",
    "    def print_debugger_status(self):\n",
    "        \"\"\"Print the currently viewed line of the debugger\"\"\"\n",
    "        event = self.current_state.event\n",
    "\n",
    "        if event == 'call':\n",
    "            self.log(\"This is a call event, which should never be printed\")\n",
    "\n",
    "        if event == 'line':\n",
    "            current_line = self.current_state.code\n",
    "            self.log(repr(self.current_state.abs_lineno) + '    ' + current_line)\n",
    "        if event == 'return':\n",
    "            self.log(\"This is a return event, which should never be printed\")\n",
    "\n",
    "    def log(self, *objects, sep=' ', end='\\n', flush=False):\n",
    "        \"\"\"Like print(), but always sending to file given at initialization,\n",
    "           and always flushing\"\"\"\n",
    "        print(*objects, sep=sep, end=end, file=sys.stdout, flush=True)\n",
    "\n",
    "    def help_command(self, command=\"\"):\n",
    "        \"\"\"Give help on given command. If no command is given, give help on all\"\"\"\n",
    "        if command:\n",
    "            possible_cmds = [possible_cmd for possible_cmd in self.commands()\n",
    "                             if possible_cmd.startswith(command)]\n",
    "\n",
    "            if len(possible_cmds) == 0:\n",
    "                print(f\"Unknown command {repr(command)}. Possible commands are:\")\n",
    "                possible_cmds = self.commands()\n",
    "            elif len(possible_cmds) > 1:\n",
    "                print(f\"Ambiguous command {repr(command)}. Possible expansions are:\")\n",
    "        else:\n",
    "            possible_cmds = self.commands()\n",
    "\n",
    "        for cmd in possible_cmds:\n",
    "            method = self.command_method(cmd)\n",
    "            print(f\"{cmd:10} -- {method.__doc__}\")\n",
    "\n",
    "\n",
    "    def quit_command(self,arg=\"\"):\n",
    "        if arg:\n",
    "            self.log(\"Invalid argument\")\n",
    "            return\n",
    "        \"\"\"End the debugger session\"\"\"\n",
    "        self.interact=False\n",
    "        self.log(\"Quit debugger session\")"
   ]
  },
  {
   "cell_type": "markdown",
   "metadata": {
    "pycharm": {
     "name": "#%% md\n"
    }
   },
   "source": [
    "## Internal navigation functions\n",
    "Below are functions that allow the Debugger to navigate the execution States backwards and forwards in single steps.\n",
    "These are not commands in themselves.\n",
    "Each direction has a method to jump next (or previous) execution no matter its event-type, and one which only jumps to \"line\"-events"
   ]
  },
  {
   "cell_type": "code",
   "execution_count": 9,
   "metadata": {
    "pycharm": {
     "name": "#%%\n"
    }
   },
   "outputs": [],
   "source": [
    "class Debugger(Debugger):\n",
    "    def step(self):\n",
    "        \"\"\"Advances the execution by one step and calculates the variables. Returns false if at the end\"\"\"\n",
    "        if self.current_step<len(self.execution_log)-1:\n",
    "            self.current_step += 1\n",
    "            self.current_state = self.execution_log[self.current_step]\n",
    "            self.construct_vars()\n",
    "            self.callstack_depth=-1\n",
    "            return True\n",
    "        else:\n",
    "            return False\n",
    "\n",
    "    def step_to_line(self):\n",
    "        \"\"\"Advances the execution to the next 'line' event\"\"\"\n",
    "        self.callstack_depth=-1\n",
    "        init_step = self.current_step\n",
    "        while self.current_step<len(self.execution_log)-1:\n",
    "            self.current_step += 1\n",
    "            self.current_state = self.execution_log[self.current_step]\n",
    "            if self.current_state.event==\"line\":\n",
    "                self.variables=self.construct_vars_at(self.current_step)\n",
    "                return True\n",
    "        self.current_step=init_step\n",
    "        self.current_state=self.execution_log[self.current_step]\n",
    "        return False\n",
    "\n",
    "    def backstep_to_line(self):\n",
    "        \"\"\"Steps backwards in the execution to the previous 'line' event\"\"\"\n",
    "        init_step = self.current_step\n",
    "        while self.current_step>1:\n",
    "            self.current_step -= 1\n",
    "            self.current_state = self.execution_log[self.current_step]\n",
    "            if self.current_state.event==\"line\":\n",
    "                self.variables=self.construct_vars_at(self.current_step)\n",
    "                self.callstack_depth=-1\n",
    "                return True\n",
    "        self.current_step=init_step\n",
    "        self.current_state=self.execution_log[self.current_step]\n",
    "        return False\n",
    "\n",
    "\n",
    "    def step_back(self):\n",
    "        \"\"\"Steps backwards in the execution\"\"\"\n",
    "        if self.current_step> 0:\n",
    "            self.current_step -= 1\n",
    "            self.current_state = self.execution_log[self.current_step]\n",
    "            self.callstack_depth=-1\n",
    "            return True\n",
    "        else:\n",
    "            return False\n"
   ]
  },
  {
   "cell_type": "markdown",
   "metadata": {
    "pycharm": {
     "name": "#%% md\n"
    }
   },
   "source": [
    "## Callstack\n",
    "Below are the callstack related methods.\n",
    "- `construct_state_parents()` This is called once at the beginning to set the parent attribute of states\n",
    "- `construct_current_callstack()` This uses the parent attribute to return a list of callers up to the current_state, which represent the callstack\n",
    "- `call_depth` This returns the depth of the current state in the callstack.\n",
    "- `where_command()` /R14/\n",
    "- `up_command()` /R15/\n",
    "- `down_command()` /R15/\n",
    "\n",
    "We didn't manage to make the very first frame accessible, so the top entry in the call_stack is more or less 'fake' and cannot be accessed"
   ]
  },
  {
   "cell_type": "code",
   "execution_count": 10,
   "metadata": {
    "pycharm": {
     "name": "#%%\n"
    }
   },
   "outputs": [],
   "source": [
    "IMPLEMENTED.add(\"/R14/\")\n",
    "IMPLEMENTED.add(\"/R15/\")"
   ]
  },
  {
   "cell_type": "code",
   "execution_count": 11,
   "metadata": {
    "pycharm": {
     "name": "#%%\n"
    }
   },
   "outputs": [],
   "source": [
    "class Debugger(Debugger):\n",
    "    def construct_state_parents(self):\n",
    "        current_parent = None\n",
    "        callpoints = list()\n",
    "        current_depth = 0\n",
    "        for i in range(0,len(self.execution_log)):\n",
    "            currentexecution = self.execution_log[i]\n",
    "            currentexecution.parent = current_parent\n",
    "\n",
    "            if currentexecution.event == 'call':\n",
    "                current_parent = self.execution_log[i]\n",
    "                if self.execution_log[i].parent is not None :\n",
    "                    current_caller = self.execution_log[i-1]\n",
    "                    callpoints.append(current_caller)\n",
    "                    current_parent = current_caller\n",
    "                else:\n",
    "                    callpoints.append(current_parent)\n",
    "\n",
    "                current_depth = current_depth + 1\n",
    "\n",
    "            elif currentexecution.event == 'return':\n",
    "                current_depth = current_depth - 1\n",
    "                caller = callpoints[current_depth]\n",
    "                current_parent = caller.parent\n",
    "\n",
    "\n",
    "    def construct_current_callstack(self):\n",
    "        \"\"\"Construct callstack from current_state to the start by iterating over the parent attribute\"\"\"\n",
    "        current_callstack = list()\n",
    "        current_caller = self.current_state\n",
    "\n",
    "        while current_caller is not None :\n",
    "            if current_caller.parent!=current_caller:\n",
    "                current_callstack.append(current_caller)\n",
    "                current_caller = current_caller.parent\n",
    "\n",
    "        current_callstack.reverse()\n",
    "        return current_callstack\n",
    "\n",
    "\n",
    "    def call_depth(self,state=None):\n",
    "        \"\"\"Returns the depth of the current (or given step)\"\"\"\n",
    "        if not state:\n",
    "            state = self.current_state\n",
    "        depth = 0\n",
    "        while state.parent:\n",
    "            state = state.parent\n",
    "            depth += 1\n",
    "        return depth\n",
    "\n",
    "\n",
    "    def where_command(self,arg=\"\"):\n",
    "        \"\"\"Print the current call stack or <number> many leading and trailing lines if given\"\"\"\n",
    "        current_callstack = self.construct_current_callstack()\n",
    "        limit = len(current_callstack) #Just has to be large enough in case no arg is given\n",
    "        if arg:\n",
    "            if arg.isdigit():\n",
    "                limit = int(arg)\n",
    "            else:\n",
    "                self.log(\"Argument has to be integer\")\n",
    "                return\n",
    "\n",
    "        if self.callstack_depth == -1:\n",
    "            self.callstack_depth = len(current_callstack)-1\n",
    "\n",
    "        # for i in range(0,len(current_callstack)):\n",
    "        for i in range(max(0,self.callstack_depth-limit),min(len(current_callstack),self.callstack_depth+limit+1)):\n",
    "            call = current_callstack[i]\n",
    "            if i == self.callstack_depth:\n",
    "                self.log('>> File \"'+ str(call.file)+'\", Line '+ str(call.abs_lineno)  + ', in '+str(call.fun_name))\n",
    "            else:\n",
    "                if call:\n",
    "                    if call.parent:\n",
    "                        # 'Fake' first call frame\n",
    "                        self.log('File \"'+str(call.file)+'\", Line '+ str(call.abs_lineno)  + ', in '+ str(call.fun_name))\n",
    "                    else:\n",
    "                        self.log('File \"'+str(call.file)+'\", Line '+ str(call.abs_lineno)  + ', in '+ \"<module>\")\n",
    "\n",
    "\n",
    "\n",
    "    def up_command(self,arg=\"\"):\n",
    "        if arg:\n",
    "            self.log(\"Invalid argument\")\n",
    "            return\n",
    "        \"\"\"Move up the call stack towards the callers\"\"\"\n",
    "        current_callstack = self.construct_current_callstack()\n",
    "        if self.callstack_depth==-1:\n",
    "            self.callstack_depth=len(current_callstack)-1\n",
    "        if self.callstack_depth>1:\n",
    "            self.callstack_depth -= 1\n",
    "        else:\n",
    "            self.log(\"Already at the highest layer\")\n",
    "            return\n",
    "\n",
    "        call = current_callstack[self.callstack_depth]\n",
    "\n",
    "        #print the function definition and mark the line of the function call\n",
    "        for i in range(0,len(call.fun_code)):\n",
    "            if call.rel_lineno-1==i:\n",
    "                self.log(\">>\"+call.fun_code[i])\n",
    "            else:\n",
    "                self.log(call.fun_code[i])\n",
    "\n",
    "\n",
    "    def down_command(self,arg=\"\"):\n",
    "        if arg:\n",
    "            self.log(\"Invalid argument\")\n",
    "            return\n",
    "        \"\"\"Move down the call stack towards the callees\"\"\"\n",
    "        current_callstack=self.construct_current_callstack()\n",
    "        if self.callstack_depth==-1:\n",
    "            self.callstack_depth=len(current_callstack)-1\n",
    "        if self.callstack_depth==len(current_callstack)-1:\n",
    "            self.log(\"Already on lowest layer of call stack\")\n",
    "        else:\n",
    "            self.callstack_depth+=1\n",
    "            call = current_callstack[self.callstack_depth]\n",
    "\n",
    "            #print the function definition and mark the line of the function call\n",
    "            for i in range(0,len(call.fun_code)):\n",
    "                if call.rel_lineno-1==i:\n",
    "                    self.log(\">>\"+call.fun_code[i])\n",
    "                else:\n",
    "                    self.log(call.fun_code[i])\n"
   ]
  },
  {
   "cell_type": "markdown",
   "metadata": {},
   "source": [
    "## Variable calculation\n",
    "Below are methods to construct the variables for states from the changed_vars attributes of the previous states, which should constitute a may-have.\n",
    "One of these methods is used after every step through the execution log.\n",
    "- `construct_vars()` This constructs and sets the variables but only works when advancing forward in individual steps\n",
    "- `construct_vars_at()` This constructs and returns the variables for any given step\n",
    "- `backconstruct_vars()` This constructs and sets the variables for the current state even when going backwards (ie from the changed_vars of all relevant preceeding states)\n"
   ]
  },
  {
   "cell_type": "code",
   "execution_count": 12,
   "metadata": {
    "pycharm": {
     "name": "#%%\n"
    }
   },
   "outputs": [],
   "source": [
    "class Debugger(Debugger):\n",
    "    def backconstruct_vars(self):\n",
    "        \"\"\"Construct the variables for the current step\"\"\"\n",
    "        backconstructed_vars = dict()\n",
    "        if self.current_step>0:\n",
    "            num_subroutines = 0\n",
    "            for i in range(0,self.current_step):\n",
    "                current_execution = self.execution_log[self.current_step-(i+1)]\n",
    "                if current_execution.event == 'return':\n",
    "                    num_subroutines  +=1\n",
    "                elif current_execution.event == 'call':\n",
    "                    if num_subroutines == 0: break\n",
    "                    num_subroutines -=1\n",
    "                elif num_subroutines==0:\n",
    "                    changed_vars = current_execution.changed_vars.copy()\n",
    "                    changed_vars.update(backconstructed_vars)\n",
    "                    backconstructed_vars = changed_vars\n",
    "\n",
    "            self.variables = backconstructed_vars\n",
    "            return  True\n",
    "        else:\n",
    "            self.variables=self.execution_log[0].changed_vars.copy()\n",
    "            return False\n",
    "\n",
    "    def construct_vars_at(self,target_step):\n",
    "        \"\"\"Constructs the variables at any execution step\"\"\"\n",
    "        constructed_vars = dict()\n",
    "        if target_step>0:\n",
    "            num_subroutines = 0\n",
    "            for i in range(0,target_step+1):\n",
    "                current_execution = self.execution_log[target_step-i]\n",
    "                if current_execution.event == 'return':\n",
    "                    if i>0:\n",
    "                        num_subroutines  +=1\n",
    "                elif current_execution.event == 'call':\n",
    "                    if num_subroutines == 0:\n",
    "                        changed_vars = current_execution.changed_vars.copy()\n",
    "                        changed_vars.update(constructed_vars)\n",
    "                        constructed_vars = changed_vars\n",
    "                        break\n",
    "                    num_subroutines -=1\n",
    "                elif num_subroutines==0:\n",
    "                    changed_vars = current_execution.changed_vars.copy()\n",
    "                    changed_vars.update(constructed_vars)\n",
    "                    constructed_vars = changed_vars\n",
    "        else:\n",
    "            self.variables=self.execution_log[0].changed_vars.copy()\n",
    "        return constructed_vars\n",
    "\n",
    "    def construct_vars(self):\n",
    "        \"\"\"Constructs variables at the current step when advancing one step\"\"\"\n",
    "        event = self.current_state.event\n",
    "        if event == 'return':\n",
    "            self.variables.clear()\n",
    "        elif event == 'call':\n",
    "            self.variables = self.current_state.changed_vars.copy()\n",
    "        else:\n",
    "            self.variables.update(self.current_state.changed_vars)"
   ]
  },
  {
   "cell_type": "markdown",
   "metadata": {},
   "source": [
    "## Navigation commands 1\n",
    "Below are some of the navigation methods implementing the corresponding commands. These all work in very similar ways.\n",
    "The latter four use the depth in the callstack to reliably find the start and end of functions to be iterated through or over.\n",
    "- `step_command()` Execute the current line and step to the next /R4/\n",
    "- `backstep_command()` Unexecute and go to the previous line /R5/\n",
    "- `next_command()` Step over function calls /R6/\n",
    "- `previous_command()` Step over function calls backwards /R7/\n",
    "- `finish_command()` Execute until the end of the current function /R8/\n",
    "- `start_command()` Execute backwards to the start of the current function /R9/"
   ]
  },
  {
   "cell_type": "code",
   "execution_count": 13,
   "metadata": {
    "pycharm": {
     "name": "#%%\n"
    }
   },
   "outputs": [],
   "source": [
    "IMPLEMENTED.add(\"/R4/\")\n",
    "IMPLEMENTED.add(\"/R5/\")\n",
    "IMPLEMENTED.add(\"/R6/\")\n",
    "IMPLEMENTED.add(\"/R7/\")\n",
    "IMPLEMENTED.add(\"/R8/\")\n",
    "IMPLEMENTED.add(\"/R9/\")"
   ]
  },
  {
   "cell_type": "code",
   "execution_count": 14,
   "metadata": {
    "pycharm": {
     "name": "#%%\n"
    }
   },
   "outputs": [],
   "source": [
    "class Debugger(Debugger):\n",
    "    def step_command(self, arg=\"\"):\n",
    "        if arg:\n",
    "            self.log(\"Invalid argument\")\n",
    "            return\n",
    "        \"\"\"Execute up to the next line\"\"\"\n",
    "        self.step_to_line()\n",
    "        self.check_watchpoints()\n",
    "        self.print_debugger_status()\n",
    "\n",
    "\n",
    "    def backstep_command(self,arg=\"\"):\n",
    "        if arg:\n",
    "            self.log(\"Invalid argument\")\n",
    "            return\n",
    "        \"\"\"Step to the previous executed line\"\"\"\n",
    "        self.backstep_to_line()\n",
    "        self.check_watchpoints()\n",
    "        self.print_debugger_status()\n",
    "\n",
    "\n",
    "    def next_command(self,arg=\"\"):\n",
    "        if arg:\n",
    "            self.log(\"Invalid argument\")\n",
    "            return\n",
    "        \"\"\"Step over function calls going to the next line\"\"\"\n",
    "        if self.current_step<len(self.execution_log)-1:\n",
    "            if self.execution_log[self.current_step+1].event==\"call\":\n",
    "                self.step()\n",
    "                fun_name = self.current_state.fun_name\n",
    "                depth = self.call_depth()\n",
    "                while not (self.current_state.event == 'return' and self.current_state.fun_name == fun_name and self.call_depth()-1 ==depth):\n",
    "                    self.step()\n",
    "                    self.variables = self.construct_vars_at(self.current_step)\n",
    "                    if self.has_breakpoint():\n",
    "                        self.check_watchpoints()\n",
    "                        self.print_debugger_status()\n",
    "                        return\n",
    "\n",
    "        self.step_to_line()\n",
    "        self.check_watchpoints()\n",
    "        self.print_debugger_status()\n",
    "\n",
    "    def previous_command(self,arg=\"\"):\n",
    "        \"\"\"Step over function calls going to the previous line\"\"\"\n",
    "        if arg:\n",
    "            self.log(\"Invalid argument\")\n",
    "            return\n",
    "        if self.current_step>1:\n",
    "            fun_name = self.current_state.fun_name\n",
    "            depth = self.call_depth()\n",
    "            if self.execution_log[self.current_step-1].event==\"return\":\n",
    "                self.backstep_to_line()\n",
    "                while not (self.current_state.fun_name == fun_name and self.call_depth()==depth):\n",
    "                    if self.has_breakpoint(True):\n",
    "                        break\n",
    "                    self.backstep_to_line()\n",
    "            else:\n",
    "                self.backstep_to_line()\n",
    "\n",
    "        self.check_watchpoints()\n",
    "        self.print_debugger_status()\n",
    "\n",
    "\n",
    "    def start_command(self,arg=\"\"):\n",
    "        \"\"\"Execute backwards until a function start\"\"\"\n",
    "        if arg:\n",
    "            self.log(\"Invalid argument\")\n",
    "            return\n",
    "        fun_name = self.current_state.fun_name\n",
    "        depth = self.call_depth()\n",
    "        while not (self.current_state.fun_name == fun_name and self.current_state.event==\"call\" and self.call_depth()+1==depth):\n",
    "            self.step_back()\n",
    "            self.variables = self.construct_vars_at(self.current_step)\n",
    "            if self.has_breakpoint(True):\n",
    "                self.check_watchpoints()\n",
    "                self.print_debugger_status()\n",
    "                return\n",
    "        self.step_to_line()\n",
    "        self.check_watchpoints()\n",
    "        self.print_debugger_status()\n",
    "\n",
    "\n",
    "    def finish_command(self,arg=\"\"):\n",
    "        \"\"\"Execute until return of current function\"\"\"\n",
    "        if arg:\n",
    "            self.log(\"Invalid argument\")\n",
    "            return\n",
    "        fun_name = self.current_state.fun_name\n",
    "        depth = self.call_depth()\n",
    "        while not (self.current_state.fun_name == fun_name and self.current_state.event==\"return\" and self.call_depth()==depth):\n",
    "            self.step()\n",
    "            self.variables = self.construct_vars_at(self.current_step)\n",
    "            if self.has_breakpoint():\n",
    "                self.check_watchpoints()\n",
    "                self.print_debugger_status()\n",
    "                return\n",
    "\n",
    "        self.backstep_to_line()\n",
    "        self.check_watchpoints()\n",
    "        self.print_debugger_status()"
   ]
  },
  {
   "cell_type": "markdown",
   "metadata": {},
   "source": [
    "## Navigation commands 2\n",
    "Below are more navigation methods implementing the corresponding commands. These two work very similarly.\n",
    "- `continue_command()` Execute forwards until either the program finishes or a breakpoint hits /R12/\n",
    "- `reverse_command()` Execute backwards until either the program start or a breakpoint hits /R13/"
   ]
  },
  {
   "cell_type": "code",
   "execution_count": 15,
   "metadata": {
    "pycharm": {
     "name": "#%%\n"
    }
   },
   "outputs": [],
   "source": [
    "IMPLEMENTED.add(\"/R12/\")\n",
    "IMPLEMENTED.add(\"/R13/\")"
   ]
  },
  {
   "cell_type": "code",
   "execution_count": 16,
   "metadata": {
    "pycharm": {
     "name": "#%%\n"
    }
   },
   "outputs": [],
   "source": [
    "class Debugger(Debugger):\n",
    "    def continue_command(self, arg=\"\"):\n",
    "        \"\"\" Continue execution forward until a breakpoint is hit, or the program finishes\"\"\"\n",
    "        if arg:\n",
    "            self.log(\"Invalid argument\")\n",
    "            return\n",
    "        stepping = True\n",
    "        while stepping:\n",
    "            stepped = self.step_to_line()\n",
    "            if (not stepped) or self.has_breakpoint():\n",
    "                stepping = False\n",
    "\n",
    "        self.check_watchpoints()\n",
    "        self.print_debugger_status()\n",
    "\n",
    "    def reverse_command(self, arg=\"\"):\n",
    "        \"\"\"Continue execution backward until a breakpoint is hit, or the program starts\"\"\"\n",
    "        if arg:\n",
    "            self.log(\"Invalid argument\")\n",
    "            return\n",
    "        stepping = True\n",
    "        while stepping:\n",
    "            stepped = self.backstep_to_line()\n",
    "            if not stepped or self.has_breakpoint(True):\n",
    "                stepping = False\n",
    "        self.check_watchpoints()\n",
    "        self.print_debugger_status()\n",
    "\n"
   ]
  },
  {
   "cell_type": "markdown",
   "metadata": {},
   "source": [
    "## List command\n",
    "Below is this implementation of the list command (and helper functions thereof)\n",
    "- `list_command()` Lists the specified number of lines of code in the current function /R16/\n",
    "- `lines_above()` Helper function returning a list of lines above (of specified length)\n",
    "- `lines_below()` Helper function returning a list of lines below (of specified length)"
   ]
  },
  {
   "cell_type": "code",
   "execution_count": 17,
   "metadata": {
    "pycharm": {
     "name": "#%%\n"
    }
   },
   "outputs": [],
   "source": [
    "IMPLEMENTED.add(\"/R16/\")"
   ]
  },
  {
   "cell_type": "code",
   "execution_count": 18,
   "metadata": {
    "pycharm": {
     "name": "#%%\n"
    }
   },
   "outputs": [],
   "source": [
    "class Debugger(Debugger):\n",
    "    def lines_above(self,num_lines):\n",
    "        \"\"\"Returns num_lines lines of code of the current function before the current step\"\"\"\n",
    "        surrounding_lines = list()\n",
    "        fun_code = self.current_state.fun_code\n",
    "        if fun_code:\n",
    "            index = self.current_state.rel_lineno -1\n",
    "\n",
    "            for i in range(max(0,index-num_lines),index):\n",
    "                surrounding_lines.append(fun_code[i])\n",
    "        return surrounding_lines\n",
    "\n",
    "\n",
    "    def lines_below(self,num_lines):\n",
    "        \"\"\"Returns num_lines lines of code of the current function after the current step\"\"\"\n",
    "        surrounding_lines = list()\n",
    "        fun_code = self.current_state.fun_code\n",
    "        if fun_code:\n",
    "            index = self.current_state.rel_lineno - 1\n",
    "            if index<len(fun_code)-1:\n",
    "                for i in range(index+1, min(len(fun_code),index+num_lines+1)):\n",
    "                    surrounding_lines.append(fun_code[i])\n",
    "        return surrounding_lines\n",
    "\n",
    "\n",
    "    def list_command(self,args=\"\"):\n",
    "        \"\"\"Print the source code around the current line\n",
    "        'list' prints two lines above and below\n",
    "        'list <number>' prints <number> lines above and below\n",
    "        'list <above> <below>' prints <above> lines above and <below> lines below\"\"\"\n",
    "        arg_iterator = map(int, re.findall(r'\\d+', args))\n",
    "\n",
    "        if args!=\"\" and re.match('^[0-9 |' ']*$',args):\n",
    "\n",
    "             parsed_args = list()\n",
    "\n",
    "             for parsed_arg in arg_iterator:\n",
    "                 parsed_args.append(parsed_arg)\n",
    "             surrounding_lines = list()\n",
    "\n",
    "             if len(parsed_args) == 0:\n",
    "\n",
    "                 surrounding_lines = self.lines_above(2)\n",
    "                 surrounding_lines = surrounding_lines + [str(self.current_state.abs_lineno)+(\">> \"+ str(self.current_state.code))]\n",
    "                 surrounding_lines = surrounding_lines + self.lines_below(2)\n",
    "                 for surrounding_line in surrounding_lines:\n",
    "                      print(str(surrounding_line))\n",
    "\n",
    "             elif len(parsed_args) == 1:\n",
    "                 surrounding_lines = surrounding_lines + (self.lines_above(parsed_args[0]))\n",
    "                 surrounding_lines = surrounding_lines + [str(self.current_state.abs_lineno)+(\">> \" + str(self.current_state.code))]\n",
    "                 surrounding_lines = surrounding_lines + (self.lines_below(parsed_args[0]))\n",
    "                 for surrounding_line in surrounding_lines:\n",
    "                      print(str(surrounding_line))\n",
    "\n",
    "             elif len(parsed_args) == 2:\n",
    "                 surrounding_lines  = surrounding_lines + (self.lines_above(parsed_args[0]))\n",
    "                 surrounding_lines = surrounding_lines + [str(self.current_state.abs_lineno)+(\">> \" + str(self.current_state.code))]\n",
    "                 surrounding_lines  = surrounding_lines + (self.lines_below(parsed_args[1]))\n",
    "                 for surrounding_line in surrounding_lines:\n",
    "                      print(str(surrounding_line))\n",
    "             else:\n",
    "                self.log(\"Wrong usage: list <above> <below> :Print <above> lines before and <below> lines after the current line\")\n",
    "\n",
    "        elif args.replace(\" \",\"\")== \"\":\n",
    "             surrounding_lines = self.lines_above(2)\n",
    "             surrounding_lines = surrounding_lines + [str(self.current_state.abs_lineno)+(\">> \"+ str(self.current_state.code))]\n",
    "             surrounding_lines = surrounding_lines + self.lines_below(2)\n",
    "             for surrounding_line in surrounding_lines:\n",
    "                  print(str(surrounding_line))\n",
    "        else:\n",
    "            self.log(\"Wrong usage: list <above> <below> :Print <above> lines before and <below> lines after the current line\")"
   ]
  },
  {
   "cell_type": "markdown",
   "metadata": {},
   "source": [
    "## Until and backuntil commands\n",
    "Below is this implementation of the until and backuntil commands (and helper functions thereof)\n",
    "- `until_command()` Executes the program forward up until the point specified in the parameters. Parses the arguments and calls the corresponding helper functions. /R10/\n",
    "- `backuntil_command()` Executes the program backwards up to the point specified in the parameters. Parses the arguments and calls the corresponding helper functions. /R11/\n",
    "- `until_function()` Helper. Called when executing forwards until a specified function is called.\n",
    "- `backuntil_function()` Helper. Called when executing backwards until a specified function returns.\n",
    "- `until_line()` Helper. Called when executing forwards until a line greater than the specified one is called.\n",
    "- `backuntil_line()` Helper. Called when executing backwards until a line less than the specified one is called.\n",
    "We implemented in the following way: We step through the executions forwards (or backwards respectively), and stop if\n",
    "the condition is met in any of the following (preceding) states."
   ]
  },
  {
   "cell_type": "code",
   "execution_count": 19,
   "metadata": {
    "pycharm": {
     "name": "#%%\n"
    }
   },
   "outputs": [],
   "source": [
    "IMPLEMENTED.add(\"/R10/\")\n",
    "IMPLEMENTED.add(\"/R11/\")"
   ]
  },
  {
   "cell_type": "code",
   "execution_count": 20,
   "metadata": {
    "pycharm": {
     "name": "#%%\n"
    }
   },
   "outputs": [],
   "source": [
    "class Debugger(Debugger):\n",
    "    def until_command(self,arg=\"\"):\n",
    "        \"\"\"Execute forwards until a certain point.\n",
    "        'until' executes until a line greater than the current line is reached\n",
    "        'until <line_number>' executes until a line greater than <line_number> is reached\n",
    "        'until <filename>:<line_number>' executes until line <line_number> is reached in file <filename>\n",
    "        'until <function_name>' executes until function <function_name> is called\n",
    "        'until <filename>:<function_name>' executes until function <function_name> declared in <filename> is called\n",
    "        \"\"\"\n",
    "        #TODO special case no arg act as next\n",
    "        if not arg:\n",
    "            #no arg case\n",
    "            self.until_line(self.current_state.abs_lineno,self.current_state.file)\n",
    "            return\n",
    "\n",
    "        function_name=\"\"\n",
    "        target_line=0\n",
    "        sep = arg.find(':')\n",
    "        if sep > 0:\n",
    "            #compound arg case\n",
    "            filename = arg[:sep].strip()\n",
    "            secondary_arg = arg[sep+1:].strip()\n",
    "            if secondary_arg.isdigit():\n",
    "                target_line=int(secondary_arg)\n",
    "            else: \n",
    "                function_name = secondary_arg\n",
    "\n",
    "            if target_line > 0:\n",
    "                self.until_line(target_line,filename)\n",
    "            else:\n",
    "                self.until_function(function_name,filename)\n",
    "        else:\n",
    "            #simple arg case\n",
    "            if arg.isdigit():\n",
    "                target_line=int(arg)\n",
    "            else:\n",
    "                function_name=arg\n",
    "\n",
    "            if function_name:\n",
    "                self.until_function(function_name,self.current_state.file)\n",
    "            else:\n",
    "                self.until_line(target_line,self.current_state.file)\n",
    "\n",
    "\n",
    "    def backuntil_command(self,arg=\"\"):\n",
    "        \"\"\"Execute backwards until a certain point.\n",
    "        'backuntil' executes backwards until a line less than the current line is reached\n",
    "        'backuntil <line_number>' executes backwards until a line less than <line_number> is reached\n",
    "        'backuntil <filename>:<line_number>' executes backwards until line <line_number> is reached in file <filename>\n",
    "        'backuntil <function_name>' executes backwards until function <function_name> is called\n",
    "        'backuntil <filename>:<function_name>' executes backwards until function <function_name> declared in <filename> is called\n",
    "        \"\"\"\n",
    "        if not arg:\n",
    "            #no arg case\n",
    "            self.backuntil_line(self.current_state.abs_lineno,self.current_state.file)\n",
    "            return\n",
    "\n",
    "        function_name=\"\"\n",
    "        target_line=0\n",
    "        sep = arg.find(':')\n",
    "        if sep > 0:\n",
    "            #compound arg case\n",
    "            filename = arg[:sep].strip()\n",
    "            secondary_arg = arg[sep+1:].strip()\n",
    "            if secondary_arg.isdigit():\n",
    "                target_line=int(secondary_arg)\n",
    "            else:\n",
    "                function_name = secondary_arg\n",
    "            if target_line > 0:\n",
    "                self.backuntil_line(target_line,filename)\n",
    "            else:\n",
    "                self.backuntil_function(function_name,filename)\n",
    "        else:\n",
    "            #simple arg case\n",
    "            if arg.isdigit():\n",
    "                target_line=int(arg)\n",
    "            else:\n",
    "                function_name=arg\n",
    "\n",
    "            if function_name:\n",
    "                self.backuntil_function(function_name,self.current_state.file)\n",
    "            else:\n",
    "                self.backuntil_line(target_line,self.current_state.file)\n",
    "\n",
    "    def until_function(self,target_function,target_file):\n",
    "        \"\"\"Advance until call to target_function and in target_file\"\"\"\n",
    "        stepped = True\n",
    "        while not (self.current_state.fun_name == target_function and self.current_state.event==\"call\"\n",
    "                   and self.current_state.file==target_file ):\n",
    "            stepped = self.step()\n",
    "            self.variables=self.construct_vars_at(self.current_step)\n",
    "            if not stepped:\n",
    "                break\n",
    "            if self.has_breakpoint():\n",
    "                self.check_watchpoints()\n",
    "                self.print_debugger_status()\n",
    "                return\n",
    "\n",
    "        if stepped:\n",
    "            self.backstep_to_line()\n",
    "        else:\n",
    "            self.backstep_to_line()\n",
    "        self.check_watchpoints()\n",
    "        self.print_debugger_status()\n",
    "\n",
    "\n",
    "    def backuntil_function(self,target_function,target_file):\n",
    "        \"\"\"Run backwards until call to target_function and in target_file if given\"\"\"\n",
    "        while not (self.current_state.fun_name == target_function and self.current_state.event==\"call\" and\n",
    "                    (self.current_state.file==target_file)):\n",
    "            stepped = self.step_back()\n",
    "            if not stepped:\n",
    "                break\n",
    "\n",
    "            self.variables=self.construct_vars_at(self.current_step)\n",
    "            if self.has_breakpoint(True):\n",
    "                self.check_watchpoints()\n",
    "                self.print_debugger_status()\n",
    "                return\n",
    "\n",
    "        self.step_to_line()\n",
    "        self.check_watchpoints()\n",
    "        self.print_debugger_status()\n",
    "\n",
    "\n",
    "    def until_line(self,target_line,target_file):\n",
    "        \"\"\"Advance until program line is greater than target_line and in target_file if given\"\"\"\n",
    "        if target_line<=0:\n",
    "            self.log(\"Invalid line: \" + str(target_line))\n",
    "            return\n",
    "\n",
    "        for i in range(self.current_step,len(self.execution_log)):\n",
    "            if self.current_state.abs_lineno>target_line and self.current_state.file==target_file:\n",
    "                break\n",
    "            self.step_to_line()\n",
    "            if self.has_breakpoint():\n",
    "                break\n",
    "\n",
    "        self.check_watchpoints()\n",
    "        self.print_debugger_status()\n",
    "\n",
    "\n",
    "    def backuntil_line(self,target_line,target_file):\n",
    "        \"\"\"Run backwards until program line is lower than target_line and in target_file\"\"\"\n",
    "        if target_line<=1:\n",
    "            self.log(\"Invalid line: \" + str(target_line))\n",
    "            return\n",
    "\n",
    "        for i in range(0,self.current_step+1):\n",
    "            if self.current_state.abs_lineno<target_line and self.current_state.file==target_file:\n",
    "                break\n",
    "            self.backstep_to_line()\n",
    "            if self.has_breakpoint(True):\n",
    "                break\n",
    "\n",
    "        self.check_watchpoints()\n",
    "        self.print_debugger_status()\n"
   ]
  },
  {
   "cell_type": "markdown",
   "metadata": {},
   "source": [
    "## Breakpoint\n",
    "This class represents breakpoints. Relevant information is stored in the member variables.\n",
    "The break_here method determines based on its parameters whether the breakpoint hits or not.\n",
    "There are three types of breakpoints represented by the type string. There are three types:\n",
    "- `\"line\"` for line breakpoints (/R201/)\n",
    "- `\"func\"` for function breakpoints (/R202/)\n",
    "- `\"cond\"` for condition breakpoints (/R203/)"
   ]
  },
  {
   "cell_type": "code",
   "execution_count": 21,
   "metadata": {
    "pycharm": {
     "name": "#%%\n"
    }
   },
   "outputs": [],
   "source": [
    "class Breakpoint:\n",
    "    \"\"\"Represents a breakpoint\"\"\"\n",
    "    def __init__(self,type,line=None,function=None,condition=None,file=None,is_active=True):\n",
    "        self.type=type\n",
    "        self.line_number=line\n",
    "        self.func_name=function\n",
    "        self.cond_expression = condition\n",
    "        self.file = file\n",
    "        self.is_active=is_active\n",
    "        self.alias = \"\"\n",
    "\n",
    "    def break_here(self,step,log,variables,backwards=False):\n",
    "        \"\"\"Returns whether this breakpoints hits with the given arguments. The 'backwards' argument indicates if the\n",
    "        execution happens backwards\"\"\"\n",
    "        if not self.is_active:\n",
    "            return False\n",
    "\n",
    "        current_state = log[step]\n",
    "        if self.type == 'line':\n",
    "            return current_state.abs_lineno==self.line_number and current_state.file==self.file\n",
    "        elif self.type == 'func':\n",
    "            if backwards:\n",
    "                if step < len(log)-1:\n",
    "                    prev = log[step+1]\n",
    "                    return prev.event==\"return\" and prev.fun_name==self.func_name\n",
    "            else:\n",
    "                if step > 1:\n",
    "                    prev = log[step-1]\n",
    "                    return prev.event==\"call\" and prev.fun_name==self.func_name\n",
    "        elif self.type =='cond':\n",
    "            if current_state.abs_lineno==self.line_number:\n",
    "                try:\n",
    "                    return eval(self.cond_expression,globals(),variables)\n",
    "                except Exception:\n",
    "                    return False\n",
    "\n",
    "        return False\n",
    "\n",
    "    def is_active(self):\n",
    "        return self.is_active\n",
    "\n",
    "    def enable(self):\n",
    "        self.is_active=True\n",
    "\n",
    "    def disable(self):\n",
    "        self.is_active=False\n",
    "\n",
    "    def set_alias(self,alias):\n",
    "        self.alias = alias\n",
    "\n",
    "    def __str__(self):\n",
    "        if self.type == 'line':\n",
    "            return f\"line  {repr(self.file)}:{self.line_number}  {self.is_active}\"\n",
    "        elif self.type == 'func':\n",
    "            return f\"func  {repr(self.file)}:{self.func_name}  {self.is_active}\"\n",
    "        elif self.type =='cond':\n",
    "            return f\"cond  {repr(self.file)}:{self.line_number}  {self.is_active}  {repr(self.cond_expression)}\"\n",
    "        else:\n",
    "            return \"\"\n"
   ]
  },
  {
   "cell_type": "markdown",
   "metadata": {},
   "source": [
    "## Breakpoint related commands\n",
    "### Back to Debugger\n",
    "Below is the implementation of the commands related to breakpoints. The breakpoints (Breakpoint objects) are stored in the dictionary `self.breakpoints`.\n",
    "The keys are their ids (which are therefore unique).\n",
    "- `break_command()` Creates a function or line breakpoint /R201/,/R202/,/R203/\n",
    "- `cond_command()` Creates a conditional breakpoint /R208/\n",
    "- `delete_command()` Removes a breakpoint with the given id (or alias) /R205/\n",
    "- `breakpoints_command()` Lists all breakpoints /R204/\n",
    "- `disable_command()` Disables a breakpoint with the given id (or alias) /R206/\n",
    "- `enable_command()` Enables a breakpoint with the given id (or alias) /R207/\n",
    "- `alias_command()` Allows one to set names for breakpoints and address them with those names (/May-have/)\n",
    "- `breakpoint_lookup()` Helper to allow breakpoints to be looked up both through their id and alias"
   ]
  },
  {
   "cell_type": "code",
   "execution_count": 22,
   "metadata": {
    "pycharm": {
     "name": "#%%\n"
    }
   },
   "outputs": [],
   "source": [
    "IMPLEMENTED.add(\"/R201/\")\n",
    "IMPLEMENTED.add(\"/R202/\")\n",
    "IMPLEMENTED.add(\"/R203/\")\n",
    "IMPLEMENTED.add(\"/R204/\")\n",
    "IMPLEMENTED.add(\"/R205/\")\n",
    "IMPLEMENTED.add(\"/R206/\")\n",
    "IMPLEMENTED.add(\"/R207/\")\n",
    "IMPLEMENTED.add(\"/R208/\")"
   ]
  },
  {
   "cell_type": "code",
   "execution_count": 23,
   "metadata": {
    "pycharm": {
     "name": "#%%\n"
    }
   },
   "outputs": [],
   "source": [
    "class Debugger(Debugger):\n",
    "    def break_command(self, arg=\"\"):\n",
    "        \"\"\"Set a breakpoint.\n",
    "        'break <line_number>' Set breakpoint in line <line_number>\n",
    "        'break <function_name>' Set a breakpoint which hits when a function with the name <function_name> is entered\n",
    "        'break <file_name>:<function_name>' Set a breakpoint which hits when a function <function_name> declared in <file_name> is entered\"\"\"\n",
    "        if arg:\n",
    "            if len(self.breakpoints)>0:\n",
    "                largest_key= max(self.breakpoints.keys())\n",
    "            else:\n",
    "                largest_key = 0\n",
    "\n",
    "            if arg.isdigit():\n",
    "                self.breakpoints[largest_key+1]=Breakpoint(\"line\",int(arg),None,None,self.current_state.file)\n",
    "            else:\n",
    "                sep = arg.find(':')\n",
    "                if sep>0:\n",
    "                    file_name = arg[:sep].strip()\n",
    "                    func_name = arg[sep+1:].strip()\n",
    "                    self.breakpoints[largest_key+1]=Breakpoint(\"func\",None,func_name,None,file_name)\n",
    "                else:\n",
    "                    self.breakpoints[largest_key+1]=Breakpoint(\"func\",None,arg,None,self.current_state.file)\n",
    "        else:\n",
    "            self.log(\"Missing argument, use as 'break <line>|<function_name>|<file_name>:<function_name>'\")\n",
    "\n",
    "    def delete_command(self, arg=\"\"):\n",
    "        \"\"\"Delete breakpoint with given <breakpoint_id>|<breakpoint_name>\"\"\"\n",
    "        if arg:\n",
    "            breakpoint_id = self.breakpoint_lookup(arg)\n",
    "            if breakpoint_id==-1:\n",
    "                self.log(\"No such breakpoint: \"+arg)\n",
    "            else:\n",
    "                self.breakpoints.pop(breakpoint_id)\n",
    "        else:\n",
    "            self.log(\"Missing argument, use as 'delete <breakpoint_id>'\")\n",
    "\n",
    "    def breakpoints_command(self,arg=\"\"):\n",
    "        \"\"\"Display all available breakpoints\"\"\"\n",
    "        if arg:\n",
    "            self.log(\"Invalid argument\")\n",
    "            return\n",
    "        for breakpoint in self.breakpoints:\n",
    "            alias = self.breakpoints[breakpoint].alias\n",
    "            if alias:\n",
    "                self.log(alias+ \"   \" +str(self.breakpoints[breakpoint]))\n",
    "            else:\n",
    "                self.log(str(breakpoint)+ \"   \" +str(self.breakpoints[breakpoint]))\n",
    "\n",
    "    def disable_command(self,arg=\"\"):\n",
    "        \"\"\"Use as 'disable <breakpoint_id>|<breakpoint_name>'    Suspend  specified breakpoint\"\"\"\n",
    "        if arg:\n",
    "            breakpoint_id = self.breakpoint_lookup(arg)\n",
    "            if breakpoint_id==-1:\n",
    "                self.log(\"No such breakpoint: \"+arg)\n",
    "            else:\n",
    "                self.breakpoints[breakpoint_id].disable()\n",
    "        else:\n",
    "            self.log(\"Missing argument, use as 'disable <breakpoint_id>'\")\n",
    "\n",
    "    def enable_command(self,arg=\"\"):\n",
    "        \"\"\"Use as 'enable <breakpoint_id>|<breakpoint_name>'    Re-enable specified breakpoint\"\"\"\n",
    "        if arg:\n",
    "            breakpoint_id = self.breakpoint_lookup(arg)\n",
    "            if breakpoint_id==-1:\n",
    "                self.log(\"No such breakpoint: \"+arg)\n",
    "            else:\n",
    "                self.breakpoints[breakpoint_id].enable()\n",
    "        else:\n",
    "            self.log(\"Missing argument, use as 'enable <breakpoint_id>'\")\n",
    "\n",
    "    def breakpoint_lookup(self,arg):\n",
    "        \"\"\"Find key of given breakpoint_id or breakpoint_name. Returns -1 if no such breakpoint exists\"\"\"\n",
    "        if arg.isdigit():\n",
    "            if int(arg) in self.breakpoints.keys():\n",
    "                return int(arg)\n",
    "\n",
    "        else:\n",
    "            for breakpoint_id in self.breakpoints:\n",
    "                if self.breakpoints[breakpoint_id].alias==arg:\n",
    "                    return breakpoint_id\n",
    "        return -1\n",
    "\n",
    "    def alias_command(self,arg=\"\"):\n",
    "        \"\"\"Use as 'alias <breakpoint_id> <breakpoint_name>'  Set the alias <breakpoint_name> for breakpoint <breakpoint_id> \"\"\"\n",
    "        if not arg:\n",
    "            self.log(\"Requires arguments <breakpoint_id> <breakpoint_name>\")\n",
    "\n",
    "        sep = arg.find(' ')\n",
    "        if sep > 0:\n",
    "            breakpoint_id = arg[:sep].strip()\n",
    "            alias = arg[sep+1:].strip()\n",
    "            if not alias:\n",
    "                self.log(\"Empty string not allowed as alias\")\n",
    "                return\n",
    "            if breakpoint_id.isdigit():\n",
    "                breakpoint_aliases=[bp.alias for bp in self.breakpoints.values()]\n",
    "                if alias in breakpoint_aliases:\n",
    "                    self.log(\"Alias already exists: \"+ alias)\n",
    "                    return\n",
    "                try:\n",
    "                    breakpoint = self.breakpoints[int(breakpoint_id)]\n",
    "                    breakpoint.alias=alias\n",
    "                except KeyError:\n",
    "                    self.log(\"No breakpoint with id: \" + breakpoint_id)\n",
    "            else:\n",
    "                self.log(\"Invalid arguments. Use as 'alias <breakpoint_id> <breakpoint_name>'\")\n",
    "\n",
    "        else:\n",
    "            self.log(\"Invalid arguments. Use as 'alias <breakpoint_id> <breakpoint_name>'\")\n",
    "\n",
    "\n",
    "    def cond_command(self,arg=\"\"):\n",
    "        \"\"\"Use as 'cond <line> <condition>'    Set a breakpoint at which the execution is stopped at line <line>\n",
    "        if a condition <condition> is true\"\"\"\n",
    "        if arg:\n",
    "            sep = arg.find(' ')\n",
    "            if sep>0:\n",
    "                line = arg[:sep].strip()\n",
    "                cond_expression = arg[sep+1:].strip()\n",
    "                if not line.isdigit():\n",
    "                    self.log(\"Faulty argument, use as 'cond <line> <condition>'\")\n",
    "                    return\n",
    "\n",
    "                if len(self.breakpoints)>0:\n",
    "                    largest_key= max(self.breakpoints.keys())\n",
    "                else:\n",
    "                    largest_key = 0\n",
    "\n",
    "                self.breakpoints[largest_key+1]=Breakpoint(\"cond\",int(line),None,cond_expression,self.current_state.file)\n",
    "            else:\n",
    "                self.log(\"Faulty argument, use as 'cond <line> <condition>'\")\n",
    "        else:\n",
    "            self.log(\"Missing argument, use as 'cond <line> <condition>'\")"
   ]
  },
  {
   "cell_type": "markdown",
   "metadata": {},
   "source": [
    "## Breakpoint checking\n",
    "This function checks whether any of the defined breakpoints hit at the current step.\n",
    "To that end the relevant information of the current program state is passed to each breakpoint. They then compute with their\n",
    "`break_here` function whether they result in a break.\n",
    "It is called by the navigation commands every time the step forwards or backwards\n",
    "The function argument `backwards` indicates whether the Debugger is executing backwards currently.\n",
    "Part of /R20/"
   ]
  },
  {
   "cell_type": "code",
   "execution_count": 24,
   "metadata": {
    "pycharm": {
     "name": "#%%\n"
    }
   },
   "outputs": [],
   "source": [
    "class Debugger(Debugger):\n",
    "    def has_breakpoint(self,backwards=False):\n",
    "        \"\"\"Checks if any of the breakpoints trigger\"\"\"\n",
    "        active_breakpoints = [bp for bp in self.breakpoints if self.breakpoints[bp].break_here(self.current_step,self.execution_log,self.variables,backwards)]\n",
    "        return len(active_breakpoints)>0"
   ]
  },
  {
   "cell_type": "markdown",
   "metadata": {},
   "source": [
    "## Watchpoints\n",
    "Below is the implementation of the commands related to watchpoints. The watchpoints are stored in the dictionary `self.watchpoints`.\n",
    "The keys are their ids.\n",
    "- `watch_command()` Command which creates a watchpoint with a unique id for a given variable /R190/\n",
    "- `unwatch_command()` Command which removes the specified watchpoint /R191/\n",
    "- `print_watchpoints()` Command which prints all defined watchpoints /R192/\n",
    "- `update_watchpoints()` This function checks for watchpoint changes (based on `self.variables`) and prints them correspondingly\n",
    "- `check_watchpoints()` This function is called by navigation commands after each step to check if any watchpoints trigger.\n",
    "If the program jsut returned from a function watchpoints are only triggered if they were changed by the returned value.\n",
    "If the program did not return it just calls `update_watchpoints()`\n"
   ]
  },
  {
   "cell_type": "code",
   "execution_count": 25,
   "metadata": {
    "pycharm": {
     "name": "#%%\n"
    }
   },
   "outputs": [],
   "source": [
    "IMPLEMENTED.add(\"/R190/\")\n",
    "IMPLEMENTED.add(\"/R191/\")\n",
    "IMPLEMENTED.add(\"/R192/\")"
   ]
  },
  {
   "cell_type": "code",
   "execution_count": 26,
   "metadata": {
    "pycharm": {
     "name": "#%%\n"
    }
   },
   "outputs": [],
   "source": [
    "class Debugger(Debugger):\n",
    "    def watch_command(self,arg=\"\"):\n",
    "        \"\"\"Creates a numbered watchpoint for the given variable\"\"\"\n",
    "        if arg:\n",
    "            variables = [var for (var, val) in self.watchpoints.values()]\n",
    "            if not arg in variables:\n",
    "                if len(self.watchpoints)>0:\n",
    "                    largest_key= max(self.watchpoints.keys())\n",
    "                else:\n",
    "                    largest_key = 0\n",
    "                self.watchpoints[largest_key+1]=(arg,None)\n",
    "\n",
    "            else:\n",
    "                self.log(\"Watchpoint already exists: \"+arg)\n",
    "        else:\n",
    "            self.print_watchpoints()\n",
    "\n",
    "    def unwatch_command(self,arg=\"\"):\n",
    "        \"\"\"Remove a watchpoint with the given <watch_id>\"\"\"\n",
    "        if arg:\n",
    "            if arg.isdigit():\n",
    "                try:\n",
    "                    self.watchpoints.pop(int(arg))\n",
    "                except KeyError:\n",
    "                    self.log(\"No such watchpoint: \"+ arg)\n",
    "                self.log(\"Watchpoints\", self.watchpoints)\n",
    "            else:\n",
    "                self.log(\"The argument has to be an integer: unwatch <watch_id>\")\n",
    "        else:\n",
    "            self.log(\"Specify which watchpoint to remove: unwatch <watch_id>\")\n",
    "            self.log(\"Watchpoints\", self.watchpoints)\n",
    "\n",
    "    def update_watchpoints(self,print_changes=False):\n",
    "        \"\"\"Checks whether any of the watchpoints trigger and prints the corresponding output\"\"\"\n",
    "        changes={}\n",
    "        for watch_id in self.watchpoints:\n",
    "            entry = self.watchpoints[watch_id]\n",
    "            if entry[0] in self.variables:\n",
    "                if self.variables[entry[0]]!=entry[1]:\n",
    "                    changes[watch_id]=(entry[0],self.variables[entry[0]])\n",
    "        self.watchpoints.update(changes)\n",
    "        if print_changes and changes:\n",
    "            changes_s= \", \".join([repr(self.watchpoints[watch_id][0])+\" = \"+ repr(self.watchpoints[watch_id][1])\n",
    "                               for watch_id in changes])\n",
    "            self.log(\"Changed watchpoints: \" + changes_s)\n",
    "        return changes\n",
    "\n",
    "    def check_watchpoints(self):\n",
    "        \"\"\"Controls watchpoint updates. If the program just returned a watchpoint only triggers if that is due to\n",
    "        being assigned to the return value\"\"\"\n",
    "        if not self.watchpoints:\n",
    "            return\n",
    "\n",
    "        if self.current_step>0:\n",
    "            if self.execution_log[self.current_step-1].event == 'return':\n",
    "                var_backup = self.variables.copy()\n",
    "                step = self.current_step-1\n",
    "                state =self.execution_log[step]\n",
    "                while not (step == 0 or (state.event=='line' and state.fun_name == self.current_state.fun_name)):\n",
    "                    step -= 1\n",
    "                    state = self.execution_log[step]\n",
    "                if step != 0:\n",
    "                    self.log(str(state))\n",
    "                    self.variables = self.construct_vars_at(step)\n",
    "                    self.update_watchpoints()\n",
    "                    self.variables=var_backup\n",
    "                    self.update_watchpoints(True)\n",
    "            else:\n",
    "                self.update_watchpoints(True)\n",
    "        else:\n",
    "            self.update_watchpoints(True)\n",
    "\n",
    "    def print_watchpoints(self):\n",
    "        \"\"\"Print all current watchpoints\"\"\"\n",
    "        watched_vars= \", \".join([str(watch_id) + \": \"+repr(self.watchpoints[watch_id][0])\n",
    "                               for watch_id in self.watchpoints])\n",
    "        self.log(watched_vars)\n",
    "\n"
   ]
  },
  {
   "cell_type": "markdown",
   "metadata": {},
   "source": [
    "## Print command\n",
    "The print command prints currently available variables and expressions"
   ]
  },
  {
   "cell_type": "code",
   "execution_count": 27,
   "metadata": {
    "pycharm": {
     "name": "#%%\n"
    }
   },
   "outputs": [],
   "source": [
    "IMPLEMENTED.add(\"/R17/\")\n",
    "IMPLEMENTED.add(\"/R18/\")"
   ]
  },
  {
   "cell_type": "code",
   "execution_count": 28,
   "metadata": {
    "pycharm": {
     "name": "#%%\n"
    }
   },
   "outputs": [],
   "source": [
    "class Debugger(Debugger):\n",
    "    def print_command(self, arg=\"\"):\n",
    "        \"\"\"Print an expression. If no expression is given, print all variables\"\"\"\n",
    "        variables = self.variables\n",
    "        if not arg:\n",
    "            self.log(\"\\n\".join([f\"{var} = {repr(variables[var])}\" for var in variables]))\n",
    "        else:\n",
    "            try:\n",
    "                self.log(f\"{arg} = {repr(eval(arg, globals(), variables))}\")\n",
    "            except Exception as err:\n",
    "                self.log(f\"{err.__class__.__name__}: {err}\")\n",
    "\n",
    "\n",
    "    def get_log(self):\n",
    "        return self.execution_log\n"
   ]
  },
  {
   "cell_type": "markdown",
   "metadata": {},
   "source": [
    "# Examples\n",
    "### Let's define a couple functions"
   ]
  },
  {
   "cell_type": "code",
   "execution_count": 29,
   "metadata": {
    "pycharm": {
     "name": "#%%\n"
    }
   },
   "outputs": [],
   "source": [
    "def foo(arg):\n",
    "    a = 12\n",
    "    a= arg\n",
    "    b = bar(21)\n",
    "    x = 5\n",
    "    recursion(3)\n",
    "    #b = fun(a,x)\n",
    "    a = 11\n",
    "    return\n",
    "\n",
    "def bar(arg):\n",
    "    b = arg\n",
    "    a = 7\n",
    "    return a+b\n",
    "\n",
    "def recursion(value):\n",
    "    if value>0:\n",
    "        recursion(value - 1)\n"
   ]
  },
  {
   "cell_type": "markdown",
   "metadata": {},
   "source": [
    "### First some stepping and printing of variables (/R4/,/R17/,/R1/)\n",
    "We can observe how the variables change"
   ]
  },
  {
   "cell_type": "code",
   "execution_count": 30,
   "metadata": {
    "pycharm": {
     "name": "#%%\n"
    }
   },
   "outputs": [
    {
     "name": "stdout",
     "output_type": "stream",
     "text": [
      "2        a = 12\n",
      "\n",
      "arg = 2\n",
      "3        a= arg\n",
      "\n",
      "arg = 2\n",
      "a = 12\n",
      "4        b = bar(21)\n",
      "\n",
      "arg = 2\n",
      "a = 2\n",
      "Quit debugger session\n"
     ]
    },
    {
     "data": {
      "text/plain": "<IPython.core.display.HTML object>",
      "text/html": "<samp>(debugger) <b>print</b></samp>"
     },
     "metadata": {},
     "output_type": "display_data"
    },
    {
     "data": {
      "text/plain": "<IPython.core.display.HTML object>",
      "text/html": "<samp>(debugger) <b>step</b></samp>"
     },
     "metadata": {},
     "output_type": "display_data"
    },
    {
     "data": {
      "text/plain": "<IPython.core.display.HTML object>",
      "text/html": "<samp>(debugger) <b>print</b></samp>"
     },
     "metadata": {},
     "output_type": "display_data"
    },
    {
     "data": {
      "text/plain": "<IPython.core.display.HTML object>",
      "text/html": "<samp>(debugger) <b>step</b></samp>"
     },
     "metadata": {},
     "output_type": "display_data"
    },
    {
     "data": {
      "text/plain": "<IPython.core.display.HTML object>",
      "text/html": "<samp>(debugger) <b>print</b></samp>"
     },
     "metadata": {},
     "output_type": "display_data"
    },
    {
     "data": {
      "text/plain": "<IPython.core.display.HTML object>",
      "text/html": "<samp>(debugger) <b>quit</b></samp>"
     },
     "metadata": {},
     "output_type": "display_data"
    }
   ],
   "source": [
    "next_inputs([\"print\",\"step\",\"print\",\"step\",\"print\",\"quit\"])\n",
    "with TimeTravelDebugger():\n",
    "    foo(2)"
   ]
  },
  {
   "cell_type": "markdown",
   "metadata": {},
   "source": [
    "### Let's try backstep too (/R4/,/R5/,/R16/,/R18/,/R20/)\n",
    "We can see the variable value alternating and show usage of an expression in print\n",
    "We also the usage of an expression in print"
   ]
  },
  {
   "cell_type": "code",
   "execution_count": 31,
   "metadata": {
    "pycharm": {
     "name": "#%%\n"
    }
   },
   "outputs": [
    {
     "name": "stdout",
     "output_type": "stream",
     "text": [
      "2        a = 12\n",
      "\n",
      "arg = 2\n",
      "3        a= arg\n",
      "\n",
      "arg = 2\n",
      "a = 12\n",
      "2        a = 12\n",
      "\n",
      "arg = 2\n",
      "3        a= arg\n",
      "\n",
      "max(a,10) = 12\n",
      "Quit debugger session\n"
     ]
    },
    {
     "data": {
      "text/plain": "<IPython.core.display.HTML object>",
      "text/html": "<samp>(debugger) <b>print</b></samp>"
     },
     "metadata": {},
     "output_type": "display_data"
    },
    {
     "data": {
      "text/plain": "<IPython.core.display.HTML object>",
      "text/html": "<samp>(debugger) <b>step</b></samp>"
     },
     "metadata": {},
     "output_type": "display_data"
    },
    {
     "data": {
      "text/plain": "<IPython.core.display.HTML object>",
      "text/html": "<samp>(debugger) <b>print</b></samp>"
     },
     "metadata": {},
     "output_type": "display_data"
    },
    {
     "data": {
      "text/plain": "<IPython.core.display.HTML object>",
      "text/html": "<samp>(debugger) <b>backstep</b></samp>"
     },
     "metadata": {},
     "output_type": "display_data"
    },
    {
     "data": {
      "text/plain": "<IPython.core.display.HTML object>",
      "text/html": "<samp>(debugger) <b>print</b></samp>"
     },
     "metadata": {},
     "output_type": "display_data"
    },
    {
     "data": {
      "text/plain": "<IPython.core.display.HTML object>",
      "text/html": "<samp>(debugger) <b>step</b></samp>"
     },
     "metadata": {},
     "output_type": "display_data"
    },
    {
     "data": {
      "text/plain": "<IPython.core.display.HTML object>",
      "text/html": "<samp>(debugger) <b>print max(a,10)</b></samp>"
     },
     "metadata": {},
     "output_type": "display_data"
    },
    {
     "data": {
      "text/plain": "<IPython.core.display.HTML object>",
      "text/html": "<samp>(debugger) <b>quit</b></samp>"
     },
     "metadata": {},
     "output_type": "display_data"
    }
   ],
   "source": [
    "next_inputs([\"print\",\"step\",\"print\",\"backstep\",\"print\",\"step\",\"print max(a,10)\",\"quit\"])\n",
    "with TimeTravelDebugger():\n",
    "    foo(2)"
   ]
  },
  {
   "cell_type": "markdown",
   "metadata": {},
   "source": [
    "### Next and previous (/R6/,/R7/)\n",
    "When we call step at the call to bar() we step into it, but with next and previous we can jump over it.\n",
    "Backstep will also step into bar(), but from the other end. We also see all the variables are what they are supposed to be after the function call."
   ]
  },
  {
   "cell_type": "code",
   "execution_count": 32,
   "metadata": {
    "pycharm": {
     "name": "#%%\n"
    }
   },
   "outputs": [
    {
     "name": "stdout",
     "output_type": "stream",
     "text": [
      "2        a = 12\n",
      "\n",
      "3        a= arg\n",
      "\n",
      "4        b = bar(21)\n",
      "\n",
      "12        b = arg\n",
      "\n",
      "4        b = bar(21)\n",
      "\n",
      "5        x = 5\n",
      "\n",
      "arg = 2\n",
      "a = 2\n",
      "b = 28\n",
      "14        return a+b\n",
      "\n",
      "5        x = 5\n",
      "\n",
      "4        b = bar(21)\n",
      "\n",
      "arg = 2\n",
      "a = 2\n",
      "Quit debugger session\n"
     ]
    },
    {
     "data": {
      "text/plain": "<IPython.core.display.HTML object>",
      "text/html": "<samp>(debugger) <b>step</b></samp>"
     },
     "metadata": {},
     "output_type": "display_data"
    },
    {
     "data": {
      "text/plain": "<IPython.core.display.HTML object>",
      "text/html": "<samp>(debugger) <b>step</b></samp>"
     },
     "metadata": {},
     "output_type": "display_data"
    },
    {
     "data": {
      "text/plain": "<IPython.core.display.HTML object>",
      "text/html": "<samp>(debugger) <b>step</b></samp>"
     },
     "metadata": {},
     "output_type": "display_data"
    },
    {
     "data": {
      "text/plain": "<IPython.core.display.HTML object>",
      "text/html": "<samp>(debugger) <b>backstep</b></samp>"
     },
     "metadata": {},
     "output_type": "display_data"
    },
    {
     "data": {
      "text/plain": "<IPython.core.display.HTML object>",
      "text/html": "<samp>(debugger) <b>next</b></samp>"
     },
     "metadata": {},
     "output_type": "display_data"
    },
    {
     "data": {
      "text/plain": "<IPython.core.display.HTML object>",
      "text/html": "<samp>(debugger) <b>print</b></samp>"
     },
     "metadata": {},
     "output_type": "display_data"
    },
    {
     "data": {
      "text/plain": "<IPython.core.display.HTML object>",
      "text/html": "<samp>(debugger) <b>backstep</b></samp>"
     },
     "metadata": {},
     "output_type": "display_data"
    },
    {
     "data": {
      "text/plain": "<IPython.core.display.HTML object>",
      "text/html": "<samp>(debugger) <b>step</b></samp>"
     },
     "metadata": {},
     "output_type": "display_data"
    },
    {
     "data": {
      "text/plain": "<IPython.core.display.HTML object>",
      "text/html": "<samp>(debugger) <b>previous</b></samp>"
     },
     "metadata": {},
     "output_type": "display_data"
    },
    {
     "data": {
      "text/plain": "<IPython.core.display.HTML object>",
      "text/html": "<samp>(debugger) <b>print</b></samp>"
     },
     "metadata": {},
     "output_type": "display_data"
    },
    {
     "data": {
      "text/plain": "<IPython.core.display.HTML object>",
      "text/html": "<samp>(debugger) <b>quit</b></samp>"
     },
     "metadata": {},
     "output_type": "display_data"
    }
   ],
   "source": [
    "next_inputs([\"step\",\"step\",\"step\",\"backstep\",\"next\",\"print\",\"backstep\",\"step\",\"previous\",\"print\",\"quit\"])\n",
    "with TimeTravelDebugger():\n",
    "    foo(2)"
   ]
  },
  {
   "cell_type": "markdown",
   "metadata": {},
   "source": [
    "### Finish and start (/R8/,/R9/)\n",
    "Executing until return and back to function start again. We also see the behavior at the end (and beginning) of a function"
   ]
  },
  {
   "cell_type": "code",
   "execution_count": 33,
   "metadata": {
    "pycharm": {
     "name": "#%%\n"
    }
   },
   "outputs": [
    {
     "name": "stdout",
     "output_type": "stream",
     "text": [
      "2        a = 12\n",
      "\n",
      "9        return\n",
      "\n",
      "9        return\n",
      "\n",
      "2        a = 12\n",
      "\n",
      "2        a = 12\n",
      "\n",
      "3        a= arg\n",
      "\n",
      "4        b = bar(21)\n",
      "\n",
      "12        b = arg\n",
      "\n",
      "14        return a+b\n",
      "\n",
      "12        b = arg\n",
      "\n",
      "Quit debugger session\n"
     ]
    },
    {
     "data": {
      "text/plain": "<IPython.core.display.HTML object>",
      "text/html": "<samp>(debugger) <b>finish</b></samp>"
     },
     "metadata": {},
     "output_type": "display_data"
    },
    {
     "data": {
      "text/plain": "<IPython.core.display.HTML object>",
      "text/html": "<samp>(debugger) <b>finish</b></samp>"
     },
     "metadata": {},
     "output_type": "display_data"
    },
    {
     "data": {
      "text/plain": "<IPython.core.display.HTML object>",
      "text/html": "<samp>(debugger) <b>start</b></samp>"
     },
     "metadata": {},
     "output_type": "display_data"
    },
    {
     "data": {
      "text/plain": "<IPython.core.display.HTML object>",
      "text/html": "<samp>(debugger) <b>start</b></samp>"
     },
     "metadata": {},
     "output_type": "display_data"
    },
    {
     "data": {
      "text/plain": "<IPython.core.display.HTML object>",
      "text/html": "<samp>(debugger) <b>step</b></samp>"
     },
     "metadata": {},
     "output_type": "display_data"
    },
    {
     "data": {
      "text/plain": "<IPython.core.display.HTML object>",
      "text/html": "<samp>(debugger) <b>step</b></samp>"
     },
     "metadata": {},
     "output_type": "display_data"
    },
    {
     "data": {
      "text/plain": "<IPython.core.display.HTML object>",
      "text/html": "<samp>(debugger) <b>step</b></samp>"
     },
     "metadata": {},
     "output_type": "display_data"
    },
    {
     "data": {
      "text/plain": "<IPython.core.display.HTML object>",
      "text/html": "<samp>(debugger) <b>finish</b></samp>"
     },
     "metadata": {},
     "output_type": "display_data"
    },
    {
     "data": {
      "text/plain": "<IPython.core.display.HTML object>",
      "text/html": "<samp>(debugger) <b>start</b></samp>"
     },
     "metadata": {},
     "output_type": "display_data"
    },
    {
     "data": {
      "text/plain": "<IPython.core.display.HTML object>",
      "text/html": "<samp>(debugger) <b>quit</b></samp>"
     },
     "metadata": {},
     "output_type": "display_data"
    }
   ],
   "source": [
    "next_inputs([\"finish\",\"finish\",\"start\",\"start\",\"step\",\"step\",\"step\",\"finish\",\"start\",\"quit\"])\n",
    "with TimeTravelDebugger():\n",
    "    foo(2)"
   ]
  },
  {
   "cell_type": "markdown",
   "metadata": {},
   "source": [
    "### List and until (/R10/,/R16/)\n",
    "Let's display varying amounts of function code with list and move around with until"
   ]
  },
  {
   "cell_type": "code",
   "execution_count": 34,
   "metadata": {
    "pycharm": {
     "name": "#%%\n"
    }
   },
   "outputs": [
    {
     "name": "stdout",
     "output_type": "stream",
     "text": [
      "2        a = 12\n",
      "\n",
      "def foo(arg):\n",
      "\n",
      "2>>     a = 12\n",
      "\n",
      "    a= arg\n",
      "\n",
      "    b = bar(21)\n",
      "\n",
      "def foo(arg):\n",
      "\n",
      "2>>     a = 12\n",
      "\n",
      "    a= arg\n",
      "\n",
      "    b = bar(21)\n",
      "\n",
      "    x = 5\n",
      "\n",
      "def foo(arg):\n",
      "\n",
      "2>>     a = 12\n",
      "\n",
      "    a= arg\n",
      "\n",
      "    b = bar(21)\n",
      "\n",
      "    x = 5\n",
      "\n",
      "    recursion(3)\n",
      "\n",
      "    #b = fun(a,x)\n",
      "\n",
      "    a = 11\n",
      "\n",
      "    return\n",
      "\n",
      "12        b = arg\n",
      "\n",
      "def bar(arg):\n",
      "\n",
      "12>>     b = arg\n",
      "\n",
      "Quit debugger session\n"
     ]
    },
    {
     "data": {
      "text/plain": "<IPython.core.display.HTML object>",
      "text/html": "<samp>(debugger) <b>list</b></samp>"
     },
     "metadata": {},
     "output_type": "display_data"
    },
    {
     "data": {
      "text/plain": "<IPython.core.display.HTML object>",
      "text/html": "<samp>(debugger) <b>list 3</b></samp>"
     },
     "metadata": {},
     "output_type": "display_data"
    },
    {
     "data": {
      "text/plain": "<IPython.core.display.HTML object>",
      "text/html": "<samp>(debugger) <b>list 100</b></samp>"
     },
     "metadata": {},
     "output_type": "display_data"
    },
    {
     "data": {
      "text/plain": "<IPython.core.display.HTML object>",
      "text/html": "<samp>(debugger) <b>until 5</b></samp>"
     },
     "metadata": {},
     "output_type": "display_data"
    },
    {
     "data": {
      "text/plain": "<IPython.core.display.HTML object>",
      "text/html": "<samp>(debugger) <b>list 1 0</b></samp>"
     },
     "metadata": {},
     "output_type": "display_data"
    },
    {
     "data": {
      "text/plain": "<IPython.core.display.HTML object>",
      "text/html": "<samp>(debugger) <b>quit</b></samp>"
     },
     "metadata": {},
     "output_type": "display_data"
    }
   ],
   "source": [
    "next_inputs([\"list\",\"list 3\",\"list 100\",\"until 5\",\"list 1 0\",\"quit\"])\n",
    "with TimeTravelDebugger():\n",
    "    foo(2)\n"
   ]
  },
  {
   "cell_type": "markdown",
   "metadata": {},
   "source": [
    "### Backuntil and more until(/R10/,/R11/)\n",
    "This time with functions as arguments"
   ]
  },
  {
   "cell_type": "code",
   "execution_count": 35,
   "metadata": {
    "pycharm": {
     "name": "#%%\n"
    }
   },
   "outputs": [
    {
     "name": "stdout",
     "output_type": "stream",
     "text": [
      "2        a = 12\n",
      "\n",
      "4        b = bar(21)\n",
      "\n",
      "12        b = arg\n",
      "\n",
      "14        return a+b\n",
      "\n",
      "5        x = 5\n",
      "\n",
      "12        b = arg\n",
      "\n",
      "Quit debugger session\n"
     ]
    },
    {
     "data": {
      "text/plain": "<IPython.core.display.HTML object>",
      "text/html": "<samp>(debugger) <b>until bar</b></samp>"
     },
     "metadata": {},
     "output_type": "display_data"
    },
    {
     "data": {
      "text/plain": "<IPython.core.display.HTML object>",
      "text/html": "<samp>(debugger) <b>step</b></samp>"
     },
     "metadata": {},
     "output_type": "display_data"
    },
    {
     "data": {
      "text/plain": "<IPython.core.display.HTML object>",
      "text/html": "<samp>(debugger) <b>finish</b></samp>"
     },
     "metadata": {},
     "output_type": "display_data"
    },
    {
     "data": {
      "text/plain": "<IPython.core.display.HTML object>",
      "text/html": "<samp>(debugger) <b>step</b></samp>"
     },
     "metadata": {},
     "output_type": "display_data"
    },
    {
     "data": {
      "text/plain": "<IPython.core.display.HTML object>",
      "text/html": "<samp>(debugger) <b>backuntil bar</b></samp>"
     },
     "metadata": {},
     "output_type": "display_data"
    },
    {
     "data": {
      "text/plain": "<IPython.core.display.HTML object>",
      "text/html": "<samp>(debugger) <b>quit</b></samp>"
     },
     "metadata": {},
     "output_type": "display_data"
    }
   ],
   "source": [
    "next_inputs([\"until bar\",\"step\",\"finish\",\"step\",\"backuntil bar\",\"quit\"])\n",
    "with TimeTravelDebugger():\n",
    "    foo(2)\n"
   ]
  },
  {
   "cell_type": "markdown",
   "metadata": {},
   "source": [
    "### Breakpoints and continue (/R12/,/R20/)\n",
    "Let's put some breakpoints, show them, and observe the continue command stopping there. As expected the function breakpoint for recursion() is hit every time it calls itself."
   ]
  },
  {
   "cell_type": "code",
   "execution_count": 36,
   "metadata": {
    "pycharm": {
     "name": "#%%\n"
    }
   },
   "outputs": [
    {
     "name": "stdout",
     "output_type": "stream",
     "text": [
      "2        a = 12\n",
      "\n",
      "1   line  '<ipython-input-29-ae4cb03b8ced>':3  True\n",
      "2   func  '<ipython-input-29-ae4cb03b8ced>':recursion  True\n",
      "3        a= arg\n",
      "\n",
      "17        if value>0:\n",
      "\n",
      "17        if value>0:\n",
      "\n",
      "17        if value>0:\n",
      "\n",
      "17        if value>0:\n",
      "\n",
      "9        return\n",
      "\n",
      "Quit debugger session\n"
     ]
    },
    {
     "data": {
      "text/plain": "<IPython.core.display.HTML object>",
      "text/html": "<samp>(debugger) <b>break 3</b></samp>"
     },
     "metadata": {},
     "output_type": "display_data"
    },
    {
     "data": {
      "text/plain": "<IPython.core.display.HTML object>",
      "text/html": "<samp>(debugger) <b>break recursion</b></samp>"
     },
     "metadata": {},
     "output_type": "display_data"
    },
    {
     "data": {
      "text/plain": "<IPython.core.display.HTML object>",
      "text/html": "<samp>(debugger) <b>breakpoints</b></samp>"
     },
     "metadata": {},
     "output_type": "display_data"
    },
    {
     "data": {
      "text/plain": "<IPython.core.display.HTML object>",
      "text/html": "<samp>(debugger) <b>continue</b></samp>"
     },
     "metadata": {},
     "output_type": "display_data"
    },
    {
     "data": {
      "text/plain": "<IPython.core.display.HTML object>",
      "text/html": "<samp>(debugger) <b>continue</b></samp>"
     },
     "metadata": {},
     "output_type": "display_data"
    },
    {
     "data": {
      "text/plain": "<IPython.core.display.HTML object>",
      "text/html": "<samp>(debugger) <b>continue</b></samp>"
     },
     "metadata": {},
     "output_type": "display_data"
    },
    {
     "data": {
      "text/plain": "<IPython.core.display.HTML object>",
      "text/html": "<samp>(debugger) <b>continue</b></samp>"
     },
     "metadata": {},
     "output_type": "display_data"
    },
    {
     "data": {
      "text/plain": "<IPython.core.display.HTML object>",
      "text/html": "<samp>(debugger) <b>continue</b></samp>"
     },
     "metadata": {},
     "output_type": "display_data"
    },
    {
     "data": {
      "text/plain": "<IPython.core.display.HTML object>",
      "text/html": "<samp>(debugger) <b>continue</b></samp>"
     },
     "metadata": {},
     "output_type": "display_data"
    },
    {
     "data": {
      "text/plain": "<IPython.core.display.HTML object>",
      "text/html": "<samp>(debugger) <b>quit</b></samp>"
     },
     "metadata": {},
     "output_type": "display_data"
    }
   ],
   "source": [
    "next_inputs([\"break 3\",\"break recursion\",\"breakpoints\",\"continue\",\"continue\",\"continue\",\"continue\",\"continue\",\"continue\",\"quit\"])\n",
    "with TimeTravelDebugger():\n",
    "    foo(2)\n"
   ]
  },
  {
   "cell_type": "markdown",
   "metadata": {},
   "source": [
    "### Breakpoints, alias, and reverse (/R20/,/R13/,/R17/,and may-have)\n",
    "Let's define a conditional breakpoint, play around with the name, and display reverse stopping.\n",
    "As one can see, the break is accessible (disabling and enabling it) through it's alias"
   ]
  },
  {
   "cell_type": "code",
   "execution_count": 37,
   "metadata": {
    "pycharm": {
     "name": "#%%\n"
    }
   },
   "outputs": [
    {
     "name": "stdout",
     "output_type": "stream",
     "text": [
      "2        a = 12\n",
      "\n",
      "9        return\n",
      "\n",
      "cond_break   cond  '<ipython-input-29-ae4cb03b8ced>':4  True  'a==2'\n",
      "cond_break   cond  '<ipython-input-29-ae4cb03b8ced>':4  False  'a==2'\n",
      "4        b = bar(21)\n",
      "\n",
      "a = 2\n",
      "Quit debugger session\n"
     ]
    },
    {
     "data": {
      "text/plain": "<IPython.core.display.HTML object>",
      "text/html": "<samp>(debugger) <b>finish</b></samp>"
     },
     "metadata": {},
     "output_type": "display_data"
    },
    {
     "data": {
      "text/plain": "<IPython.core.display.HTML object>",
      "text/html": "<samp>(debugger) <b>cond 4 a==2</b></samp>"
     },
     "metadata": {},
     "output_type": "display_data"
    },
    {
     "data": {
      "text/plain": "<IPython.core.display.HTML object>",
      "text/html": "<samp>(debugger) <b>alias 1 cond_break</b></samp>"
     },
     "metadata": {},
     "output_type": "display_data"
    },
    {
     "data": {
      "text/plain": "<IPython.core.display.HTML object>",
      "text/html": "<samp>(debugger) <b>breakpoints</b></samp>"
     },
     "metadata": {},
     "output_type": "display_data"
    },
    {
     "data": {
      "text/plain": "<IPython.core.display.HTML object>",
      "text/html": "<samp>(debugger) <b>disable cond_break</b></samp>"
     },
     "metadata": {},
     "output_type": "display_data"
    },
    {
     "data": {
      "text/plain": "<IPython.core.display.HTML object>",
      "text/html": "<samp>(debugger) <b>breakpoints</b></samp>"
     },
     "metadata": {},
     "output_type": "display_data"
    },
    {
     "data": {
      "text/plain": "<IPython.core.display.HTML object>",
      "text/html": "<samp>(debugger) <b>enable cond_break</b></samp>"
     },
     "metadata": {},
     "output_type": "display_data"
    },
    {
     "data": {
      "text/plain": "<IPython.core.display.HTML object>",
      "text/html": "<samp>(debugger) <b>reverse</b></samp>"
     },
     "metadata": {},
     "output_type": "display_data"
    },
    {
     "data": {
      "text/plain": "<IPython.core.display.HTML object>",
      "text/html": "<samp>(debugger) <b>print a</b></samp>"
     },
     "metadata": {},
     "output_type": "display_data"
    },
    {
     "data": {
      "text/plain": "<IPython.core.display.HTML object>",
      "text/html": "<samp>(debugger) <b>quit</b></samp>"
     },
     "metadata": {},
     "output_type": "display_data"
    }
   ],
   "source": [
    "next_inputs([\"finish\",\"cond 4 a==2\",\"alias 1 cond_break\",\"breakpoints\",\"disable cond_break\",\"breakpoints\",\"enable cond_break\",\"reverse\",\"print a\",\"quit\"])\n",
    "with TimeTravelDebugger():\n",
    "    foo(2)\n"
   ]
  },
  {
   "cell_type": "code",
   "execution_count": 38,
   "metadata": {
    "pycharm": {
     "name": "#%%\n"
    }
   },
   "outputs": [],
   "source": [
    "def deep1(arg):\n",
    "    #first layer\n",
    "    arg+=1\n",
    "    erg = deep2(arg)\n",
    "    return erg\n",
    "\n",
    "def deep2(arg):\n",
    "    #second layer\n",
    "    arg+=2\n",
    "    return deep3(arg)\n",
    "\n",
    "def deep3(arg):\n",
    "    #third layer\n",
    "    arg+=3\n",
    "    return arg"
   ]
  },
  {
   "cell_type": "markdown",
   "metadata": {},
   "source": [
    "###  Callstack navigation(/R14/,/R15/)\n",
    "Let's step into a function and use where, up and down to navigate the callstack"
   ]
  },
  {
   "cell_type": "code",
   "execution_count": 39,
   "metadata": {
    "pycharm": {
     "name": "#%%\n"
    }
   },
   "outputs": [
    {
     "name": "stdout",
     "output_type": "stream",
     "text": [
      "3        arg+=1\n",
      "\n",
      "File \"<ipython-input-38-18e0618e5b2e>\", Line 1, in <module>\n",
      ">> File \"<ipython-input-38-18e0618e5b2e>\", Line 3, in deep1\n",
      "4        erg = deep2(arg)\n",
      "\n",
      "9        arg+=2\n",
      "\n",
      "File \"<ipython-input-38-18e0618e5b2e>\", Line 1, in <module>\n",
      "File \"<ipython-input-38-18e0618e5b2e>\", Line 4, in deep1\n",
      ">> File \"<ipython-input-38-18e0618e5b2e>\", Line 9, in deep2\n",
      "def deep1(arg):\n",
      "\n",
      "    #first layer\n",
      "\n",
      "    arg+=1\n",
      "\n",
      ">>    erg = deep2(arg)\n",
      "\n",
      "    return erg\n",
      "\n",
      "File \"<ipython-input-38-18e0618e5b2e>\", Line 1, in <module>\n",
      ">> File \"<ipython-input-38-18e0618e5b2e>\", Line 4, in deep1\n",
      "File \"<ipython-input-38-18e0618e5b2e>\", Line 9, in deep2\n",
      "def deep2(arg):\n",
      "\n",
      "    #second layer\n",
      "\n",
      ">>    arg+=2\n",
      "\n",
      "    return deep3(arg)\n",
      "\n",
      "10        return deep3(arg)\n",
      "\n",
      "14        arg+=3\n",
      "\n",
      "File \"<ipython-input-38-18e0618e5b2e>\", Line 1, in <module>\n",
      "File \"<ipython-input-38-18e0618e5b2e>\", Line 4, in deep1\n",
      "File \"<ipython-input-38-18e0618e5b2e>\", Line 10, in deep2\n",
      ">> File \"<ipython-input-38-18e0618e5b2e>\", Line 14, in deep3\n",
      "Quit debugger session\n"
     ]
    },
    {
     "data": {
      "text/plain": "<IPython.core.display.HTML object>",
      "text/html": "<samp>(debugger) <b>where</b></samp>"
     },
     "metadata": {},
     "output_type": "display_data"
    },
    {
     "data": {
      "text/plain": "<IPython.core.display.HTML object>",
      "text/html": "<samp>(debugger) <b>step</b></samp>"
     },
     "metadata": {},
     "output_type": "display_data"
    },
    {
     "data": {
      "text/plain": "<IPython.core.display.HTML object>",
      "text/html": "<samp>(debugger) <b>step</b></samp>"
     },
     "metadata": {},
     "output_type": "display_data"
    },
    {
     "data": {
      "text/plain": "<IPython.core.display.HTML object>",
      "text/html": "<samp>(debugger) <b>where</b></samp>"
     },
     "metadata": {},
     "output_type": "display_data"
    },
    {
     "data": {
      "text/plain": "<IPython.core.display.HTML object>",
      "text/html": "<samp>(debugger) <b>up</b></samp>"
     },
     "metadata": {},
     "output_type": "display_data"
    },
    {
     "data": {
      "text/plain": "<IPython.core.display.HTML object>",
      "text/html": "<samp>(debugger) <b>where</b></samp>"
     },
     "metadata": {},
     "output_type": "display_data"
    },
    {
     "data": {
      "text/plain": "<IPython.core.display.HTML object>",
      "text/html": "<samp>(debugger) <b>down</b></samp>"
     },
     "metadata": {},
     "output_type": "display_data"
    },
    {
     "data": {
      "text/plain": "<IPython.core.display.HTML object>",
      "text/html": "<samp>(debugger) <b>step</b></samp>"
     },
     "metadata": {},
     "output_type": "display_data"
    },
    {
     "data": {
      "text/plain": "<IPython.core.display.HTML object>",
      "text/html": "<samp>(debugger) <b>step</b></samp>"
     },
     "metadata": {},
     "output_type": "display_data"
    },
    {
     "data": {
      "text/plain": "<IPython.core.display.HTML object>",
      "text/html": "<samp>(debugger) <b>where</b></samp>"
     },
     "metadata": {},
     "output_type": "display_data"
    },
    {
     "data": {
      "text/plain": "<IPython.core.display.HTML object>",
      "text/html": "<samp>(debugger) <b>quit</b></samp>"
     },
     "metadata": {},
     "output_type": "display_data"
    }
   ],
   "source": [
    "next_inputs([\"where\",\"step\",\"step\",\"where\",\"up\",\"where\",\"down\",\"step\",\"step\",\"where\",\"quit\"])\n",
    "with TimeTravelDebugger():\n",
    "    deep1(1)"
   ]
  },
  {
   "cell_type": "markdown",
   "metadata": {},
   "source": [
    "###  Watchpoints (/R19/)\n",
    "\n",
    "We set watchpoints for 'a' and 'something', move through the program a bit to see the print, and then unwatch the second watchpoint."
   ]
  },
  {
   "cell_type": "code",
   "execution_count": 40,
   "metadata": {
    "pycharm": {
     "name": "#%%\n"
    }
   },
   "outputs": [
    {
     "name": "stdout",
     "output_type": "stream",
     "text": [
      "2        a = 12\n",
      "\n",
      "1: 'a', 2: 'something'\n",
      "Changed watchpoints: 'a' = 12\n",
      "3        a= arg\n",
      "\n",
      "Changed watchpoints: 'a' = 2\n",
      "4        b = bar(21)\n",
      "\n",
      "Changed watchpoints: 'a' = 11\n",
      "9        return\n",
      "\n",
      "arg = 2\n",
      "a = 11\n",
      "b = 28\n",
      "x = 5\n",
      "Watchpoints {1: ('a', 11)}\n",
      "1: 'a'\n",
      "Quit debugger session\n"
     ]
    },
    {
     "data": {
      "text/plain": "<IPython.core.display.HTML object>",
      "text/html": "<samp>(debugger) <b>watch a</b></samp>"
     },
     "metadata": {},
     "output_type": "display_data"
    },
    {
     "data": {
      "text/plain": "<IPython.core.display.HTML object>",
      "text/html": "<samp>(debugger) <b>watch something</b></samp>"
     },
     "metadata": {},
     "output_type": "display_data"
    },
    {
     "data": {
      "text/plain": "<IPython.core.display.HTML object>",
      "text/html": "<samp>(debugger) <b>watch</b></samp>"
     },
     "metadata": {},
     "output_type": "display_data"
    },
    {
     "data": {
      "text/plain": "<IPython.core.display.HTML object>",
      "text/html": "<samp>(debugger) <b>step</b></samp>"
     },
     "metadata": {},
     "output_type": "display_data"
    },
    {
     "data": {
      "text/plain": "<IPython.core.display.HTML object>",
      "text/html": "<samp>(debugger) <b>step</b></samp>"
     },
     "metadata": {},
     "output_type": "display_data"
    },
    {
     "data": {
      "text/plain": "<IPython.core.display.HTML object>",
      "text/html": "<samp>(debugger) <b>finish</b></samp>"
     },
     "metadata": {},
     "output_type": "display_data"
    },
    {
     "data": {
      "text/plain": "<IPython.core.display.HTML object>",
      "text/html": "<samp>(debugger) <b>print</b></samp>"
     },
     "metadata": {},
     "output_type": "display_data"
    },
    {
     "data": {
      "text/plain": "<IPython.core.display.HTML object>",
      "text/html": "<samp>(debugger) <b>unwatch 2</b></samp>"
     },
     "metadata": {},
     "output_type": "display_data"
    },
    {
     "data": {
      "text/plain": "<IPython.core.display.HTML object>",
      "text/html": "<samp>(debugger) <b>watch</b></samp>"
     },
     "metadata": {},
     "output_type": "display_data"
    },
    {
     "data": {
      "text/plain": "<IPython.core.display.HTML object>",
      "text/html": "<samp>(debugger) <b>quit</b></samp>"
     },
     "metadata": {},
     "output_type": "display_data"
    }
   ],
   "source": [
    "next_inputs([\"watch a\",\"watch something\",\"watch\",\"step\",\"step\",\"finish\",\"print\",\"unwatch 2\",\"watch\",\"quit\"])\n",
    "with TimeTravelDebugger():\n",
    "    foo(2)"
   ]
  },
  {
   "cell_type": "markdown",
   "metadata": {},
   "source": [
    "###  Help and missing arguments (/R2/,/R3/)\n",
    "Let's try the help command and try an undefined command. Let's also use faulty arguments with some commands."
   ]
  },
  {
   "cell_type": "code",
   "execution_count": 41,
   "metadata": {
    "pycharm": {
     "name": "#%%\n"
    }
   },
   "outputs": [
    {
     "name": "stdout",
     "output_type": "stream",
     "text": [
      "2        a = 12\n",
      "\n",
      "alias      -- Use as 'alias <breakpoint_id> <breakpoint_name>'  Set the alias <breakpoint_name> for breakpoint <breakpoint_id> \n",
      "backstep   -- None\n",
      "backuntil  -- Execute backwards until a certain point.\n",
      "        'backuntil' executes backwards until a line less than the current line is reached\n",
      "        'backuntil <line_number>' executes backwards until a line less than <line_number> is reached\n",
      "        'backuntil <filename>:<line_number>' executes backwards until line <line_number> is reached in file <filename>\n",
      "        'backuntil <function_name>' executes backwards until function <function_name> is called\n",
      "        'backuntil <filename>:<function_name>' executes backwards until function <function_name> declared in <filename> is called\n",
      "        \n",
      "break      -- Set a breakpoint.\n",
      "        'break <line_number>' Set breakpoint in line <line_number>\n",
      "        'break <function_name>' Set a breakpoint which hits when a function with the name <function_name> is entered\n",
      "        'break <file_name>:<function_name>' Set a breakpoint which hits when a function <function_name> declared in <file_name> is entered\n",
      "breakpoints -- Display all available breakpoints\n",
      "cond       -- Use as 'cond <line> <condition>'    Set a breakpoint at which the execution is stopped at line <line>\n",
      "        if a condition <condition> is true\n",
      "continue   --  Continue execution forward until a breakpoint is hit, or the program finishes\n",
      "delete     -- Delete breakpoint with given <breakpoint_id>|<breakpoint_name>\n",
      "disable    -- Use as 'disable <breakpoint_id>|<breakpoint_name>'    Suspend  specified breakpoint\n",
      "down       -- None\n",
      "enable     -- Use as 'enable <breakpoint_id>|<breakpoint_name>'    Re-enable specified breakpoint\n",
      "finish     -- Execute until return of current function\n",
      "help       -- Give help on given command. If no command is given, give help on all\n",
      "list       -- Print the source code around the current line\n",
      "        'list' prints two lines above and below\n",
      "        'list <number>' prints <number> lines above and below\n",
      "        'list <above> <below>' prints <above> lines above and <below> lines below\n",
      "next       -- None\n",
      "previous   -- Step over function calls going to the previous line\n",
      "print      -- Print an expression. If no expression is given, print all variables\n",
      "quit       -- None\n",
      "reverse    -- Continue execution backward until a breakpoint is hit, or the program starts\n",
      "start      -- Execute backwards until a function start\n",
      "step       -- None\n",
      "until      -- Execute forwards until a certain point.\n",
      "        'until' executes until a line greater than the current line is reached\n",
      "        'until <line_number>' executes until a line greater than <line_number> is reached\n",
      "        'until <filename>:<line_number>' executes until line <line_number> is reached in file <filename>\n",
      "        'until <function_name>' executes until function <function_name> is called\n",
      "        'until <filename>:<function_name>' executes until function <function_name> declared in <filename> is called\n",
      "        \n",
      "unwatch    -- Remove a watchpoint with the given <watch_id>\n",
      "up         -- None\n",
      "watch      -- Creates a numbered watchpoint for the given variable\n",
      "where      -- Print the current call stack or <number> many leading and trailing lines if given\n",
      "Unknown command 'unknown'. Possible commands are:\n",
      "alias      -- Use as 'alias <breakpoint_id> <breakpoint_name>'  Set the alias <breakpoint_name> for breakpoint <breakpoint_id> \n",
      "backstep   -- None\n",
      "backuntil  -- Execute backwards until a certain point.\n",
      "        'backuntil' executes backwards until a line less than the current line is reached\n",
      "        'backuntil <line_number>' executes backwards until a line less than <line_number> is reached\n",
      "        'backuntil <filename>:<line_number>' executes backwards until line <line_number> is reached in file <filename>\n",
      "        'backuntil <function_name>' executes backwards until function <function_name> is called\n",
      "        'backuntil <filename>:<function_name>' executes backwards until function <function_name> declared in <filename> is called\n",
      "        \n",
      "break      -- Set a breakpoint.\n",
      "        'break <line_number>' Set breakpoint in line <line_number>\n",
      "        'break <function_name>' Set a breakpoint which hits when a function with the name <function_name> is entered\n",
      "        'break <file_name>:<function_name>' Set a breakpoint which hits when a function <function_name> declared in <file_name> is entered\n",
      "breakpoints -- Display all available breakpoints\n",
      "cond       -- Use as 'cond <line> <condition>'    Set a breakpoint at which the execution is stopped at line <line>\n",
      "        if a condition <condition> is true\n",
      "continue   --  Continue execution forward until a breakpoint is hit, or the program finishes\n",
      "delete     -- Delete breakpoint with given <breakpoint_id>|<breakpoint_name>\n",
      "disable    -- Use as 'disable <breakpoint_id>|<breakpoint_name>'    Suspend  specified breakpoint\n",
      "down       -- None\n",
      "enable     -- Use as 'enable <breakpoint_id>|<breakpoint_name>'    Re-enable specified breakpoint\n",
      "finish     -- Execute until return of current function\n",
      "help       -- Give help on given command. If no command is given, give help on all\n",
      "list       -- Print the source code around the current line\n",
      "        'list' prints two lines above and below\n",
      "        'list <number>' prints <number> lines above and below\n",
      "        'list <above> <below>' prints <above> lines above and <below> lines below\n",
      "next       -- None\n",
      "previous   -- Step over function calls going to the previous line\n",
      "print      -- Print an expression. If no expression is given, print all variables\n",
      "quit       -- None\n",
      "reverse    -- Continue execution backward until a breakpoint is hit, or the program starts\n",
      "start      -- Execute backwards until a function start\n",
      "step       -- None\n",
      "until      -- Execute forwards until a certain point.\n",
      "        'until' executes until a line greater than the current line is reached\n",
      "        'until <line_number>' executes until a line greater than <line_number> is reached\n",
      "        'until <filename>:<line_number>' executes until line <line_number> is reached in file <filename>\n",
      "        'until <function_name>' executes until function <function_name> is called\n",
      "        'until <filename>:<function_name>' executes until function <function_name> declared in <filename> is called\n",
      "        \n",
      "unwatch    -- Remove a watchpoint with the given <watch_id>\n",
      "up         -- None\n",
      "watch      -- Creates a numbered watchpoint for the given variable\n",
      "where      -- Print the current call stack or <number> many leading and trailing lines if given\n",
      "No such breakpoint: 2\n",
      "Wrong usage: list <above> <below> :Print <above> lines before and <below> lines after the current line\n",
      "TypeError: object of type 'int' has no len()\n",
      "Invalid line: 0\n",
      "Faulty argument, use as 'cond <line> <condition>'\n",
      "Quit debugger session\n"
     ]
    },
    {
     "data": {
      "text/plain": "<IPython.core.display.HTML object>",
      "text/html": "<samp>(debugger) <b>help</b></samp>"
     },
     "metadata": {},
     "output_type": "display_data"
    },
    {
     "data": {
      "text/plain": "<IPython.core.display.HTML object>",
      "text/html": "<samp>(debugger) <b>unknown</b></samp>"
     },
     "metadata": {},
     "output_type": "display_data"
    },
    {
     "data": {
      "text/plain": "<IPython.core.display.HTML object>",
      "text/html": "<samp>(debugger) <b>delete 2</b></samp>"
     },
     "metadata": {},
     "output_type": "display_data"
    },
    {
     "data": {
      "text/plain": "<IPython.core.display.HTML object>",
      "text/html": "<samp>(debugger) <b>list a</b></samp>"
     },
     "metadata": {},
     "output_type": "display_data"
    },
    {
     "data": {
      "text/plain": "<IPython.core.display.HTML object>",
      "text/html": "<samp>(debugger) <b>print len(2)</b></samp>"
     },
     "metadata": {},
     "output_type": "display_data"
    },
    {
     "data": {
      "text/plain": "<IPython.core.display.HTML object>",
      "text/html": "<samp>(debugger) <b>until 0</b></samp>"
     },
     "metadata": {},
     "output_type": "display_data"
    },
    {
     "data": {
      "text/plain": "<IPython.core.display.HTML object>",
      "text/html": "<samp>(debugger) <b>cond notaline a==2</b></samp>"
     },
     "metadata": {},
     "output_type": "display_data"
    },
    {
     "data": {
      "text/plain": "<IPython.core.display.HTML object>",
      "text/html": "<samp>(debugger) <b>quit</b></samp>"
     },
     "metadata": {},
     "output_type": "display_data"
    }
   ],
   "source": [
    "next_inputs([\"help\",\"unknown\",\"delete 2\",\"list a\",\"print len(2)\",\"until 0\",\"cond notaline a==2\",\"quit\"])\n",
    "with TimeTravelDebugger():\n",
    "    foo(2)\n"
   ]
  },
  {
   "cell_type": "markdown",
   "source": [
    "## UITracer\n",
    "This is a slightly different version of the tracing functionality of the TimeTravelDebugger. It also doesn't start a debugging session,\n",
    "as it is intended to trace for the UI."
   ],
   "metadata": {
    "collapsed": false
   }
  },
  {
   "cell_type": "code",
   "execution_count": 42,
   "outputs": [],
   "source": [
    "class UITracer(object):\n",
    "    \"\"\"Trace a block of code and create a log for it. Then call a Debugger object which controls the interactive session \"\"\"\n",
    "    def __init__(self, interactive_session=True,file=sys.stdout):\n",
    "        self.original_trace_function = None\n",
    "        self.file = file\n",
    "        self.loglist =[]\n",
    "        self.last_vars = {}\n",
    "        self.interactive_session=interactive_session\n",
    "\n",
    "\n",
    "    def log(self, *objects, sep=' ', end='\\n', flush=False):\n",
    "        \"\"\"Like print(), but always sending to file given at initialization,\n",
    "           and always flushing\"\"\"\n",
    "        current_state = State(objects[0], objects[1],objects[2],objects[3],objects[4],objects[5],objects[6],objects[7],objects[8])\n",
    "        self.loglist.append(current_state)\n",
    "\n",
    "\n",
    "    def traceit(self, frame, event, arg):\n",
    "        \"\"\"Tracing function.\"\"\"\n",
    "        self.log_state(frame, event, arg)\n",
    "\n",
    "    def log_state(self, frame, event, arg):\n",
    "        source,function_start = inspect.getsourcelines(frame.f_code)\n",
    "\n",
    "        for i in range(0,len(source)):\n",
    "            source[i]=str(function_start+i)+ \" \" + source[i]\n",
    "\n",
    "        path=inspect.getsourcefile(frame)\n",
    "        _, file = os.path.split(path)\n",
    "        relative_lineno = frame.f_lineno-function_start + 1\n",
    "        current_line = source[relative_lineno - 1]\n",
    "        func_code = source\n",
    "\n",
    "        if event == 'call':\n",
    "            self.log(event, frame.f_lineno, frame.f_code.co_name, frame.f_locals.copy(), frame, relative_lineno,frame.f_code.co_name,file,func_code)\n",
    "\n",
    "        if event == 'line':\n",
    "            self.log(event, frame.f_lineno, current_line, frame.f_locals.copy(), frame, relative_lineno,frame.f_code.co_name,file,func_code)\n",
    "\n",
    "        if event == 'return':\n",
    "            self.log(event, frame.f_lineno, repr(arg), frame.f_locals.copy(), frame, relative_lineno,frame.f_code.co_name,file,func_code)\n",
    "\n",
    "\n",
    "    def _traceit(self, frame, event, arg):\n",
    "        \"\"\"Internal tracing function.\"\"\"\n",
    "        if frame.f_code.co_name == '__exit__':\n",
    "            # Do not trace our own _exit_() method\n",
    "            pass\n",
    "        else:\n",
    "            self.traceit(frame, event, arg)\n",
    "        return self._traceit\n",
    "\n",
    "    def __enter__(self):\n",
    "        \"\"\"Called at begin of `with` block. Turn tracing on.\"\"\"\n",
    "        self.original_trace_function = sys.gettrace()\n",
    "        sys.settrace(self._traceit)\n",
    "        return self\n",
    "\n",
    "    def __exit__(self, tp, value, traceback):\n",
    "        \"\"\"Called at end of `with` block. Turn tracing off. Then start interactive session.\"\"\"\n",
    "        sys.settrace(self.original_trace_function)\n",
    "\n",
    "\n",
    "    def print_log(self):\n",
    "        for log in self.loglist:\n",
    "            print(log)\n",
    "\n",
    "    def get_log(self):\n",
    "        return self.loglist\n",
    "\n",
    "\n",
    "\n",
    "\n",
    "\n",
    "\n",
    "\n",
    "\n",
    "\n",
    "\n",
    "\n"
   ],
   "metadata": {
    "collapsed": false,
    "pycharm": {
     "name": "#%%\n"
    }
   }
  },
  {
   "cell_type": "code",
   "execution_count": 43,
   "metadata": {
    "pycharm": {
     "name": "#%%\n"
    }
   },
   "outputs": [
    {
     "data": {
      "text/plain": "HTML(value='<h3> dasdadsdssad </h3>', placeholder='')",
      "application/vnd.jupyter.widget-view+json": {
       "version_major": 2,
       "version_minor": 0,
       "model_id": "ceb7e55c7ccf4e29b8275f238ce9f9d3"
      }
     },
     "metadata": {},
     "output_type": "display_data"
    },
    {
     "data": {
      "text/plain": "interactive(children=(IntSlider(value=1, description='Value', max=10, min=1), Output()), _dom_classes=('widget…",
      "application/vnd.jupyter.widget-view+json": {
       "version_major": 2,
       "version_minor": 0,
       "model_id": "b745f334d2bb45158ddde62a78663b88"
      }
     },
     "metadata": {},
     "output_type": "display_data"
    },
    {
     "data": {
      "text/plain": "<function __main__.whichNumber(number)>"
     },
     "execution_count": 43,
     "metadata": {},
     "output_type": "execute_result"
    }
   ],
   "source": [
    "from IPython.display import display\n",
    "import ipywidgets as widgets\n",
    "from ipywidgets import interact, interactive, fixed, interact_manual\n",
    "\n",
    "outputstream = widgets.Output()\n",
    "out = widgets.HTML(\n",
    "                    value='<h3> dasdadsdssad </h3>',\n",
    "                    placeholder='',\n",
    "                    description='',\n",
    "                )\n",
    "def whichNumber(number):\n",
    "    global out\n",
    "    outputstream.append_stdout(str(number))\n",
    "    out.value = str(number)\n",
    "\n",
    "display(out)\n",
    "int_range = widgets.IntSlider(min=1,max=10,value=1,description='Value')\n",
    "interact(whichNumber,number=int_range)"
   ]
  },
  {
   "cell_type": "code",
   "execution_count": 44,
   "metadata": {
    "pycharm": {
     "name": "#%%\n"
    }
   },
   "outputs": [
    {
     "ename": "TypeError",
     "evalue": "foo() missing 1 required positional argument: 'arg'",
     "output_type": "error",
     "traceback": [
      "\u001B[0;31m---------------------------------------------------------------------------\u001B[0m",
      "\u001B[0;31mTypeError\u001B[0m                                 Traceback (most recent call last)",
      "\u001B[0;32m<ipython-input-44-7b7cd2e29332>\u001B[0m in \u001B[0;36m<module>\u001B[0;34m\u001B[0m\n\u001B[1;32m      1\u001B[0m \u001B[0;32mwith\u001B[0m \u001B[0mTimeTravelDebugger\u001B[0m\u001B[0;34m(\u001B[0m\u001B[0;32mFalse\u001B[0m\u001B[0;34m)\u001B[0m \u001B[0;32mas\u001B[0m \u001B[0mttd\u001B[0m\u001B[0;34m:\u001B[0m\u001B[0;34m\u001B[0m\u001B[0;34m\u001B[0m\u001B[0m\n\u001B[0;32m----> 2\u001B[0;31m     \u001B[0mfoo\u001B[0m\u001B[0;34m(\u001B[0m\u001B[0;34m)\u001B[0m\u001B[0;34m\u001B[0m\u001B[0;34m\u001B[0m\u001B[0m\n\u001B[0m\u001B[1;32m      3\u001B[0m \u001B[0mexecution_log\u001B[0m \u001B[0;34m=\u001B[0m \u001B[0mttd\u001B[0m\u001B[0;34m.\u001B[0m\u001B[0mget_log\u001B[0m\u001B[0;34m(\u001B[0m\u001B[0;34m)\u001B[0m\u001B[0;34m\u001B[0m\u001B[0;34m\u001B[0m\u001B[0m\n\u001B[1;32m      4\u001B[0m \u001B[0mdebugger\u001B[0m \u001B[0;34m=\u001B[0m \u001B[0mDebugger\u001B[0m\u001B[0;34m(\u001B[0m\u001B[0mexecution_log\u001B[0m\u001B[0;34m=\u001B[0m\u001B[0mexecution_log\u001B[0m\u001B[0;34m,\u001B[0m\u001B[0minteractive_session\u001B[0m\u001B[0;34m=\u001B[0m\u001B[0;32mFalse\u001B[0m\u001B[0;34m)\u001B[0m\u001B[0;34m\u001B[0m\u001B[0;34m\u001B[0m\u001B[0m\n\u001B[1;32m      5\u001B[0m \u001B[0mdebugger\u001B[0m\u001B[0;34m.\u001B[0m\u001B[0mstart\u001B[0m\u001B[0;34m(\u001B[0m\u001B[0;34m)\u001B[0m\u001B[0;34m\u001B[0m\u001B[0;34m\u001B[0m\u001B[0m\n",
      "\u001B[0;31mTypeError\u001B[0m: foo() missing 1 required positional argument: 'arg'"
     ]
    }
   ],
   "source": [
    "\n",
    "with TimeTravelDebugger(False) as ttd:\n",
    "    foo(1)\n",
    "execution_log = ttd.get_log()\n",
    "debugger = Debugger(execution_log=execution_log,interactive_session=False)\n",
    "debugger.start()"
   ]
  },
  {
   "cell_type": "code",
   "execution_count": null,
   "metadata": {
    "pycharm": {
     "name": "#%%\n"
    }
   },
   "outputs": [],
   "source": [
    "def create_expanded_button(description, button_style):\n",
    "    return widgets.Button(description=description, button_style=button_style, layout=widgets.Layout(height='auto', width='auto'))\n",
    "\n",
    "play = widgets.Play(\n",
    "#     interval=10,\n",
    "    value=0,\n",
    "    min=0,\n",
    "    max=100,\n",
    "    step=1,\n",
    "    description=\"Press play\",\n",
    "    disabled=False\n",
    ")\n",
    "slider = widgets.IntSlider()\n",
    "widgets.jslink((play, 'value'), (slider, 'value'))\n",
    "tester = widgets.HBox([play, slider])\n",
    "\n",
    "\n",
    "top_left_button = create_expanded_button(\"Top left\", 'info')\n",
    "top_right_button = create_expanded_button(\"Top right\", 'success')\n",
    "bottom_left_button = create_expanded_button(\"Bottom left\", 'danger')\n",
    "bottom_right_button = create_expanded_button(\"Bottom right\", 'warning')\n",
    "\n",
    "top_left_text = widgets.IntText(description='Top left', layout=widgets.Layout(width='auto', height='auto'))\n",
    "top_right_text = widgets.IntText(description='Top right', layout=widgets.Layout(width='auto', height='auto'))\n",
    "bottom_left_slider = widgets.IntSlider(description='Bottom left', layout=widgets.Layout(width='auto', height='auto'))\n",
    "bottom_right_slider = widgets.IntSlider(description='Bottom right', layout=widgets.Layout(width='auto', height='auto'))\n",
    "\n",
    "html_code = list()\n",
    "functions = list()\n",
    "lines = list()\n",
    "\n",
    "for execution in execution_log:\n",
    "    if execution.fun_code not in functions:\n",
    "        current_function = list()\n",
    "        for line in execution.fun_code:\n",
    "            current_function.append(line)\n",
    "        functions.append(current_function)\n",
    "\n",
    "for function in functions:\n",
    "    for line in function:\n",
    "        if 'def ' in line:\n",
    "            my_html = widgets.HTML(\n",
    "                    value='<h3>'+ line + '</h3>',\n",
    "                    placeholder='',\n",
    "                    description='',\n",
    "                )\n",
    "            html_code.append(my_html)\n",
    "        else:\n",
    "            my_html = widgets.HTML(\n",
    "                    value='<h4>&nbsp;&nbsp;&nbsp;&nbsp;&nbsp;&nbsp;&nbsp;&nbsp;'+ line + '</h4>',\n",
    "                    placeholder='',\n",
    "                    description='',\n",
    "                )\n",
    "            html_code.append(my_html)\n",
    "\n",
    "def whichLine(number):\n",
    "    global html_code\n",
    "    html_code[number].value='>> ' + html_code[number.value]\n",
    "\n",
    "int_range = widgets.IntSlider(min=1,max=len(execution_log),value=1,description='Execution Step')\n",
    "interact(whichLine,number=int_range)\n",
    "\n",
    "box = widgets.VBox(html_code)\n",
    "box.observe(whichLine)\n",
    "\n",
    "header_button = create_expanded_button('Header', 'success')\n",
    "left_button = create_expanded_button('Left', 'info')\n",
    "center_button = create_expanded_button('Center', 'warning')\n",
    "right_button = create_expanded_button('Right', 'info')\n",
    "footer_button = create_expanded_button('Footer', 'success')\n",
    "\n",
    "widgets.AppLayout(header=tester,\n",
    "          center=box,\n",
    "          right_sidebar=right_button,\n",
    "          pane_widths=[2, 0.5, 1],\n",
    "          pane_heights=[1, 17, 1])"
   ]
  },
  {
   "cell_type": "code",
   "execution_count": null,
   "metadata": {
    "pycharm": {
     "name": "#%%\n"
    }
   },
   "outputs": [],
   "source": [
    "with UITracer() as tr:\n",
    "    foo(1)"
   ]
  },
  {
   "cell_type": "code",
   "execution_count": null,
   "metadata": {
    "pycharm": {
     "name": "#%%\n"
    }
   },
   "outputs": [],
   "source": [
    "log = tr.get_log()\n",
    "\n",
    "current_parent = None\n",
    "callpoints = list()\n",
    "current_depth = -1\n",
    "for i in range(0,len(log)):\n",
    "    currentexecution = log[i]\n",
    "    currentexecution.parent = current_parent\n",
    "\n",
    "    if currentexecution.event == 'call':\n",
    "        current_parent = log[i]\n",
    "        if log[i].parent is not None :\n",
    "            current_caller = log[i-1]\n",
    "            callpoints.append(current_caller)\n",
    "            current_parent = current_caller\n",
    "        else:\n",
    "            callpoints.append(current_parent)\n",
    "\n",
    "        current_depth = current_depth + 1\n",
    "\n",
    "    elif currentexecution.event == 'return':\n",
    "        current_depth = current_depth - 1\n",
    "        caller = callpoints[current_depth]\n",
    "        current_parent = caller.parent\n",
    "\n",
    "current_callstack = None\n",
    "callstack_layer = -1\n",
    "\n",
    "def construct_current_callstack(current_state):\n",
    "    global callstack_layer,current_callstack,current_depth\n",
    "    current_callstack = list()\n",
    "    current_caller = current_state\n",
    "\n",
    "    while current_caller is not None :\n",
    "        if current_caller.parent!=current_caller:\n",
    "            current_callstack.append(current_caller)\n",
    "            current_caller = current_caller.parent\n",
    "\n",
    "    current_callstack.reverse()\n",
    "    callstack_layer = len(current_callstack)-1\n",
    "\n",
    "    if current_depth==-1:\n",
    "        current_depth = callstack_layer\n",
    "    return current_callstack\n",
    "\n",
    "a = widgets.IntSlider(min=0,max=len(log)-1,value=1,description='step')\n",
    "b = widgets.IntSlider(description='b')\n",
    "c = widgets.IntSlider(description='c')\n",
    "\n",
    "add_breakpoint_input = widgets.Text(\n",
    "    value='',\n",
    "    placeholder='Enter: <name of function> <line> and other breakpoint information',\n",
    "    description='',\n",
    "    disabled=False\n",
    ")\n",
    "remove_breakpoint_input = widgets.Text(\n",
    "    value='',\n",
    "    placeholder='Enter <name of function> <line> of breakpoint to remove',\n",
    "    description='',\n",
    "    disabled=False\n",
    ")\n",
    "# def state_display(number):\n",
    "#     log = debugger.get_log()\n",
    "#     fun_code = log[number].fun_code.copy()\n",
    "#     fun_code[log[number].rel_lineno-1] = \">>\"+fun_code[log[number].rel_lineno-1]\n",
    "#\n",
    "#     for line in fun_code:\n",
    "#         print(line)\n",
    "\n",
    "def code_display(step):\n",
    "    global breakpoints\n",
    "    #fun_code = \"\\n\".join([line for line in log[number].fun_code])\n",
    "    fun_code = log[step].fun_code.copy()\n",
    "    fun_code[log[step].rel_lineno-1] = \">>\"+fun_code[log[step].rel_lineno-1]\n",
    "\n",
    "    for line in fun_code:\n",
    "        print('  '+ str(line))\n",
    "\n",
    "breakpoints = set()\n",
    "watchpoints = set()\n",
    "\n",
    "def var_display(step):\n",
    "    print(log[step].changed_vars)\n",
    "    print('\\nBreakpoints: ')\n",
    "    for breakpoint in breakpoints:\n",
    "        print('Absolute Line: '+ str(breakpoint.line_number) + ', Function: '+str(breakpoint.func_name))\n",
    "    #print(log[number].changed_vars)\n",
    "\n",
    "def callstack_display(step,layer):\n",
    "    global callstack_layer,current_depth\n",
    "\n",
    "    print('\\nCurrent callstack:')\n",
    "    current_callstack = construct_current_callstack(log[step])\n",
    "    if current_depth==-1:\n",
    "        current_depth = len(current_callstack)-1\n",
    "    print('\\nCurrent Depth:' + str(current_depth))\n",
    "\n",
    "    if callstack_layer == -1:\n",
    "        callstack_layer = len(current_callstack) -1\n",
    "    elif callstack_layer>0:\n",
    "        callstack_layer-=1\n",
    "    else:\n",
    "        print('Already at highest layer of call stack')\n",
    "\n",
    "    for i  in range(0,len(current_callstack)):\n",
    "        caller = current_callstack[i]\n",
    "        if i == current_depth:\n",
    "            print('>> File \"'+str(caller.file)+', Line '+str(caller.rel_lineno))\n",
    "        else:\n",
    "            print('File \"'+str(caller.file)+', Line '+str(caller.rel_lineno))\n",
    "\n",
    "def step(b):\n",
    "    a.value+=1\n",
    "\n",
    "def backstep(b):\n",
    "    a.value -=1\n",
    "\n",
    "def break_here(breakpoints, step):\n",
    "    global log\n",
    "    for breakpoint in breakpoints:\n",
    "        if breakpoint.break_here(step,log,None,False):\n",
    "            return True\n",
    "    return False\n",
    "\n",
    "def continue_exec(b):\n",
    "    global breakpoints\n",
    "    while a.value<a.max:\n",
    "        a.value+=1\n",
    "        if break_here(breakpoints,a.value):\n",
    "            break\n",
    "        time.sleep(0.1)\n",
    "\n",
    "def reverse_exec(b):\n",
    "    global breakpoints\n",
    "    while a.value>0:\n",
    "        a.value-=1\n",
    "        if a.value in breakpoints:\n",
    "            break\n",
    "        time.sleep(0.1)\n",
    "\n",
    "def parse_breakpoint_input(input,log):\n",
    "    try:\n",
    "        inputs =input.split()\n",
    "        fun_name = inputs[0].replace(\" \",\"\")\n",
    "        abs_lineno = int(inputs[1])\n",
    "        breaker = Breakpoint(\"line\",abs_lineno,fun_name,None,log[abs_lineno].file)\n",
    "        return breaker\n",
    "    except:\n",
    "        return None\n",
    "\n",
    "def insert_breakpoint(breakpoint):\n",
    "    global breakpoints,log,add_breakpoint_input\n",
    "    try:\n",
    "        parsed_breakpoint = parse_breakpoint_input(breakpoint.tooltip,log)\n",
    "        if parsed_breakpoint:\n",
    "            breakpoints.add(parsed_breakpoint)\n",
    "            breakpoint.description = 'Added '+breakpoint.tooltip\n",
    "            add_breakpoint_input.value=''\n",
    "        else:\n",
    "            breakpoint.description = 'Could not instantiate breakpoint'\n",
    "    except:\n",
    "        breakpoint.description = 'Enter a valid Breakpoint'\n",
    "\n",
    "    breakpoint.value=''\n",
    "\n",
    "out = widgets.interactive_output(code_display,{'step':a})\n",
    "out2 = widgets.interactive_output(var_display,{'step':a})\n",
    "out3 = widgets.interactive_output(insert_breakpoint,{'breakpoint':add_breakpoint_input})\n",
    "\n",
    "def remove_breakpoint(breakpoint):\n",
    "    global breakpoints,remove_breakpoint_input\n",
    "    try:\n",
    "        inputs =breakpoint.tooltip.split()\n",
    "        fun_name = inputs[0]\n",
    "        abs_lineno = int(inputs[1])\n",
    "        for breakpt in breakpoints:\n",
    "            if breakpt.line_number == abs_lineno and breakpt.func_name == fun_name:\n",
    "                breakpoints.remove(breakpt)\n",
    "                break\n",
    "\n",
    "        breakpoint.description='Removed '+str(breakpoint.tooltip)\n",
    "        remove_breakpoint_input.value = ''\n",
    "    except:\n",
    "        breakpoint.description='Enter valid breakpoint'\n",
    "    breakpoint.value=''\n",
    "\n",
    "\n",
    "step_btn = widgets.Button(\n",
    "    description='',\n",
    "    disabled=False,\n",
    "    button_style='', # 'success', 'info', 'warning', 'danger' or ''\n",
    "    tooltip='Click me',\n",
    "    icon='step-forward'\n",
    ")\n",
    "\n",
    "backstep_btn = widgets.Button(\n",
    "    description='',\n",
    "    disabled=False,\n",
    "    button_style='', # 'success', 'info', 'warning', 'danger' or ''\n",
    "    tooltip='Click me',\n",
    "    icon='step-backward'\n",
    ")\n",
    "\n",
    "contn_btn = widgets.Button(\n",
    "    description='',\n",
    "    disabled=False,\n",
    "    button_style='', # 'success', 'info', 'warning', 'danger' or ''\n",
    "    tooltip='Click me',\n",
    "    icon='fast-forward'\n",
    ")\n",
    "\n",
    "add_breakpoint_button = widgets.Button(\n",
    "    description='Add Breakpoint',\n",
    "    disabled=False,\n",
    "    button_style='', # 'success', 'info', 'warning', 'danger' or ''\n",
    "    tooltip='',\n",
    "    icon='check'\n",
    ")\n",
    "\n",
    "remove_breakpoint_button = widgets.Button(\n",
    "    description='Remove Breakpoint',\n",
    "    disabled=False,\n",
    "    button_style='', # 'success', 'info', 'warning', 'danger' or ''\n",
    "    tooltip='',\n",
    "    icon='check'\n",
    ")\n",
    "\n",
    "callstep_down_button = widgets.Button(\n",
    "    description='',\n",
    "    disabled=False,\n",
    "    button_style='', # 'success', 'info', 'warning', 'danger' or ''\n",
    "    tooltip='Callstack down',\n",
    "    icon='step-forward'\n",
    ")\n",
    "\n",
    "callstack_up_button = widgets.Button(\n",
    "    description='',\n",
    "    disabled=False,\n",
    "    button_style='', # 'success', 'info', 'warning', 'danger' or ''\n",
    "    tooltip='Callstack up',\n",
    "    icon='step-backward'\n",
    ")\n",
    "\n",
    "add_watchpoint_button = widgets.Button(\n",
    "    description='Add Watchpoint',\n",
    "    disabled=False,\n",
    "    button_style='', # 'success', 'info', 'warning', 'danger' or ''\n",
    "    tooltip='Add Watchpoint',\n",
    "    icon='check'\n",
    ")\n",
    "\n",
    "remove_watchpoint_button = widgets.Button(\n",
    "    description='Remove Watchpoint',\n",
    "    disabled=False,\n",
    "    button_style='', # 'success', 'info', 'warning', 'danger' or ''\n",
    "    tooltip='Remove Watchpoint',\n",
    "    icon='check'\n",
    ")\n",
    "\n",
    "add_watchpoint_input = widgets.Text(\n",
    "    value='',\n",
    "    placeholder='Enter: <varname> to add a watchpoint',\n",
    "    description='',\n",
    "    disabled=False\n",
    ")\n",
    "\n",
    "remove_watchpoint_input = widgets.Text(\n",
    "    value='',\n",
    "    placeholder='Enter: <varname> to remove a watchpoint',\n",
    "    description='',\n",
    "    disabled=False\n",
    ")\n",
    "\n",
    "def watchpoint_display(step,layer1,layer2):\n",
    "    global log\n",
    "    print('\\nWatchpoints: ')\n",
    "    current_execution  = log[step]\n",
    "    for watchpoint in watchpoints:\n",
    "        if watchpoint in current_execution.changed_vars:\n",
    "            if step>0:\n",
    "                if watchpoint in log[step-1].changed_vars:\n",
    "                    if log[step-1].changed_vars[watchpoint] != current_execution.changed_vars[watchpoint]:\n",
    "                        print(watchpoint+ ': '+str(current_execution.changed_vars[watchpoint]))\n",
    "                else:\n",
    "                    print(watchpoint + ': '+str(current_execution.changed_vars[watchpoint]))\n",
    "\n",
    "\n",
    "callstack_textfield = widgets.HTML(description='', value='')\n",
    "watchpoints_textfield = widgets.HTML(description='',value='')\n",
    "out4 = widgets.interactive_output(callstack_display,{'step':a,'layer':callstack_textfield})\n",
    "out5 = widgets.interactive_output(watchpoint_display,{'step':a,'layer1':add_watchpoint_input,'layer2':remove_watchpoint_input})\n",
    "\n",
    "def insert_watchpoint(b):\n",
    "    global watchpoints, add_watchpoint_input\n",
    "    watchpoints.add(b.tooltip)\n",
    "    b.description = 'Added watchpoint '+b.tooltip\n",
    "    add_watchpoint_input.value = ''\n",
    "\n",
    "def remove_watchpoint(b):\n",
    "    global watchpoints,add_watchpoint_input\n",
    "    try:\n",
    "        watchpoints.remove(b.tooltip)\n",
    "        b.description = 'Removed watchpoint '+b.tooltip\n",
    "    except:\n",
    "        b.description = 'Enter a valid watchpoint'\n",
    "\n",
    "    remove_watchpoint_input.value = ''\n",
    "\n",
    "\n",
    "def move_callstack_up(change):\n",
    "    global current_depth,current_callstack\n",
    "    if current_depth>0:\n",
    "        current_depth=current_depth-1\n",
    "    new_value = ''\n",
    "    call = current_callstack[current_depth]\n",
    "    for i in range(0,len(call.fun_code)):\n",
    "        if call.rel_lineno-1==i:\n",
    "            new_value = new_value + (\"<h4> >> \"+call.fun_code[i]+\"/h4>\\n\")\n",
    "        else:\n",
    "            new_value = new_value + (\"<h4>\"+call.fun_code[i]+\"/h4>\\n\")\n",
    "    callstack_textfield.value = new_value\n",
    "\n",
    "def move_callstack_down(change):\n",
    "    global current_depth,current_callstack\n",
    "    if current_depth<len(current_callstack)-1:\n",
    "        current_depth=current_depth+1\n",
    "#    callstack_textfield.value = 'Current Depth: '+str(current_depth)\n",
    "    new_value = ''\n",
    "    call = current_callstack[current_depth]\n",
    "    for i in range(0,len(call.fun_code)):\n",
    "        if call.rel_lineno-1==i:\n",
    "            new_value = new_value + (\"<h4> >> \"+call.fun_code[i]+\"/h4>\\n\")\n",
    "        else:\n",
    "            new_value = new_value + (\"<h4>\"+call.fun_code[i]+\"/h4>\\n\")\n",
    "    callstack_textfield.value = new_value\n",
    "\n",
    "def handle_callstack_change(callstack_button):\n",
    "    callstack_button.tooltip=callstack_button.tooltip+'e'\n",
    "\n",
    "callstack_up_button.on_click(handle_callstack_change)\n",
    "\n",
    "callstack_up_button.observe(move_callstack_up,names='tooltip')\n",
    "\n",
    "callstep_down_button.observe(move_callstack_down,names='tooltip')\n",
    "\n",
    "callstack_up_button.on_click(handle_callstack_change)\n",
    "callstep_down_button.on_click(handle_callstack_change)\n",
    "\n",
    "widgets.link((add_breakpoint_input,'value'),(add_breakpoint_button,'tooltip'))\n",
    "widgets.link((remove_breakpoint_input,'value'),(remove_breakpoint_button,'tooltip'))\n",
    "\n",
    "widgets.link((add_watchpoint_input,'value'),(add_watchpoint_button,'tooltip'))\n",
    "widgets.link((remove_watchpoint_input,'value'),(remove_watchpoint_button,'tooltip'))\n",
    "\n",
    "add_watchpoint_button.on_click(insert_watchpoint)\n",
    "remove_watchpoint_button.on_click(remove_watchpoint)\n",
    "\n",
    "reverse_btn = widgets.Button(\n",
    "    description='',\n",
    "    disabled=False,\n",
    "    button_style='', # 'success', 'info', 'warning', 'danger' or ''\n",
    "    tooltip='Click me',\n",
    "    icon='fast-backward'\n",
    ")\n",
    "\n",
    "step_btn.on_click(step)\n",
    "backstep_btn.on_click(backstep)\n",
    "contn_btn.on_click(continue_exec)\n",
    "reverse_btn.on_click(reverse_exec)\n",
    "add_breakpoint_button.on_click(insert_breakpoint)\n",
    "remove_breakpoint_button.on_click(remove_breakpoint)\n",
    "\n",
    "widgets.HBox([widgets.VBox([a,contn_btn,reverse_btn,step_btn,backstep_btn,add_breakpoint_input,add_breakpoint_button,remove_breakpoint_input,remove_breakpoint_button,add_watchpoint_input,add_watchpoint_button,remove_watchpoint_input,remove_watchpoint_button]),out, widgets.VBox([out2,out5,out4,callstack_textfield,callstack_up_button,callstep_down_button])])"
   ]
  }
 ],
 "metadata": {
  "kernelspec": {
   "display_name": "Python 3",
   "language": "python",
   "name": "python3"
  },
  "language_info": {
   "codemirror_mode": {
    "name": "ipython",
    "version": 3
   },
   "file_extension": ".py",
   "mimetype": "text/x-python",
   "name": "python",
   "nbconvert_exporter": "python",
   "pygments_lexer": "ipython3",
   "version": "3.8.6"
  }
 },
 "nbformat": 4,
 "nbformat_minor": 1
}