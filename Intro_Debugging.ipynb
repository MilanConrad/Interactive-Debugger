{
 "cells": [
  {
   "cell_type": "markdown",
   "metadata": {
    "button": false,
    "new_sheet": false,
    "run_control": {
     "read_only": false
    },
    "slideshow": {
     "slide_type": "slide"
    }
   },
   "source": [
    "# Introduction to Debugging\n",
    "\n",
    "In this book, we want to explore _debugging_ - the art and science of fixing bugs in computer software. In particular, we want to explore techniques that _automatically_ answer questions like: Where is the bug? When does it occur? And how can we repair it? But before we start automating the debugging process, we first need to understand what this process is.\n",
    "\n",
    "In this chapter, we introduce basic concepts of systematic software debugging and the debugging process, and at the same time get acquainted with Python and interactive notebooks."
   ]
  },
  {
   "cell_type": "code",
   "execution_count": 1,
   "metadata": {
    "slideshow": {
     "slide_type": "skip"
    }
   },
   "outputs": [
    {
     "data": {
      "image/jpeg": "[encoded data removed]",
      "text/html": [
       "\n",
       "        <iframe\n",
       "            width=\"640\"\n",
       "            height=\"360\"\n",
       "            src=\"https://www.youtube-nocookie.com/embed/bCHRCehDOq0\"\n",
       "            frameborder=\"0\"\n",
       "            allowfullscreen\n",
       "        ></iframe>\n",
       "        "
      ],
      "text/plain": [
       "<bookutils.YouTubeVideo at 0x7f75e8351040>"
      ]
     },
     "execution_count": 1,
     "metadata": {},
     "output_type": "execute_result"
    }
   ],
   "source": [
    "from bookutils import YouTubeVideo, quiz\n",
    "YouTubeVideo(\"bCHRCehDOq0\")\n"
   ]
  },
  {
   "cell_type": "markdown",
   "metadata": {
    "button": false,
    "new_sheet": false,
    "run_control": {
     "read_only": false
    },
    "slideshow": {
     "slide_type": "subslide"
    }
   },
   "source": [
    "**Prerequisites**\n",
    "\n",
    "* The book is meant to be a standalone reference; however, a number of _great books on debugging_ are listed at the end,\n",
    "* Knowing a bit of _Python_ is helpful for understanding the code examples in the book."
   ]
  },
  {
   "cell_type": "markdown",
   "metadata": {
    "slideshow": {
     "slide_type": "skip"
    }
   },
   "source": [
    "## Synopsis\n",
    "<!-- Automatically generated. Do not edit. -->\n",
    "\n",
    "To [use the code provided in this chapter](Importing.ipynb), write\n",
    "\n",
    "```python\n",
    ">>> from debuggingbook.Intro_Debugging import <identifier>\n",
    "```\n",
    "\n",
    "and then make use of the following features.\n",
    "\n",
    "\n",
    "In this chapter, we introduce some basics of how failures come to be as well as a general process for debugging.\n",
    "\n"
   ]
  },
  {
   "cell_type": "markdown",
   "metadata": {
    "button": false,
    "new_sheet": true,
    "run_control": {
     "read_only": false
    },
    "slideshow": {
     "slide_type": "slide"
    }
   },
   "source": [
    "## A Simple Function\n",
    "\n",
    "### Your Task: Remove HTML Markup\n",
    "\n",
    "Let us start with a simple example. You may have heard of how documents on the Web are made out of text and HTML markup. HTML markup consists of _tags_ in angle brackets that surround the text, providing additional information on how the text should be interpreted. For instance, in the HTML text\n",
    "\n",
    "```html\n",
    "This is <em>emphasized</em>.\n",
    "```\n",
    "\n",
    "the word \"emphasized\" is enclosed in the HTML tags `<em>` (start) and `</em>` (end), meaning that it should be interpreted (and rendered) in an emphasized way – typically in italics. In your environment, the HTML text gets rendered as\n",
    "\n",
    "> This is <em>emphasized</em>.\n",
    "\n",
    "There's HTML tags for pretty much everything – text markup (<strong>bold</strong> text, <s>strikethrough</s> text), text structure (titles, lists), references (links) to other documents, and many more. These HTML tags shape the Web as we know it."
   ]
  },
  {
   "cell_type": "markdown",
   "metadata": {
    "slideshow": {
     "slide_type": "subslide"
    }
   },
   "source": [
    "However, within all the HTML markup, it may become difficult to actually access the _text_ that lies within. We'd like to implement a simple function that removes _HTML markup_ and converts it into text. If our input is\n",
    "\n",
    "```html\n",
    "Here's some <strong>strong argument</strong>.\n",
    "```\n",
    "the output should be\n",
    "\n",
    "> Here's some strong argument."
   ]
  },
  {
   "cell_type": "markdown",
   "metadata": {
    "slideshow": {
     "slide_type": "fragment"
    }
   },
   "source": [
    "Here's a Python function which does exactly this. It takes a (HTML) string and returns the text without markup."
   ]
  },
  {
   "cell_type": "code",
   "execution_count": 2,
   "metadata": {
    "slideshow": {
     "slide_type": "subslide"
    }
   },
   "outputs": [],
   "source": [
    "def remove_html_markup(s):\n",
    "    tag = False\n",
    "    out = \"\"\n",
    "\n",
    "    for c in s:\n",
    "        if c == '<':    # start of markup\n",
    "            tag = True\n",
    "        elif c == '>':  # end of markup\n",
    "            tag = False\n",
    "        elif not tag:\n",
    "            out = out + c\n",
    "\n",
    "    return out"
   ]
  },
  {
   "cell_type": "markdown",
   "metadata": {
    "slideshow": {
     "slide_type": "fragment"
    }
   },
   "source": [
    "This function works, but not always. Before we start debugging things, let us first explore its code and how it works."
   ]
  },
  {
   "cell_type": "markdown",
   "metadata": {
    "slideshow": {
     "slide_type": "subslide"
    }
   },
   "source": [
    "### Understanding Python Programs\n",
    "\n",
    "If you're new to Python, you might first have to understand what the above code does.  We very much recommend the [Python tutorial](https://docs.python.org/3/tutorial/) to get an idea on how Python works.  The most important things for you to understand the above code are these three:\n",
    "\n",
    "1. Python structures programs through _indentation_, so the function and `for` bodies are defined by being indented;\n",
    "2. Python is _dynamically typed_, meaning that the type of variables like `c`, `tag`, or `out` is determined at run-time.\n",
    "3. Most of Python's syntactic features are inspired by other common languages, such as control structures (`while`, `if`, `for`), assignments (`=`), or comparisons (`==`, `!=`, `<`).\n",
    "\n",
    "With that, you can already understand what the above code does: `remove_html_markup()` takes a (HTML) string `s` and then iterates over the individual characters (`for c in s`). By default, these characters are added to the return string `out`. However, if `remove_html_markup()` finds a `<` character, it sets the `tag` flag, meaning that all further characters are ignored until a `>` character is found.\n",
    "\n",
    "In contrast to other languages, Python makes no difference between strings and characters – there's only strings. As in HTML, strings can be enclosed in single quotes (`'a'`) and in double quotes (`\"a\"`). This is useful if you want to specify a string that contains quotes, as in `'She said \"hello\", and then left'` or `\"The first character is a 'c'\"`"
   ]
  },
  {
   "cell_type": "markdown",
   "metadata": {
    "slideshow": {
     "slide_type": "subslide"
    }
   },
   "source": [
    "### Running a Function\n",
    "\n",
    "To find out whether `remove_html_markup()` works correctly, we can *test* it with a few values.  For the string\n",
    "\n",
    "```html\n",
    "Here's some <strong>strong argument</strong>.\n",
    "```\n",
    "\n",
    "for instance, it produces the correct value:"
   ]
  },
  {
   "cell_type": "code",
   "execution_count": 3,
   "metadata": {
    "slideshow": {
     "slide_type": "fragment"
    }
   },
   "outputs": [
    {
     "data": {
      "text/plain": [
       "\"Here's some strong argument.\""
      ]
     },
     "execution_count": 3,
     "metadata": {},
     "output_type": "execute_result"
    }
   ],
   "source": [
    "remove_html_markup(\"Here's some <strong>strong argument</strong>.\")"
   ]
  },
  {
   "cell_type": "markdown",
   "metadata": {
    "slideshow": {
     "slide_type": "subslide"
    }
   },
   "source": [
    "### Interacting with Notebooks\n",
    "\n",
    "If you are reading this in the interactive notebook, you can try out `remove_html_markup()` with other values as well.  Click on the above cells with the invocation of `remove_html_markup()` and change the value – say, to `remove_html_markup(\"<em>foo</em>\")`.  Press <kbd>Shift</kbd>+<kbd>Enter</kbd> (or click on the play symbol) to execute it and see the result.  If you get an error message, go to the above cell with the definition of `remove_html_markup()` and execute this first.  You can also run _all_ cells at once; see the Notebook menu for details.  (You can actually also change the text by clicking on it, and corect mistaks such as in this sentence.)"
   ]
  },
  {
   "cell_type": "markdown",
   "metadata": {
    "slideshow": {
     "slide_type": "subslide"
    }
   },
   "source": [
    "Executing a single cell does not execute other cells, so if your cell builds on a definition in another cell that you have not executed yet, you will get an error.  You can select `Run all cells above` from the menu to ensure all definitions are set."
   ]
  },
  {
   "cell_type": "markdown",
   "metadata": {
    "slideshow": {
     "slide_type": "fragment"
    }
   },
   "source": [
    "Also keep in mind that, unless overwritten, all definitions are kept across executions.  Occasionally, it thus helps to _restart the kernel_ (i.e. start the Python interpreter from scratch) to get rid of older, superfluous definitions."
   ]
  },
  {
   "cell_type": "markdown",
   "metadata": {
    "slideshow": {
     "slide_type": "subslide"
    }
   },
   "source": [
    "### Testing a Function"
   ]
  },
  {
   "cell_type": "markdown",
   "metadata": {
    "slideshow": {
     "slide_type": "fragment"
    }
   },
   "source": [
    "Since one can change not only invocations, but also definitions, we want to ensure that our function works properly now and in the future. To this end, we introduce tests through _assertions_ – a statement that fails if the given _check_ is false. The following assertion, for instance, checks that the above call to `remove_html_markup()` returns the correct value:"
   ]
  },
  {
   "cell_type": "code",
   "execution_count": 4,
   "metadata": {
    "slideshow": {
     "slide_type": "fragment"
    }
   },
   "outputs": [],
   "source": [
    "assert remove_html_markup(\"Here's some <strong>strong argument</strong>.\") == \\\n",
    "    \"Here's some strong argument.\""
   ]
  },
  {
   "cell_type": "markdown",
   "metadata": {
    "slideshow": {
     "slide_type": "fragment"
    }
   },
   "source": [
    "If you change the code of `remove_html_markup()` such that the above assertion fails, you will have introduced a bug."
   ]
  },
  {
   "cell_type": "markdown",
   "metadata": {
    "slideshow": {
     "slide_type": "slide"
    }
   },
   "source": [
    "## Oops! A Bug!"
   ]
  },
  {
   "cell_type": "markdown",
   "metadata": {
    "slideshow": {
     "slide_type": "fragment"
    }
   },
   "source": [
    "As nice and simple as `remove_html_markup()` is, it is buggy. Some HTML markup is not properly stripped away. Consider this HTML tag, which would render as an input field in a form:\n",
    "\n",
    "```html\n",
    "<input type=\"text\" value=\"<your name>\">\n",
    "```\n",
    "If we feed this string into `remove_html_markup()`, we would expect an empty string as the result. Instead, this is what we get:"
   ]
  },
  {
   "cell_type": "code",
   "execution_count": 5,
   "metadata": {
    "slideshow": {
     "slide_type": "fragment"
    }
   },
   "outputs": [
    {
     "data": {
      "text/plain": [
       "'\"'"
      ]
     },
     "execution_count": 5,
     "metadata": {},
     "output_type": "execute_result"
    }
   ],
   "source": [
    "remove_html_markup('<input type=\"text\" value=\"<your name>\">')"
   ]
  },
  {
   "cell_type": "markdown",
   "metadata": {
    "slideshow": {
     "slide_type": "subslide"
    }
   },
   "source": [
    "Every time we encounter a bug, this means that our earlier tests have failed. We thus need to introduce another test that documents not only how the bug came to be, but also the result we actually expected."
   ]
  },
  {
   "cell_type": "markdown",
   "metadata": {
    "slideshow": {
     "slide_type": "fragment"
    }
   },
   "source": [
    "The assertion we write now fails with an error message. (The `ExpectError` magic ensures we see the error message, but the rest of the notebook is still executed.)"
   ]
  },
  {
   "cell_type": "code",
   "execution_count": 6,
   "metadata": {
    "slideshow": {
     "slide_type": "skip"
    }
   },
   "outputs": [],
   "source": [
    "from ExpectError import ExpectError"
   ]
  },
  {
   "cell_type": "code",
   "execution_count": 7,
   "metadata": {
    "slideshow": {
     "slide_type": "fragment"
    }
   },
   "outputs": [
    {
     "name": "stderr",
     "output_type": "stream",
     "text": [
      "Traceback (most recent call last):\n",
      "  File \"<ipython-input-7-c7b482ebf524>\", line 2, in <module>\n",
      "    assert remove_html_markup('<input type=\"text\" value=\"<your name>\">') == \"\"\n",
      "AssertionError (expected)\n"
     ]
    }
   ],
   "source": [
    "with ExpectError():\n",
    "    assert remove_html_markup('<input type=\"text\" value=\"<your name>\">') == \"\""
   ]
  },
  {
   "cell_type": "markdown",
   "metadata": {
    "slideshow": {
     "slide_type": "fragment"
    }
   },
   "source": [
    "With this, we now have our task: _Fix the failure as above._"
   ]
  },
  {
   "cell_type": "markdown",
   "metadata": {
    "slideshow": {
     "slide_type": "slide"
    }
   },
   "source": [
    "## Visualizing Code\n",
    "\n",
    "To properly understand what is going on here, it helps drawing a diagram on how `remove_html_markup()` works. Technically, `remove_html_markup()` implements a _state machine_ with two states `tag` and `¬ tag`. We change between these states depending on the characters we process. This is visualized in the following diagram:"
   ]
  },
  {
   "cell_type": "code",
   "execution_count": 8,
   "metadata": {
    "ipub": {
     "ignore": true
    },
    "slideshow": {
     "slide_type": "skip"
    }
   },
   "outputs": [],
   "source": [
    "from graphviz import Digraph, nohtml"
   ]
  },
  {
   "cell_type": "code",
   "execution_count": null,
   "metadata": {},
   "outputs": [],
   "source": []
  },
  {
   "cell_type": "code",
   "execution_count": 9,
   "metadata": {
    "ipub": {
     "ignore": true
    },
    "slideshow": {
     "slide_type": "skip"
    }
   },
   "outputs": [],
   "source": [
    "from IPython.display import display"
   ]
  },
  {
   "cell_type": "code",
   "execution_count": 10,
   "metadata": {
    "ipub": {
     "ignore": true
    },
    "slideshow": {
     "slide_type": "fragment"
    }
   },
   "outputs": [],
   "source": [
    "PASS = \"✔\"\n",
    "FAIL = \"✘\"\n",
    "\n",
    "PASS_COLOR = 'darkgreen'  # '#006400' # darkgreen\n",
    "FAIL_COLOR = 'red4'  # '#8B0000' # darkred\n",
    "\n",
    "STEP_COLOR = 'peachpuff'\n",
    "FONT_NAME = 'Raleway'"
   ]
  },
  {
   "cell_type": "code",
   "execution_count": 11,
   "metadata": {
    "ipub": {
     "ignore": true
    },
    "slideshow": {
     "slide_type": "subslide"
    }
   },
   "outputs": [],
   "source": [
    "def graph(comment=\"default\"):\n",
    "    return Digraph(name='', comment=comment, graph_attr={'rankdir': 'LR'},\n",
    "        node_attr={'style': 'filled',\n",
    "                   'fillcolor': STEP_COLOR,\n",
    "                   'fontname': FONT_NAME},\n",
    "        edge_attr={'fontname': FONT_NAME})"
   ]
  },
  {
   "cell_type": "code",
   "execution_count": 12,
   "metadata": {
    "ipub": {
     "ignore": true
    },
    "slideshow": {
     "slide_type": "fragment"
    }
   },
   "outputs": [],
   "source": [
    "state_machine = graph()\n",
    "state_machine.node('Start', )\n",
    "state_machine.edge('Start', '¬ tag')\n",
    "state_machine.edge('¬ tag', '¬ tag', label=\" ¬ '<'\\nadd character\")\n",
    "state_machine.edge('¬ tag', 'tag', label=\"'<'\")\n",
    "state_machine.edge('tag', '¬ tag', label=\"'>'\")\n",
    "state_machine.edge('tag', 'tag', label=\"¬ '>'\")"
   ]
  },
  {
   "cell_type": "code",
   "execution_count": 13,
   "metadata": {
    "slideshow": {
     "slide_type": "subslide"
    },
    "pycharm": {
     "name": "#%%\n"
    }
   },
   "outputs": [
    {
     "data": {
      "image/svg+xml": [
       "<?xml version=\"1.0\" encoding=\"UTF-8\" standalone=\"no\"?>\n",
       "<!DOCTYPE svg PUBLIC \"-//W3C//DTD SVG 1.1//EN\"\n",
       " \"http://www.w3.org/Graphics/SVG/1.1/DTD/svg11.dtd\">\n",
       "<!-- Generated by graphviz version 2.43.0 (0)\n",
       " -->\n",
       "<!-- Title: %3 Pages: 1 -->\n",
       "<svg width=\"293pt\" height=\"94pt\"\n",
       " viewBox=\"0.00 0.00 292.79 94.41\" xmlns=\"http://www.w3.org/2000/svg\" xmlns:xlink=\"http://www.w3.org/1999/xlink\">\n",
       "<g id=\"graph0\" class=\"graph\" transform=\"scale(1 1) rotate(0) translate(4 90.41)\">\n",
       "<title>%3</title>\n",
       "<polygon fill=\"white\" stroke=\"transparent\" points=\"-4,4 -4,-90.41 288.79,-90.41 288.79,4 -4,4\"/>\n",
       "<!-- Start -->\n",
       "<g id=\"node1\" class=\"node\">\n",
       "<title>Start</title>\n",
       "<ellipse fill=\"peachpuff\" stroke=\"black\" cx=\"32.5\" cy=\"-20.41\" rx=\"32.49\" ry=\"18\"/>\n",
       "<text text-anchor=\"middle\" x=\"32.5\" y=\"-16.71\" font-family=\"Raleway\" font-size=\"14.00\">Start</text>\n",
       "</g>\n",
       "<!-- ¬ tag -->\n",
       "<g id=\"node2\" class=\"node\">\n",
       "<title>¬ tag</title>\n",
       "<ellipse fill=\"peachpuff\" stroke=\"black\" cx=\"138.39\" cy=\"-20.41\" rx=\"36.29\" ry=\"18\"/>\n",
       "<text text-anchor=\"middle\" x=\"138.39\" y=\"-16.71\" font-family=\"Raleway\" font-size=\"14.00\">¬ tag</text>\n",
       "</g>\n",
       "<!-- Start&#45;&gt;¬ tag -->\n",
       "<g id=\"edge1\" class=\"edge\">\n",
       "<title>Start&#45;&gt;¬ tag</title>\n",
       "<path fill=\"none\" stroke=\"black\" d=\"M65.23,-20.41C73.55,-20.41 82.69,-20.41 91.59,-20.41\"/>\n",
       "<polygon fill=\"black\" stroke=\"black\" points=\"91.86,-23.91 101.86,-20.41 91.86,-16.91 91.86,-23.91\"/>\n",
       "</g>\n",
       "<!-- ¬ tag&#45;&gt;¬ tag -->\n",
       "<g id=\"edge2\" class=\"edge\">\n",
       "<title>¬ tag&#45;&gt;¬ tag</title>\n",
       "<path fill=\"none\" stroke=\"black\" d=\"M128.75,-37.82C126.95,-47.5 130.16,-56.41 138.39,-56.41 143.53,-56.41 146.72,-52.93 147.94,-47.96\"/>\n",
       "<polygon fill=\"black\" stroke=\"black\" points=\"151.44,-47.86 148.03,-37.82 144.44,-47.79 151.44,-47.86\"/>\n",
       "<text text-anchor=\"middle\" x=\"138.39\" y=\"-75.21\" font-family=\"Raleway\" font-size=\"14.00\"> ¬ &#39;&lt;&#39;</text>\n",
       "<text text-anchor=\"middle\" x=\"138.39\" y=\"-60.21\" font-family=\"Raleway\" font-size=\"14.00\">add character</text>\n",
       "</g>\n",
       "<!-- tag -->\n",
       "<g id=\"node3\" class=\"node\">\n",
       "<title>tag</title>\n",
       "<ellipse fill=\"peachpuff\" stroke=\"black\" cx=\"257.79\" cy=\"-20.41\" rx=\"27\" ry=\"18\"/>\n",
       "<text text-anchor=\"middle\" x=\"257.79\" y=\"-16.71\" font-family=\"Raleway\" font-size=\"14.00\">tag</text>\n",
       "</g>\n",
       "<!-- ¬ tag&#45;&gt;tag -->\n",
       "<g id=\"edge3\" class=\"edge\">\n",
       "<title>¬ tag&#45;&gt;tag</title>\n",
       "<path fill=\"none\" stroke=\"black\" d=\"M174.93,-20.41C189.38,-20.41 206.05,-20.41 220.57,-20.41\"/>\n",
       "<polygon fill=\"black\" stroke=\"black\" points=\"220.69,-23.91 230.69,-20.41 220.69,-16.91 220.69,-23.91\"/>\n",
       "<text text-anchor=\"middle\" x=\"202.79\" y=\"-24.21\" font-family=\"Raleway\" font-size=\"14.00\">&#39;&lt;&#39;</text>\n",
       "</g>\n",
       "<!-- tag&#45;&gt;¬ tag -->\n",
       "<g id=\"edge4\" class=\"edge\">\n",
       "<title>tag&#45;&gt;¬ tag</title>\n",
       "<path fill=\"none\" stroke=\"black\" d=\"M235.88,-9.32C228.75,-6.11 220.61,-3.03 212.79,-1.41 200.2,1.19 186.54,-0.96 174.45,-4.61\"/>\n",
       "<polygon fill=\"black\" stroke=\"black\" points=\"173.04,-1.4 164.72,-7.96 175.32,-8.02 173.04,-1.4\"/>\n",
       "<text text-anchor=\"middle\" x=\"202.79\" y=\"-5.21\" font-family=\"Raleway\" font-size=\"14.00\">&#39;&gt;&#39;</text>\n",
       "</g>\n",
       "<!-- tag&#45;&gt;tag -->\n",
       "<g id=\"edge5\" class=\"edge\">\n",
       "<title>tag&#45;&gt;tag</title>\n",
       "<path fill=\"none\" stroke=\"black\" d=\"M248.22,-37.45C246.27,-47.27 249.46,-56.41 257.79,-56.41 263,-56.41 266.19,-52.84 267.38,-47.77\"/>\n",
       "<polygon fill=\"black\" stroke=\"black\" points=\"270.88,-47.44 267.36,-37.45 263.88,-47.46 270.88,-47.44\"/>\n",
       "<text text-anchor=\"middle\" x=\"257.79\" y=\"-60.21\" font-family=\"Raleway\" font-size=\"14.00\">¬ &#39;&gt;&#39;</text>\n",
       "</g>\n",
       "</g>\n",
       "</svg>\n"
      ],
      "text/plain": [
       "<graphviz.dot.Digraph at 0x7f75e8089100>"
      ]
     },
     "metadata": {},
     "output_type": "display_data"
    }
   ],
   "source": [
    "# ignore\n",
    "display(state_machine)"
   ]
  },
  {
   "cell_type": "code",
   "execution_count": null,
   "metadata": {
    "pycharm": {
     "name": "#%%\n"
    }
   },
   "outputs": [],
   "source": []
  },
  {
   "cell_type": "markdown",
   "metadata": {
    "slideshow": {
     "slide_type": "fragment"
    }
   },
   "source": [
    "You see that we start in the non-tag state (`¬ tag`). Here, for every character that is not `'<'`, we add the character and stay in the same state. When we read a `'<'`, though, we end in the tag state (`tag`) and stay in that state (skipping characters) until we find a closing `'>'` character."
   ]
  },
  {
   "cell_type": "markdown",
   "metadata": {
    "slideshow": {
     "slide_type": "slide"
    }
   },
   "source": [
    "## A First Fix\n",
    "\n",
    "Let us now look at the above state machine, and process through our input:\n",
    "\n",
    "```html\n",
    "<input type=\"text\" value=\"<your name>\">\n",
    "```"
   ]
  },
  {
   "cell_type": "markdown",
   "metadata": {
    "slideshow": {
     "slide_type": "fragment"
    },
    "pycharm": {
     "name": "#%% md\n"
    }
   },
   "source": [
    "So what you can see is: We are interpreting the `'>'` of `\"<your name>\"` as the closing of the tag. However, this is a quoted string, so the `'>'` should be interpreted as a regular character, not as markup. This is an example of _missing functionality:_ We do not handle quoted characters correctly. We haven't claimed yet to take care of all functionality, so we still need to extend our code."
   ]
  },
  {
   "cell_type": "markdown",
   "metadata": {
    "slideshow": {
     "slide_type": "subslide"
    },
    "pycharm": {
     "name": "#%% md\n"
    }
   },
   "source": [
    "So we extend the whole thing.  We set up a special \"quote\" state which processes quoted inputs in tags until the end of the quoted string is reached. This is how the state machine looks like:"
   ]
  },
  {
   "cell_type": "code",
   "execution_count": 14,
   "metadata": {
    "ipub": {
     "ignore": true
    },
    "slideshow": {
     "slide_type": "fragment"
    },
    "pycharm": {
     "name": "#%%\n"
    }
   },
   "outputs": [],
   "source": [
    "state_machine = graph()\n",
    "state_machine.node('Start')\n",
    "state_machine.edge('Start', '¬ quote\\n¬ tag')\n",
    "state_machine.edge('¬ quote\\n¬ tag', '¬ quote\\n¬ tag',\n",
    "                   label=\"¬ '<'\\nadd character\")\n",
    "state_machine.edge('¬ quote\\n¬ tag', '¬ quote\\ntag', label=\"'<'\")\n",
    "state_machine.edge('¬ quote\\ntag', 'quote\\ntag', label=\"'\\\"'\")\n",
    "state_machine.edge('¬ quote\\ntag', '¬ quote\\ntag', label=\"¬ '\\\"' ∧ ¬ '>'\")\n",
    "state_machine.edge('quote\\ntag', 'quote\\ntag', label=\"¬ '\\\"'\")\n",
    "state_machine.edge('quote\\ntag', '¬ quote\\ntag', label=\"'\\\"'\")\n",
    "state_machine.edge('¬ quote\\ntag', '¬ quote\\n¬ tag', label=\"'>'\")"
   ]
  },
  {
   "cell_type": "code",
   "execution_count": 15,
   "metadata": {
    "slideshow": {
     "slide_type": "subslide"
    },
    "pycharm": {
     "name": "#%%\n"
    }
   },
   "outputs": [
    {
     "data": {
      "image/svg+xml": [
       "<?xml version=\"1.0\" encoding=\"UTF-8\" standalone=\"no\"?>\n",
       "<!DOCTYPE svg PUBLIC \"-//W3C//DTD SVG 1.1//EN\"\n",
       " \"http://www.w3.org/Graphics/SVG/1.1/DTD/svg11.dtd\">\n",
       "<!-- Generated by graphviz version 2.43.0 (0)\n",
       " -->\n",
       "<!-- Title: %3 Pages: 1 -->\n",
       "<svg width=\"503pt\" height=\"110pt\"\n",
       " viewBox=\"0.00 0.00 502.67 109.74\" xmlns=\"http://www.w3.org/2000/svg\" xmlns:xlink=\"http://www.w3.org/1999/xlink\">\n",
       "<g id=\"graph0\" class=\"graph\" transform=\"scale(1 1) rotate(0) translate(4 105.74)\">\n",
       "<title>%3</title>\n",
       "<polygon fill=\"white\" stroke=\"transparent\" points=\"-4,4 -4,-105.74 498.67,-105.74 498.67,4 -4,4\"/>\n",
       "<!-- Start -->\n",
       "<g id=\"node1\" class=\"node\">\n",
       "<title>Start</title>\n",
       "<ellipse fill=\"peachpuff\" stroke=\"black\" cx=\"32.5\" cy=\"-26.87\" rx=\"32.49\" ry=\"18\"/>\n",
       "<text text-anchor=\"middle\" x=\"32.5\" y=\"-23.17\" font-family=\"Raleway\" font-size=\"14.00\">Start</text>\n",
       "</g>\n",
       "<!-- ¬ quote\n",
       "¬ tag -->\n",
       "<g id=\"node2\" class=\"node\">\n",
       "<title>¬ quote\n",
       "¬ tag</title>\n",
       "<ellipse fill=\"peachpuff\" stroke=\"black\" cx=\"153.61\" cy=\"-26.87\" rx=\"51.74\" ry=\"26.74\"/>\n",
       "<text text-anchor=\"middle\" x=\"153.61\" y=\"-30.67\" font-family=\"Raleway\" font-size=\"14.00\">¬ quote</text>\n",
       "<text text-anchor=\"middle\" x=\"153.61\" y=\"-15.67\" font-family=\"Raleway\" font-size=\"14.00\">¬ tag</text>\n",
       "</g>\n",
       "<!-- Start&#45;&gt;¬ quote\n",
       "¬ tag -->\n",
       "<g id=\"edge1\" class=\"edge\">\n",
       "<title>Start&#45;&gt;¬ quote\n",
       "¬ tag</title>\n",
       "<path fill=\"none\" stroke=\"black\" d=\"M65.11,-26.87C73.41,-26.87 82.64,-26.87 91.92,-26.87\"/>\n",
       "<polygon fill=\"black\" stroke=\"black\" points=\"91.95,-30.37 101.95,-26.87 91.95,-23.37 91.95,-30.37\"/>\n",
       "</g>\n",
       "<!-- ¬ quote\n",
       "¬ tag&#45;&gt;¬ quote\n",
       "¬ tag -->\n",
       "<g id=\"edge2\" class=\"edge\">\n",
       "<title>¬ quote\n",
       "¬ tag&#45;&gt;¬ quote\n",
       "¬ tag</title>\n",
       "<path fill=\"none\" stroke=\"black\" d=\"M140.54,-53.14C139.96,-63.3 144.32,-71.74 153.61,-71.74 159.57,-71.74 163.5,-68.28 165.4,-63.11\"/>\n",
       "<polygon fill=\"black\" stroke=\"black\" points=\"168.88,-63.51 166.69,-53.14 161.94,-62.61 168.88,-63.51\"/>\n",
       "<text text-anchor=\"middle\" x=\"153.61\" y=\"-90.54\" font-family=\"Raleway\" font-size=\"14.00\">¬ &#39;&lt;&#39;</text>\n",
       "<text text-anchor=\"middle\" x=\"153.61\" y=\"-75.54\" font-family=\"Raleway\" font-size=\"14.00\">add character</text>\n",
       "</g>\n",
       "<!-- ¬ quote\n",
       "tag -->\n",
       "<g id=\"node3\" class=\"node\">\n",
       "<title>¬ quote\n",
       "tag</title>\n",
       "<ellipse fill=\"peachpuff\" stroke=\"black\" cx=\"312.85\" cy=\"-26.87\" rx=\"51.74\" ry=\"26.74\"/>\n",
       "<text text-anchor=\"middle\" x=\"312.85\" y=\"-30.67\" font-family=\"Raleway\" font-size=\"14.00\">¬ quote</text>\n",
       "<text text-anchor=\"middle\" x=\"312.85\" y=\"-15.67\" font-family=\"Raleway\" font-size=\"14.00\">tag</text>\n",
       "</g>\n",
       "<!-- ¬ quote\n",
       "¬ tag&#45;&gt;¬ quote\n",
       "tag -->\n",
       "<g id=\"edge3\" class=\"edge\">\n",
       "<title>¬ quote\n",
       "¬ tag&#45;&gt;¬ quote\n",
       "tag</title>\n",
       "<path fill=\"none\" stroke=\"black\" d=\"M205.66,-26.87C220.09,-26.87 235.93,-26.87 250.88,-26.87\"/>\n",
       "<polygon fill=\"black\" stroke=\"black\" points=\"251.06,-30.37 261.06,-26.87 251.06,-23.37 251.06,-30.37\"/>\n",
       "<text text-anchor=\"middle\" x=\"233.23\" y=\"-30.67\" font-family=\"Raleway\" font-size=\"14.00\">&#39;&lt;&#39;</text>\n",
       "</g>\n",
       "<!-- ¬ quote\n",
       "tag&#45;&gt;¬ quote\n",
       "¬ tag -->\n",
       "<g id=\"edge8\" class=\"edge\">\n",
       "<title>¬ quote\n",
       "tag&#45;&gt;¬ quote\n",
       "¬ tag</title>\n",
       "<path fill=\"none\" stroke=\"black\" d=\"M269.71,-11.72C255.08,-8.09 238.51,-5.79 223.23,-7.87 218.23,-8.55 213.08,-9.5 207.95,-10.61\"/>\n",
       "<polygon fill=\"black\" stroke=\"black\" points=\"207.1,-7.21 198.17,-12.92 208.71,-14.02 207.1,-7.21\"/>\n",
       "<text text-anchor=\"middle\" x=\"233.23\" y=\"-11.67\" font-family=\"Raleway\" font-size=\"14.00\">&#39;&gt;&#39;</text>\n",
       "</g>\n",
       "<!-- ¬ quote\n",
       "tag&#45;&gt;¬ quote\n",
       "tag -->\n",
       "<g id=\"edge5\" class=\"edge\">\n",
       "<title>¬ quote\n",
       "tag&#45;&gt;¬ quote\n",
       "tag</title>\n",
       "<path fill=\"none\" stroke=\"black\" d=\"M298.66,-53.14C298.03,-63.3 302.76,-71.74 312.85,-71.74 319.32,-71.74 323.58,-68.28 325.65,-63.11\"/>\n",
       "<polygon fill=\"black\" stroke=\"black\" points=\"329.12,-63.53 327.04,-53.14 322.19,-62.56 329.12,-63.53\"/>\n",
       "<text text-anchor=\"middle\" x=\"312.85\" y=\"-75.54\" font-family=\"Raleway\" font-size=\"14.00\">¬ &#39;&quot;&#39; ∧ ¬ &#39;&gt;&#39;</text>\n",
       "</g>\n",
       "<!-- quote\n",
       "tag -->\n",
       "<g id=\"node4\" class=\"node\">\n",
       "<title>quote\n",
       "tag</title>\n",
       "<ellipse fill=\"peachpuff\" stroke=\"black\" cx=\"455.07\" cy=\"-26.87\" rx=\"39.7\" ry=\"26.74\"/>\n",
       "<text text-anchor=\"middle\" x=\"455.07\" y=\"-30.67\" font-family=\"Raleway\" font-size=\"14.00\">quote</text>\n",
       "<text text-anchor=\"middle\" x=\"455.07\" y=\"-15.67\" font-family=\"Raleway\" font-size=\"14.00\">tag</text>\n",
       "</g>\n",
       "<!-- ¬ quote\n",
       "tag&#45;&gt;quote\n",
       "tag -->\n",
       "<g id=\"edge4\" class=\"edge\">\n",
       "<title>¬ quote\n",
       "tag&#45;&gt;quote\n",
       "tag</title>\n",
       "<path fill=\"none\" stroke=\"black\" d=\"M364.47,-26.87C377.72,-26.87 391.97,-26.87 405.13,-26.87\"/>\n",
       "<polygon fill=\"black\" stroke=\"black\" points=\"405.4,-30.37 415.4,-26.87 405.4,-23.37 405.4,-30.37\"/>\n",
       "<text text-anchor=\"middle\" x=\"389.97\" y=\"-30.67\" font-family=\"Raleway\" font-size=\"14.00\">&#39;&quot;&#39;</text>\n",
       "</g>\n",
       "<!-- quote\n",
       "tag&#45;&gt;¬ quote\n",
       "tag -->\n",
       "<g id=\"edge7\" class=\"edge\">\n",
       "<title>quote\n",
       "tag&#45;&gt;¬ quote\n",
       "tag</title>\n",
       "<path fill=\"none\" stroke=\"black\" d=\"M420.4,-13.59C412.96,-11.22 405.04,-9.11 397.47,-7.87 386.89,-6.14 375.65,-6.89 364.96,-8.85\"/>\n",
       "<polygon fill=\"black\" stroke=\"black\" points=\"363.92,-5.5 354.91,-11.07 365.43,-12.33 363.92,-5.5\"/>\n",
       "<text text-anchor=\"middle\" x=\"389.97\" y=\"-11.67\" font-family=\"Raleway\" font-size=\"14.00\">&#39;&quot;&#39;</text>\n",
       "</g>\n",
       "<!-- quote\n",
       "tag&#45;&gt;quote\n",
       "tag -->\n",
       "<g id=\"edge6\" class=\"edge\">\n",
       "<title>quote\n",
       "tag&#45;&gt;quote\n",
       "tag</title>\n",
       "<path fill=\"none\" stroke=\"black\" d=\"M443.14,-52.69C442.47,-63.05 446.44,-71.74 455.07,-71.74 460.59,-71.74 464.21,-68.17 465.92,-62.89\"/>\n",
       "<polygon fill=\"black\" stroke=\"black\" points=\"469.43,-63 466.99,-52.69 462.46,-62.27 469.43,-63\"/>\n",
       "<text text-anchor=\"middle\" x=\"455.07\" y=\"-75.54\" font-family=\"Raleway\" font-size=\"14.00\">¬ &#39;&quot;&#39;</text>\n",
       "</g>\n",
       "</g>\n",
       "</svg>\n"
      ],
      "text/plain": [
       "<graphviz.dot.Digraph at 0x7f75e8089f10>"
      ]
     },
     "metadata": {},
     "output_type": "display_data"
    }
   ],
   "source": [
    "display(state_machine)"
   ]
  },
  {
   "cell_type": "markdown",
   "metadata": {
    "slideshow": {
     "slide_type": "fragment"
    },
    "pycharm": {
     "name": "#%% md\n"
    }
   },
   "source": [
    "This is a bit more complex already. Proceeding from left to right, we first have the state `¬ quote ∧ ¬ tag`, which is our \"standard\" state for text. If we encounter a `'<'`, we again switch to the \"tagged\" state `¬ quote ∧ tag`. In this state, however (and only in this state), if we encounter a quotation mark, we switch to the \"quotation\" state `quote ∧ tag`, in which we remain until we see another quotation mark indicating the end of the string – and then continue in the \"tagged\" state `¬ quote ∧ tag` until we see the end of the string."
   ]
  },
  {
   "cell_type": "markdown",
   "metadata": {
    "slideshow": {
     "slide_type": "fragment"
    }
   },
   "source": [
    "Things get even more complicated as HTML allows both single and double quotation characters. Here's a revised implementation of `remove_html_markup()` that takes the above states into account:"
   ]
  },
  {
   "cell_type": "code",
   "execution_count": 16,
   "metadata": {
    "slideshow": {
     "slide_type": "subslide"
    }
   },
   "outputs": [],
   "source": [
    "def remove_html_markup(s):\n",
    "    tag = False\n",
    "    quote = False\n",
    "    out = \"\"\n",
    "\n",
    "    for c in s:\n",
    "        if c == '<' and not quote:\n",
    "            tag = True\n",
    "        elif c == '>' and not quote:\n",
    "            tag = False\n",
    "        elif c == '\"' or c == \"'\" and tag:\n",
    "            quote = not quote\n",
    "        elif not tag:\n",
    "            out = out + c\n",
    "\n",
    "    return out"
   ]
  },
  {
   "cell_type": "markdown",
   "metadata": {
    "slideshow": {
     "slide_type": "subslide"
    }
   },
   "source": [
    "Now, our previous input works well:"
   ]
  },
  {
   "cell_type": "code",
   "execution_count": 17,
   "metadata": {
    "slideshow": {
     "slide_type": "fragment"
    }
   },
   "outputs": [
    {
     "data": {
      "text/plain": [
       "''"
      ]
     },
     "execution_count": 17,
     "metadata": {},
     "output_type": "execute_result"
    }
   ],
   "source": [
    "remove_html_markup('<input type=\"text\" value=\"<your name>\">')"
   ]
  },
  {
   "cell_type": "markdown",
   "metadata": {
    "slideshow": {
     "slide_type": "fragment"
    },
    "pycharm": {
     "name": "#%% md\n"
    }
   },
   "source": [
    "and our earlier tests also pass:"
   ]
  },
  {
   "cell_type": "code",
   "execution_count": 18,
   "metadata": {
    "slideshow": {
     "slide_type": "fragment"
    },
    "pycharm": {
     "name": "#%%\n"
    }
   },
   "outputs": [],
   "source": [
    "assert remove_html_markup(\"Here's some <strong>strong argument</strong>.\") == \\\n",
    "    \"Here's some strong argument.\""
   ]
  },
  {
   "cell_type": "code",
   "execution_count": 19,
   "metadata": {
    "slideshow": {
     "slide_type": "fragment"
    },
    "pycharm": {
     "name": "#%%\n"
    }
   },
   "outputs": [],
   "source": [
    "assert remove_html_markup('<input type=\"text\" value=\"<your name>\">') == \"\""
   ]
  },
  {
   "cell_type": "markdown",
   "metadata": {
    "slideshow": {
     "slide_type": "subslide"
    },
    "pycharm": {
     "name": "#%% md\n"
    }
   },
   "source": [
    "However, the above code still has a bug.  In two of these inputs, HTML markup is still not properly stripped:\n",
    "\n",
    "```html\n",
    "<b>foo</b>\n",
    "<b>\"foo\"</b>\n",
    "\"<b>foo</b>\"\n",
    "<\"b\">foo</\"b\">\n",
    "```\n",
    "\n",
    "Can you guess which ones these are?"
   ]
  },
  {
   "cell_type": "markdown",
   "metadata": {
    "slideshow": {
     "slide_type": "fragment"
    },
    "pycharm": {
     "name": "#%% md\n"
    }
   },
   "source": [
    "Again, a simple assertion will reveal the culprits:"
   ]
  },
  {
   "cell_type": "code",
   "execution_count": 20,
   "metadata": {
    "slideshow": {
     "slide_type": "subslide"
    }
   },
   "outputs": [],
   "source": [
    "with ExpectError():\n",
    "    assert remove_html_markup('<b>foo</b>') == 'foo'"
   ]
  },
  {
   "cell_type": "code",
   "execution_count": 21,
   "metadata": {},
   "outputs": [
    {
     "data": {
      "text/plain": [
       "'foo'"
      ]
     },
     "execution_count": 21,
     "metadata": {},
     "output_type": "execute_result"
    }
   ],
   "source": [
    "remove_html_markup('<b>\"foo\"</b>')"
   ]
  },
  {
   "cell_type": "code",
   "execution_count": 22,
   "metadata": {
    "slideshow": {
     "slide_type": "fragment"
    },
    "pycharm": {
     "name": "#%%\n"
    }
   },
   "outputs": [
    {
     "name": "stderr",
     "output_type": "stream",
     "text": [
      "Traceback (most recent call last):\n",
      "  File \"<ipython-input-22-ebb80f5cdc78>\", line 2, in <module>\n",
      "    assert remove_html_markup('<b>\"foo\"</b>') == '\"foo\"'\n",
      "AssertionError (expected)\n"
     ]
    }
   ],
   "source": [
    "with ExpectError():\n",
    "    assert remove_html_markup('<b>\"foo\"</b>') == '\"foo\"'"
   ]
  },
  {
   "cell_type": "code",
   "execution_count": 23,
   "metadata": {
    "pycharm": {
     "name": "#%%\n"
    }
   },
   "outputs": [
    {
     "data": {
      "text/plain": [
       "'<b>foo</b>'"
      ]
     },
     "execution_count": 23,
     "metadata": {},
     "output_type": "execute_result"
    }
   ],
   "source": [
    "remove_html_markup('\"<b>foo</b>\"') "
   ]
  },
  {
   "cell_type": "code",
   "execution_count": 24,
   "metadata": {
    "slideshow": {
     "slide_type": "subslide"
    },
    "pycharm": {
     "name": "#%%\n"
    }
   },
   "outputs": [
    {
     "name": "stderr",
     "output_type": "stream",
     "text": [
      "Traceback (most recent call last):\n",
      "  File \"<ipython-input-24-1f9c40f6f95d>\", line 2, in <module>\n",
      "    assert remove_html_markup('\"<b>foo</b>\"') == '\"foo\"'\n",
      "AssertionError (expected)\n"
     ]
    }
   ],
   "source": [
    "with ExpectError():\n",
    "    assert remove_html_markup('\"<b>foo</b>\"') == '\"foo\"'"
   ]
  },
  {
   "cell_type": "code",
   "execution_count": 25,
   "metadata": {
    "slideshow": {
     "slide_type": "fragment"
    }
   },
   "outputs": [],
   "source": [
    "with ExpectError():\n",
    "    assert remove_html_markup('<\"b\">foo</\"b\">') == 'foo'"
   ]
  },
  {
   "cell_type": "markdown",
   "metadata": {
    "slideshow": {
     "slide_type": "fragment"
    }
   },
   "source": [
    "So, unfortunately, we're not done yet – our function still has errors."
   ]
  },
  {
   "cell_type": "markdown",
   "metadata": {
    "slideshow": {
     "slide_type": "slide"
    },
    "pycharm": {
     "name": "#%% md\n"
    }
   },
   "source": [
    "## The Devil's Guide to Debugging\n",
    "\n",
    "Let us now discuss a couple of methods that do _not_ work well for debugging. (These \"devil's suggestions\" are adapted from the 1993 book \"Code Complete\" from Steve McConnell.)"
   ]
  },
  {
   "cell_type": "markdown",
   "metadata": {
    "slideshow": {
     "slide_type": "subslide"
    }
   },
   "source": [
    "### Printf Debugging\n",
    "\n",
    "When I was a student,  never got any formal training in debugging, so I had to figure this out for myself. What I learned was how to use _debugging output_; in Python, this would be the `print()` function. For instance, I would go and scatter `print()` calls everywhere:"
   ]
  },
  {
   "cell_type": "code",
   "execution_count": 26,
   "metadata": {
    "slideshow": {
     "slide_type": "subslide"
    },
    "pycharm": {
     "name": "#%%\n"
    }
   },
   "outputs": [],
   "source": [
    "def remove_html_markup_with_print(s):\n",
    "    tag = False\n",
    "    quote = False\n",
    "    out = \"\"\n",
    "\n",
    "    for c in s:\n",
    "        print(\"c =\", repr(c), \"tag =\", tag, \"quote =\", quote)\n",
    "\n",
    "        if c == '<' and not quote:\n",
    "            tag = True\n",
    "        elif c == '>' and not quote:\n",
    "            tag = False\n",
    "        elif c == '\"' or c == \"'\" and tag:\n",
    "            quote = not quote\n",
    "        elif not tag:\n",
    "            out = out + c\n",
    "\n",
    "    return out"
   ]
  },
  {
   "cell_type": "markdown",
   "metadata": {
    "slideshow": {
     "slide_type": "subslide"
    }
   },
   "source": [
    "This way of inspecting executions is commonly called \"Printf debugging\", after the C `printf()` function. Then, running this would allow me to see what's going on in my code:"
   ]
  },
  {
   "cell_type": "code",
   "execution_count": 27,
   "metadata": {
    "slideshow": {
     "slide_type": "subslide"
    },
    "pycharm": {
     "name": "#%%\n"
    }
   },
   "outputs": [
    {
     "name": "stdout",
     "output_type": "stream",
     "text": [
      "c = '<' tag = False quote = False\n",
      "c = 'b' tag = True quote = False\n",
      "c = '>' tag = True quote = False\n",
      "c = '\"' tag = False quote = False\n",
      "c = 'f' tag = False quote = True\n",
      "c = 'o' tag = False quote = True\n",
      "c = 'o' tag = False quote = True\n",
      "c = '\"' tag = False quote = True\n",
      "c = '<' tag = False quote = False\n",
      "c = '/' tag = True quote = False\n",
      "c = 'b' tag = True quote = False\n",
      "c = '>' tag = True quote = False\n"
     ]
    },
    {
     "data": {
      "text/plain": [
       "'foo'"
      ]
     },
     "execution_count": 27,
     "metadata": {},
     "output_type": "execute_result"
    }
   ],
   "source": [
    "remove_html_markup_with_print('<b>\"foo\"</b>')"
   ]
  },
  {
   "cell_type": "code",
   "execution_count": null,
   "metadata": {},
   "outputs": [],
   "source": []
  },
  {
   "cell_type": "markdown",
   "metadata": {
    "slideshow": {
     "slide_type": "subslide"
    },
    "pycharm": {
     "name": "#%% md\n"
    }
   },
   "source": [
    "Yes, one sees what is going on – but this is horribly inefficient!  Think of a 1,000-character input – you'd have to go through 2,000 lines of logs.  It may help you, but it's a total time waster.  Plus, you have to enter these statements, remove them again... it's a maintenance nightmare."
   ]
  },
  {
   "cell_type": "markdown",
   "metadata": {
    "slideshow": {
     "slide_type": "fragment"
    }
   },
   "source": [
    "(You may even forget printf's in your code, creating a security problem: Mac OS X versions 10.7 to 10.7.3 would log the password in clear because someone had forgotten to turn off debugging output.)"
   ]
  },
  {
   "cell_type": "markdown",
   "metadata": {
    "slideshow": {
     "slide_type": "subslide"
    },
    "pycharm": {
     "name": "#%% md\n"
    }
   },
   "source": [
    "### Debugging into Existence"
   ]
  },
  {
   "cell_type": "markdown",
   "metadata": {
    "slideshow": {
     "slide_type": "fragment"
    }
   },
   "source": [
    "I would also try to _debug the program into existence._  Just change things until they work.  Let me see: If I remove the conditions \"and not quote\" from the program, it would actually work again:"
   ]
  },
  {
   "cell_type": "code",
   "execution_count": 28,
   "metadata": {
    "slideshow": {
     "slide_type": "subslide"
    },
    "pycharm": {
     "name": "#%%\n"
    }
   },
   "outputs": [],
   "source": [
    "def remove_html_markup_without_quotes(s):\n",
    "    tag = False\n",
    "    quote = False\n",
    "    out = \"\"\n",
    "\n",
    "    for c in s:\n",
    "        if c == '<':  # and not quote:\n",
    "            tag = True\n",
    "        elif c == '>':  # and not quote:\n",
    "            tag = False\n",
    "        elif c == '\"' or c == \"'\" and tag:\n",
    "            quote = not quote\n",
    "        elif not tag:\n",
    "            out = out + c\n",
    "\n",
    "    return out"
   ]
  },
  {
   "cell_type": "code",
   "execution_count": 29,
   "metadata": {
    "slideshow": {
     "slide_type": "subslide"
    },
    "pycharm": {
     "name": "#%%\n"
    }
   },
   "outputs": [],
   "source": [
    "assert remove_html_markup_without_quotes('<\"b\">foo</\"b\">') == 'foo'"
   ]
  },
  {
   "cell_type": "markdown",
   "metadata": {
    "slideshow": {
     "slide_type": "fragment"
    }
   },
   "source": [
    "Cool! Unfortunately, the function still fails on the other input:"
   ]
  },
  {
   "cell_type": "code",
   "execution_count": 30,
   "metadata": {
    "slideshow": {
     "slide_type": "fragment"
    }
   },
   "outputs": [
    {
     "name": "stderr",
     "output_type": "stream",
     "text": [
      "Traceback (most recent call last):\n",
      "  File \"<ipython-input-30-1d8954a52bcf>\", line 2, in <module>\n",
      "    assert remove_html_markup_without_quotes('<b>\"foo\"</b>') == '\"foo\"'\n",
      "AssertionError (expected)\n"
     ]
    }
   ],
   "source": [
    "with ExpectError():\n",
    "    assert remove_html_markup_without_quotes('<b>\"foo\"</b>') == '\"foo\"'"
   ]
  },
  {
   "cell_type": "markdown",
   "metadata": {
    "slideshow": {
     "slide_type": "fragment"
    }
   },
   "source": [
    "So, maybe we can change things again, such that both work? And maybe the other tests we had earlier won't fail? Let's just continue to change things randomly again and again and again."
   ]
  },
  {
   "cell_type": "markdown",
   "metadata": {
    "slideshow": {
     "slide_type": "fragment"
    }
   },
   "source": [
    "Oh, and of course, I would never back up earlier versions such that I would be able to keep track of what has changed and when."
   ]
  },
  {
   "cell_type": "markdown",
   "metadata": {
    "slideshow": {
     "slide_type": "subslide"
    }
   },
   "source": [
    "### Use the Most Obvious Fix"
   ]
  },
  {
   "cell_type": "markdown",
   "metadata": {
    "slideshow": {
     "slide_type": "fragment"
    },
    "pycharm": {
     "name": "#%% md\n"
    }
   },
   "source": [
    "My favorite: Use the most obvious fix.  This means that you're fixing the symptom, not the problem. In our case, this would be something like:"
   ]
  },
  {
   "cell_type": "code",
   "execution_count": 31,
   "metadata": {
    "slideshow": {
     "slide_type": "fragment"
    }
   },
   "outputs": [],
   "source": [
    "def remove_html_markup_fixed(s):\n",
    "    if s == '<b>\"foo\"</b>':\n",
    "        return '\"foo\"'\n",
    "    ..."
   ]
  },
  {
   "cell_type": "markdown",
   "metadata": {
    "slideshow": {
     "slide_type": "fragment"
    }
   },
   "source": [
    "Miracle! Our earlier failing assertion now works! Now we can do the same for the other failing test, too, and we're done.\n",
    "(Rumor has it that some programmers use this technique to get their tests to pass...)"
   ]
  },
  {
   "cell_type": "markdown",
   "metadata": {
    "slideshow": {
     "slide_type": "subslide"
    }
   },
   "source": [
    "### Things to do Instead\n",
    "\n",
    "As with any devil's guide, you get an idea of how to do things by doing the _opposite._  What this means is:\n",
    "\n",
    "1. Understand the code\n",
    "2. Fix the problem, not the symptom\n",
    "3. Proceed systematically\n",
    "\n",
    "which is what we will apply for the rest of this chapter."
   ]
  },
  {
   "cell_type": "markdown",
   "metadata": {
    "slideshow": {
     "slide_type": "slide"
    },
    "pycharm": {
     "name": "#%% md\n"
    }
   },
   "source": [
    "## From Defect to Failure\n",
    "\n",
    "To understand how to systematically debug a program, we first have to understand how failures come to be. The typical debugging situation looks like this. We have a program (execution), taking some input and producing some output. The output is in *error* (✘), meaning an unwanted and unintended deviation from what is correct, right, or true.\n",
    "The input, in contrast, is assumed to be correct (✔). (Otherwise, we wouldn't search for the bug in our program, but in whatever produced its input.)"
   ]
  },
  {
   "cell_type": "code",
   "execution_count": 32,
   "metadata": {
    "ipub": {
     "ignore": true
    },
    "slideshow": {
     "slide_type": "subslide"
    },
    "pycharm": {
     "name": "#%%\n"
    }
   },
   "outputs": [],
   "source": [
    "# ignore\n",
    "def execution_diagram(show_steps=True, variables=[],\n",
    "                      steps=3, error_step=666,\n",
    "                      until=666, fault_path=[]):\n",
    "    dot = graph()\n",
    "\n",
    "    dot.node('input', shape='none', fillcolor='white', label=f\"Input {PASS}\",\n",
    "             fontcolor=PASS_COLOR)\n",
    "    last_outgoing_states = ['input']\n",
    "\n",
    "    for step in range(1, min(steps + 1, until)):\n",
    "\n",
    "        if step == error_step:\n",
    "            step_label = f'Step {step} {FAIL}'\n",
    "            step_color = FAIL_COLOR\n",
    "        else:\n",
    "            step_label = f'Step {step}'\n",
    "            step_color = None\n",
    "\n",
    "        if step >= error_step:\n",
    "            state_label = f'State {step} {FAIL}'\n",
    "            state_color = FAIL_COLOR\n",
    "        else:\n",
    "            state_label = f'State {step} {PASS}'\n",
    "            state_color = PASS_COLOR\n",
    "\n",
    "        state_name = f's{step}'\n",
    "        outgoing_states = []\n",
    "        incoming_states = []\n",
    "\n",
    "        if not variables:\n",
    "            dot.node(name=state_name, shape='box',\n",
    "                     label=state_label, color=state_color,\n",
    "                     fontcolor=state_color)\n",
    "        else:\n",
    "            var_labels = []\n",
    "            for v in variables:\n",
    "                vpath = f's{step}:{v}'\n",
    "                if vpath in fault_path:\n",
    "                    var_label = f'<{v}>{v} ✘'\n",
    "                    outgoing_states.append(vpath)\n",
    "                    incoming_states.append(vpath)\n",
    "                else:\n",
    "                    var_label = f'<{v}>{v}'\n",
    "                var_labels.append(var_label)\n",
    "            record_string = \" | \".join(var_labels)\n",
    "            dot.node(name=state_name, shape='record',\n",
    "                     label=nohtml(record_string), color=state_color,\n",
    "                     fontcolor=state_color)\n",
    "\n",
    "        if not outgoing_states:\n",
    "            outgoing_states = [state_name]\n",
    "        if not incoming_states:\n",
    "            incoming_states = [state_name]\n",
    "\n",
    "        for outgoing_state in last_outgoing_states:\n",
    "            for incoming_state in incoming_states:\n",
    "                if show_steps:\n",
    "                    dot.edge(outgoing_state, incoming_state,\n",
    "                             label=step_label, fontcolor=step_color)\n",
    "                else:\n",
    "                    dot.edge(outgoing_state, incoming_state)\n",
    "\n",
    "        last_outgoing_states = outgoing_states\n",
    "\n",
    "    if until > steps + 1:\n",
    "        # Show output\n",
    "        if error_step > steps:\n",
    "            dot.node('output', shape='none', fillcolor='white',\n",
    "                     label=f\"Output {PASS}\", fontcolor=PASS_COLOR)\n",
    "        else:\n",
    "            dot.node('output', shape='none', fillcolor='white',\n",
    "                     label=f\"Output {FAIL}\", fontcolor=FAIL_COLOR)\n",
    "\n",
    "        for outgoing_state in last_outgoing_states:\n",
    "            label = \"Execution\" if steps == 0 else None\n",
    "            dot.edge(outgoing_state, 'output', label=label)\n",
    "\n",
    "    display(dot)"
   ]
  },
  {
   "cell_type": "code",
   "execution_count": 33,
   "metadata": {
    "slideshow": {
     "slide_type": "subslide"
    },
    "pycharm": {
     "name": "#%%\n"
    }
   },
   "outputs": [
    {
     "data": {
      "image/svg+xml": [
       "<?xml version=\"1.0\" encoding=\"UTF-8\" standalone=\"no\"?>\n",
       "<!DOCTYPE svg PUBLIC \"-//W3C//DTD SVG 1.1//EN\"\n",
       " \"http://www.w3.org/Graphics/SVG/1.1/DTD/svg11.dtd\">\n",
       "<!-- Generated by graphviz version 2.43.0 (0)\n",
       " -->\n",
       "<!-- Title: %3 Pages: 1 -->\n",
       "<svg width=\"264pt\" height=\"44pt\"\n",
       " viewBox=\"0.00 0.00 264.00 44.00\" xmlns=\"http://www.w3.org/2000/svg\" xmlns:xlink=\"http://www.w3.org/1999/xlink\">\n",
       "<g id=\"graph0\" class=\"graph\" transform=\"scale(1 1) rotate(0) translate(4 40)\">\n",
       "<title>%3</title>\n",
       "<polygon fill=\"white\" stroke=\"transparent\" points=\"-4,4 -4,-40 260,-40 260,4 -4,4\"/>\n",
       "<!-- input -->\n",
       "<g id=\"node1\" class=\"node\">\n",
       "<title>input</title>\n",
       "<polygon fill=\"white\" stroke=\"transparent\" points=\"70,-36 0,-36 0,0 70,0 70,-36\"/>\n",
       "<text text-anchor=\"middle\" x=\"35\" y=\"-14.3\" font-family=\"Raleway\" font-size=\"14.00\" fill=\"darkgreen\">Input ✔</text>\n",
       "</g>\n",
       "<!-- output -->\n",
       "<g id=\"node2\" class=\"node\">\n",
       "<title>output</title>\n",
       "<polygon fill=\"white\" stroke=\"transparent\" points=\"256,-36 174,-36 174,0 256,0 256,-36\"/>\n",
       "<text text-anchor=\"middle\" x=\"215\" y=\"-14.3\" font-family=\"Raleway\" font-size=\"14.00\" fill=\"#8b0000\">Output ✘</text>\n",
       "</g>\n",
       "<!-- input&#45;&gt;output -->\n",
       "<g id=\"edge1\" class=\"edge\">\n",
       "<title>input&#45;&gt;output</title>\n",
       "<path fill=\"none\" stroke=\"black\" d=\"M70.32,-18C96.8,-18 133.82,-18 163.65,-18\"/>\n",
       "<polygon fill=\"black\" stroke=\"black\" points=\"163.87,-21.5 173.87,-18 163.87,-14.5 163.87,-21.5\"/>\n",
       "<text text-anchor=\"middle\" x=\"122\" y=\"-21.8\" font-family=\"Raleway\" font-size=\"14.00\">Execution</text>\n",
       "</g>\n",
       "</g>\n",
       "</svg>\n"
      ],
      "text/plain": [
       "<graphviz.dot.Digraph at 0x7f75e8094ac0>"
      ]
     },
     "metadata": {},
     "output_type": "display_data"
    }
   ],
   "source": [
    "# ignore\n",
    "execution_diagram(show_steps=False, steps=0, error_step=0)"
   ]
  },
  {
   "cell_type": "markdown",
   "metadata": {
    "slideshow": {
     "slide_type": "fragment"
    },
    "pycharm": {
     "name": "#%% md\n"
    }
   },
   "source": [
    "This situation we see above is what we call a *failure*: An externally visible _error_ in the program behavior, with the error again being an unwanted and unintended deviation from what is correct, right, or true."
   ]
  },
  {
   "cell_type": "markdown",
   "metadata": {
    "slideshow": {
     "slide_type": "fragment"
    }
   },
   "source": [
    "How does this failure come to be? The execution we see above breaks down into several program _states_, one after the other."
   ]
  },
  {
   "cell_type": "code",
   "execution_count": 34,
   "metadata": {
    "slideshow": {
     "slide_type": "subslide"
    },
    "pycharm": {
     "name": "#%%\n"
    }
   },
   "outputs": [
    {
     "data": {
      "image/svg+xml": [
       "<?xml version=\"1.0\" encoding=\"UTF-8\" standalone=\"no\"?>\n",
       "<!DOCTYPE svg PUBLIC \"-//W3C//DTD SVG 1.1//EN\"\n",
       " \"http://www.w3.org/Graphics/SVG/1.1/DTD/svg11.dtd\">\n",
       "<!-- Generated by graphviz version 2.43.0 (0)\n",
       " -->\n",
       "<!-- Title: %3 Pages: 1 -->\n",
       "<svg width=\"78pt\" height=\"44pt\"\n",
       " viewBox=\"0.00 0.00 78.00 44.00\" xmlns=\"http://www.w3.org/2000/svg\" xmlns:xlink=\"http://www.w3.org/1999/xlink\">\n",
       "<g id=\"graph0\" class=\"graph\" transform=\"scale(1 1) rotate(0) translate(4 40)\">\n",
       "<title>%3</title>\n",
       "<polygon fill=\"white\" stroke=\"transparent\" points=\"-4,4 -4,-40 74,-40 74,4 -4,4\"/>\n",
       "<!-- input -->\n",
       "<g id=\"node1\" class=\"node\">\n",
       "<title>input</title>\n",
       "<polygon fill=\"white\" stroke=\"transparent\" points=\"70,-36 0,-36 0,0 70,0 70,-36\"/>\n",
       "<text text-anchor=\"middle\" x=\"35\" y=\"-14.3\" font-family=\"Raleway\" font-size=\"14.00\" fill=\"darkgreen\">Input ✔</text>\n",
       "</g>\n",
       "</g>\n",
       "</svg>\n"
      ],
      "text/plain": [
       "<graphviz.dot.Digraph at 0x7f75e8089430>"
      ]
     },
     "metadata": {},
     "output_type": "display_data"
    },
    {
     "data": {
      "image/svg+xml": [
       "<?xml version=\"1.0\" encoding=\"UTF-8\" standalone=\"no\"?>\n",
       "<!DOCTYPE svg PUBLIC \"-//W3C//DTD SVG 1.1//EN\"\n",
       " \"http://www.w3.org/Graphics/SVG/1.1/DTD/svg11.dtd\">\n",
       "<!-- Generated by graphviz version 2.43.0 (0)\n",
       " -->\n",
       "<!-- Title: %3 Pages: 1 -->\n",
       "<svg width=\"197pt\" height=\"44pt\"\n",
       " viewBox=\"0.00 0.00 197.00 44.00\" xmlns=\"http://www.w3.org/2000/svg\" xmlns:xlink=\"http://www.w3.org/1999/xlink\">\n",
       "<g id=\"graph0\" class=\"graph\" transform=\"scale(1 1) rotate(0) translate(4 40)\">\n",
       "<title>%3</title>\n",
       "<polygon fill=\"white\" stroke=\"transparent\" points=\"-4,4 -4,-40 193,-40 193,4 -4,4\"/>\n",
       "<!-- input -->\n",
       "<g id=\"node1\" class=\"node\">\n",
       "<title>input</title>\n",
       "<polygon fill=\"white\" stroke=\"transparent\" points=\"70,-36 0,-36 0,0 70,0 70,-36\"/>\n",
       "<text text-anchor=\"middle\" x=\"35\" y=\"-14.3\" font-family=\"Raleway\" font-size=\"14.00\" fill=\"darkgreen\">Input ✔</text>\n",
       "</g>\n",
       "<!-- s1 -->\n",
       "<g id=\"node2\" class=\"node\">\n",
       "<title>s1</title>\n",
       "<polygon fill=\"peachpuff\" stroke=\"darkgreen\" points=\"189,-36 106,-36 106,0 189,0 189,-36\"/>\n",
       "<text text-anchor=\"middle\" x=\"147.5\" y=\"-14.3\" font-family=\"Raleway\" font-size=\"14.00\" fill=\"darkgreen\">State 1 ✔</text>\n",
       "</g>\n",
       "<!-- input&#45;&gt;s1 -->\n",
       "<g id=\"edge1\" class=\"edge\">\n",
       "<title>input&#45;&gt;s1</title>\n",
       "<path fill=\"none\" stroke=\"black\" d=\"M70.06,-18C78.17,-18 87,-18 95.68,-18\"/>\n",
       "<polygon fill=\"black\" stroke=\"black\" points=\"95.76,-21.5 105.76,-18 95.76,-14.5 95.76,-21.5\"/>\n",
       "</g>\n",
       "</g>\n",
       "</svg>\n"
      ],
      "text/plain": [
       "<graphviz.dot.Digraph at 0x7f75e8089430>"
      ]
     },
     "metadata": {},
     "output_type": "display_data"
    },
    {
     "data": {
      "image/svg+xml": [
       "<?xml version=\"1.0\" encoding=\"UTF-8\" standalone=\"no\"?>\n",
       "<!DOCTYPE svg PUBLIC \"-//W3C//DTD SVG 1.1//EN\"\n",
       " \"http://www.w3.org/Graphics/SVG/1.1/DTD/svg11.dtd\">\n",
       "<!-- Generated by graphviz version 2.43.0 (0)\n",
       " -->\n",
       "<!-- Title: %3 Pages: 1 -->\n",
       "<svg width=\"316pt\" height=\"44pt\"\n",
       " viewBox=\"0.00 0.00 316.00 44.00\" xmlns=\"http://www.w3.org/2000/svg\" xmlns:xlink=\"http://www.w3.org/1999/xlink\">\n",
       "<g id=\"graph0\" class=\"graph\" transform=\"scale(1 1) rotate(0) translate(4 40)\">\n",
       "<title>%3</title>\n",
       "<polygon fill=\"white\" stroke=\"transparent\" points=\"-4,4 -4,-40 312,-40 312,4 -4,4\"/>\n",
       "<!-- input -->\n",
       "<g id=\"node1\" class=\"node\">\n",
       "<title>input</title>\n",
       "<polygon fill=\"white\" stroke=\"transparent\" points=\"70,-36 0,-36 0,0 70,0 70,-36\"/>\n",
       "<text text-anchor=\"middle\" x=\"35\" y=\"-14.3\" font-family=\"Raleway\" font-size=\"14.00\" fill=\"darkgreen\">Input ✔</text>\n",
       "</g>\n",
       "<!-- s1 -->\n",
       "<g id=\"node2\" class=\"node\">\n",
       "<title>s1</title>\n",
       "<polygon fill=\"peachpuff\" stroke=\"darkgreen\" points=\"189,-36 106,-36 106,0 189,0 189,-36\"/>\n",
       "<text text-anchor=\"middle\" x=\"147.5\" y=\"-14.3\" font-family=\"Raleway\" font-size=\"14.00\" fill=\"darkgreen\">State 1 ✔</text>\n",
       "</g>\n",
       "<!-- input&#45;&gt;s1 -->\n",
       "<g id=\"edge1\" class=\"edge\">\n",
       "<title>input&#45;&gt;s1</title>\n",
       "<path fill=\"none\" stroke=\"black\" d=\"M70.06,-18C78.17,-18 87,-18 95.68,-18\"/>\n",
       "<polygon fill=\"black\" stroke=\"black\" points=\"95.76,-21.5 105.76,-18 95.76,-14.5 95.76,-21.5\"/>\n",
       "</g>\n",
       "<!-- s2 -->\n",
       "<g id=\"node3\" class=\"node\">\n",
       "<title>s2</title>\n",
       "<polygon fill=\"peachpuff\" stroke=\"#8b0000\" points=\"308,-36 225,-36 225,0 308,0 308,-36\"/>\n",
       "<text text-anchor=\"middle\" x=\"266.5\" y=\"-14.3\" font-family=\"Raleway\" font-size=\"14.00\" fill=\"#8b0000\">State 2 ✘</text>\n",
       "</g>\n",
       "<!-- s1&#45;&gt;s2 -->\n",
       "<g id=\"edge2\" class=\"edge\">\n",
       "<title>s1&#45;&gt;s2</title>\n",
       "<path fill=\"none\" stroke=\"black\" d=\"M189.09,-18C197.35,-18 206.14,-18 214.7,-18\"/>\n",
       "<polygon fill=\"black\" stroke=\"black\" points=\"214.98,-21.5 224.98,-18 214.98,-14.5 214.98,-21.5\"/>\n",
       "</g>\n",
       "</g>\n",
       "</svg>\n"
      ],
      "text/plain": [
       "<graphviz.dot.Digraph at 0x7f75e8089430>"
      ]
     },
     "metadata": {},
     "output_type": "display_data"
    },
    {
     "data": {
      "image/svg+xml": [
       "<?xml version=\"1.0\" encoding=\"UTF-8\" standalone=\"no\"?>\n",
       "<!DOCTYPE svg PUBLIC \"-//W3C//DTD SVG 1.1//EN\"\n",
       " \"http://www.w3.org/Graphics/SVG/1.1/DTD/svg11.dtd\">\n",
       "<!-- Generated by graphviz version 2.43.0 (0)\n",
       " -->\n",
       "<!-- Title: %3 Pages: 1 -->\n",
       "<svg width=\"435pt\" height=\"44pt\"\n",
       " viewBox=\"0.00 0.00 435.00 44.00\" xmlns=\"http://www.w3.org/2000/svg\" xmlns:xlink=\"http://www.w3.org/1999/xlink\">\n",
       "<g id=\"graph0\" class=\"graph\" transform=\"scale(1 1) rotate(0) translate(4 40)\">\n",
       "<title>%3</title>\n",
       "<polygon fill=\"white\" stroke=\"transparent\" points=\"-4,4 -4,-40 431,-40 431,4 -4,4\"/>\n",
       "<!-- input -->\n",
       "<g id=\"node1\" class=\"node\">\n",
       "<title>input</title>\n",
       "<polygon fill=\"white\" stroke=\"transparent\" points=\"70,-36 0,-36 0,0 70,0 70,-36\"/>\n",
       "<text text-anchor=\"middle\" x=\"35\" y=\"-14.3\" font-family=\"Raleway\" font-size=\"14.00\" fill=\"darkgreen\">Input ✔</text>\n",
       "</g>\n",
       "<!-- s1 -->\n",
       "<g id=\"node2\" class=\"node\">\n",
       "<title>s1</title>\n",
       "<polygon fill=\"peachpuff\" stroke=\"darkgreen\" points=\"189,-36 106,-36 106,0 189,0 189,-36\"/>\n",
       "<text text-anchor=\"middle\" x=\"147.5\" y=\"-14.3\" font-family=\"Raleway\" font-size=\"14.00\" fill=\"darkgreen\">State 1 ✔</text>\n",
       "</g>\n",
       "<!-- input&#45;&gt;s1 -->\n",
       "<g id=\"edge1\" class=\"edge\">\n",
       "<title>input&#45;&gt;s1</title>\n",
       "<path fill=\"none\" stroke=\"black\" d=\"M70.06,-18C78.17,-18 87,-18 95.68,-18\"/>\n",
       "<polygon fill=\"black\" stroke=\"black\" points=\"95.76,-21.5 105.76,-18 95.76,-14.5 95.76,-21.5\"/>\n",
       "</g>\n",
       "<!-- s2 -->\n",
       "<g id=\"node3\" class=\"node\">\n",
       "<title>s2</title>\n",
       "<polygon fill=\"peachpuff\" stroke=\"#8b0000\" points=\"308,-36 225,-36 225,0 308,0 308,-36\"/>\n",
       "<text text-anchor=\"middle\" x=\"266.5\" y=\"-14.3\" font-family=\"Raleway\" font-size=\"14.00\" fill=\"#8b0000\">State 2 ✘</text>\n",
       "</g>\n",
       "<!-- s1&#45;&gt;s2 -->\n",
       "<g id=\"edge2\" class=\"edge\">\n",
       "<title>s1&#45;&gt;s2</title>\n",
       "<path fill=\"none\" stroke=\"black\" d=\"M189.09,-18C197.35,-18 206.14,-18 214.7,-18\"/>\n",
       "<polygon fill=\"black\" stroke=\"black\" points=\"214.98,-21.5 224.98,-18 214.98,-14.5 214.98,-21.5\"/>\n",
       "</g>\n",
       "<!-- s3 -->\n",
       "<g id=\"node4\" class=\"node\">\n",
       "<title>s3</title>\n",
       "<polygon fill=\"peachpuff\" stroke=\"#8b0000\" points=\"427,-36 344,-36 344,0 427,0 427,-36\"/>\n",
       "<text text-anchor=\"middle\" x=\"385.5\" y=\"-14.3\" font-family=\"Raleway\" font-size=\"14.00\" fill=\"#8b0000\">State 3 ✘</text>\n",
       "</g>\n",
       "<!-- s2&#45;&gt;s3 -->\n",
       "<g id=\"edge3\" class=\"edge\">\n",
       "<title>s2&#45;&gt;s3</title>\n",
       "<path fill=\"none\" stroke=\"black\" d=\"M308.09,-18C316.35,-18 325.14,-18 333.7,-18\"/>\n",
       "<polygon fill=\"black\" stroke=\"black\" points=\"333.98,-21.5 343.98,-18 333.98,-14.5 333.98,-21.5\"/>\n",
       "</g>\n",
       "</g>\n",
       "</svg>\n"
      ],
      "text/plain": [
       "<graphviz.dot.Digraph at 0x7f75e8087730>"
      ]
     },
     "metadata": {},
     "output_type": "display_data"
    },
    {
     "data": {
      "image/svg+xml": [
       "<?xml version=\"1.0\" encoding=\"UTF-8\" standalone=\"no\"?>\n",
       "<!DOCTYPE svg PUBLIC \"-//W3C//DTD SVG 1.1//EN\"\n",
       " \"http://www.w3.org/Graphics/SVG/1.1/DTD/svg11.dtd\">\n",
       "<!-- Generated by graphviz version 2.43.0 (0)\n",
       " -->\n",
       "<!-- Title: %3 Pages: 1 -->\n",
       "<svg width=\"553pt\" height=\"44pt\"\n",
       " viewBox=\"0.00 0.00 553.00 44.00\" xmlns=\"http://www.w3.org/2000/svg\" xmlns:xlink=\"http://www.w3.org/1999/xlink\">\n",
       "<g id=\"graph0\" class=\"graph\" transform=\"scale(1 1) rotate(0) translate(4 40)\">\n",
       "<title>%3</title>\n",
       "<polygon fill=\"white\" stroke=\"transparent\" points=\"-4,4 -4,-40 549,-40 549,4 -4,4\"/>\n",
       "<!-- input -->\n",
       "<g id=\"node1\" class=\"node\">\n",
       "<title>input</title>\n",
       "<polygon fill=\"white\" stroke=\"transparent\" points=\"70,-36 0,-36 0,0 70,0 70,-36\"/>\n",
       "<text text-anchor=\"middle\" x=\"35\" y=\"-14.3\" font-family=\"Raleway\" font-size=\"14.00\" fill=\"darkgreen\">Input ✔</text>\n",
       "</g>\n",
       "<!-- s1 -->\n",
       "<g id=\"node2\" class=\"node\">\n",
       "<title>s1</title>\n",
       "<polygon fill=\"peachpuff\" stroke=\"darkgreen\" points=\"189,-36 106,-36 106,0 189,0 189,-36\"/>\n",
       "<text text-anchor=\"middle\" x=\"147.5\" y=\"-14.3\" font-family=\"Raleway\" font-size=\"14.00\" fill=\"darkgreen\">State 1 ✔</text>\n",
       "</g>\n",
       "<!-- input&#45;&gt;s1 -->\n",
       "<g id=\"edge1\" class=\"edge\">\n",
       "<title>input&#45;&gt;s1</title>\n",
       "<path fill=\"none\" stroke=\"black\" d=\"M70.06,-18C78.17,-18 87,-18 95.68,-18\"/>\n",
       "<polygon fill=\"black\" stroke=\"black\" points=\"95.76,-21.5 105.76,-18 95.76,-14.5 95.76,-21.5\"/>\n",
       "</g>\n",
       "<!-- s2 -->\n",
       "<g id=\"node3\" class=\"node\">\n",
       "<title>s2</title>\n",
       "<polygon fill=\"peachpuff\" stroke=\"#8b0000\" points=\"308,-36 225,-36 225,0 308,0 308,-36\"/>\n",
       "<text text-anchor=\"middle\" x=\"266.5\" y=\"-14.3\" font-family=\"Raleway\" font-size=\"14.00\" fill=\"#8b0000\">State 2 ✘</text>\n",
       "</g>\n",
       "<!-- s1&#45;&gt;s2 -->\n",
       "<g id=\"edge2\" class=\"edge\">\n",
       "<title>s1&#45;&gt;s2</title>\n",
       "<path fill=\"none\" stroke=\"black\" d=\"M189.09,-18C197.35,-18 206.14,-18 214.7,-18\"/>\n",
       "<polygon fill=\"black\" stroke=\"black\" points=\"214.98,-21.5 224.98,-18 214.98,-14.5 214.98,-21.5\"/>\n",
       "</g>\n",
       "<!-- s3 -->\n",
       "<g id=\"node4\" class=\"node\">\n",
       "<title>s3</title>\n",
       "<polygon fill=\"peachpuff\" stroke=\"#8b0000\" points=\"427,-36 344,-36 344,0 427,0 427,-36\"/>\n",
       "<text text-anchor=\"middle\" x=\"385.5\" y=\"-14.3\" font-family=\"Raleway\" font-size=\"14.00\" fill=\"#8b0000\">State 3 ✘</text>\n",
       "</g>\n",
       "<!-- s2&#45;&gt;s3 -->\n",
       "<g id=\"edge3\" class=\"edge\">\n",
       "<title>s2&#45;&gt;s3</title>\n",
       "<path fill=\"none\" stroke=\"black\" d=\"M308.09,-18C316.35,-18 325.14,-18 333.7,-18\"/>\n",
       "<polygon fill=\"black\" stroke=\"black\" points=\"333.98,-21.5 343.98,-18 333.98,-14.5 333.98,-21.5\"/>\n",
       "</g>\n",
       "<!-- output -->\n",
       "<g id=\"node5\" class=\"node\">\n",
       "<title>output</title>\n",
       "<polygon fill=\"white\" stroke=\"transparent\" points=\"545,-36 463,-36 463,0 545,0 545,-36\"/>\n",
       "<text text-anchor=\"middle\" x=\"504\" y=\"-14.3\" font-family=\"Raleway\" font-size=\"14.00\" fill=\"#8b0000\">Output ✘</text>\n",
       "</g>\n",
       "<!-- s3&#45;&gt;output -->\n",
       "<g id=\"edge4\" class=\"edge\">\n",
       "<title>s3&#45;&gt;output</title>\n",
       "<path fill=\"none\" stroke=\"black\" d=\"M427.25,-18C435.46,-18 444.18,-18 452.67,-18\"/>\n",
       "<polygon fill=\"black\" stroke=\"black\" points=\"452.87,-21.5 462.87,-18 452.87,-14.5 452.87,-21.5\"/>\n",
       "</g>\n",
       "</g>\n",
       "</svg>\n"
      ],
      "text/plain": [
       "<graphviz.dot.Digraph at 0x7f75e8089a90>"
      ]
     },
     "metadata": {},
     "output_type": "display_data"
    }
   ],
   "source": [
    "# ignore\n",
    "for until in range(1, 6):\n",
    "    execution_diagram(show_steps=False, until=until, error_step=2)"
   ]
  },
  {
   "cell_type": "markdown",
   "metadata": {
    "slideshow": {
     "slide_type": "subslide"
    }
   },
   "source": [
    "Initially, the program state is still correct (✔). However, at some point in the execution, the state gets an _error_, also known as a *fault*. This fault – again an unwanted and unintended deviation from what is correct, right, or true – then propagates along the execution, until it becomes externally visible as a _failure_.\n",
    "(In reality, there are many, many more states than just this, but these would not fit in a diagram.)"
   ]
  },
  {
   "cell_type": "markdown",
   "metadata": {
    "slideshow": {
     "slide_type": "fragment"
    },
    "pycharm": {
     "name": "#%% md\n"
    }
   },
   "source": [
    "How does a fault come to be? Each of these program states is produced by a _step_ in the program code. These steps take a state as input and produce another state as output. Technically speaking, the program inputs and outputs are also parts of the program state, so the input flows into the first step, and the output is the state produced by the last step."
   ]
  },
  {
   "cell_type": "code",
   "execution_count": 35,
   "metadata": {
    "slideshow": {
     "slide_type": "subslide"
    },
    "pycharm": {
     "name": "#%%\n"
    }
   },
   "outputs": [
    {
     "data": {
      "image/svg+xml": [
       "<?xml version=\"1.0\" encoding=\"UTF-8\" standalone=\"no\"?>\n",
       "<!DOCTYPE svg PUBLIC \"-//W3C//DTD SVG 1.1//EN\"\n",
       " \"http://www.w3.org/Graphics/SVG/1.1/DTD/svg11.dtd\">\n",
       "<!-- Generated by graphviz version 2.43.0 (0)\n",
       " -->\n",
       "<!-- Title: %3 Pages: 1 -->\n",
       "<svg width=\"78pt\" height=\"44pt\"\n",
       " viewBox=\"0.00 0.00 78.00 44.00\" xmlns=\"http://www.w3.org/2000/svg\" xmlns:xlink=\"http://www.w3.org/1999/xlink\">\n",
       "<g id=\"graph0\" class=\"graph\" transform=\"scale(1 1) rotate(0) translate(4 40)\">\n",
       "<title>%3</title>\n",
       "<polygon fill=\"white\" stroke=\"transparent\" points=\"-4,4 -4,-40 74,-40 74,4 -4,4\"/>\n",
       "<!-- input -->\n",
       "<g id=\"node1\" class=\"node\">\n",
       "<title>input</title>\n",
       "<polygon fill=\"white\" stroke=\"transparent\" points=\"70,-36 0,-36 0,0 70,0 70,-36\"/>\n",
       "<text text-anchor=\"middle\" x=\"35\" y=\"-14.3\" font-family=\"Raleway\" font-size=\"14.00\" fill=\"darkgreen\">Input ✔</text>\n",
       "</g>\n",
       "</g>\n",
       "</svg>\n"
      ],
      "text/plain": [
       "<graphviz.dot.Digraph at 0x7f75e8094f10>"
      ]
     },
     "metadata": {},
     "output_type": "display_data"
    },
    {
     "data": {
      "image/svg+xml": [
       "<?xml version=\"1.0\" encoding=\"UTF-8\" standalone=\"no\"?>\n",
       "<!DOCTYPE svg PUBLIC \"-//W3C//DTD SVG 1.1//EN\"\n",
       " \"http://www.w3.org/Graphics/SVG/1.1/DTD/svg11.dtd\">\n",
       "<!-- Generated by graphviz version 2.43.0 (0)\n",
       " -->\n",
       "<!-- Title: %3 Pages: 1 -->\n",
       "<svg width=\"243pt\" height=\"44pt\"\n",
       " viewBox=\"0.00 0.00 243.00 44.00\" xmlns=\"http://www.w3.org/2000/svg\" xmlns:xlink=\"http://www.w3.org/1999/xlink\">\n",
       "<g id=\"graph0\" class=\"graph\" transform=\"scale(1 1) rotate(0) translate(4 40)\">\n",
       "<title>%3</title>\n",
       "<polygon fill=\"white\" stroke=\"transparent\" points=\"-4,4 -4,-40 239,-40 239,4 -4,4\"/>\n",
       "<!-- input -->\n",
       "<g id=\"node1\" class=\"node\">\n",
       "<title>input</title>\n",
       "<polygon fill=\"white\" stroke=\"transparent\" points=\"70,-36 0,-36 0,0 70,0 70,-36\"/>\n",
       "<text text-anchor=\"middle\" x=\"35\" y=\"-14.3\" font-family=\"Raleway\" font-size=\"14.00\" fill=\"darkgreen\">Input ✔</text>\n",
       "</g>\n",
       "<!-- s1 -->\n",
       "<g id=\"node2\" class=\"node\">\n",
       "<title>s1</title>\n",
       "<polygon fill=\"peachpuff\" stroke=\"darkgreen\" points=\"235,-36 152,-36 152,0 235,0 235,-36\"/>\n",
       "<text text-anchor=\"middle\" x=\"193.5\" y=\"-14.3\" font-family=\"Raleway\" font-size=\"14.00\" fill=\"darkgreen\">State 1 ✔</text>\n",
       "</g>\n",
       "<!-- input&#45;&gt;s1 -->\n",
       "<g id=\"edge1\" class=\"edge\">\n",
       "<title>input&#45;&gt;s1</title>\n",
       "<path fill=\"none\" stroke=\"black\" d=\"M70.34,-18C91.27,-18 118.39,-18 141.76,-18\"/>\n",
       "<polygon fill=\"black\" stroke=\"black\" points=\"141.86,-21.5 151.86,-18 141.86,-14.5 141.86,-21.5\"/>\n",
       "<text text-anchor=\"middle\" x=\"111\" y=\"-21.8\" font-family=\"Raleway\" font-size=\"14.00\">Step 1</text>\n",
       "</g>\n",
       "</g>\n",
       "</svg>\n"
      ],
      "text/plain": [
       "<graphviz.dot.Digraph at 0x7f75e8089c40>"
      ]
     },
     "metadata": {},
     "output_type": "display_data"
    },
    {
     "data": {
      "image/svg+xml": [
       "<?xml version=\"1.0\" encoding=\"UTF-8\" standalone=\"no\"?>\n",
       "<!DOCTYPE svg PUBLIC \"-//W3C//DTD SVG 1.1//EN\"\n",
       " \"http://www.w3.org/Graphics/SVG/1.1/DTD/svg11.dtd\">\n",
       "<!-- Generated by graphviz version 2.43.0 (0)\n",
       " -->\n",
       "<!-- Title: %3 Pages: 1 -->\n",
       "<svg width=\"424pt\" height=\"44pt\"\n",
       " viewBox=\"0.00 0.00 424.00 44.00\" xmlns=\"http://www.w3.org/2000/svg\" xmlns:xlink=\"http://www.w3.org/1999/xlink\">\n",
       "<g id=\"graph0\" class=\"graph\" transform=\"scale(1 1) rotate(0) translate(4 40)\">\n",
       "<title>%3</title>\n",
       "<polygon fill=\"white\" stroke=\"transparent\" points=\"-4,4 -4,-40 420,-40 420,4 -4,4\"/>\n",
       "<!-- input -->\n",
       "<g id=\"node1\" class=\"node\">\n",
       "<title>input</title>\n",
       "<polygon fill=\"white\" stroke=\"transparent\" points=\"70,-36 0,-36 0,0 70,0 70,-36\"/>\n",
       "<text text-anchor=\"middle\" x=\"35\" y=\"-14.3\" font-family=\"Raleway\" font-size=\"14.00\" fill=\"darkgreen\">Input ✔</text>\n",
       "</g>\n",
       "<!-- s1 -->\n",
       "<g id=\"node2\" class=\"node\">\n",
       "<title>s1</title>\n",
       "<polygon fill=\"peachpuff\" stroke=\"darkgreen\" points=\"235,-36 152,-36 152,0 235,0 235,-36\"/>\n",
       "<text text-anchor=\"middle\" x=\"193.5\" y=\"-14.3\" font-family=\"Raleway\" font-size=\"14.00\" fill=\"darkgreen\">State 1 ✔</text>\n",
       "</g>\n",
       "<!-- input&#45;&gt;s1 -->\n",
       "<g id=\"edge1\" class=\"edge\">\n",
       "<title>input&#45;&gt;s1</title>\n",
       "<path fill=\"none\" stroke=\"black\" d=\"M70.34,-18C91.27,-18 118.39,-18 141.76,-18\"/>\n",
       "<polygon fill=\"black\" stroke=\"black\" points=\"141.86,-21.5 151.86,-18 141.86,-14.5 141.86,-21.5\"/>\n",
       "<text text-anchor=\"middle\" x=\"111\" y=\"-21.8\" font-family=\"Raleway\" font-size=\"14.00\">Step 1</text>\n",
       "</g>\n",
       "<!-- s2 -->\n",
       "<g id=\"node3\" class=\"node\">\n",
       "<title>s2</title>\n",
       "<polygon fill=\"peachpuff\" stroke=\"#8b0000\" points=\"416,-36 333,-36 333,0 416,0 416,-36\"/>\n",
       "<text text-anchor=\"middle\" x=\"374.5\" y=\"-14.3\" font-family=\"Raleway\" font-size=\"14.00\" fill=\"#8b0000\">State 2 ✘</text>\n",
       "</g>\n",
       "<!-- s1&#45;&gt;s2 -->\n",
       "<g id=\"edge2\" class=\"edge\">\n",
       "<title>s1&#45;&gt;s2</title>\n",
       "<path fill=\"none\" stroke=\"black\" d=\"M235.12,-18C261,-18 294.76,-18 322.45,-18\"/>\n",
       "<polygon fill=\"black\" stroke=\"black\" points=\"322.73,-21.5 332.73,-18 322.73,-14.5 322.73,-21.5\"/>\n",
       "<text text-anchor=\"middle\" x=\"284\" y=\"-21.8\" font-family=\"Raleway\" font-size=\"14.00\" fill=\"#8b0000\">Step 2 ✘</text>\n",
       "</g>\n",
       "</g>\n",
       "</svg>\n"
      ],
      "text/plain": [
       "<graphviz.dot.Digraph at 0x7f75e8089c40>"
      ]
     },
     "metadata": {},
     "output_type": "display_data"
    },
    {
     "data": {
      "image/svg+xml": [
       "<?xml version=\"1.0\" encoding=\"UTF-8\" standalone=\"no\"?>\n",
       "<!DOCTYPE svg PUBLIC \"-//W3C//DTD SVG 1.1//EN\"\n",
       " \"http://www.w3.org/Graphics/SVG/1.1/DTD/svg11.dtd\">\n",
       "<!-- Generated by graphviz version 2.43.0 (0)\n",
       " -->\n",
       "<!-- Title: %3 Pages: 1 -->\n",
       "<svg width=\"589pt\" height=\"44pt\"\n",
       " viewBox=\"0.00 0.00 589.00 44.00\" xmlns=\"http://www.w3.org/2000/svg\" xmlns:xlink=\"http://www.w3.org/1999/xlink\">\n",
       "<g id=\"graph0\" class=\"graph\" transform=\"scale(1 1) rotate(0) translate(4 40)\">\n",
       "<title>%3</title>\n",
       "<polygon fill=\"white\" stroke=\"transparent\" points=\"-4,4 -4,-40 585,-40 585,4 -4,4\"/>\n",
       "<!-- input -->\n",
       "<g id=\"node1\" class=\"node\">\n",
       "<title>input</title>\n",
       "<polygon fill=\"white\" stroke=\"transparent\" points=\"70,-36 0,-36 0,0 70,0 70,-36\"/>\n",
       "<text text-anchor=\"middle\" x=\"35\" y=\"-14.3\" font-family=\"Raleway\" font-size=\"14.00\" fill=\"darkgreen\">Input ✔</text>\n",
       "</g>\n",
       "<!-- s1 -->\n",
       "<g id=\"node2\" class=\"node\">\n",
       "<title>s1</title>\n",
       "<polygon fill=\"peachpuff\" stroke=\"darkgreen\" points=\"235,-36 152,-36 152,0 235,0 235,-36\"/>\n",
       "<text text-anchor=\"middle\" x=\"193.5\" y=\"-14.3\" font-family=\"Raleway\" font-size=\"14.00\" fill=\"darkgreen\">State 1 ✔</text>\n",
       "</g>\n",
       "<!-- input&#45;&gt;s1 -->\n",
       "<g id=\"edge1\" class=\"edge\">\n",
       "<title>input&#45;&gt;s1</title>\n",
       "<path fill=\"none\" stroke=\"black\" d=\"M70.34,-18C91.27,-18 118.39,-18 141.76,-18\"/>\n",
       "<polygon fill=\"black\" stroke=\"black\" points=\"141.86,-21.5 151.86,-18 141.86,-14.5 141.86,-21.5\"/>\n",
       "<text text-anchor=\"middle\" x=\"111\" y=\"-21.8\" font-family=\"Raleway\" font-size=\"14.00\">Step 1</text>\n",
       "</g>\n",
       "<!-- s2 -->\n",
       "<g id=\"node3\" class=\"node\">\n",
       "<title>s2</title>\n",
       "<polygon fill=\"peachpuff\" stroke=\"#8b0000\" points=\"416,-36 333,-36 333,0 416,0 416,-36\"/>\n",
       "<text text-anchor=\"middle\" x=\"374.5\" y=\"-14.3\" font-family=\"Raleway\" font-size=\"14.00\" fill=\"#8b0000\">State 2 ✘</text>\n",
       "</g>\n",
       "<!-- s1&#45;&gt;s2 -->\n",
       "<g id=\"edge2\" class=\"edge\">\n",
       "<title>s1&#45;&gt;s2</title>\n",
       "<path fill=\"none\" stroke=\"black\" d=\"M235.12,-18C261,-18 294.76,-18 322.45,-18\"/>\n",
       "<polygon fill=\"black\" stroke=\"black\" points=\"322.73,-21.5 332.73,-18 322.73,-14.5 322.73,-21.5\"/>\n",
       "<text text-anchor=\"middle\" x=\"284\" y=\"-21.8\" font-family=\"Raleway\" font-size=\"14.00\" fill=\"#8b0000\">Step 2 ✘</text>\n",
       "</g>\n",
       "<!-- s3 -->\n",
       "<g id=\"node4\" class=\"node\">\n",
       "<title>s3</title>\n",
       "<polygon fill=\"peachpuff\" stroke=\"#8b0000\" points=\"581,-36 498,-36 498,0 581,0 581,-36\"/>\n",
       "<text text-anchor=\"middle\" x=\"539.5\" y=\"-14.3\" font-family=\"Raleway\" font-size=\"14.00\" fill=\"#8b0000\">State 3 ✘</text>\n",
       "</g>\n",
       "<!-- s2&#45;&gt;s3 -->\n",
       "<g id=\"edge3\" class=\"edge\">\n",
       "<title>s2&#45;&gt;s3</title>\n",
       "<path fill=\"none\" stroke=\"black\" d=\"M416.21,-18C437.8,-18 464.53,-18 487.49,-18\"/>\n",
       "<polygon fill=\"black\" stroke=\"black\" points=\"487.74,-21.5 497.74,-18 487.74,-14.5 487.74,-21.5\"/>\n",
       "<text text-anchor=\"middle\" x=\"457\" y=\"-21.8\" font-family=\"Raleway\" font-size=\"14.00\">Step 3</text>\n",
       "</g>\n",
       "</g>\n",
       "</svg>\n"
      ],
      "text/plain": [
       "<graphviz.dot.Digraph at 0x7f75e8089c40>"
      ]
     },
     "metadata": {},
     "output_type": "display_data"
    },
    {
     "data": {
      "image/svg+xml": [
       "<?xml version=\"1.0\" encoding=\"UTF-8\" standalone=\"no\"?>\n",
       "<!DOCTYPE svg PUBLIC \"-//W3C//DTD SVG 1.1//EN\"\n",
       " \"http://www.w3.org/Graphics/SVG/1.1/DTD/svg11.dtd\">\n",
       "<!-- Generated by graphviz version 2.43.0 (0)\n",
       " -->\n",
       "<!-- Title: %3 Pages: 1 -->\n",
       "<svg width=\"708pt\" height=\"44pt\"\n",
       " viewBox=\"0.00 0.00 708.00 44.00\" xmlns=\"http://www.w3.org/2000/svg\" xmlns:xlink=\"http://www.w3.org/1999/xlink\">\n",
       "<g id=\"graph0\" class=\"graph\" transform=\"scale(1 1) rotate(0) translate(4 40)\">\n",
       "<title>%3</title>\n",
       "<polygon fill=\"white\" stroke=\"transparent\" points=\"-4,4 -4,-40 704,-40 704,4 -4,4\"/>\n",
       "<!-- input -->\n",
       "<g id=\"node1\" class=\"node\">\n",
       "<title>input</title>\n",
       "<polygon fill=\"white\" stroke=\"transparent\" points=\"70,-36 0,-36 0,0 70,0 70,-36\"/>\n",
       "<text text-anchor=\"middle\" x=\"35\" y=\"-14.3\" font-family=\"Raleway\" font-size=\"14.00\" fill=\"darkgreen\">Input ✔</text>\n",
       "</g>\n",
       "<!-- s1 -->\n",
       "<g id=\"node2\" class=\"node\">\n",
       "<title>s1</title>\n",
       "<polygon fill=\"peachpuff\" stroke=\"darkgreen\" points=\"235,-36 152,-36 152,0 235,0 235,-36\"/>\n",
       "<text text-anchor=\"middle\" x=\"193.5\" y=\"-14.3\" font-family=\"Raleway\" font-size=\"14.00\" fill=\"darkgreen\">State 1 ✔</text>\n",
       "</g>\n",
       "<!-- input&#45;&gt;s1 -->\n",
       "<g id=\"edge1\" class=\"edge\">\n",
       "<title>input&#45;&gt;s1</title>\n",
       "<path fill=\"none\" stroke=\"black\" d=\"M70.34,-18C91.27,-18 118.39,-18 141.76,-18\"/>\n",
       "<polygon fill=\"black\" stroke=\"black\" points=\"141.86,-21.5 151.86,-18 141.86,-14.5 141.86,-21.5\"/>\n",
       "<text text-anchor=\"middle\" x=\"111\" y=\"-21.8\" font-family=\"Raleway\" font-size=\"14.00\">Step 1</text>\n",
       "</g>\n",
       "<!-- s2 -->\n",
       "<g id=\"node3\" class=\"node\">\n",
       "<title>s2</title>\n",
       "<polygon fill=\"peachpuff\" stroke=\"#8b0000\" points=\"416,-36 333,-36 333,0 416,0 416,-36\"/>\n",
       "<text text-anchor=\"middle\" x=\"374.5\" y=\"-14.3\" font-family=\"Raleway\" font-size=\"14.00\" fill=\"#8b0000\">State 2 ✘</text>\n",
       "</g>\n",
       "<!-- s1&#45;&gt;s2 -->\n",
       "<g id=\"edge2\" class=\"edge\">\n",
       "<title>s1&#45;&gt;s2</title>\n",
       "<path fill=\"none\" stroke=\"black\" d=\"M235.12,-18C261,-18 294.76,-18 322.45,-18\"/>\n",
       "<polygon fill=\"black\" stroke=\"black\" points=\"322.73,-21.5 332.73,-18 322.73,-14.5 322.73,-21.5\"/>\n",
       "<text text-anchor=\"middle\" x=\"284\" y=\"-21.8\" font-family=\"Raleway\" font-size=\"14.00\" fill=\"#8b0000\">Step 2 ✘</text>\n",
       "</g>\n",
       "<!-- s3 -->\n",
       "<g id=\"node4\" class=\"node\">\n",
       "<title>s3</title>\n",
       "<polygon fill=\"peachpuff\" stroke=\"#8b0000\" points=\"581,-36 498,-36 498,0 581,0 581,-36\"/>\n",
       "<text text-anchor=\"middle\" x=\"539.5\" y=\"-14.3\" font-family=\"Raleway\" font-size=\"14.00\" fill=\"#8b0000\">State 3 ✘</text>\n",
       "</g>\n",
       "<!-- s2&#45;&gt;s3 -->\n",
       "<g id=\"edge3\" class=\"edge\">\n",
       "<title>s2&#45;&gt;s3</title>\n",
       "<path fill=\"none\" stroke=\"black\" d=\"M416.21,-18C437.8,-18 464.53,-18 487.49,-18\"/>\n",
       "<polygon fill=\"black\" stroke=\"black\" points=\"487.74,-21.5 497.74,-18 487.74,-14.5 487.74,-21.5\"/>\n",
       "<text text-anchor=\"middle\" x=\"457\" y=\"-21.8\" font-family=\"Raleway\" font-size=\"14.00\">Step 3</text>\n",
       "</g>\n",
       "<!-- output -->\n",
       "<g id=\"node5\" class=\"node\">\n",
       "<title>output</title>\n",
       "<polygon fill=\"white\" stroke=\"transparent\" points=\"700,-36 618,-36 618,0 700,0 700,-36\"/>\n",
       "<text text-anchor=\"middle\" x=\"659\" y=\"-14.3\" font-family=\"Raleway\" font-size=\"14.00\" fill=\"#8b0000\">Output ✘</text>\n",
       "</g>\n",
       "<!-- s3&#45;&gt;output -->\n",
       "<g id=\"edge4\" class=\"edge\">\n",
       "<title>s3&#45;&gt;output</title>\n",
       "<path fill=\"none\" stroke=\"black\" d=\"M581.27,-18C589.75,-18 598.78,-18 607.56,-18\"/>\n",
       "<polygon fill=\"black\" stroke=\"black\" points=\"607.7,-21.5 617.7,-18 607.7,-14.5 607.7,-21.5\"/>\n",
       "</g>\n",
       "</g>\n",
       "</svg>\n"
      ],
      "text/plain": [
       "<graphviz.dot.Digraph at 0x7f75e8089c40>"
      ]
     },
     "metadata": {},
     "output_type": "display_data"
    }
   ],
   "source": [
    "# ignore\n",
    "for until in range(1, 6):\n",
    "    execution_diagram(show_steps=True, until=until, error_step=2)"
   ]
  },
  {
   "cell_type": "markdown",
   "metadata": {
    "slideshow": {
     "slide_type": "fragment"
    }
   },
   "source": [
    "Now, in the diagram above, Step 2 gets a _correct_ state as input and produces a _faulty_ state as output. The produced fault then propagates across more steps to finally become visible as a _failure_."
   ]
  },
  {
   "cell_type": "markdown",
   "metadata": {
    "slideshow": {
     "slide_type": "subslide"
    }
   },
   "source": [
    "The goal of debugging thus is to _search_ for the step in which the state first becomes faulty. The _code_ associated with this step is again an error – an unwanted and unintended deviation from what is correct, right, or true – and is called a _defect_. This is what we have to find – and to fix."
   ]
  },
  {
   "cell_type": "markdown",
   "metadata": {
    "slideshow": {
     "slide_type": "fragment"
    }
   },
   "source": [
    "Sounds easy, right? Unfortunately, things are not that easy, and that has something to do with the program state. Let us assume our state consists of three variables, `v1` to `v3`, and that Step 2 produces a fault in `v2`. This fault then propagates to the output:"
   ]
  },
  {
   "cell_type": "code",
   "execution_count": 36,
   "metadata": {
    "slideshow": {
     "slide_type": "subslide"
    },
    "pycharm": {
     "name": "#%%\n"
    }
   },
   "outputs": [
    {
     "data": {
      "image/svg+xml": [
       "<?xml version=\"1.0\" encoding=\"UTF-8\" standalone=\"no\"?>\n",
       "<!DOCTYPE svg PUBLIC \"-//W3C//DTD SVG 1.1//EN\"\n",
       " \"http://www.w3.org/Graphics/SVG/1.1/DTD/svg11.dtd\">\n",
       "<!-- Generated by graphviz version 2.43.0 (0)\n",
       " -->\n",
       "<!-- Title: %3 Pages: 1 -->\n",
       "<svg width=\"78pt\" height=\"44pt\"\n",
       " viewBox=\"0.00 0.00 78.00 44.00\" xmlns=\"http://www.w3.org/2000/svg\" xmlns:xlink=\"http://www.w3.org/1999/xlink\">\n",
       "<g id=\"graph0\" class=\"graph\" transform=\"scale(1 1) rotate(0) translate(4 40)\">\n",
       "<title>%3</title>\n",
       "<polygon fill=\"white\" stroke=\"transparent\" points=\"-4,4 -4,-40 74,-40 74,4 -4,4\"/>\n",
       "<!-- input -->\n",
       "<g id=\"node1\" class=\"node\">\n",
       "<title>input</title>\n",
       "<polygon fill=\"white\" stroke=\"transparent\" points=\"70,-36 0,-36 0,0 70,0 70,-36\"/>\n",
       "<text text-anchor=\"middle\" x=\"35\" y=\"-14.3\" font-family=\"Raleway\" font-size=\"14.00\" fill=\"darkgreen\">Input ✔</text>\n",
       "</g>\n",
       "</g>\n",
       "</svg>\n"
      ],
      "text/plain": [
       "<graphviz.dot.Digraph at 0x7f75e80944f0>"
      ]
     },
     "metadata": {},
     "output_type": "display_data"
    },
    {
     "data": {
      "image/svg+xml": [
       "<?xml version=\"1.0\" encoding=\"UTF-8\" standalone=\"no\"?>\n",
       "<!DOCTYPE svg PUBLIC \"-//W3C//DTD SVG 1.1//EN\"\n",
       " \"http://www.w3.org/Graphics/SVG/1.1/DTD/svg11.dtd\">\n",
       "<!-- Generated by graphviz version 2.43.0 (0)\n",
       " -->\n",
       "<!-- Title: %3 Pages: 1 -->\n",
       "<svg width=\"214pt\" height=\"78pt\"\n",
       " viewBox=\"0.00 0.00 214.00 78.00\" xmlns=\"http://www.w3.org/2000/svg\" xmlns:xlink=\"http://www.w3.org/1999/xlink\">\n",
       "<g id=\"graph0\" class=\"graph\" transform=\"scale(1 1) rotate(0) translate(4 74)\">\n",
       "<title>%3</title>\n",
       "<polygon fill=\"white\" stroke=\"transparent\" points=\"-4,4 -4,-74 210,-74 210,4 -4,4\"/>\n",
       "<!-- input -->\n",
       "<g id=\"node1\" class=\"node\">\n",
       "<title>input</title>\n",
       "<polygon fill=\"white\" stroke=\"transparent\" points=\"70,-53 0,-53 0,-17 70,-17 70,-53\"/>\n",
       "<text text-anchor=\"middle\" x=\"35\" y=\"-31.3\" font-family=\"Raleway\" font-size=\"14.00\" fill=\"darkgreen\">Input ✔</text>\n",
       "</g>\n",
       "<!-- s1 -->\n",
       "<g id=\"node2\" class=\"node\">\n",
       "<title>s1</title>\n",
       "<polygon fill=\"peachpuff\" stroke=\"darkgreen\" points=\"152,-0.5 152,-69.5 206,-69.5 206,-0.5 152,-0.5\"/>\n",
       "<text text-anchor=\"middle\" x=\"179\" y=\"-54.3\" font-family=\"Raleway\" font-size=\"14.00\" fill=\"darkgreen\">v1</text>\n",
       "<polyline fill=\"none\" stroke=\"darkgreen\" points=\"152,-46.5 206,-46.5 \"/>\n",
       "<text text-anchor=\"middle\" x=\"179\" y=\"-31.3\" font-family=\"Raleway\" font-size=\"14.00\" fill=\"darkgreen\">v2</text>\n",
       "<polyline fill=\"none\" stroke=\"darkgreen\" points=\"152,-23.5 206,-23.5 \"/>\n",
       "<text text-anchor=\"middle\" x=\"179\" y=\"-8.3\" font-family=\"Raleway\" font-size=\"14.00\" fill=\"darkgreen\">v3</text>\n",
       "</g>\n",
       "<!-- input&#45;&gt;s1 -->\n",
       "<g id=\"edge1\" class=\"edge\">\n",
       "<title>input&#45;&gt;s1</title>\n",
       "<path fill=\"none\" stroke=\"black\" d=\"M70.01,-35C91.59,-35 119.49,-35 141.52,-35\"/>\n",
       "<polygon fill=\"black\" stroke=\"black\" points=\"141.82,-38.5 151.82,-35 141.82,-31.5 141.82,-38.5\"/>\n",
       "<text text-anchor=\"middle\" x=\"111\" y=\"-38.8\" font-family=\"Raleway\" font-size=\"14.00\">Step 1</text>\n",
       "</g>\n",
       "</g>\n",
       "</svg>\n"
      ],
      "text/plain": [
       "<graphviz.dot.Digraph at 0x7f75e8087310>"
      ]
     },
     "metadata": {},
     "output_type": "display_data"
    },
    {
     "data": {
      "image/svg+xml": [
       "<?xml version=\"1.0\" encoding=\"UTF-8\" standalone=\"no\"?>\n",
       "<!DOCTYPE svg PUBLIC \"-//W3C//DTD SVG 1.1//EN\"\n",
       " \"http://www.w3.org/Graphics/SVG/1.1/DTD/svg11.dtd\">\n",
       "<!-- Generated by graphviz version 2.43.0 (0)\n",
       " -->\n",
       "<!-- Title: %3 Pages: 1 -->\n",
       "<svg width=\"366pt\" height=\"78pt\"\n",
       " viewBox=\"0.00 0.00 366.00 78.00\" xmlns=\"http://www.w3.org/2000/svg\" xmlns:xlink=\"http://www.w3.org/1999/xlink\">\n",
       "<g id=\"graph0\" class=\"graph\" transform=\"scale(1 1) rotate(0) translate(4 74)\">\n",
       "<title>%3</title>\n",
       "<polygon fill=\"white\" stroke=\"transparent\" points=\"-4,4 -4,-74 362,-74 362,4 -4,4\"/>\n",
       "<!-- input -->\n",
       "<g id=\"node1\" class=\"node\">\n",
       "<title>input</title>\n",
       "<polygon fill=\"white\" stroke=\"transparent\" points=\"70,-53 0,-53 0,-17 70,-17 70,-53\"/>\n",
       "<text text-anchor=\"middle\" x=\"35\" y=\"-31.3\" font-family=\"Raleway\" font-size=\"14.00\" fill=\"darkgreen\">Input ✔</text>\n",
       "</g>\n",
       "<!-- s1 -->\n",
       "<g id=\"node2\" class=\"node\">\n",
       "<title>s1</title>\n",
       "<polygon fill=\"peachpuff\" stroke=\"darkgreen\" points=\"152,-0.5 152,-69.5 206,-69.5 206,-0.5 152,-0.5\"/>\n",
       "<text text-anchor=\"middle\" x=\"179\" y=\"-54.3\" font-family=\"Raleway\" font-size=\"14.00\" fill=\"darkgreen\">v1</text>\n",
       "<polyline fill=\"none\" stroke=\"darkgreen\" points=\"152,-46.5 206,-46.5 \"/>\n",
       "<text text-anchor=\"middle\" x=\"179\" y=\"-31.3\" font-family=\"Raleway\" font-size=\"14.00\" fill=\"darkgreen\">v2</text>\n",
       "<polyline fill=\"none\" stroke=\"darkgreen\" points=\"152,-23.5 206,-23.5 \"/>\n",
       "<text text-anchor=\"middle\" x=\"179\" y=\"-8.3\" font-family=\"Raleway\" font-size=\"14.00\" fill=\"darkgreen\">v3</text>\n",
       "</g>\n",
       "<!-- input&#45;&gt;s1 -->\n",
       "<g id=\"edge1\" class=\"edge\">\n",
       "<title>input&#45;&gt;s1</title>\n",
       "<path fill=\"none\" stroke=\"black\" d=\"M70.01,-35C91.59,-35 119.49,-35 141.52,-35\"/>\n",
       "<polygon fill=\"black\" stroke=\"black\" points=\"141.82,-38.5 151.82,-35 141.82,-31.5 141.82,-38.5\"/>\n",
       "<text text-anchor=\"middle\" x=\"111\" y=\"-38.8\" font-family=\"Raleway\" font-size=\"14.00\">Step 1</text>\n",
       "</g>\n",
       "<!-- s2 -->\n",
       "<g id=\"node3\" class=\"node\">\n",
       "<title>s2</title>\n",
       "<polygon fill=\"peachpuff\" stroke=\"#8b0000\" points=\"304,-0.5 304,-69.5 358,-69.5 358,-0.5 304,-0.5\"/>\n",
       "<text text-anchor=\"middle\" x=\"331\" y=\"-54.3\" font-family=\"Raleway\" font-size=\"14.00\" fill=\"#8b0000\">v1</text>\n",
       "<polyline fill=\"none\" stroke=\"#8b0000\" points=\"304,-46.5 358,-46.5 \"/>\n",
       "<text text-anchor=\"middle\" x=\"331\" y=\"-31.3\" font-family=\"Raleway\" font-size=\"14.00\" fill=\"#8b0000\">v2 ✘</text>\n",
       "<polyline fill=\"none\" stroke=\"#8b0000\" points=\"304,-23.5 358,-23.5 \"/>\n",
       "<text text-anchor=\"middle\" x=\"331\" y=\"-8.3\" font-family=\"Raleway\" font-size=\"14.00\" fill=\"#8b0000\">v3</text>\n",
       "</g>\n",
       "<!-- s1&#45;&gt;s2 -->\n",
       "<g id=\"edge2\" class=\"edge\">\n",
       "<title>s1&#45;&gt;s2:v2</title>\n",
       "<path fill=\"none\" stroke=\"black\" d=\"M206.13,-35C228.77,-35 262.72,-35 293.97,-35\"/>\n",
       "<polygon fill=\"black\" stroke=\"black\" points=\"294,-38.5 304,-35 294,-31.5 294,-38.5\"/>\n",
       "<text text-anchor=\"middle\" x=\"255\" y=\"-38.8\" font-family=\"Raleway\" font-size=\"14.00\" fill=\"#8b0000\">Step 2 ✘</text>\n",
       "</g>\n",
       "</g>\n",
       "</svg>\n"
      ],
      "text/plain": [
       "<graphviz.dot.Digraph at 0x7f75e8087310>"
      ]
     },
     "metadata": {},
     "output_type": "display_data"
    },
    {
     "data": {
      "image/svg+xml": [
       "<?xml version=\"1.0\" encoding=\"UTF-8\" standalone=\"no\"?>\n",
       "<!DOCTYPE svg PUBLIC \"-//W3C//DTD SVG 1.1//EN\"\n",
       " \"http://www.w3.org/Graphics/SVG/1.1/DTD/svg11.dtd\">\n",
       "<!-- Generated by graphviz version 2.43.0 (0)\n",
       " -->\n",
       "<!-- Title: %3 Pages: 1 -->\n",
       "<svg width=\"502pt\" height=\"78pt\"\n",
       " viewBox=\"0.00 0.00 502.00 78.00\" xmlns=\"http://www.w3.org/2000/svg\" xmlns:xlink=\"http://www.w3.org/1999/xlink\">\n",
       "<g id=\"graph0\" class=\"graph\" transform=\"scale(1 1) rotate(0) translate(4 74)\">\n",
       "<title>%3</title>\n",
       "<polygon fill=\"white\" stroke=\"transparent\" points=\"-4,4 -4,-74 498,-74 498,4 -4,4\"/>\n",
       "<!-- input -->\n",
       "<g id=\"node1\" class=\"node\">\n",
       "<title>input</title>\n",
       "<polygon fill=\"white\" stroke=\"transparent\" points=\"70,-53 0,-53 0,-17 70,-17 70,-53\"/>\n",
       "<text text-anchor=\"middle\" x=\"35\" y=\"-31.3\" font-family=\"Raleway\" font-size=\"14.00\" fill=\"darkgreen\">Input ✔</text>\n",
       "</g>\n",
       "<!-- s1 -->\n",
       "<g id=\"node2\" class=\"node\">\n",
       "<title>s1</title>\n",
       "<polygon fill=\"peachpuff\" stroke=\"darkgreen\" points=\"152,-0.5 152,-69.5 206,-69.5 206,-0.5 152,-0.5\"/>\n",
       "<text text-anchor=\"middle\" x=\"179\" y=\"-54.3\" font-family=\"Raleway\" font-size=\"14.00\" fill=\"darkgreen\">v1</text>\n",
       "<polyline fill=\"none\" stroke=\"darkgreen\" points=\"152,-46.5 206,-46.5 \"/>\n",
       "<text text-anchor=\"middle\" x=\"179\" y=\"-31.3\" font-family=\"Raleway\" font-size=\"14.00\" fill=\"darkgreen\">v2</text>\n",
       "<polyline fill=\"none\" stroke=\"darkgreen\" points=\"152,-23.5 206,-23.5 \"/>\n",
       "<text text-anchor=\"middle\" x=\"179\" y=\"-8.3\" font-family=\"Raleway\" font-size=\"14.00\" fill=\"darkgreen\">v3</text>\n",
       "</g>\n",
       "<!-- input&#45;&gt;s1 -->\n",
       "<g id=\"edge1\" class=\"edge\">\n",
       "<title>input&#45;&gt;s1</title>\n",
       "<path fill=\"none\" stroke=\"black\" d=\"M70.01,-35C91.59,-35 119.49,-35 141.52,-35\"/>\n",
       "<polygon fill=\"black\" stroke=\"black\" points=\"141.82,-38.5 151.82,-35 141.82,-31.5 141.82,-38.5\"/>\n",
       "<text text-anchor=\"middle\" x=\"111\" y=\"-38.8\" font-family=\"Raleway\" font-size=\"14.00\">Step 1</text>\n",
       "</g>\n",
       "<!-- s2 -->\n",
       "<g id=\"node3\" class=\"node\">\n",
       "<title>s2</title>\n",
       "<polygon fill=\"peachpuff\" stroke=\"#8b0000\" points=\"304,-0.5 304,-69.5 358,-69.5 358,-0.5 304,-0.5\"/>\n",
       "<text text-anchor=\"middle\" x=\"331\" y=\"-54.3\" font-family=\"Raleway\" font-size=\"14.00\" fill=\"#8b0000\">v1</text>\n",
       "<polyline fill=\"none\" stroke=\"#8b0000\" points=\"304,-46.5 358,-46.5 \"/>\n",
       "<text text-anchor=\"middle\" x=\"331\" y=\"-31.3\" font-family=\"Raleway\" font-size=\"14.00\" fill=\"#8b0000\">v2 ✘</text>\n",
       "<polyline fill=\"none\" stroke=\"#8b0000\" points=\"304,-23.5 358,-23.5 \"/>\n",
       "<text text-anchor=\"middle\" x=\"331\" y=\"-8.3\" font-family=\"Raleway\" font-size=\"14.00\" fill=\"#8b0000\">v3</text>\n",
       "</g>\n",
       "<!-- s1&#45;&gt;s2 -->\n",
       "<g id=\"edge2\" class=\"edge\">\n",
       "<title>s1&#45;&gt;s2:v2</title>\n",
       "<path fill=\"none\" stroke=\"black\" d=\"M206.13,-35C228.77,-35 262.72,-35 293.97,-35\"/>\n",
       "<polygon fill=\"black\" stroke=\"black\" points=\"294,-38.5 304,-35 294,-31.5 294,-38.5\"/>\n",
       "<text text-anchor=\"middle\" x=\"255\" y=\"-38.8\" font-family=\"Raleway\" font-size=\"14.00\" fill=\"#8b0000\">Step 2 ✘</text>\n",
       "</g>\n",
       "<!-- s3 -->\n",
       "<g id=\"node4\" class=\"node\">\n",
       "<title>s3</title>\n",
       "<polygon fill=\"peachpuff\" stroke=\"#8b0000\" points=\"440,-0.5 440,-69.5 494,-69.5 494,-0.5 440,-0.5\"/>\n",
       "<text text-anchor=\"middle\" x=\"467\" y=\"-54.3\" font-family=\"Raleway\" font-size=\"14.00\" fill=\"#8b0000\">v1</text>\n",
       "<polyline fill=\"none\" stroke=\"#8b0000\" points=\"440,-46.5 494,-46.5 \"/>\n",
       "<text text-anchor=\"middle\" x=\"467\" y=\"-31.3\" font-family=\"Raleway\" font-size=\"14.00\" fill=\"#8b0000\">v2 ✘</text>\n",
       "<polyline fill=\"none\" stroke=\"#8b0000\" points=\"440,-23.5 494,-23.5 \"/>\n",
       "<text text-anchor=\"middle\" x=\"467\" y=\"-8.3\" font-family=\"Raleway\" font-size=\"14.00\" fill=\"#8b0000\">v3</text>\n",
       "</g>\n",
       "<!-- s2&#45;&gt;s3 -->\n",
       "<g id=\"edge3\" class=\"edge\">\n",
       "<title>s2:v2&#45;&gt;s3:v2</title>\n",
       "<path fill=\"none\" stroke=\"black\" d=\"M358,-35C390.74,-35 401.42,-35 429.68,-35\"/>\n",
       "<polygon fill=\"black\" stroke=\"black\" points=\"430,-38.5 440,-35 430,-31.5 430,-38.5\"/>\n",
       "<text text-anchor=\"middle\" x=\"399\" y=\"-38.8\" font-family=\"Raleway\" font-size=\"14.00\">Step 3</text>\n",
       "</g>\n",
       "</g>\n",
       "</svg>\n"
      ],
      "text/plain": [
       "<graphviz.dot.Digraph at 0x7f75e8087310>"
      ]
     },
     "metadata": {},
     "output_type": "display_data"
    },
    {
     "data": {
      "image/svg+xml": [
       "<?xml version=\"1.0\" encoding=\"UTF-8\" standalone=\"no\"?>\n",
       "<!DOCTYPE svg PUBLIC \"-//W3C//DTD SVG 1.1//EN\"\n",
       " \"http://www.w3.org/Graphics/SVG/1.1/DTD/svg11.dtd\">\n",
       "<!-- Generated by graphviz version 2.43.0 (0)\n",
       " -->\n",
       "<!-- Title: %3 Pages: 1 -->\n",
       "<svg width=\"621pt\" height=\"78pt\"\n",
       " viewBox=\"0.00 0.00 621.00 78.00\" xmlns=\"http://www.w3.org/2000/svg\" xmlns:xlink=\"http://www.w3.org/1999/xlink\">\n",
       "<g id=\"graph0\" class=\"graph\" transform=\"scale(1 1) rotate(0) translate(4 74)\">\n",
       "<title>%3</title>\n",
       "<polygon fill=\"white\" stroke=\"transparent\" points=\"-4,4 -4,-74 617,-74 617,4 -4,4\"/>\n",
       "<!-- input -->\n",
       "<g id=\"node1\" class=\"node\">\n",
       "<title>input</title>\n",
       "<polygon fill=\"white\" stroke=\"transparent\" points=\"70,-53 0,-53 0,-17 70,-17 70,-53\"/>\n",
       "<text text-anchor=\"middle\" x=\"35\" y=\"-31.3\" font-family=\"Raleway\" font-size=\"14.00\" fill=\"darkgreen\">Input ✔</text>\n",
       "</g>\n",
       "<!-- s1 -->\n",
       "<g id=\"node2\" class=\"node\">\n",
       "<title>s1</title>\n",
       "<polygon fill=\"peachpuff\" stroke=\"darkgreen\" points=\"152,-0.5 152,-69.5 206,-69.5 206,-0.5 152,-0.5\"/>\n",
       "<text text-anchor=\"middle\" x=\"179\" y=\"-54.3\" font-family=\"Raleway\" font-size=\"14.00\" fill=\"darkgreen\">v1</text>\n",
       "<polyline fill=\"none\" stroke=\"darkgreen\" points=\"152,-46.5 206,-46.5 \"/>\n",
       "<text text-anchor=\"middle\" x=\"179\" y=\"-31.3\" font-family=\"Raleway\" font-size=\"14.00\" fill=\"darkgreen\">v2</text>\n",
       "<polyline fill=\"none\" stroke=\"darkgreen\" points=\"152,-23.5 206,-23.5 \"/>\n",
       "<text text-anchor=\"middle\" x=\"179\" y=\"-8.3\" font-family=\"Raleway\" font-size=\"14.00\" fill=\"darkgreen\">v3</text>\n",
       "</g>\n",
       "<!-- input&#45;&gt;s1 -->\n",
       "<g id=\"edge1\" class=\"edge\">\n",
       "<title>input&#45;&gt;s1</title>\n",
       "<path fill=\"none\" stroke=\"black\" d=\"M70.01,-35C91.59,-35 119.49,-35 141.52,-35\"/>\n",
       "<polygon fill=\"black\" stroke=\"black\" points=\"141.82,-38.5 151.82,-35 141.82,-31.5 141.82,-38.5\"/>\n",
       "<text text-anchor=\"middle\" x=\"111\" y=\"-38.8\" font-family=\"Raleway\" font-size=\"14.00\">Step 1</text>\n",
       "</g>\n",
       "<!-- s2 -->\n",
       "<g id=\"node3\" class=\"node\">\n",
       "<title>s2</title>\n",
       "<polygon fill=\"peachpuff\" stroke=\"#8b0000\" points=\"304,-0.5 304,-69.5 358,-69.5 358,-0.5 304,-0.5\"/>\n",
       "<text text-anchor=\"middle\" x=\"331\" y=\"-54.3\" font-family=\"Raleway\" font-size=\"14.00\" fill=\"#8b0000\">v1</text>\n",
       "<polyline fill=\"none\" stroke=\"#8b0000\" points=\"304,-46.5 358,-46.5 \"/>\n",
       "<text text-anchor=\"middle\" x=\"331\" y=\"-31.3\" font-family=\"Raleway\" font-size=\"14.00\" fill=\"#8b0000\">v2 ✘</text>\n",
       "<polyline fill=\"none\" stroke=\"#8b0000\" points=\"304,-23.5 358,-23.5 \"/>\n",
       "<text text-anchor=\"middle\" x=\"331\" y=\"-8.3\" font-family=\"Raleway\" font-size=\"14.00\" fill=\"#8b0000\">v3</text>\n",
       "</g>\n",
       "<!-- s1&#45;&gt;s2 -->\n",
       "<g id=\"edge2\" class=\"edge\">\n",
       "<title>s1&#45;&gt;s2:v2</title>\n",
       "<path fill=\"none\" stroke=\"black\" d=\"M206.13,-35C228.77,-35 262.72,-35 293.97,-35\"/>\n",
       "<polygon fill=\"black\" stroke=\"black\" points=\"294,-38.5 304,-35 294,-31.5 294,-38.5\"/>\n",
       "<text text-anchor=\"middle\" x=\"255\" y=\"-38.8\" font-family=\"Raleway\" font-size=\"14.00\" fill=\"#8b0000\">Step 2 ✘</text>\n",
       "</g>\n",
       "<!-- s3 -->\n",
       "<g id=\"node4\" class=\"node\">\n",
       "<title>s3</title>\n",
       "<polygon fill=\"peachpuff\" stroke=\"#8b0000\" points=\"440,-0.5 440,-69.5 494,-69.5 494,-0.5 440,-0.5\"/>\n",
       "<text text-anchor=\"middle\" x=\"467\" y=\"-54.3\" font-family=\"Raleway\" font-size=\"14.00\" fill=\"#8b0000\">v1</text>\n",
       "<polyline fill=\"none\" stroke=\"#8b0000\" points=\"440,-46.5 494,-46.5 \"/>\n",
       "<text text-anchor=\"middle\" x=\"467\" y=\"-31.3\" font-family=\"Raleway\" font-size=\"14.00\" fill=\"#8b0000\">v2 ✘</text>\n",
       "<polyline fill=\"none\" stroke=\"#8b0000\" points=\"440,-23.5 494,-23.5 \"/>\n",
       "<text text-anchor=\"middle\" x=\"467\" y=\"-8.3\" font-family=\"Raleway\" font-size=\"14.00\" fill=\"#8b0000\">v3</text>\n",
       "</g>\n",
       "<!-- s2&#45;&gt;s3 -->\n",
       "<g id=\"edge3\" class=\"edge\">\n",
       "<title>s2:v2&#45;&gt;s3:v2</title>\n",
       "<path fill=\"none\" stroke=\"black\" d=\"M358,-35C390.74,-35 401.42,-35 429.68,-35\"/>\n",
       "<polygon fill=\"black\" stroke=\"black\" points=\"430,-38.5 440,-35 430,-31.5 430,-38.5\"/>\n",
       "<text text-anchor=\"middle\" x=\"399\" y=\"-38.8\" font-family=\"Raleway\" font-size=\"14.00\">Step 3</text>\n",
       "</g>\n",
       "<!-- output -->\n",
       "<g id=\"node5\" class=\"node\">\n",
       "<title>output</title>\n",
       "<polygon fill=\"white\" stroke=\"transparent\" points=\"613,-53 531,-53 531,-17 613,-17 613,-53\"/>\n",
       "<text text-anchor=\"middle\" x=\"572\" y=\"-31.3\" font-family=\"Raleway\" font-size=\"14.00\" fill=\"#8b0000\">Output ✘</text>\n",
       "</g>\n",
       "<!-- s3&#45;&gt;output -->\n",
       "<g id=\"edge4\" class=\"edge\">\n",
       "<title>s3:v2&#45;&gt;output</title>\n",
       "<path fill=\"none\" stroke=\"black\" d=\"M494,-35C502.55,-35 511.64,-35 520.46,-35\"/>\n",
       "<polygon fill=\"black\" stroke=\"black\" points=\"520.64,-38.5 530.64,-35 520.64,-31.5 520.64,-38.5\"/>\n",
       "</g>\n",
       "</g>\n",
       "</svg>\n"
      ],
      "text/plain": [
       "<graphviz.dot.Digraph at 0x7f75e8087310>"
      ]
     },
     "metadata": {},
     "output_type": "display_data"
    }
   ],
   "source": [
    "# ignore\n",
    "for until in range(1, 6):\n",
    "    execution_diagram(show_steps=True, variables=['v1', 'v2', 'v3'],\n",
    "                      error_step=2,\n",
    "                      until=until, fault_path=['s2:v2', 's3:v2'])"
   ]
  },
  {
   "cell_type": "markdown",
   "metadata": {
    "slideshow": {
     "slide_type": "subslide"
    }
   },
   "source": [
    "The way these faults propagate is called a *cause-effect chain*:\n",
    "\n",
    "* The _defect_ in the code _causes_ a fault in the state when executed.\n",
    "* This _fault_ in the state then _propagates_ through further execution steps...\n",
    "* ... until it becomes visible as a _failure_."
   ]
  },
  {
   "cell_type": "markdown",
   "metadata": {
    "slideshow": {
     "slide_type": "subslide"
    }
   },
   "source": [
    "Since the code was originally written by a human, any defect can be related to some original _mistake_ the programmer made. This gives us a number of terms that all are more precise than the general \"error\" or the colloquial \"bug\":\n",
    "\n",
    "* A _mistake_ is a human act or decision resulting in an error.\n",
    "* A _defect_ is an error in the program code. Also called *bug*.\n",
    "* A _fault_ is an error in the program state. Also called *infection*.\n",
    "* A _failure_ is an externally visible error in the program behavior. Also called *malfunction*.\n",
    "\n",
    "The cause-effect chain of events is thus\n",
    "\n",
    "* Mistake → Defect → Fault → ... → Fault → Failure\n",
    "\n",
    "Note that not every defect also causes a failure, which is despite all testing, there can still be defects in the code looming around until the right conditions are met to trigger them. On the other hand, though, _every failure can be traced back to the defect that causes it_. Our job is to break the cause-effect chain."
   ]
  },
  {
   "cell_type": "markdown",
   "metadata": {
    "slideshow": {
     "slide_type": "slide"
    }
   },
   "source": [
    "## From Failure to Defect\n",
    "\n",
    "To find a defect from a failure, we _trace back_ the faults along their _propagation_ – that is, we find out which faults in the earlier state have caused the later faults. We start from the very end of the execution and then gradually progress backwards in time, examining fault after fault until we find a _transition_ from a correct state to a faulty state – that is, a\n",
    "step in which a correct state comes in and a faulty state comes out. At this point, we have found the origin of the failure – and the defect that causes it."
   ]
  },
  {
   "cell_type": "markdown",
   "metadata": {
    "slideshow": {
     "slide_type": "subslide"
    },
    "pycharm": {
     "name": "#%% md\n"
    }
   },
   "source": [
    "What sounds like a straight-forward strategy, unfortunately, doesn't always work this way in practice. That is because of the following problems of debugging:\n",
    "\n",
    "* First, program states are actually _large_, encompassing dozens to thousands of variables, possibly even more. If you have to search all of these manually and check them for faults, you will spend a lot of time for a single state.\n",
    "\n",
    "* Second, you do not always know _whether a state is correct or not._ While most programs have some form of specification for their inputs and outputs, these do not necessarily exist for intermediate results. If one had a specification that could check each state for correctness (possibly even automatically), debugging would be trivial. Unfortunately, it is not, and that's partly due to the lack of specifications.\n",
    "\n",
    "* Third, executions typically do not come in a handful of steps, as in the diagrams above; instead, they can easily encompass _thousands to millions of steps._ This means that you will have to examine not just one state, but several, making the problem much worse.\n",
    "\n",
    "To make your search efficient, you thus have to _focus_ your search – starting with most likely causes and gradually progressing to the less probable causes. This is what we call a _debugging strategy_."
   ]
  },
  {
   "cell_type": "markdown",
   "metadata": {
    "slideshow": {
     "slide_type": "slide"
    },
    "pycharm": {
     "name": "#%% md\n"
    }
   },
   "source": [
    "## The Scientific Method\n",
    "\n",
    "Now that we know how failures come to be, let's look into how to systematically find their causes. What we need is a _strategy_ that helps us search for how and when the failure comes to be. For this, we use a process called the *scientific method*."
   ]
  },
  {
   "cell_type": "markdown",
   "metadata": {
    "slideshow": {
     "slide_type": "fragment"
    }
   },
   "source": [
    "When we are debugging a program, we are trying to find the causes of a given effect – very much like natural scientists try to understand why things in nature are as they are and how they come to be. Over thousands of years, scientists have conducted _observations_ and _experiments_ to come to an understanding of how our world works. The process by which experimental scientists operate has been coined \"The scientific method\". This is how it works:"
   ]
  },
  {
   "cell_type": "markdown",
   "metadata": {
    "slideshow": {
     "slide_type": "subslide"
    }
   },
   "source": [
    "1. Formulate a _question_, as in \"Why does this apple fall down?\".\n",
    "2. Invent a _hypothesis_ based on knowledge obtained while formulating the question, that may explain the observed behavior. \n",
    "3. Determining the logical consequences of the hypothesis, formulate a _prediction_ that can _support_ or _refute_ the hypothesis. Ideally, the prediction would distinguish the hypothesis from likely alternatives.\n",
    "4. _Test_ the prediction (and thus the hypothesis) in an _experiment_. If the prediction holds, confidence in the hypothesis increases; otherwise, it decreases.\n",
    "5. Repeat Steps 2–4 until there are no discrepancies between hypothesis and predictions and/or observations."
   ]
  },
  {
   "cell_type": "markdown",
   "metadata": {
    "slideshow": {
     "slide_type": "subslide"
    }
   },
   "source": [
    "At this point, your hypothesis may be named a *theory* – that is, a predictive and comprehensive description of some aspect of the natural world. The gravitational theory, for instance, predicts very well how the moon revolves around the earth, and how the earth revolves around the sun.  Our debugging problems are of a slightly lesser scale – we'd like a theory of how our failure came to be – but the process is pretty much the same."
   ]
  },
  {
   "cell_type": "code",
   "execution_count": 37,
   "metadata": {
    "ipub": {
     "ignore": true
    },
    "slideshow": {
     "slide_type": "subslide"
    }
   },
   "outputs": [],
   "source": [
    "dot = graph()\n",
    "\n",
    "dot.node('Hypothesis')\n",
    "dot.node('Observation')\n",
    "dot.node('Prediction')\n",
    "dot.node('Experiment')\n",
    "\n",
    "dot.edge('Hypothesis', 'Observation',\n",
    "         label=\"<Hypothesis<BR/>is <I>supported:</I><BR/>Refine it>\",\n",
    "         dir='back')\n",
    "dot.edge('Hypothesis', 'Prediction')\n",
    "\n",
    "dot.node('Problem Report', shape='none', fillcolor='white')\n",
    "dot.edge('Problem Report', 'Hypothesis')\n",
    "\n",
    "dot.node('Code', shape='none', fillcolor='white')\n",
    "dot.edge('Code', 'Hypothesis')\n",
    "\n",
    "dot.node('Runs', shape='none', fillcolor='white')\n",
    "dot.edge('Runs', 'Hypothesis')\n",
    "\n",
    "dot.node('More Runs', shape='none', fillcolor='white')\n",
    "dot.edge('More Runs', 'Hypothesis')\n",
    "\n",
    "dot.edge('Prediction', 'Experiment')\n",
    "dot.edge('Experiment', 'Observation')\n",
    "dot.edge('Observation', 'Hypothesis',\n",
    "         label=\"<Hypothesis<BR/>is <I>rejected:</I><BR/>Seek alternative>\")"
   ]
  },
  {
   "cell_type": "code",
   "execution_count": 38,
   "metadata": {
    "slideshow": {
     "slide_type": "subslide"
    },
    "pycharm": {
     "name": "#%%\n"
    }
   },
   "outputs": [
    {
     "data": {
      "image/svg+xml": [
       "<?xml version=\"1.0\" encoding=\"UTF-8\" standalone=\"no\"?>\n",
       "<!DOCTYPE svg PUBLIC \"-//W3C//DTD SVG 1.1//EN\"\n",
       " \"http://www.w3.org/Graphics/SVG/1.1/DTD/svg11.dtd\">\n",
       "<!-- Generated by graphviz version 2.43.0 (0)\n",
       " -->\n",
       "<!-- Title: %3 Pages: 1 -->\n",
       "<svg width=\"880pt\" height=\"206pt\"\n",
       " viewBox=\"0.00 0.00 880.06 206.00\" xmlns=\"http://www.w3.org/2000/svg\" xmlns:xlink=\"http://www.w3.org/1999/xlink\">\n",
       "<g id=\"graph0\" class=\"graph\" transform=\"scale(1 1) rotate(0) translate(4 202)\">\n",
       "<title>%3</title>\n",
       "<polygon fill=\"white\" stroke=\"transparent\" points=\"-4,4 -4,-202 876.06,-202 876.06,4 -4,4\"/>\n",
       "<!-- Hypothesis -->\n",
       "<g id=\"node1\" class=\"node\">\n",
       "<title>Hypothesis</title>\n",
       "<ellipse fill=\"peachpuff\" stroke=\"black\" cx=\"221.09\" cy=\"-99\" rx=\"61.19\" ry=\"18\"/>\n",
       "<text text-anchor=\"middle\" x=\"221.09\" y=\"-95.3\" font-family=\"Raleway\" font-size=\"14.00\">Hypothesis</text>\n",
       "</g>\n",
       "<!-- Observation -->\n",
       "<g id=\"node2\" class=\"node\">\n",
       "<title>Observation</title>\n",
       "<ellipse fill=\"peachpuff\" stroke=\"black\" cx=\"806.41\" cy=\"-99\" rx=\"65.79\" ry=\"18\"/>\n",
       "<text text-anchor=\"middle\" x=\"806.41\" y=\"-95.3\" font-family=\"Raleway\" font-size=\"14.00\">Observation</text>\n",
       "</g>\n",
       "<!-- Hypothesis&#45;&gt;Observation -->\n",
       "<g id=\"edge1\" class=\"edge\">\n",
       "<title>Hypothesis&#45;&gt;Observation</title>\n",
       "<path fill=\"none\" stroke=\"black\" d=\"M271.42,-115.5C286.56,-119.81 303.4,-123.85 319.19,-126 488.54,-149.11 534.28,-148.13 703.77,-126 723.68,-123.4 745.25,-118.05 763.37,-112.79\"/>\n",
       "<polygon fill=\"black\" stroke=\"black\" points=\"272.32,-112.12 261.74,-112.65 270.34,-118.83 272.32,-112.12\"/>\n",
       "<text text-anchor=\"start\" x=\"464.68\" y=\"-173.8\" font-family=\"Raleway\" font-size=\"14.00\">Hypothesis</text>\n",
       "<text text-anchor=\"start\" x=\"457.68\" y=\"-159.8\" font-family=\"Raleway\" font-size=\"14.00\">is </text>\n",
       "<text text-anchor=\"start\" x=\"473.68\" y=\"-159.8\" font-family=\"Raleway\" font-style=\"italic\" font-size=\"14.00\">supported:</text>\n",
       "<text text-anchor=\"start\" x=\"474.68\" y=\"-145.8\" font-family=\"Raleway\" font-size=\"14.00\">Refine it</text>\n",
       "</g>\n",
       "<!-- Prediction -->\n",
       "<g id=\"node3\" class=\"node\">\n",
       "<title>Prediction</title>\n",
       "<ellipse fill=\"peachpuff\" stroke=\"black\" cx=\"374.43\" cy=\"-99\" rx=\"55.49\" ry=\"18\"/>\n",
       "<text text-anchor=\"middle\" x=\"374.43\" y=\"-95.3\" font-family=\"Raleway\" font-size=\"14.00\">Prediction</text>\n",
       "</g>\n",
       "<!-- Hypothesis&#45;&gt;Prediction -->\n",
       "<g id=\"edge2\" class=\"edge\">\n",
       "<title>Hypothesis&#45;&gt;Prediction</title>\n",
       "<path fill=\"none\" stroke=\"black\" d=\"M282.34,-99C290.99,-99 299.92,-99 308.66,-99\"/>\n",
       "<polygon fill=\"black\" stroke=\"black\" points=\"308.79,-102.5 318.79,-99 308.79,-95.5 308.79,-102.5\"/>\n",
       "</g>\n",
       "<!-- Observation&#45;&gt;Hypothesis -->\n",
       "<g id=\"edge9\" class=\"edge\">\n",
       "<title>Observation&#45;&gt;Hypothesis</title>\n",
       "<path fill=\"none\" stroke=\"black\" d=\"M761.17,-85.92C743.44,-81.03 722.75,-75.76 703.77,-72 536.1,-38.82 486.39,-36.53 319.19,-72 304.45,-75.13 288.64,-79.21 274.14,-83.24\"/>\n",
       "<polygon fill=\"black\" stroke=\"black\" points=\"273.02,-79.92 264.35,-86.02 274.92,-86.66 273.02,-79.92\"/>\n",
       "<text text-anchor=\"start\" x=\"464.68\" y=\"-80.8\" font-family=\"Raleway\" font-size=\"14.00\">Hypothesis</text>\n",
       "<text text-anchor=\"start\" x=\"465.18\" y=\"-66.8\" font-family=\"Raleway\" font-size=\"14.00\">is </text>\n",
       "<text text-anchor=\"start\" x=\"481.18\" y=\"-66.8\" font-family=\"Raleway\" font-style=\"italic\" font-size=\"14.00\">rejected:</text>\n",
       "<text text-anchor=\"start\" x=\"447.68\" y=\"-52.8\" font-family=\"Raleway\" font-size=\"14.00\">Seek alternative</text>\n",
       "</g>\n",
       "<!-- Experiment -->\n",
       "<g id=\"node4\" class=\"node\">\n",
       "<title>Experiment</title>\n",
       "<ellipse fill=\"peachpuff\" stroke=\"black\" cx=\"640.72\" cy=\"-99\" rx=\"63.09\" ry=\"18\"/>\n",
       "<text text-anchor=\"middle\" x=\"640.72\" y=\"-95.3\" font-family=\"Raleway\" font-size=\"14.00\">Experiment</text>\n",
       "</g>\n",
       "<!-- Prediction&#45;&gt;Experiment -->\n",
       "<g id=\"edge7\" class=\"edge\">\n",
       "<title>Prediction&#45;&gt;Experiment</title>\n",
       "<path fill=\"none\" stroke=\"black\" d=\"M429.87,-99C469.6,-99 523.87,-99 567.26,-99\"/>\n",
       "<polygon fill=\"black\" stroke=\"black\" points=\"567.48,-102.5 577.48,-99 567.48,-95.5 567.48,-102.5\"/>\n",
       "</g>\n",
       "<!-- Experiment&#45;&gt;Observation -->\n",
       "<g id=\"edge8\" class=\"edge\">\n",
       "<title>Experiment&#45;&gt;Observation</title>\n",
       "<path fill=\"none\" stroke=\"black\" d=\"M704.07,-99C712.65,-99 721.52,-99 730.29,-99\"/>\n",
       "<polygon fill=\"black\" stroke=\"black\" points=\"730.52,-102.5 740.52,-99 730.52,-95.5 730.52,-102.5\"/>\n",
       "</g>\n",
       "<!-- Problem Report -->\n",
       "<g id=\"node5\" class=\"node\">\n",
       "<title>Problem Report</title>\n",
       "<polygon fill=\"white\" stroke=\"transparent\" points=\"123,-198 0,-198 0,-162 123,-162 123,-198\"/>\n",
       "<text text-anchor=\"middle\" x=\"61.5\" y=\"-176.3\" font-family=\"Raleway\" font-size=\"14.00\">Problem Report</text>\n",
       "</g>\n",
       "<!-- Problem Report&#45;&gt;Hypothesis -->\n",
       "<g id=\"edge3\" class=\"edge\">\n",
       "<title>Problem Report&#45;&gt;Hypothesis</title>\n",
       "<path fill=\"none\" stroke=\"black\" d=\"M104.38,-161.88C110.66,-159 117.03,-155.98 123,-153 143.42,-142.79 165.71,-130.48 183.78,-120.19\"/>\n",
       "<polygon fill=\"black\" stroke=\"black\" points=\"185.88,-123.02 192.82,-115.01 182.4,-116.95 185.88,-123.02\"/>\n",
       "</g>\n",
       "<!-- Code -->\n",
       "<g id=\"node6\" class=\"node\">\n",
       "<title>Code</title>\n",
       "<polygon fill=\"white\" stroke=\"transparent\" points=\"88.5,-144 34.5,-144 34.5,-108 88.5,-108 88.5,-144\"/>\n",
       "<text text-anchor=\"middle\" x=\"61.5\" y=\"-122.3\" font-family=\"Raleway\" font-size=\"14.00\">Code</text>\n",
       "</g>\n",
       "<!-- Code&#45;&gt;Hypothesis -->\n",
       "<g id=\"edge4\" class=\"edge\">\n",
       "<title>Code&#45;&gt;Hypothesis</title>\n",
       "<path fill=\"none\" stroke=\"black\" d=\"M88.52,-121.54C107.34,-118.32 133.59,-113.82 157.7,-109.69\"/>\n",
       "<polygon fill=\"black\" stroke=\"black\" points=\"158.61,-113.09 167.87,-107.95 157.42,-106.19 158.61,-113.09\"/>\n",
       "</g>\n",
       "<!-- Runs -->\n",
       "<g id=\"node7\" class=\"node\">\n",
       "<title>Runs</title>\n",
       "<polygon fill=\"white\" stroke=\"transparent\" points=\"88.5,-90 34.5,-90 34.5,-54 88.5,-54 88.5,-90\"/>\n",
       "<text text-anchor=\"middle\" x=\"61.5\" y=\"-68.3\" font-family=\"Raleway\" font-size=\"14.00\">Runs</text>\n",
       "</g>\n",
       "<!-- Runs&#45;&gt;Hypothesis -->\n",
       "<g id=\"edge5\" class=\"edge\">\n",
       "<title>Runs&#45;&gt;Hypothesis</title>\n",
       "<path fill=\"none\" stroke=\"black\" d=\"M88.52,-76.46C107.34,-79.68 133.59,-84.18 157.7,-88.31\"/>\n",
       "<polygon fill=\"black\" stroke=\"black\" points=\"157.42,-91.81 167.87,-90.05 158.61,-84.91 157.42,-91.81\"/>\n",
       "</g>\n",
       "<!-- More Runs -->\n",
       "<g id=\"node8\" class=\"node\">\n",
       "<title>More Runs</title>\n",
       "<polygon fill=\"white\" stroke=\"transparent\" points=\"106,-36 17,-36 17,0 106,0 106,-36\"/>\n",
       "<text text-anchor=\"middle\" x=\"61.5\" y=\"-14.3\" font-family=\"Raleway\" font-size=\"14.00\">More Runs</text>\n",
       "</g>\n",
       "<!-- More Runs&#45;&gt;Hypothesis -->\n",
       "<g id=\"edge6\" class=\"edge\">\n",
       "<title>More Runs&#45;&gt;Hypothesis</title>\n",
       "<path fill=\"none\" stroke=\"black\" d=\"M104.38,-36.12C110.66,-39 117.03,-42.02 123,-45 143.42,-55.21 165.71,-67.52 183.78,-77.81\"/>\n",
       "<polygon fill=\"black\" stroke=\"black\" points=\"182.4,-81.05 192.82,-82.99 185.88,-74.98 182.4,-81.05\"/>\n",
       "</g>\n",
       "</g>\n",
       "</svg>\n"
      ],
      "text/plain": [
       "<graphviz.dot.Digraph at 0x7f75e804f0d0>"
      ]
     },
     "metadata": {},
     "output_type": "display_data"
    }
   ],
   "source": [
    "display(dot)"
   ]
  },
  {
   "cell_type": "markdown",
   "metadata": {
    "slideshow": {
     "slide_type": "fragment"
    },
    "pycharm": {
     "name": "#%% md\n"
    }
   },
   "source": [
    "In debugging, we proceed the very same way – indeed, we are treating bugs as if they were natural phenomena.   This analogy may sound far-fetched, as programs are anything but natural.  Nature, by definition, is not under our control.  But bugs are _out of our control just as well._  Hence, the analogy is not that far-fetched – and we can apply the same techniques for debugging."
   ]
  },
  {
   "cell_type": "markdown",
   "metadata": {
    "slideshow": {
     "slide_type": "subslide"
    }
   },
   "source": [
    "### Finding a Hypothesis"
   ]
  },
  {
   "cell_type": "markdown",
   "metadata": {
    "slideshow": {
     "slide_type": "fragment"
    }
   },
   "source": [
    "Let us apply the scientific method to our Python program which removes HTML tags.  First of all, let us recall the problem – `remove_html_markup()` works for some inputs, but fails on others."
   ]
  },
  {
   "cell_type": "code",
   "execution_count": 39,
   "metadata": {
    "slideshow": {
     "slide_type": "fragment"
    },
    "pycharm": {
     "name": "#%%\n"
    }
   },
   "outputs": [
    {
     "name": "stdout",
     "output_type": "stream",
     "text": [
      "1  <b>foo</b>      foo\n",
      "2  <b>\"foo\"</b>    foo\n",
      "3  \"<b>foo</b>\"    <b>foo</b>\n",
      "4  <\"b\">foo</\"b\">  foo\n"
     ]
    }
   ],
   "source": [
    "for i, html in enumerate(['<b>foo</b>',\n",
    "                          '<b>\"foo\"</b>',\n",
    "                          '\"<b>foo</b>\"',\n",
    "                          '<\"b\">foo</\"b\">']):\n",
    "    result = remove_html_markup(html)\n",
    "    print(\"%-2d %-15s %s\" % (i + 1, html, result))"
   ]
  },
  {
   "cell_type": "markdown",
   "metadata": {
    "slideshow": {
     "slide_type": "subslide"
    }
   },
   "source": [
    "Input #1 and #4 work as expected, the others do not. We can write these down in a table, such that we can always look back at our previous results:\n",
    "\n",
    "|Input|Expectation|Output|Outcome|\n",
    "|-----|-----------|------|-------|\n",
    "|`<b>foo</b>`|`foo`|`foo`|✔|\n",
    "|`<b>\"foo\"</b>`|`\"foo\"`|`foo`|✘|\n",
    "|`\"<b>foo</b>\"`|`\"foo\"`|`<b>foo</b>`|✘|\n",
    "|`<\"b\">foo</\"b\">`|`foo`|`foo`|✔|\n"
   ]
  },
  {
   "cell_type": "code",
   "execution_count": 40,
   "metadata": {
    "slideshow": {
     "slide_type": "subslide"
    }
   },
   "outputs": [
    {
     "data": {
      "text/html": [
       "\n",
       "    \n",
       "    <script>\n",
       "    function answer(quiz_id) {\n",
       "        ans = 0;\n",
       "        for (i = 1;; i++) {\n",
       "            checkbox = document.getElementById(quiz_id + \"-\" + i.toString());\n",
       "            if (!checkbox)\n",
       "                break;\n",
       "            if (checkbox.checked)\n",
       "                ans |= (1 << i);\n",
       "        }\n",
       "        return ans;\n",
       "    }\n",
       "    function check_selection(quiz_id, correct_answer, multiple_choice) {\n",
       "        given_answer = answer(quiz_id);\n",
       "        if (given_answer == correct_answer)\n",
       "        {\n",
       "            document.getElementById(quiz_id + \"-submit\").value = \"Correct!\";\n",
       "            for (i = 1;; i++) {\n",
       "                checkbox = document.getElementById(quiz_id + \"-\" + i.toString());\n",
       "                label = document.getElementById(quiz_id + \"-\" + i.toString() + \"-label\")\n",
       "                if (!checkbox)\n",
       "                    break;\n",
       "    \n",
       "                if (checkbox.checked) {\n",
       "                    label.style.fontWeight = \"bold\";\n",
       "                }\n",
       "                else {\n",
       "                    label.style.textDecoration = \"line-through\";\n",
       "                }\n",
       "            }\n",
       "        }\n",
       "        else \n",
       "        {\n",
       "            document.getElementById(quiz_id + \"-submit\").value = \"Try again\";\n",
       "            if (!multiple_choice) {\n",
       "                for (i = 1;; i++) {\n",
       "                    checkbox = document.getElementById(quiz_id + \"-\" + i.toString());\n",
       "                    label = document.getElementById(quiz_id + \"-\" + i.toString() + \"-label\")\n",
       "\n",
       "                    if (!checkbox)\n",
       "                        break;\n",
       "                    if (checkbox.checked) {\n",
       "                        label.style.textDecoration = \"line-through\";\n",
       "                    }\n",
       "                }\n",
       "            }\n",
       "        }\n",
       "    }\n",
       "    function clear_selection(quiz_id) {\n",
       "        document.getElementById(quiz_id + \"-submit\").value = \"Submit\";\n",
       "    }\n",
       "    </script>\n",
       "    \n",
       "    <div class=\"quiz\">\n",
       "    <h3 class=\"quiz_title\">Quiz</h3>\n",
       "    <p>\n",
       "    <div class=\"quiz_question\">From the difference between success and failure, we can already devise some observations about  what's wrong with the output. Which of these can we turn into general hypotheses?</div>\n",
       "    </p>\n",
       "    <p>\n",
       "    <div class=\"quiz_options\" title=\"Check all that apply.\">\n",
       "    \n",
       "        <input type=\"checkbox\" name=\"9b16bdc8-25bf-11eb-9445-53767c693b44\" id=\"9b16bdc8-25bf-11eb-9445-53767c693b44-1\" onclick=\"clear_selection('9b16bdc8-25bf-11eb-9445-53767c693b44')\">\n",
       "        <label id=\"9b16bdc8-25bf-11eb-9445-53767c693b44-1-label\" for=\"9b16bdc8-25bf-11eb-9445-53767c693b44-1\">Double quotes are stripped from the tagged input.</label><br>\n",
       "    \n",
       "        <input type=\"checkbox\" name=\"9b16bdc8-25bf-11eb-9445-53767c693b44\" id=\"9b16bdc8-25bf-11eb-9445-53767c693b44-2\" onclick=\"clear_selection('9b16bdc8-25bf-11eb-9445-53767c693b44')\">\n",
       "        <label id=\"9b16bdc8-25bf-11eb-9445-53767c693b44-2-label\" for=\"9b16bdc8-25bf-11eb-9445-53767c693b44-2\">Tags in double quotes are not stripped.</label><br>\n",
       "    \n",
       "        <input type=\"checkbox\" name=\"9b16bdc8-25bf-11eb-9445-53767c693b44\" id=\"9b16bdc8-25bf-11eb-9445-53767c693b44-3\" onclick=\"clear_selection('9b16bdc8-25bf-11eb-9445-53767c693b44')\">\n",
       "        <label id=\"9b16bdc8-25bf-11eb-9445-53767c693b44-3-label\" for=\"9b16bdc8-25bf-11eb-9445-53767c693b44-3\">The tag '&lt;b&gt;' is always stripped from the input.</label><br>\n",
       "    \n",
       "        <input type=\"checkbox\" name=\"9b16bdc8-25bf-11eb-9445-53767c693b44\" id=\"9b16bdc8-25bf-11eb-9445-53767c693b44-4\" onclick=\"clear_selection('9b16bdc8-25bf-11eb-9445-53767c693b44')\">\n",
       "        <label id=\"9b16bdc8-25bf-11eb-9445-53767c693b44-4-label\" for=\"9b16bdc8-25bf-11eb-9445-53767c693b44-4\">Four-letter words are stripped.</label><br>\n",
       "    \n",
       "    </div>\n",
       "    </p>\n",
       "    <input id=\"9b16bdc8-25bf-11eb-9445-53767c693b44-submit\" type=\"submit\" value=\"Submit\" onclick=\"check_selection('9b16bdc8-25bf-11eb-9445-53767c693b44', 6, 1)\">\n",
       "    </div>\n",
       "    "
      ],
      "text/plain": [
       "<IPython.core.display.HTML object>"
      ]
     },
     "execution_count": 40,
     "metadata": {},
     "output_type": "execute_result"
    }
   ],
   "source": [
    "quiz(\"From the difference between success and failure,\"\n",
    "     \" we can already devise some observations about \"\n",
    "     \" what's wrong with the output.\"\n",
    "     \" Which of these can we turn into general hypotheses?\",\n",
    "    [\"Double quotes are stripped from the tagged input.\",\n",
    "     \"Tags in double quotes are not stripped.\",\n",
    "     \"The tag '&lt;b&gt;' is always stripped from the input.\",\n",
    "     \"Four-letter words are stripped.\"], [298 % 33, 1234 % 616])"
   ]
  },
  {
   "cell_type": "markdown",
   "metadata": {
    "slideshow": {
     "slide_type": "subslide"
    }
   },
   "source": [
    "### Testing a Hypothesis\n",
    "\n",
    "The hypotheses that remain are:\n",
    "\n",
    "1. Double quotes are stripped from the tagged input.\n",
    "2. Tags in double quotes are not stripped."
   ]
  },
  {
   "cell_type": "markdown",
   "metadata": {
    "slideshow": {
     "slide_type": "fragment"
    }
   },
   "source": [
    "These may be two separate issues, but chances are they are tied to each other.  Let's focus on 1., because it is simpler.  Does it hold for all inputs, even untagged ones?  Our hypothesis becomes\n",
    "\n",
    "1. Double quotes are stripped from the ~~tagged~~ input."
   ]
  },
  {
   "cell_type": "markdown",
   "metadata": {
    "slideshow": {
     "slide_type": "subslide"
    }
   },
   "source": [
    "Let's devise an experiment to validate this.  If we feed the string\n",
    "```html\n",
    "\"foo\"\n",
    "```\n",
    "(including the double quotes) into `remove_html_markup()`, we should obtain\n",
    "```html\n",
    "\"foo\"\n",
    "```\n",
    "as result – that is, the output should be the unchanged input. However, if our hypothesis 1. is correct, we should obtain\n",
    "```html\n",
    "foo\n",
    "```\n",
    "as result – that is, \"Double quotes are stripped from the input\" as predicted by the hypothesis."
   ]
  },
  {
   "cell_type": "markdown",
   "metadata": {
    "slideshow": {
     "slide_type": "subslide"
    }
   },
   "source": [
    "We can very easily test this hypothesis:"
   ]
  },
  {
   "cell_type": "code",
   "execution_count": 41,
   "metadata": {
    "slideshow": {
     "slide_type": "fragment"
    },
    "pycharm": {
     "name": "#%%\n"
    }
   },
   "outputs": [
    {
     "data": {
      "text/plain": [
       "'foo'"
      ]
     },
     "execution_count": 41,
     "metadata": {},
     "output_type": "execute_result"
    }
   ],
   "source": [
    "remove_html_markup('\"foo\"')"
   ]
  },
  {
   "cell_type": "markdown",
   "metadata": {
    "slideshow": {
     "slide_type": "fragment"
    }
   },
   "source": [
    "Our hypothesis is confirmed! We can add this to our list of observations."
   ]
  },
  {
   "cell_type": "markdown",
   "metadata": {
    "slideshow": {
     "slide_type": "subslide"
    }
   },
   "source": [
    "|Input|Expectation|Output|Outcome|\n",
    "|-----|-----------|------|-------|\n",
    "|`<b>foo</b>`|`foo`|`foo`|✔|\n",
    "|`<b>\"foo\"</b>`|`\"foo\"`|`foo`|✘|\n",
    "|`\"<b>foo</b>\"`|`\"foo\"`|`<b>foo</b>`|✘|\n",
    "|`<\"b\">foo</\"b\">`|`foo`|`foo`|✔|\n",
    "|`\"foo\"`|`\"foo\"`|`foo`|✘|\n"
   ]
  },
  {
   "cell_type": "markdown",
   "metadata": {
    "slideshow": {
     "slide_type": "fragment"
    },
    "pycharm": {
     "name": "#%% md\n"
    }
   },
   "source": [
    "You can try out the hypothesis with more inputs – and it remains valid. Any non-markup input that contains double quotes will have these stripped."
   ]
  },
  {
   "cell_type": "markdown",
   "metadata": {
    "slideshow": {
     "slide_type": "subslide"
    }
   },
   "source": [
    "Where does that quote-stripping come from?  This is where we need to explore the cause-effect chain.  The only place in `remove_html_markup()` where quotes are handled is this line:\n",
    "\n",
    "```python\n",
    "elif c == '\"' or c == \"'\" and tag:\n",
    "    quote = not quote\n",
    "```\n",
    "\n",
    "So, quotes should be removed only if `tag` is set. However, `tag` can be set only if the input contains a markup tag, which is not the case for a simple input like `\"foo\"`. Hence, what we observe is actually _impossible._ Yet, it happens."
   ]
  },
  {
   "cell_type": "markdown",
   "metadata": {
    "slideshow": {
     "slide_type": "subslide"
    },
    "pycharm": {
     "name": "#%% md\n"
    }
   },
   "source": [
    "### Refining a Hypothesis\n",
    "\n",
    "Debugging is a game of falsifying assumptions. You assume the code works – it doesn't. You assume the `tag` flag cannot be set – yet it may be. What do we do? Again, we create a hypothesis:\n",
    "\n",
    "1. The error is due to `tag` being set."
   ]
  },
  {
   "cell_type": "markdown",
   "metadata": {
    "slideshow": {
     "slide_type": "subslide"
    },
    "pycharm": {
     "name": "#%% md\n"
    }
   },
   "source": [
    "How do we know whether tag is being set?  Let me introduce one of the most powerful debugging tools ever invented, the `assert` statement.  The statement\n",
    "```python\n",
    "assert cond\n",
    "```\n",
    "evaluates the given condition `cond` and\n",
    "\n",
    "* if it holds: proceed as usual\n",
    "* if `cond` does not hold: throw an exception\n",
    "\n",
    "An `assert` statement _encodes our assumptions_ and as such, should never fail. If it does, well, then something is wrong."
   ]
  },
  {
   "cell_type": "markdown",
   "metadata": {
    "slideshow": {
     "slide_type": "subslide"
    }
   },
   "source": [
    "Using `assert`, we can check the value of `tag` all through the loop:"
   ]
  },
  {
   "cell_type": "code",
   "execution_count": 42,
   "metadata": {
    "slideshow": {
     "slide_type": "subslide"
    }
   },
   "outputs": [],
   "source": [
    "def remove_html_markup_with_tag_assert(s):\n",
    "    tag = False\n",
    "    quote = False\n",
    "    out = \"\"\n",
    "\n",
    "    for c in s:\n",
    "        assert not tag  # <=== Just added\n",
    "\n",
    "        if c == '<' and not quote:\n",
    "            tag = True\n",
    "        elif c == '>' and not quote:\n",
    "            tag = False\n",
    "        elif c == '\"' or c == \"'\" and tag:\n",
    "            quote = not quote\n",
    "        elif not tag:\n",
    "            out = out + c\n",
    "\n",
    "    return out"
   ]
  },
  {
   "cell_type": "markdown",
   "metadata": {
    "slideshow": {
     "slide_type": "subslide"
    }
   },
   "source": [
    "Our expectation is that this assertion would fail. So, do we actually get an exception? Try it out for yourself by uncommenting the following line:"
   ]
  },
  {
   "cell_type": "code",
   "execution_count": 43,
   "metadata": {
    "slideshow": {
     "slide_type": "fragment"
    },
    "pycharm": {
     "name": "#%%\n"
    }
   },
   "outputs": [],
   "source": [
    "# remove_html_markup_with_tag_assert('\"foo\"')"
   ]
  },
  {
   "cell_type": "code",
   "execution_count": 44,
   "metadata": {
    "slideshow": {
     "slide_type": "fragment"
    },
    "pycharm": {
     "name": "#%%\n"
    }
   },
   "outputs": [
    {
     "data": {
      "text/html": [
       "\n",
       "    \n",
       "    <script>\n",
       "    function answer(quiz_id) {\n",
       "        ans = 0;\n",
       "        for (i = 1;; i++) {\n",
       "            checkbox = document.getElementById(quiz_id + \"-\" + i.toString());\n",
       "            if (!checkbox)\n",
       "                break;\n",
       "            if (checkbox.checked)\n",
       "                ans |= (1 << i);\n",
       "        }\n",
       "        return ans;\n",
       "    }\n",
       "    function check_selection(quiz_id, correct_answer, multiple_choice) {\n",
       "        given_answer = answer(quiz_id);\n",
       "        if (given_answer == correct_answer)\n",
       "        {\n",
       "            document.getElementById(quiz_id + \"-submit\").value = \"Correct!\";\n",
       "            for (i = 1;; i++) {\n",
       "                checkbox = document.getElementById(quiz_id + \"-\" + i.toString());\n",
       "                label = document.getElementById(quiz_id + \"-\" + i.toString() + \"-label\")\n",
       "                if (!checkbox)\n",
       "                    break;\n",
       "    \n",
       "                if (checkbox.checked) {\n",
       "                    label.style.fontWeight = \"bold\";\n",
       "                }\n",
       "                else {\n",
       "                    label.style.textDecoration = \"line-through\";\n",
       "                }\n",
       "            }\n",
       "        }\n",
       "        else \n",
       "        {\n",
       "            document.getElementById(quiz_id + \"-submit\").value = \"Try again\";\n",
       "            if (!multiple_choice) {\n",
       "                for (i = 1;; i++) {\n",
       "                    checkbox = document.getElementById(quiz_id + \"-\" + i.toString());\n",
       "                    label = document.getElementById(quiz_id + \"-\" + i.toString() + \"-label\")\n",
       "\n",
       "                    if (!checkbox)\n",
       "                        break;\n",
       "                    if (checkbox.checked) {\n",
       "                        label.style.textDecoration = \"line-through\";\n",
       "                    }\n",
       "                }\n",
       "            }\n",
       "        }\n",
       "    }\n",
       "    function clear_selection(quiz_id) {\n",
       "        document.getElementById(quiz_id + \"-submit\").value = \"Submit\";\n",
       "    }\n",
       "    </script>\n",
       "    \n",
       "    <div class=\"quiz\">\n",
       "    <h3 class=\"quiz_title\">Quiz</h3>\n",
       "    <p>\n",
       "    <div class=\"quiz_question\">What happens after inserting the above assertion?</div>\n",
       "    </p>\n",
       "    <p>\n",
       "    <div class=\"quiz_options\" title=\"Pick a choice.\">\n",
       "    \n",
       "        <input type=\"radio\" name=\"9b16bdc9-25bf-11eb-9445-53767c693b44\" id=\"9b16bdc9-25bf-11eb-9445-53767c693b44-1\" onclick=\"clear_selection('9b16bdc9-25bf-11eb-9445-53767c693b44')\">\n",
       "        <label id=\"9b16bdc9-25bf-11eb-9445-53767c693b44-1-label\" for=\"9b16bdc9-25bf-11eb-9445-53767c693b44-1\">The program raises an exception. (i.e., tag is set)</label><br>\n",
       "    \n",
       "        <input type=\"radio\" name=\"9b16bdc9-25bf-11eb-9445-53767c693b44\" id=\"9b16bdc9-25bf-11eb-9445-53767c693b44-2\" onclick=\"clear_selection('9b16bdc9-25bf-11eb-9445-53767c693b44')\">\n",
       "        <label id=\"9b16bdc9-25bf-11eb-9445-53767c693b44-2-label\" for=\"9b16bdc9-25bf-11eb-9445-53767c693b44-2\">The output is as before, i.e., foo without quotes. (which means that tag is not set)</label><br>\n",
       "    \n",
       "    </div>\n",
       "    </p>\n",
       "    <input id=\"9b16bdc9-25bf-11eb-9445-53767c693b44-submit\" type=\"submit\" value=\"Submit\" onclick=\"check_selection('9b16bdc9-25bf-11eb-9445-53767c693b44', 4, 0)\">\n",
       "    </div>\n",
       "    "
      ],
      "text/plain": [
       "<IPython.core.display.HTML object>"
      ]
     },
     "execution_count": 44,
     "metadata": {},
     "output_type": "execute_result"
    }
   ],
   "source": [
    "quiz(\"What happens after inserting the above assertion?\",\n",
    "    [\"The program raises an exception. (i.e., tag is set)\",\n",
    "     \"The output is as before, i.e., foo without quotes.\"\n",
    "     \" (which means that tag is not set)\"],\n",
    "     2)"
   ]
  },
  {
   "cell_type": "markdown",
   "metadata": {
    "slideshow": {
     "slide_type": "fragment"
    }
   },
   "source": [
    "Here's the solution:"
   ]
  },
  {
   "cell_type": "code",
   "execution_count": 45,
   "metadata": {
    "slideshow": {
     "slide_type": "fragment"
    }
   },
   "outputs": [
    {
     "data": {
      "text/plain": [
       "'foo'"
      ]
     },
     "execution_count": 45,
     "metadata": {},
     "output_type": "execute_result"
    }
   ],
   "source": [
    "with ExpectError():\n",
    "    result = remove_html_markup_with_tag_assert('\"foo\"')\n",
    "result"
   ]
  },
  {
   "cell_type": "markdown",
   "metadata": {
    "slideshow": {
     "slide_type": "subslide"
    }
   },
   "source": [
    "### Refuting a Hypothesis\n",
    "\n",
    "We did not get an exception, hence we reject our hypothesis:\n",
    "\n",
    "1. ~~The error is due to `tag` being set.~~\n"
   ]
  },
  {
   "cell_type": "markdown",
   "metadata": {
    "slideshow": {
     "slide_type": "subslide"
    },
    "pycharm": {
     "name": "#%% md\n"
    }
   },
   "source": [
    "Again, let's go back to the only place in our code where quotes are handled:\n",
    "\n",
    "```python\n",
    "elif c == '\"' or c == \"'\" and tag:\n",
    "    quote = not quote\n",
    "```\n",
    "\n",
    "Because of the assertion, we already know that `tag` is always False.  Hence, this condition should never hold either."
   ]
  },
  {
   "cell_type": "markdown",
   "metadata": {
    "slideshow": {
     "slide_type": "subslide"
    },
    "pycharm": {
     "name": "#%% md\n"
    }
   },
   "source": [
    "But maybe there's something wrong with the condition such that it holds? Here's our hypothesis:\n",
    "\n",
    "1. The error is due to the quote condition evaluating to true\n"
   ]
  },
  {
   "cell_type": "markdown",
   "metadata": {
    "slideshow": {
     "slide_type": "fragment"
    }
   },
   "source": [
    "If the condition evaluates to true, then `quote` should be set.  We could now go and assert that `quote` is false; but we only care about the condition.  So we insert an assertion that assumes that setting the code setting the `quote` flag is never reached:"
   ]
  },
  {
   "cell_type": "code",
   "execution_count": 46,
   "metadata": {
    "slideshow": {
     "slide_type": "subslide"
    }
   },
   "outputs": [],
   "source": [
    "def remove_html_markup_with_quote_assert(s):\n",
    "    tag = False\n",
    "    quote = False\n",
    "    out = \"\"\n",
    "\n",
    "    for c in s:\n",
    "        if c == '<' and not quote:\n",
    "            tag = True\n",
    "        elif c == '>' and not quote:\n",
    "            tag = False\n",
    "        elif c == '\"' or c == \"'\" and tag:\n",
    "            assert False  # <=== Just added\n",
    "            quote = not quote\n",
    "        elif not tag:\n",
    "            out = out + c\n",
    "\n",
    "    return out"
   ]
  },
  {
   "cell_type": "markdown",
   "metadata": {
    "slideshow": {
     "slide_type": "subslide"
    }
   },
   "source": [
    "Our expectation this time again is that the assertion fails. So, do we get an exception this time? Try it out for yourself by uncommenting the following line:"
   ]
  },
  {
   "cell_type": "code",
   "execution_count": 47,
   "metadata": {
    "slideshow": {
     "slide_type": "fragment"
    },
    "pycharm": {
     "name": "#%%\n"
    }
   },
   "outputs": [],
   "source": [
    "# remove_html_markup_with_quote_assert('\"foo\"')"
   ]
  },
  {
   "cell_type": "code",
   "execution_count": 48,
   "metadata": {
    "slideshow": {
     "slide_type": "fragment"
    },
    "pycharm": {
     "name": "#%%\n"
    }
   },
   "outputs": [
    {
     "data": {
      "text/html": [
       "\n",
       "    \n",
       "    <script>\n",
       "    function answer(quiz_id) {\n",
       "        ans = 0;\n",
       "        for (i = 1;; i++) {\n",
       "            checkbox = document.getElementById(quiz_id + \"-\" + i.toString());\n",
       "            if (!checkbox)\n",
       "                break;\n",
       "            if (checkbox.checked)\n",
       "                ans |= (1 << i);\n",
       "        }\n",
       "        return ans;\n",
       "    }\n",
       "    function check_selection(quiz_id, correct_answer, multiple_choice) {\n",
       "        given_answer = answer(quiz_id);\n",
       "        if (given_answer == correct_answer)\n",
       "        {\n",
       "            document.getElementById(quiz_id + \"-submit\").value = \"Correct!\";\n",
       "            for (i = 1;; i++) {\n",
       "                checkbox = document.getElementById(quiz_id + \"-\" + i.toString());\n",
       "                label = document.getElementById(quiz_id + \"-\" + i.toString() + \"-label\")\n",
       "                if (!checkbox)\n",
       "                    break;\n",
       "    \n",
       "                if (checkbox.checked) {\n",
       "                    label.style.fontWeight = \"bold\";\n",
       "                }\n",
       "                else {\n",
       "                    label.style.textDecoration = \"line-through\";\n",
       "                }\n",
       "            }\n",
       "        }\n",
       "        else \n",
       "        {\n",
       "            document.getElementById(quiz_id + \"-submit\").value = \"Try again\";\n",
       "            if (!multiple_choice) {\n",
       "                for (i = 1;; i++) {\n",
       "                    checkbox = document.getElementById(quiz_id + \"-\" + i.toString());\n",
       "                    label = document.getElementById(quiz_id + \"-\" + i.toString() + \"-label\")\n",
       "\n",
       "                    if (!checkbox)\n",
       "                        break;\n",
       "                    if (checkbox.checked) {\n",
       "                        label.style.textDecoration = \"line-through\";\n",
       "                    }\n",
       "                }\n",
       "            }\n",
       "        }\n",
       "    }\n",
       "    function clear_selection(quiz_id) {\n",
       "        document.getElementById(quiz_id + \"-submit\").value = \"Submit\";\n",
       "    }\n",
       "    </script>\n",
       "    \n",
       "    <div class=\"quiz\">\n",
       "    <h3 class=\"quiz_title\">Quiz</h3>\n",
       "    <p>\n",
       "    <div class=\"quiz_question\">What happens after inserting the 'assert' tag?</div>\n",
       "    </p>\n",
       "    <p>\n",
       "    <div class=\"quiz_options\" title=\"Pick a choice.\">\n",
       "    \n",
       "        <input type=\"radio\" name=\"9b16bdca-25bf-11eb-9445-53767c693b44\" id=\"9b16bdca-25bf-11eb-9445-53767c693b44-1\" onclick=\"clear_selection('9b16bdca-25bf-11eb-9445-53767c693b44')\">\n",
       "        <label id=\"9b16bdca-25bf-11eb-9445-53767c693b44-1-label\" for=\"9b16bdca-25bf-11eb-9445-53767c693b44-1\">The program raises an exception (i.e., the quote condition holds)</label><br>\n",
       "    \n",
       "        <input type=\"radio\" name=\"9b16bdca-25bf-11eb-9445-53767c693b44\" id=\"9b16bdca-25bf-11eb-9445-53767c693b44-2\" onclick=\"clear_selection('9b16bdca-25bf-11eb-9445-53767c693b44')\">\n",
       "        <label id=\"9b16bdca-25bf-11eb-9445-53767c693b44-2-label\" for=\"9b16bdca-25bf-11eb-9445-53767c693b44-2\">The output is still foo (i.e., the quote condition does not hold)</label><br>\n",
       "    \n",
       "    </div>\n",
       "    </p>\n",
       "    <input id=\"9b16bdca-25bf-11eb-9445-53767c693b44-submit\" type=\"submit\" value=\"Submit\" onclick=\"check_selection('9b16bdca-25bf-11eb-9445-53767c693b44', 2, 0)\">\n",
       "    </div>\n",
       "    "
      ],
      "text/plain": [
       "<IPython.core.display.HTML object>"
      ]
     },
     "execution_count": 48,
     "metadata": {},
     "output_type": "execute_result"
    }
   ],
   "source": [
    "quiz(\"What happens after inserting the 'assert' tag?\",\n",
    "[\"The program raises an exception (i.e., the quote condition holds)\",\n",
    " \"The output is still foo (i.e., the quote condition does not hold)\"], 29 % 7)"
   ]
  },
  {
   "cell_type": "markdown",
   "metadata": {
    "slideshow": {
     "slide_type": "fragment"
    },
    "pycharm": {
     "name": "#%% md\n"
    }
   },
   "source": [
    "Here's what happens now that we have the `assert` tag:"
   ]
  },
  {
   "cell_type": "code",
   "execution_count": 49,
   "metadata": {
    "slideshow": {
     "slide_type": "subslide"
    },
    "pycharm": {
     "name": "#%%\n"
    }
   },
   "outputs": [
    {
     "name": "stderr",
     "output_type": "stream",
     "text": [
      "Traceback (most recent call last):\n",
      "  File \"<ipython-input-49-9ce255289291>\", line 2, in <module>\n",
      "    result = remove_html_markup_with_quote_assert('\"foo\"')\n",
      "  File \"<ipython-input-46-9c8a53a91780>\", line 12, in remove_html_markup_with_quote_assert\n",
      "    assert False  # <=== Just added\n",
      "AssertionError (expected)\n"
     ]
    }
   ],
   "source": [
    "with ExpectError():\n",
    "    result = remove_html_markup_with_quote_assert('\"foo\"')"
   ]
  },
  {
   "cell_type": "markdown",
   "metadata": {
    "slideshow": {
     "slide_type": "subslide"
    }
   },
   "source": [
    "From this observation, we can deduce that our hypothesis is _confirmed_:\n",
    "\n",
    "1. The error is due to the quote condition evaluating to true (CONFIRMED)\n",
    "\n",
    "and the _condition is actually faulty._ It evaluates to True although `tag` is always False:\n",
    "```python\n",
    "elif c == '\"' or c == \"'\" and tag:\n",
    "    quote = not quote\n",
    "```\n",
    "But this condition holds for single and double quotes.  Is there a difference?"
   ]
  },
  {
   "cell_type": "markdown",
   "metadata": {
    "slideshow": {
     "slide_type": "subslide"
    },
    "pycharm": {
     "name": "#%% md\n"
    }
   },
   "source": [
    "Let us see whether our observations generalize towards general quotes:\n",
    "\n",
    "1. ~~Double~~ quotes are stripped from the input.\n"
   ]
  },
  {
   "cell_type": "markdown",
   "metadata": {
    "slideshow": {
     "slide_type": "fragment"
    }
   },
   "source": [
    "We can verify these hypotheses with an additional experiment.  We go back to our original implementation (without any asserts), and then check it:"
   ]
  },
  {
   "cell_type": "code",
   "execution_count": 50,
   "metadata": {
    "slideshow": {
     "slide_type": "fragment"
    },
    "pycharm": {
     "name": "#%%\n"
    }
   },
   "outputs": [
    {
     "data": {
      "text/plain": [
       "\"'foo'\""
      ]
     },
     "execution_count": 50,
     "metadata": {},
     "output_type": "execute_result"
    }
   ],
   "source": [
    "remove_html_markup(\"'foo'\")"
   ]
  },
  {
   "cell_type": "markdown",
   "metadata": {
    "slideshow": {
     "slide_type": "subslide"
    }
   },
   "source": [
    "Surprise: Our hypothesis is rejected and we can add another observation to our table:\n",
    "\n",
    "|Input|Expectation|Output|Outcome|\n",
    "|-----|-----------|------|-------|\n",
    "|`'foo'`|`'foo'`|`'foo'`|✔|\n",
    "\n",
    "So, the condition\n",
    "\n",
    "* becomes True when a double quote is seen\n",
    "* becomes False (as it should) with single quotes"
   ]
  },
  {
   "cell_type": "markdown",
   "metadata": {
    "slideshow": {
     "slide_type": "subslide"
    }
   },
   "source": [
    "At this point, you should have enough material to solve the problem.  How do we have to fix the condition? Here are four alternatives:\n",
    "\n",
    "```python\n",
    "c == \"\" or c == '' and tag        # Choice 1\n",
    "c == '\"' or c == \"'\" and not tag  # Choice 2\n",
    "(c == '\"' or c == \"'\") and tag    # Choice 3\n",
    "...                               # Something else\n",
    "```"
   ]
  },
  {
   "cell_type": "code",
   "execution_count": 51,
   "metadata": {
    "slideshow": {
     "slide_type": "subslide"
    },
    "pycharm": {
     "name": "#%%\n"
    }
   },
   "outputs": [
    {
     "data": {
      "text/html": [
       "\n",
       "    \n",
       "    <script>\n",
       "    function answer(quiz_id) {\n",
       "        ans = 0;\n",
       "        for (i = 1;; i++) {\n",
       "            checkbox = document.getElementById(quiz_id + \"-\" + i.toString());\n",
       "            if (!checkbox)\n",
       "                break;\n",
       "            if (checkbox.checked)\n",
       "                ans |= (1 << i);\n",
       "        }\n",
       "        return ans;\n",
       "    }\n",
       "    function check_selection(quiz_id, correct_answer, multiple_choice) {\n",
       "        given_answer = answer(quiz_id);\n",
       "        if (given_answer == correct_answer)\n",
       "        {\n",
       "            document.getElementById(quiz_id + \"-submit\").value = \"Correct!\";\n",
       "            for (i = 1;; i++) {\n",
       "                checkbox = document.getElementById(quiz_id + \"-\" + i.toString());\n",
       "                label = document.getElementById(quiz_id + \"-\" + i.toString() + \"-label\")\n",
       "                if (!checkbox)\n",
       "                    break;\n",
       "    \n",
       "                if (checkbox.checked) {\n",
       "                    label.style.fontWeight = \"bold\";\n",
       "                }\n",
       "                else {\n",
       "                    label.style.textDecoration = \"line-through\";\n",
       "                }\n",
       "            }\n",
       "        }\n",
       "        else \n",
       "        {\n",
       "            document.getElementById(quiz_id + \"-submit\").value = \"Try again\";\n",
       "            if (!multiple_choice) {\n",
       "                for (i = 1;; i++) {\n",
       "                    checkbox = document.getElementById(quiz_id + \"-\" + i.toString());\n",
       "                    label = document.getElementById(quiz_id + \"-\" + i.toString() + \"-label\")\n",
       "\n",
       "                    if (!checkbox)\n",
       "                        break;\n",
       "                    if (checkbox.checked) {\n",
       "                        label.style.textDecoration = \"line-through\";\n",
       "                    }\n",
       "                }\n",
       "            }\n",
       "        }\n",
       "    }\n",
       "    function clear_selection(quiz_id) {\n",
       "        document.getElementById(quiz_id + \"-submit\").value = \"Submit\";\n",
       "    }\n",
       "    </script>\n",
       "    \n",
       "    <div class=\"quiz\">\n",
       "    <h3 class=\"quiz_title\">Quiz</h3>\n",
       "    <p>\n",
       "    <div class=\"quiz_question\">How should the condition read?</div>\n",
       "    </p>\n",
       "    <p>\n",
       "    <div class=\"quiz_options\" title=\"Pick a choice.\">\n",
       "    \n",
       "        <input type=\"radio\" name=\"9b16bdcb-25bf-11eb-9445-53767c693b44\" id=\"9b16bdcb-25bf-11eb-9445-53767c693b44-1\" onclick=\"clear_selection('9b16bdcb-25bf-11eb-9445-53767c693b44')\">\n",
       "        <label id=\"9b16bdcb-25bf-11eb-9445-53767c693b44-1-label\" for=\"9b16bdcb-25bf-11eb-9445-53767c693b44-1\">Choice 1</label><br>\n",
       "    \n",
       "        <input type=\"radio\" name=\"9b16bdcb-25bf-11eb-9445-53767c693b44\" id=\"9b16bdcb-25bf-11eb-9445-53767c693b44-2\" onclick=\"clear_selection('9b16bdcb-25bf-11eb-9445-53767c693b44')\">\n",
       "        <label id=\"9b16bdcb-25bf-11eb-9445-53767c693b44-2-label\" for=\"9b16bdcb-25bf-11eb-9445-53767c693b44-2\">Choice 2</label><br>\n",
       "    \n",
       "        <input type=\"radio\" name=\"9b16bdcb-25bf-11eb-9445-53767c693b44\" id=\"9b16bdcb-25bf-11eb-9445-53767c693b44-3\" onclick=\"clear_selection('9b16bdcb-25bf-11eb-9445-53767c693b44')\">\n",
       "        <label id=\"9b16bdcb-25bf-11eb-9445-53767c693b44-3-label\" for=\"9b16bdcb-25bf-11eb-9445-53767c693b44-3\">Choice 3</label><br>\n",
       "    \n",
       "        <input type=\"radio\" name=\"9b16bdcb-25bf-11eb-9445-53767c693b44\" id=\"9b16bdcb-25bf-11eb-9445-53767c693b44-4\" onclick=\"clear_selection('9b16bdcb-25bf-11eb-9445-53767c693b44')\">\n",
       "        <label id=\"9b16bdcb-25bf-11eb-9445-53767c693b44-4-label\" for=\"9b16bdcb-25bf-11eb-9445-53767c693b44-4\">Something else</label><br>\n",
       "    \n",
       "    </div>\n",
       "    </p>\n",
       "    <input id=\"9b16bdcb-25bf-11eb-9445-53767c693b44-submit\" type=\"submit\" value=\"Submit\" onclick=\"check_selection('9b16bdcb-25bf-11eb-9445-53767c693b44', 8, 0)\">\n",
       "    </div>\n",
       "    "
      ],
      "text/plain": [
       "<IPython.core.display.HTML object>"
      ]
     },
     "execution_count": 51,
     "metadata": {},
     "output_type": "execute_result"
    }
   ],
   "source": [
    "quiz(\"How should the condition read?\",\n",
    "     [\"Choice 1\", \"Choice 2\", \"Choice 3\", \"Something else\"],\n",
    "     399 % 4)"
   ]
  },
  {
   "cell_type": "markdown",
   "metadata": {
    "slideshow": {
     "slide_type": "slide"
    }
   },
   "source": [
    "## Fixing the Bug"
   ]
  },
  {
   "cell_type": "markdown",
   "metadata": {
    "slideshow": {
     "slide_type": "fragment"
    },
    "pycharm": {
     "name": "#%% md\n"
    }
   },
   "source": [
    "So, you have spotted the defect: In Python (and most other languages), `and` takes precedence over `or`, which is why the condition is wrong.  It should read:\n",
    "\n",
    "```python\n",
    "(c == '\"' or c == \"'\") and tag\n",
    "```\n",
    "\n",
    "(Actually, good programmers rarely depend on precedence; it is considered good style to use parentheses lavishly.)"
   ]
  },
  {
   "cell_type": "markdown",
   "metadata": {
    "slideshow": {
     "slide_type": "subslide"
    }
   },
   "source": [
    "So, our hypothesis now has become\n",
    "\n",
    "1. The error is due to the quote condition evaluating to true\n"
   ]
  },
  {
   "cell_type": "markdown",
   "metadata": {
    "slideshow": {
     "slide_type": "subslide"
    },
    "pycharm": {
     "name": "#%% md\n"
    }
   },
   "source": [
    "Is this our final hypothesis?  We can check our earlier examples whether they should now work well:\n",
    "\n",
    "\n",
    "|Input|Expectation|Output|Outcome|\n",
    "|-----|-----------|------|-------|\n",
    "|`<b>foo</b>`|`foo`|`foo`|✔|\n",
    "|`<b>\"foo\"</b>`|`\"foo\"`|`foo`|✘|\n",
    "|`\"<b>foo</b>\"`|`\"foo\"`|`<b>foo</b>`|✘|\n",
    "|`<\"b\">foo</\"b\">`|`foo`|`foo`|✔|\n",
    "|`\"foo\"`|`'foo'`|`foo`|✘|\n",
    "|`'foo'`|`'foo'`|`'foo'`|✔|\n",
    "\n",
    "In all of these examples, the `quote` flag should now be set outside of tags; hence, everything should work as expected."
   ]
  },
  {
   "cell_type": "markdown",
   "metadata": {
    "slideshow": {
     "slide_type": "subslide"
    }
   },
   "source": [
    "In terms of the scientific process, we now have a *theory* – a hypothesis that\n",
    "\n",
    "* is consistent with all earlier observations\n",
    "* predicts future observations (in our case: correct behavior)\n",
    "\n",
    "For debugging, our problems are usually too small for a big word like theory, so we use the word *diagnosis* instead.  You should start to fix your code if and only if you have a diagnosis."
   ]
  },
  {
   "cell_type": "markdown",
   "metadata": {
    "slideshow": {
     "slide_type": "fragment"
    }
   },
   "source": [
    "So we actually go and fix the code accordingly:"
   ]
  },
  {
   "cell_type": "code",
   "execution_count": 52,
   "metadata": {
    "slideshow": {
     "slide_type": "subslide"
    },
    "pycharm": {
     "name": "#%%\n"
    }
   },
   "outputs": [],
   "source": [
    "def remove_html_markup(s):\n",
    "    tag = False\n",
    "    quote = False\n",
    "    out = \"\"\n",
    "\n",
    "    for c in s:\n",
    "        if c == '<' and not quote:\n",
    "            tag = True\n",
    "        elif c == '>' and not quote:\n",
    "            tag = False\n",
    "        elif (c == '\"' or c == \"'\") and tag:  # <-- FIX\n",
    "            quote = not quote\n",
    "        elif not tag:\n",
    "            out = out + c\n",
    "\n",
    "    return out"
   ]
  },
  {
   "cell_type": "markdown",
   "metadata": {
    "slideshow": {
     "slide_type": "subslide"
    },
    "pycharm": {
     "name": "#%% md\n"
    }
   },
   "source": [
    "We verify that the fix was successful by running our earlier tests. Not only should the previously failing tests now pass, the previously passing tests also should not be affected. Fortunately, all tests now pass:"
   ]
  },
  {
   "cell_type": "code",
   "execution_count": 53,
   "metadata": {
    "slideshow": {
     "slide_type": "fragment"
    },
    "pycharm": {
     "name": "#%%\n"
    }
   },
   "outputs": [],
   "source": [
    "assert remove_html_markup(\"Here's some <strong>strong argument</strong>.\") == \\\n",
    "    \"Here's some strong argument.\"\n",
    "assert remove_html_markup(\n",
    "    '<input type=\"text\" value=\"<your name>\">') == \"\"\n",
    "assert remove_html_markup('<b>foo</b>') == 'foo'\n",
    "assert remove_html_markup('<b>\"foo\"</b>') == '\"foo\"'\n",
    "assert remove_html_markup('\"<b>foo</b>\"') == '\"foo\"'\n",
    "assert remove_html_markup('<\"b\">foo</\"b\">') == 'foo'"
   ]
  },
  {
   "cell_type": "markdown",
   "metadata": {
    "slideshow": {
     "slide_type": "fragment"
    },
    "pycharm": {
     "name": "#%% md\n"
    }
   },
   "source": [
    "So, the hypothesis was a theory after all, and our diagnosis was correct."
   ]
  },
  {
   "cell_type": "markdown",
   "metadata": {
    "slideshow": {
     "slide_type": "slide"
    }
   },
   "source": [
    "## Alternate Paths\n",
    "\n",
    "Note that there are many ways by which we can get to the defect.  We could also have started with our other hypothesis\n",
    "\n",
    "2. Tags in double quotes are not stripped\n",
    "\n",
    "and by reasoning and experiments, we would have reached the same conclusion that the condition is faulty:\n",
    "\n",
    "* To strip tags, the `tag` flag must be set (but it is not).\n",
    "* To set the `tag` flag, the `quote` variable must not be set (but it is).\n",
    "* The `quote` flag is set under the given condition (which thus must be faulty).\n"
   ]
  },
  {
   "cell_type": "markdown",
   "metadata": {
    "slideshow": {
     "slide_type": "subslide"
    },
    "pycharm": {
     "name": "#%% md\n"
    }
   },
   "source": [
    "But just fixing is not enough. We also must make sure the error does not occur again. How can we do that? With our assertions, above, we already have a test suite that should catch several errors – but not all.\n",
    "\n",
    "To be 100% sure, we could add an assertion to `remove_html_markup()` that checks the final result for correctness. Unfortunately, writing such an assertion is just as complex as writing the function itself.\n",
    "\n",
    "There is one assertion, though, which could be placed in the loop body to catch this kind of errors, and which could remain in the code. Which is it?"
   ]
  },
  {
   "cell_type": "code",
   "execution_count": null,
   "outputs": [],
   "source": [
    "quiz(\"Which assertion would have caught the problem?\",\n",
    "    [\"assert quote and not tag\",\n",
    "     \"assert quote or not tag\",\n",
    "     \"assert tag or not quote\",\n",
    "     \"assert tag and not quote\"],\n",
    "    3270 - 3267)"
   ],
   "metadata": {
    "collapsed": false,
    "pycharm": {
     "name": "#%%\n"
    }
   }
  },
  {
   "cell_type": "markdown",
   "source": [
    "Indeed, the statement\n",
    "\n",
    "```python\n",
    "assert tag or not quote\n",
    "```\n",
    "is correct. This excludes the situation of ¬`tag` ∧ `quote` – that is, the `tag` flag is not set, but the `quote` flag is. If you remember our state machine from above, this is actually a state that should never exist:"
   ],
   "metadata": {
    "collapsed": false
   }
  },
  {
   "cell_type": "code",
   "execution_count": null,
   "outputs": [],
   "source": [
    "display(state_machine)"
   ],
   "metadata": {
    "collapsed": false,
    "pycharm": {
     "name": "#%%\n"
    }
   }
  },
  {
   "cell_type": "markdown",
   "source": [
    "Here's our function in its \"final\" state. As software goes, software is never final – and this may also hold for our function, as there is still room for improvement. For this chapter though, we leave it be."
   ],
   "metadata": {
    "collapsed": false
   }
  },
  {
   "cell_type": "code",
   "execution_count": null,
   "outputs": [],
   "source": [
    "def remove_html_markup(s):\n",
    "    tag = False\n",
    "    quote = False\n",
    "    out = \"\"\n",
    "\n",
    "    for c in s:\n",
    "        assert tag or not quote\n",
    "\n",
    "        if c == '<' and not quote:\n",
    "            tag = True\n",
    "        elif c == '>' and not quote:\n",
    "            tag = False\n",
    "        elif (c == '\"' or c == \"'\") and tag:\n",
    "            quote = not quote\n",
    "        elif not tag:\n",
    "            out = out + c\n",
    "\n",
    "    return out"
   ],
   "metadata": {
    "collapsed": false,
    "pycharm": {
     "name": "#%%\n"
    }
   }
  },
  {
   "cell_type": "code",
   "execution_count": null,
   "outputs": [],
   "source": [
    "remove_html_markup('\"<b>\"foo\"</b>\"')"
   ],
   "metadata": {
    "collapsed": false,
    "pycharm": {
     "name": "#%%\n"
    }
   }
  },
  {
   "cell_type": "code",
   "execution_count": null,
   "outputs": [],
   "source": [],
   "metadata": {
    "collapsed": false,
    "pycharm": {
     "name": "#%%\n"
    }
   }
  },
  {
   "cell_type": "code",
   "execution_count": null,
   "outputs": [],
   "source": [],
   "metadata": {
    "collapsed": false,
    "pycharm": {
     "name": "#%%\n"
    }
   }
  },
  {
   "cell_type": "code",
   "execution_count": null,
   "outputs": [],
   "source": [],
   "metadata": {
    "collapsed": false,
    "pycharm": {
     "name": "#%%\n"
    }
   }
  },
  {
   "cell_type": "code",
   "execution_count": null,
   "outputs": [],
   "source": [],
   "metadata": {
    "collapsed": false,
    "pycharm": {
     "name": "#%%\n"
    }
   }
  },
  {
   "cell_type": "code",
   "execution_count": null,
   "outputs": [],
   "source": [],
   "metadata": {
    "collapsed": false,
    "pycharm": {
     "name": "#%%\n"
    }
   }
  },
  {
   "cell_type": "code",
   "execution_count": 54,
   "metadata": {
    "slideshow": {
     "slide_type": "subslide"
    }
   },
   "outputs": [
    {
     "data": {
      "text/html": [
       "\n",
       "    \n",
       "    <script>\n",
       "    function answer(quiz_id) {\n",
       "        ans = 0;\n",
       "        for (i = 1;; i++) {\n",
       "            checkbox = document.getElementById(quiz_id + \"-\" + i.toString());\n",
       "            if (!checkbox)\n",
       "                break;\n",
       "            if (checkbox.checked)\n",
       "                ans |= (1 << i);\n",
       "        }\n",
       "        return ans;\n",
       "    }\n",
       "    function check_selection(quiz_id, correct_answer, multiple_choice) {\n",
       "        given_answer = answer(quiz_id);\n",
       "        if (given_answer == correct_answer)\n",
       "        {\n",
       "            document.getElementById(quiz_id + \"-submit\").value = \"Correct!\";\n",
       "            for (i = 1;; i++) {\n",
       "                checkbox = document.getElementById(quiz_id + \"-\" + i.toString());\n",
       "                label = document.getElementById(quiz_id + \"-\" + i.toString() + \"-label\")\n",
       "                if (!checkbox)\n",
       "                    break;\n",
       "    \n",
       "                if (checkbox.checked) {\n",
       "                    label.style.fontWeight = \"bold\";\n",
       "                }\n",
       "                else {\n",
       "                    label.style.textDecoration = \"line-through\";\n",
       "                }\n",
       "            }\n",
       "        }\n",
       "        else \n",
       "        {\n",
       "            document.getElementById(quiz_id + \"-submit\").value = \"Try again\";\n",
       "            if (!multiple_choice) {\n",
       "                for (i = 1;; i++) {\n",
       "                    checkbox = document.getElementById(quiz_id + \"-\" + i.toString());\n",
       "                    label = document.getElementById(quiz_id + \"-\" + i.toString() + \"-label\")\n",
       "\n",
       "                    if (!checkbox)\n",
       "                        break;\n",
       "                    if (checkbox.checked) {\n",
       "                        label.style.textDecoration = \"line-through\";\n",
       "                    }\n",
       "                }\n",
       "            }\n",
       "        }\n",
       "    }\n",
       "    function clear_selection(quiz_id) {\n",
       "        document.getElementById(quiz_id + \"-submit\").value = \"Submit\";\n",
       "    }\n",
       "    </script>\n",
       "    \n",
       "    <div class=\"quiz\">\n",
       "    <h3 class=\"quiz_title\">Quiz</h3>\n",
       "    <p>\n",
       "    <div class=\"quiz_question\">Which assertion would have caught the problem?</div>\n",
       "    </p>\n",
       "    <p>\n",
       "    <div class=\"quiz_options\" title=\"Pick a choice.\">\n",
       "    \n",
       "        <input type=\"radio\" name=\"9b16bdcc-25bf-11eb-9445-53767c693b44\" id=\"9b16bdcc-25bf-11eb-9445-53767c693b44-1\" onclick=\"clear_selection('9b16bdcc-25bf-11eb-9445-53767c693b44')\">\n",
       "        <label id=\"9b16bdcc-25bf-11eb-9445-53767c693b44-1-label\" for=\"9b16bdcc-25bf-11eb-9445-53767c693b44-1\">assert quote and not tag</label><br>\n",
       "    \n",
       "        <input type=\"radio\" name=\"9b16bdcc-25bf-11eb-9445-53767c693b44\" id=\"9b16bdcc-25bf-11eb-9445-53767c693b44-2\" onclick=\"clear_selection('9b16bdcc-25bf-11eb-9445-53767c693b44')\">\n",
       "        <label id=\"9b16bdcc-25bf-11eb-9445-53767c693b44-2-label\" for=\"9b16bdcc-25bf-11eb-9445-53767c693b44-2\">assert quote or not tag</label><br>\n",
       "    \n",
       "        <input type=\"radio\" name=\"9b16bdcc-25bf-11eb-9445-53767c693b44\" id=\"9b16bdcc-25bf-11eb-9445-53767c693b44-3\" onclick=\"clear_selection('9b16bdcc-25bf-11eb-9445-53767c693b44')\">\n",
       "        <label id=\"9b16bdcc-25bf-11eb-9445-53767c693b44-3-label\" for=\"9b16bdcc-25bf-11eb-9445-53767c693b44-3\">assert tag or not quote</label><br>\n",
       "    \n",
       "        <input type=\"radio\" name=\"9b16bdcc-25bf-11eb-9445-53767c693b44\" id=\"9b16bdcc-25bf-11eb-9445-53767c693b44-4\" onclick=\"clear_selection('9b16bdcc-25bf-11eb-9445-53767c693b44')\">\n",
       "        <label id=\"9b16bdcc-25bf-11eb-9445-53767c693b44-4-label\" for=\"9b16bdcc-25bf-11eb-9445-53767c693b44-4\">assert tag and not quote</label><br>\n",
       "    \n",
       "    </div>\n",
       "    </p>\n",
       "    <input id=\"9b16bdcc-25bf-11eb-9445-53767c693b44-submit\" type=\"submit\" value=\"Submit\" onclick=\"check_selection('9b16bdcc-25bf-11eb-9445-53767c693b44', 8, 0)\">\n",
       "    </div>\n",
       "    "
      ],
      "text/plain": [
       "<IPython.core.display.HTML object>"
      ]
     },
     "execution_count": 54,
     "metadata": {},
     "output_type": "execute_result"
    }
   ],
   "source": [
    "## Become a Better Debugger\n",
    "\n",
    "We have now systematically fixed a bug. In this book, we will explore a number of techniques to make debugging easier – coming up with automated diagnoses, explanations, even automatic repairs, including for our example above. But there are also number of things _you_ can do to become a better debugger.\n",
    "\n",
    "\n",
    "### Follow the Process\n",
    "\n",
    "If you're an experienced programmer, you may have spotted the problem in `remove_html_markup()` immediately, and start fixing the code right away. But this is dangerous and risky.\n",
    "\n",
    "Why is this so?  Well, because you should first\n",
    "\n",
    "* try to understand the problem, and \n",
    "* have a full diagnosis before starting to fix away.\n",
    "\n",
    "You _can_ skip these steps, and jump right to your interactive debugger the very moment you see a failure, happily stepping through their program. This may even work well for simple problems, including this one. The risk, however, is that this narrows your view to just this one execution, which limits your ability to understand _all_ the circumstances of the problem. Even worse: If you start \"fixing\" the bug without exactly understanding the problem, you may end up with an incomplete solution – as illustrated in \"The Devil's Guide to Debugging\", above."
   ]
  },
  {
   "cell_type": "markdown",
   "metadata": {
    "slideshow": {
     "slide_type": "subslide"
    }
   },
   "source": [
    "Indeed, the statement\n",
    "\n",
    "```python\n",
    "assert tag or not quote\n",
    "```\n",
    "is correct. This excludes the situation of ¬`tag` ∧ `quote` – that is, the `tag` flag is not set, but the `quote` flag is. If you remember our state machine from above, this is actually a state that should never exist:"
   ]
  },
  {
   "cell_type": "code",
   "execution_count": 55,
   "metadata": {
    "slideshow": {
     "slide_type": "fragment"
    }
   },
   "outputs": [
    {
     "data": {
      "image/svg+xml": [
       "<?xml version=\"1.0\" encoding=\"UTF-8\" standalone=\"no\"?>\n",
       "<!DOCTYPE svg PUBLIC \"-//W3C//DTD SVG 1.1//EN\"\n",
       " \"http://www.w3.org/Graphics/SVG/1.1/DTD/svg11.dtd\">\n",
       "<!-- Generated by graphviz version 2.43.0 (0)\n",
       " -->\n",
       "<!-- Title: %3 Pages: 1 -->\n",
       "<svg width=\"503pt\" height=\"110pt\"\n",
       " viewBox=\"0.00 0.00 502.67 109.74\" xmlns=\"http://www.w3.org/2000/svg\" xmlns:xlink=\"http://www.w3.org/1999/xlink\">\n",
       "<g id=\"graph0\" class=\"graph\" transform=\"scale(1 1) rotate(0) translate(4 105.74)\">\n",
       "<title>%3</title>\n",
       "<polygon fill=\"white\" stroke=\"transparent\" points=\"-4,4 -4,-105.74 498.67,-105.74 498.67,4 -4,4\"/>\n",
       "<!-- Start -->\n",
       "<g id=\"node1\" class=\"node\">\n",
       "<title>Start</title>\n",
       "<ellipse fill=\"peachpuff\" stroke=\"black\" cx=\"32.5\" cy=\"-26.87\" rx=\"32.49\" ry=\"18\"/>\n",
       "<text text-anchor=\"middle\" x=\"32.5\" y=\"-23.17\" font-family=\"Raleway\" font-size=\"14.00\">Start</text>\n",
       "</g>\n",
       "<!-- ¬ quote\n",
       "¬ tag -->\n",
       "<g id=\"node2\" class=\"node\">\n",
       "<title>¬ quote\n",
       "¬ tag</title>\n",
       "<ellipse fill=\"peachpuff\" stroke=\"black\" cx=\"153.61\" cy=\"-26.87\" rx=\"51.74\" ry=\"26.74\"/>\n",
       "<text text-anchor=\"middle\" x=\"153.61\" y=\"-30.67\" font-family=\"Raleway\" font-size=\"14.00\">¬ quote</text>\n",
       "<text text-anchor=\"middle\" x=\"153.61\" y=\"-15.67\" font-family=\"Raleway\" font-size=\"14.00\">¬ tag</text>\n",
       "</g>\n",
       "<!-- Start&#45;&gt;¬ quote\n",
       "¬ tag -->\n",
       "<g id=\"edge1\" class=\"edge\">\n",
       "<title>Start&#45;&gt;¬ quote\n",
       "¬ tag</title>\n",
       "<path fill=\"none\" stroke=\"black\" d=\"M65.11,-26.87C73.41,-26.87 82.64,-26.87 91.92,-26.87\"/>\n",
       "<polygon fill=\"black\" stroke=\"black\" points=\"91.95,-30.37 101.95,-26.87 91.95,-23.37 91.95,-30.37\"/>\n",
       "</g>\n",
       "<!-- ¬ quote\n",
       "¬ tag&#45;&gt;¬ quote\n",
       "¬ tag -->\n",
       "<g id=\"edge2\" class=\"edge\">\n",
       "<title>¬ quote\n",
       "¬ tag&#45;&gt;¬ quote\n",
       "¬ tag</title>\n",
       "<path fill=\"none\" stroke=\"black\" d=\"M140.54,-53.14C139.96,-63.3 144.32,-71.74 153.61,-71.74 159.57,-71.74 163.5,-68.28 165.4,-63.11\"/>\n",
       "<polygon fill=\"black\" stroke=\"black\" points=\"168.88,-63.51 166.69,-53.14 161.94,-62.61 168.88,-63.51\"/>\n",
       "<text text-anchor=\"middle\" x=\"153.61\" y=\"-90.54\" font-family=\"Raleway\" font-size=\"14.00\">¬ &#39;&lt;&#39;</text>\n",
       "<text text-anchor=\"middle\" x=\"153.61\" y=\"-75.54\" font-family=\"Raleway\" font-size=\"14.00\">add character</text>\n",
       "</g>\n",
       "<!-- ¬ quote\n",
       "tag -->\n",
       "<g id=\"node3\" class=\"node\">\n",
       "<title>¬ quote\n",
       "tag</title>\n",
       "<ellipse fill=\"peachpuff\" stroke=\"black\" cx=\"312.85\" cy=\"-26.87\" rx=\"51.74\" ry=\"26.74\"/>\n",
       "<text text-anchor=\"middle\" x=\"312.85\" y=\"-30.67\" font-family=\"Raleway\" font-size=\"14.00\">¬ quote</text>\n",
       "<text text-anchor=\"middle\" x=\"312.85\" y=\"-15.67\" font-family=\"Raleway\" font-size=\"14.00\">tag</text>\n",
       "</g>\n",
       "<!-- ¬ quote\n",
       "¬ tag&#45;&gt;¬ quote\n",
       "tag -->\n",
       "<g id=\"edge3\" class=\"edge\">\n",
       "<title>¬ quote\n",
       "¬ tag&#45;&gt;¬ quote\n",
       "tag</title>\n",
       "<path fill=\"none\" stroke=\"black\" d=\"M205.66,-26.87C220.09,-26.87 235.93,-26.87 250.88,-26.87\"/>\n",
       "<polygon fill=\"black\" stroke=\"black\" points=\"251.06,-30.37 261.06,-26.87 251.06,-23.37 251.06,-30.37\"/>\n",
       "<text text-anchor=\"middle\" x=\"233.23\" y=\"-30.67\" font-family=\"Raleway\" font-size=\"14.00\">&#39;&lt;&#39;</text>\n",
       "</g>\n",
       "<!-- ¬ quote\n",
       "tag&#45;&gt;¬ quote\n",
       "¬ tag -->\n",
       "<g id=\"edge8\" class=\"edge\">\n",
       "<title>¬ quote\n",
       "tag&#45;&gt;¬ quote\n",
       "¬ tag</title>\n",
       "<path fill=\"none\" stroke=\"black\" d=\"M269.71,-11.72C255.08,-8.09 238.51,-5.79 223.23,-7.87 218.23,-8.55 213.08,-9.5 207.95,-10.61\"/>\n",
       "<polygon fill=\"black\" stroke=\"black\" points=\"207.1,-7.21 198.17,-12.92 208.71,-14.02 207.1,-7.21\"/>\n",
       "<text text-anchor=\"middle\" x=\"233.23\" y=\"-11.67\" font-family=\"Raleway\" font-size=\"14.00\">&#39;&gt;&#39;</text>\n",
       "</g>\n",
       "<!-- ¬ quote\n",
       "tag&#45;&gt;¬ quote\n",
       "tag -->\n",
       "<g id=\"edge5\" class=\"edge\">\n",
       "<title>¬ quote\n",
       "tag&#45;&gt;¬ quote\n",
       "tag</title>\n",
       "<path fill=\"none\" stroke=\"black\" d=\"M298.66,-53.14C298.03,-63.3 302.76,-71.74 312.85,-71.74 319.32,-71.74 323.58,-68.28 325.65,-63.11\"/>\n",
       "<polygon fill=\"black\" stroke=\"black\" points=\"329.12,-63.53 327.04,-53.14 322.19,-62.56 329.12,-63.53\"/>\n",
       "<text text-anchor=\"middle\" x=\"312.85\" y=\"-75.54\" font-family=\"Raleway\" font-size=\"14.00\">¬ &#39;&quot;&#39; ∧ ¬ &#39;&gt;&#39;</text>\n",
       "</g>\n",
       "<!-- quote\n",
       "tag -->\n",
       "<g id=\"node4\" class=\"node\">\n",
       "<title>quote\n",
       "tag</title>\n",
       "<ellipse fill=\"peachpuff\" stroke=\"black\" cx=\"455.07\" cy=\"-26.87\" rx=\"39.7\" ry=\"26.74\"/>\n",
       "<text text-anchor=\"middle\" x=\"455.07\" y=\"-30.67\" font-family=\"Raleway\" font-size=\"14.00\">quote</text>\n",
       "<text text-anchor=\"middle\" x=\"455.07\" y=\"-15.67\" font-family=\"Raleway\" font-size=\"14.00\">tag</text>\n",
       "</g>\n",
       "<!-- ¬ quote\n",
       "tag&#45;&gt;quote\n",
       "tag -->\n",
       "<g id=\"edge4\" class=\"edge\">\n",
       "<title>¬ quote\n",
       "tag&#45;&gt;quote\n",
       "tag</title>\n",
       "<path fill=\"none\" stroke=\"black\" d=\"M364.47,-26.87C377.72,-26.87 391.97,-26.87 405.13,-26.87\"/>\n",
       "<polygon fill=\"black\" stroke=\"black\" points=\"405.4,-30.37 415.4,-26.87 405.4,-23.37 405.4,-30.37\"/>\n",
       "<text text-anchor=\"middle\" x=\"389.97\" y=\"-30.67\" font-family=\"Raleway\" font-size=\"14.00\">&#39;&quot;&#39;</text>\n",
       "</g>\n",
       "<!-- quote\n",
       "tag&#45;&gt;¬ quote\n",
       "tag -->\n",
       "<g id=\"edge7\" class=\"edge\">\n",
       "<title>quote\n",
       "tag&#45;&gt;¬ quote\n",
       "tag</title>\n",
       "<path fill=\"none\" stroke=\"black\" d=\"M420.4,-13.59C412.96,-11.22 405.04,-9.11 397.47,-7.87 386.89,-6.14 375.65,-6.89 364.96,-8.85\"/>\n",
       "<polygon fill=\"black\" stroke=\"black\" points=\"363.92,-5.5 354.91,-11.07 365.43,-12.33 363.92,-5.5\"/>\n",
       "<text text-anchor=\"middle\" x=\"389.97\" y=\"-11.67\" font-family=\"Raleway\" font-size=\"14.00\">&#39;&quot;&#39;</text>\n",
       "</g>\n",
       "<!-- quote\n",
       "tag&#45;&gt;quote\n",
       "tag -->\n",
       "<g id=\"edge6\" class=\"edge\">\n",
       "<title>quote\n",
       "tag&#45;&gt;quote\n",
       "tag</title>\n",
       "<path fill=\"none\" stroke=\"black\" d=\"M443.14,-52.69C442.47,-63.05 446.44,-71.74 455.07,-71.74 460.59,-71.74 464.21,-68.17 465.92,-62.89\"/>\n",
       "<polygon fill=\"black\" stroke=\"black\" points=\"469.43,-63 466.99,-52.69 462.46,-62.27 469.43,-63\"/>\n",
       "<text text-anchor=\"middle\" x=\"455.07\" y=\"-75.54\" font-family=\"Raleway\" font-size=\"14.00\">¬ &#39;&quot;&#39;</text>\n",
       "</g>\n",
       "</g>\n",
       "</svg>\n"
      ],
      "text/plain": [
       "<graphviz.dot.Digraph at 0x7f75e8089f10>"
      ]
     },
     "metadata": {},
     "output_type": "display_data"
    }
   ],
   "source": [
    "display(state_machine)"
   ]
  },
  {
   "cell_type": "markdown",
   "metadata": {
    "slideshow": {
     "slide_type": "fragment"
    }
   },
   "source": [
    "Here's our function in its \"final\" state. As software goes, software is never final – and this may also hold for our function, as there is still room for improvement. For this chapter though, we leave it be."
   ]
  },
  {
   "cell_type": "code",
   "execution_count": 56,
   "metadata": {
    "slideshow": {
     "slide_type": "subslide"
    }
   },
   "outputs": [],
   "source": [
    "def remove_html_markup(s):\n",
    "    tag = False\n",
    "    quote = False\n",
    "    out = \"\"\n",
    "\n",
    "    for c in s:\n",
    "        assert tag or not quote\n",
    "\n",
    "        if c == '<' and not quote:\n",
    "            tag = True\n",
    "        elif c == '>' and not quote:\n",
    "            tag = False\n",
    "        elif (c == '\"' or c == \"'\") and tag:\n",
    "            quote = not quote\n",
    "        elif not tag:\n",
    "            out = out + c\n",
    "\n",
    "    return out"
   ]
  },
  {
   "cell_type": "code",
   "execution_count": 57,
   "metadata": {},
   "outputs": [
    {
     "data": {
      "text/plain": [
       "'\"\"foo\"\"'"
      ]
     },
     "execution_count": 57,
     "metadata": {},
     "output_type": "execute_result"
    }
   ],
   "source": [
    "remove_html_markup('\"<b>\"foo\"</b>\"')"
   ]
  },
  {
   "cell_type": "code",
   "execution_count": null,
   "metadata": {},
   "outputs": [],
   "source": []
  },
  {
   "cell_type": "code",
   "execution_count": null,
   "metadata": {},
   "outputs": [],
   "source": []
  },
  {
   "cell_type": "code",
   "execution_count": null,
   "metadata": {},
   "outputs": [],
   "source": []
  },
  {
   "cell_type": "code",
   "execution_count": null,
   "metadata": {},
   "outputs": [],
   "source": []
  },
  {
   "cell_type": "code",
   "execution_count": null,
   "metadata": {},
   "outputs": [],
   "source": []
  },
  {
   "cell_type": "markdown",
   "metadata": {
    "slideshow": {
     "slide_type": "slide"
    }
   },
   "source": [
    "## Become a Better Debugger\n",
    "\n",
    "We have now systematically fixed a bug. In this book, we will explore a number of techniques to make debugging easier – coming up with automated diagnoses, explanations, even automatic repairs, including for our example above. But there are also number of things _you_ can do to become a better debugger.\n",
    "\n",
    "\n",
    "### Follow the Process\n",
    "\n",
    "If you're an experienced programmer, you may have spotted the problem in `remove_html_markup()` immediately, and start fixing the code right away. But this is dangerous and risky.\n",
    "\n",
    "Why is this so?  Well, because you should first\n",
    "\n",
    "* try to understand the problem, and \n",
    "* have a full diagnosis before starting to fix away.\n",
    "\n",
    "You _can_ skip these steps, and jump right to your interactive debugger the very moment you see a failure, happily stepping through their program. This may even work well for simple problems, including this one. The risk, however, is that this narrows your view to just this one execution, which limits your ability to understand _all_ the circumstances of the problem. Even worse: If you start \"fixing\" the bug without exactly understanding the problem, you may end up with an incomplete solution – as illustrated in \"The Devil's Guide to Debugging\", above."
   ]
  },
  {
   "cell_type": "markdown",
   "metadata": {
    "slideshow": {
     "slide_type": "subslide"
    }
   },
   "source": [
    "### Keep a Log\n",
    "\n",
    "A second risk of starting debugging too soon is that it lets you easily deviate from a systematic process. Remember how we wrote down every experiment in a table? How we numbered every hypothesis? This is not just for teaching. Writing these things down explicitly allow you to keep track of all your observations and hypotheses over time.\n",
    "\n",
    "|Input|Expectation|Output|Outcome|\n",
    "|-----|-----------|------|-------|\n",
    "|`<b>foo</b>`|`foo`|`foo`|✔|\n",
    "\n",
    "Every time you come up with a new hypothesis, you can immediately check it against your earlier observations, which will help you eliminating unlikely ones from the start. This is a bit like in the classic \"Mastermind\" board game, in which you have to guess some secret combination of pins, and in which you opponent gives you hints on whether and how your guesses are correct. At any time, you can see your previous guesses (experiments) and the results (observations) you got; any new guess (hypothesis) as to be consistent with the previous observations and experiments."
   ]
  },
  {
   "cell_type": "markdown",
   "metadata": {
    "slideshow": {
     "slide_type": "subslide"
    }
   },
   "source": [
    "![Master Mind Board Grame](https://upload.wikimedia.org/wikipedia/commons/2/2d/Mastermind.jpg)"
   ]
  },
  {
   "cell_type": "markdown",
   "metadata": {
    "slideshow": {
     "slide_type": "subslide"
    }
   },
   "source": [
    "Keeping such a log also allows you to interrupt your debugging session at any time. You can be home in time, sleep over the problem, and resume the next morning with a refreshed mind. You can even hand over the log to someone else, stating your findings so far.\n",
    "\n",
    "The alternative to having a log is to _keep all in memory_. This only works for short amounts of time, as puts a higher and higher cognitive load on your memory as you debug along. After some time, you will forget earlier observations, which leads to mistakes. Worst of all, any interruption will break your concentration and make you forget things, so you can't stop debugging until you're done.\n",
    "\n",
    "Sure, if you are a real master, you can stay glued to the screen all night. But I'd rather be home in time, thank you."
   ]
  },
  {
   "cell_type": "markdown",
   "metadata": {
    "slideshow": {
     "slide_type": "subslide"
    }
   },
   "source": [
    "### Rubberducking\n",
    "\n",
    "A great technique to revisit your observations and to come up with new hypotheses is to _explain the problem to someone else_. In this process, the \"someone else\" is important, but even more important is that _you are explaining the problem to yourself_! As Kernighan and Pike \\cite{Kernighan1999} put it:\n",
    "\n",
    "> Sometimes it takes no more than a few sentences, followed by an embarrassed \"Never mind. I see what's wrong. Sorry to bother you.\"\n",
    "\n",
    "The reason why this works is that teaching someone else forces you to take different perspectives, and these help you resolving the inconsistency between what you assume and what you actually observe.\n",
    "\n",
    "Since that \"someone else\" can be totally passive, you can even replace her with an inanimate object to talk to – even a rubber duck. This technique is called *rubber duck debugging* or *rubberducking* – the idea is that you explain your problem to a rubber duck first before interrupting one of your co-workers with the problem. Some programmers, when asked for advice, explicitly request that you \"explain your problem to the duck first\", knowing that this resolves a good fraction of problems."
   ]
  },
  {
   "cell_type": "markdown",
   "metadata": {
    "slideshow": {
     "slide_type": "subslide"
    }
   },
   "source": [
    "![Rubber duck debugging](https://upload.wikimedia.org/wikipedia/commons/d/d5/Rubber_duck_assisting_with_debugging.jpg)"
   ]
  },
  {
   "cell_type": "markdown",
   "metadata": {
    "slideshow": {
     "slide_type": "slide"
    }
   },
   "source": [
    "## The Cost of Debugging\n",
    "\n",
    "\\todo{add recent stuff on how much time debugging takes}\n",
    "\n",
    "And it's not only that debugging takes time – the worst thing is that it is a search process, which can take anything between a few minutes and several hours, sometimes even days and weeks.  But even if you never know how much time a bug will take, it's a bit of blessing to use a process which gradually gets you towards its cause."
   ]
  },
  {
   "cell_type": "markdown",
   "metadata": {
    "slideshow": {
     "slide_type": "slide"
    }
   },
   "source": [
    "## History of Debugging\n",
    "\n",
    "Engineers and programmers have long used the term \"bug\" for faults in their systems – as if it were something that crept into an otherwise flawless program to cause the effects that none could explain. And from a psychological standpoint, it is far easier to blame some \"bug\" rather than taking responsibility ourselves. In the end, though, we have to face the fact: We made the bugs, and they are ours to fix.\n",
    "\n",
    "Having said that, there has been one recorded instance where a real bug has crept into a system. That was on September 9, 1947, when a moth got stuck in the relay of a Harvard Mark II machine.  This event was logged, and the log book is now on display at the Smithsonian Natural Museum of American History, as \"First actual case of bug being found.\""
   ]
  },
  {
   "cell_type": "markdown",
   "metadata": {
    "slideshow": {
     "slide_type": "subslide"
    }
   },
   "source": [
    "![First actual case of bug being found](https://upload.wikimedia.org/wikipedia/commons/f/ff/First_Computer_Bug%2C_1945.jpg)"
   ]
  },
  {
   "cell_type": "markdown",
   "metadata": {
    "slideshow": {
     "slide_type": "fragment"
    }
   },
   "source": [
    "The actual term \"bug\", however, is much older. What do you think is its origin?"
   ]
  },
  {
   "cell_type": "code",
   "execution_count": 58,
   "metadata": {
    "ipub": {
     "ignore": true
    },
    "slideshow": {
     "slide_type": "skip"
    }
   },
   "outputs": [],
   "source": [
    "import hashlib\n",
    "\n",
    "bughash = hashlib.md5(b\"debug\").hexdigest()"
   ]
  },
  {
   "cell_type": "code",
   "execution_count": 59,
   "metadata": {
    "slideshow": {
     "slide_type": "subslide"
    }
   },
   "outputs": [
    {
     "data": {
      "text/html": [
       "\n",
       "    \n",
       "    <script>\n",
       "    function answer(quiz_id) {\n",
       "        ans = 0;\n",
       "        for (i = 1;; i++) {\n",
       "            checkbox = document.getElementById(quiz_id + \"-\" + i.toString());\n",
       "            if (!checkbox)\n",
       "                break;\n",
       "            if (checkbox.checked)\n",
       "                ans |= (1 << i);\n",
       "        }\n",
       "        return ans;\n",
       "    }\n",
       "    function check_selection(quiz_id, correct_answer, multiple_choice) {\n",
       "        given_answer = answer(quiz_id);\n",
       "        if (given_answer == correct_answer)\n",
       "        {\n",
       "            document.getElementById(quiz_id + \"-submit\").value = \"Correct!\";\n",
       "            for (i = 1;; i++) {\n",
       "                checkbox = document.getElementById(quiz_id + \"-\" + i.toString());\n",
       "                label = document.getElementById(quiz_id + \"-\" + i.toString() + \"-label\")\n",
       "                if (!checkbox)\n",
       "                    break;\n",
       "    \n",
       "                if (checkbox.checked) {\n",
       "                    label.style.fontWeight = \"bold\";\n",
       "                }\n",
       "                else {\n",
       "                    label.style.textDecoration = \"line-through\";\n",
       "                }\n",
       "            }\n",
       "        }\n",
       "        else \n",
       "        {\n",
       "            document.getElementById(quiz_id + \"-submit\").value = \"Try again\";\n",
       "            if (!multiple_choice) {\n",
       "                for (i = 1;; i++) {\n",
       "                    checkbox = document.getElementById(quiz_id + \"-\" + i.toString());\n",
       "                    label = document.getElementById(quiz_id + \"-\" + i.toString() + \"-label\")\n",
       "\n",
       "                    if (!checkbox)\n",
       "                        break;\n",
       "                    if (checkbox.checked) {\n",
       "                        label.style.textDecoration = \"line-through\";\n",
       "                    }\n",
       "                }\n",
       "            }\n",
       "        }\n",
       "    }\n",
       "    function clear_selection(quiz_id) {\n",
       "        document.getElementById(quiz_id + \"-submit\").value = \"Submit\";\n",
       "    }\n",
       "    </script>\n",
       "    \n",
       "    <div class=\"quiz\">\n",
       "    <h3 class=\"quiz_title\">Quiz</h3>\n",
       "    <p>\n",
       "    <div class=\"quiz_question\">Where has the name \"bug\" been used to denote disruptive events?</div>\n",
       "    </p>\n",
       "    <p>\n",
       "    <div class=\"quiz_options\" title=\"Check all that apply.\">\n",
       "    \n",
       "        <input type=\"checkbox\" name=\"9b16bdcd-25bf-11eb-9445-53767c693b44\" id=\"9b16bdcd-25bf-11eb-9445-53767c693b44-1\" onclick=\"clear_selection('9b16bdcd-25bf-11eb-9445-53767c693b44')\">\n",
       "        <label id=\"9b16bdcd-25bf-11eb-9445-53767c693b44-1-label\" for=\"9b16bdcd-25bf-11eb-9445-53767c693b44-1\">In the early days of Morse telegraphy, referring to a special key that would send a string of dots</label><br>\n",
       "    \n",
       "        <input type=\"checkbox\" name=\"9b16bdcd-25bf-11eb-9445-53767c693b44\" id=\"9b16bdcd-25bf-11eb-9445-53767c693b44-2\" onclick=\"clear_selection('9b16bdcd-25bf-11eb-9445-53767c693b44')\">\n",
       "        <label id=\"9b16bdcd-25bf-11eb-9445-53767c693b44-2-label\" for=\"9b16bdcd-25bf-11eb-9445-53767c693b44-2\">Among radio technicians to describe a device that converts electromagnetic field variations into acoustic signals</label><br>\n",
       "    \n",
       "        <input type=\"checkbox\" name=\"9b16bdcd-25bf-11eb-9445-53767c693b44\" id=\"9b16bdcd-25bf-11eb-9445-53767c693b44-3\" onclick=\"clear_selection('9b16bdcd-25bf-11eb-9445-53767c693b44')\">\n",
       "        <label id=\"9b16bdcd-25bf-11eb-9445-53767c693b44-3-label\" for=\"9b16bdcd-25bf-11eb-9445-53767c693b44-3\">In Shakespeare's \"Henry VI\", referring to a walking spectre</label><br>\n",
       "    \n",
       "        <input type=\"checkbox\" name=\"9b16bdcd-25bf-11eb-9445-53767c693b44\" id=\"9b16bdcd-25bf-11eb-9445-53767c693b44-4\" onclick=\"clear_selection('9b16bdcd-25bf-11eb-9445-53767c693b44')\">\n",
       "        <label id=\"9b16bdcd-25bf-11eb-9445-53767c693b44-4-label\" for=\"9b16bdcd-25bf-11eb-9445-53767c693b44-4\">In Middle English, where the word \"bugge\" is the basis for terms like \"bugbear\" and \"bugaboo\"</label><br>\n",
       "    \n",
       "    </div>\n",
       "    </p>\n",
       "    <input id=\"9b16bdcd-25bf-11eb-9445-53767c693b44-submit\" type=\"submit\" value=\"Submit\" onclick=\"check_selection('9b16bdcd-25bf-11eb-9445-53767c693b44', 30, 1)\">\n",
       "    </div>\n",
       "    "
      ],
      "text/plain": [
       "<IPython.core.display.HTML object>"
      ]
     },
     "execution_count": 59,
     "metadata": {},
     "output_type": "execute_result"
    }
   ],
   "source": [
    "quiz('Where has the name \"bug\" been used to denote disruptive events?',\n",
    "     [\n",
    "        'In the early days of Morse telegraphy, referring to a special key '\n",
    "          'that would send a string of dots',\n",
    "        'Among radio technicians to describe a device that '\n",
    "          'converts electromagnetic field variations into acoustic signals',\n",
    "        \"In Shakespeare's \" '\"Henry VI\", referring to a walking spectre',\n",
    "        'In Middle English, where the word \"bugge\" is the basis for terms '\n",
    "          'like \"bugbear\" and \"bugaboo\"'\n",
    "     ],\n",
    "    [bughash.index(i) for i in \"d42f\"]\n",
    "    )"
   ]
  },
  {
   "cell_type": "markdown",
   "metadata": {
    "slideshow": {
     "slide_type": "fragment"
    }
   },
   "source": [
    "(Source: \\cite{jargon}, \\cite{wikipedia:debugging})"
   ]
  },
  {
   "cell_type": "markdown",
   "metadata": {
    "slideshow": {
     "slide_type": "slide"
    }
   },
   "source": [
    "## Synopsis"
   ]
  },
  {
   "cell_type": "markdown",
   "metadata": {
    "slideshow": {
     "slide_type": "fragment"
    }
   },
   "source": [
    "In this chapter, we introduce some basics of how failures come to be as well as a general process for debugging."
   ]
  },
  {
   "cell_type": "markdown",
   "metadata": {
    "button": false,
    "new_sheet": true,
    "run_control": {
     "read_only": false
    },
    "slideshow": {
     "slide_type": "slide"
    }
   },
   "source": [
    "## Lessons Learned\n",
    "\n",
    "1. An _error_ is a deviation from what is correct, right, or true. Specifically,\n",
    "    * A _mistake_ is a human act or decision resulting in an error.\n",
    "    * A _defect_ is an error in the program code. Also called *bug*.\n",
    "    * A _fault_ is an error in the program state. Also called *infection*.\n",
    "    * A _failure_ is an externally visible error in the program behavior. Also called *malfunction*.\n",
    "2. In a failing program execution, a mistake by the programmer results in a defect in the code, which creates a fault in the state, which propagates until it results in a failure. Tracing back fault propagation allows to identify the defect that causes the failure.\n",
    "3. In debugging, the _scientific method_ allows to systematically identify failure causes by gradually refining and refuting hypotheses based on experiments and observations.\n",
    "4. You can become a better debugger by\n",
    "    * Following a systematic process like the scientific method\n",
    "    * Keeping a log of your observations and hypotheses\n",
    "    * Making your observations and conclusions explicit by telling them somebody (or something)."
   ]
  },
  {
   "cell_type": "markdown",
   "metadata": {
    "button": false,
    "new_sheet": false,
    "run_control": {
     "read_only": false
    },
    "slideshow": {
     "slide_type": "slide"
    }
   },
   "source": [
    "## Next Steps\n",
    "\n",
    "In the next chapters, we will learn how to\n",
    "\n",
    "* [trace and observe executions](Tracer.ipynb)\n",
    "* [build your own interactive debugger](Debugger.ipynb)\n",
    "* [locate defects automatically by correlating failures and code coverage](StatisticalDebugger.ipynb)\n",
    "* [identify and simplify failure-inducing inputs](Reducer.ipynb)\n",
    "\n",
    "Enjoy!"
   ]
  },
  {
   "cell_type": "markdown",
   "metadata": {
    "slideshow": {
     "slide_type": "slide"
    }
   },
   "source": [
    "## Background\n",
    "\n",
    "There are several good books on debugging, but these three are especially recommended:\n",
    "\n",
    "* _Debugging_ by Agans \\cite{agans2006-debugging} takes a pragmatic approach to debugging, highlighting systematic approaches that help for all kinds of application-specific problems;\n",
    "* _Why Programs Fail_ by Zeller \\cite{zeller2009-why-programs-fail} takes a more academic approach, creating theories of how failures come to be and systematic debugging processes;\n",
    "* _Effective Debugging_ by Spinellis \\cite{spinellis2016-effective-debugging} aims for a middle ground between the two, creating general recipes and recommendations that easily instantiate towards specific problems.\n",
    "\n",
    "All these books focus on _manual_ debugging and the debugging process, just like this chapter; for _automated_ debugging, simply read on :-)"
   ]
  },
  {
   "cell_type": "markdown",
   "metadata": {
    "button": false,
    "new_sheet": true,
    "run_control": {
     "read_only": false
    },
    "slideshow": {
     "slide_type": "slide"
    }
   },
   "source": [
    "## Exercises"
   ]
  },
  {
   "cell_type": "markdown",
   "metadata": {
    "button": false,
    "new_sheet": true,
    "run_control": {
     "read_only": false
    },
    "slideshow": {
     "slide_type": "subslide"
    }
   },
   "source": [
    "### Exercise 1: Get Acquainted with Notebooks and Python\n",
    "\n",
    "Your first exercise in this book is to get acquainted with notebooks and Python, such that you can run the code examples in the book – and try out your own. Here are a few tasks to get you started."
   ]
  },
  {
   "cell_type": "markdown",
   "metadata": {
    "button": false,
    "new_sheet": true,
    "run_control": {
     "read_only": false
    },
    "slideshow": {
     "slide_type": "subslide"
    }
   },
   "source": [
    "#### Beginner Level: Run Notebooks in Your Browser\n",
    "\n",
    "The easiest way to get access to the code is to run them in your browser.\n",
    "\n",
    "1. From the [Web Page](__CHAPTER_HTML__), check out the menu at the top. Select `Resources` $\\rightarrow$ `Edit as Notebook`.\n",
    "2. After a short waiting time, this will open a Jupyter Notebook right within your browser, containing the current chapter as a notebook.\n",
    "3. You can again scroll through the material, but you click on any code example to edit and run its code (by entering <kbd>Shift</kbd> + <kbd>Return</kbd>). You can edit the examples as you please.\n",
    "4. Note that code examples typically depend on earlier code, so be sure to run the preceding code first.\n",
    "5. Any changes you make will not be saved (unless you save your notebook to disk).\n",
    "\n",
    "For help on Jupyter Notebooks, from the [Web Page](__CHAPTER_HTML__), check out the `Help` menu."
   ]
  },
  {
   "cell_type": "markdown",
   "metadata": {
    "button": false,
    "new_sheet": true,
    "run_control": {
     "read_only": false
    },
    "slideshow": {
     "slide_type": "subslide"
    }
   },
   "source": [
    "#### Advanced Level: Run Python Code on Your Machine\n",
    "\n",
    "This is useful if you want to make greater changes, but do not want to work with Jupyter.\n",
    "\n",
    "1. From the [Web Page](__CHAPTER_HTML__), check out the menu at the top. Select `Resources` $\\rightarrow$ `Download Code`. \n",
    "2. This will download the Python code of the chapter as a single Python .py file, which you can save to your computer.\n",
    "3. You can then open the file, edit it, and run it in your favorite Python environment to re-run the examples.\n",
    "4. Most importantly, you can [import it](Importing.ipynb) into your own code and reuse functions, classes, and other resources.\n",
    "\n",
    "For help on Python, from the [Web Page](__CHAPTER_HTML__), check out the `Help` menu."
   ]
  },
  {
   "cell_type": "markdown",
   "metadata": {
    "button": false,
    "new_sheet": true,
    "run_control": {
     "read_only": false
    },
    "slideshow": {
     "slide_type": "subslide"
    }
   },
   "source": [
    "#### Pro Level: Run Notebooks on Your Machine\n",
    "\n",
    "This is useful if you want to work with Jupyter on your machine. This will allow you to also run more complex examples, such as those with graphical output.\n",
    "\n",
    "\n",
    "1. From the [Web Page](__CHAPTER_HTML__), check out the menu at the top. Select `Resources` $\\rightarrow$ `All Notebooks`. \n",
    "2. This will download all Jupyter Notebooks as a collection of .ipynb files, which you can save to your computer.\n",
    "3. You can then open the notebooks in Jupyter Notebook or Jupyter Lab, edit them, and run them. To navigate across notebooks, open the notebook [`00_Table_of_Contents.ipynb`](00_Table_of_Contents.ipynb).\n",
    "4. You can also download individual notebooks using Select `Resources` $\\rightarrow$ `Download Notebook`. Running these, however, will require that you have the other notebooks downloaded already.\n",
    "\n",
    "For help on Jupyter Notebooks, from the [Web Page](__CHAPTER_HTML__), check out the `Help` menu."
   ]
  },
  {
   "cell_type": "markdown",
   "metadata": {
    "button": false,
    "new_sheet": true,
    "run_control": {
     "read_only": false
    },
    "slideshow": {
     "slide_type": "subslide"
    }
   },
   "source": [
    "#### Boss Level: Contribute!\n",
    "\n",
    "This is useful if you want to contribute to the book with patches or other  material. It also gives you access to the very latest version of the book.\n",
    "\n",
    "1. From the [Web Page](__CHAPTER_HTML__), check out the menu at the top. Select `Resources` $\\rightarrow$ `Project Page`. \n",
    "2. This will get you to the GitHub repository which contains all sources of the book, including the latest notebooks.\n",
    "3. You can then _clone_ this repository to your disk, such that you get the latest and greatest.\n",
    "4. You can report issues and suggest pull requests on the GitHub page.\n",
    "5. Updating the repository with `git pull` will get you updated.\n",
    "\n",
    "If you want to contribute code or text, check out the [Guide for Authors](Guide_for_Authors.ipynb)."
   ]
  },
  {
   "cell_type": "markdown",
   "metadata": {
    "button": false,
    "new_sheet": false,
    "run_control": {
     "read_only": false
    },
    "slideshow": {
     "slide_type": "subslide"
    },
    "solution2": "hidden",
    "solution2_first": true
   },
   "source": [
    "### Exercise 2: More Bugs!\n",
    "\n",
    "You may have noticed that our `remove_html_markup()` function is still not working perfectly under all circumstances.  The error has something to do with different quotes occurring in the input."
   ]
  },
  {
   "cell_type": "markdown",
   "metadata": {
    "button": false,
    "new_sheet": false,
    "run_control": {
     "read_only": false
    },
    "slideshow": {
     "slide_type": "subslide"
    }
   },
   "source": [
    "#### Part 1: Find the Problem\n",
    "\n",
    "What does the problem look like? Set up a test case that demonstrates the problem."
   ]
  },
  {
   "cell_type": "code",
   "execution_count": 60,
   "metadata": {
    "cell_style": "center",
    "slideshow": {
     "slide_type": "fragment"
    }
   },
   "outputs": [],
   "source": [
    "assert(...)"
   ]
  },
  {
   "cell_type": "markdown",
   "metadata": {
    "slideshow": {
     "slide_type": "fragment"
    },
    "solution2": "hidden",
    "solution2_first": true
   },
   "source": [
    "Set up additional test cases as useful."
   ]
  },
  {
   "cell_type": "markdown",
   "metadata": {
    "button": false,
    "new_sheet": false,
    "run_control": {
     "read_only": false
    },
    "slideshow": {
     "slide_type": "skip"
    },
    "solution2": "hidden"
   },
   "source": [
    "**Solution.** The remaining problem stems from the fact that in `remove_html_markup()`, we do not differentiate between single and double quotes. Hence, if we have a _quote within a quoted text_, the function may get confused. Notably, a string that begins with a double quote may be interpreted as ending when a single quote is seen, and vice versa. Here's an example of such a string:\n",
    "\n",
    "```html\n",
    "<b title=\"<Shakespeare's play>\">foo</b>\n",
    "```"
   ]
  },
  {
   "cell_type": "markdown",
   "metadata": {
    "slideshow": {
     "slide_type": "skip"
    },
    "solution2": "hidden"
   },
   "source": [
    "When we remove the HTML markup, the `>` in the string is interpreted as _unquoted_. Hence, it is interpreted as ending the tag, such that the rest of the tag is not removed."
   ]
  },
  {
   "cell_type": "code",
   "execution_count": 61,
   "metadata": {
    "slideshow": {
     "slide_type": "skip"
    },
    "solution2": "hidden"
   },
   "outputs": [
    {
     "data": {
      "text/plain": [
       "'<b title=\"<Shakespeare\\'s play>\">foo</b>'"
      ]
     },
     "execution_count": 61,
     "metadata": {},
     "output_type": "execute_result"
    }
   ],
   "source": [
    "s = '<b title=\"<Shakespeare' + \"'s play>\" + '\">foo</b>'\n",
    "s"
   ]
  },
  {
   "cell_type": "code",
   "execution_count": 62,
   "metadata": {
    "slideshow": {
     "slide_type": "skip"
    },
    "solution2": "hidden"
   },
   "outputs": [
    {
     "data": {
      "text/plain": [
       "'\"foo'"
      ]
     },
     "execution_count": 62,
     "metadata": {},
     "output_type": "execute_result"
    }
   ],
   "source": [
    "remove_html_markup(s)"
   ]
  },
  {
   "cell_type": "code",
   "execution_count": 63,
   "metadata": {
    "cell_style": "split",
    "slideshow": {
     "slide_type": "skip"
    },
    "solution2": "hidden"
   },
   "outputs": [
    {
     "name": "stderr",
     "output_type": "stream",
     "text": [
      "Traceback (most recent call last):\n",
      "  File \"<ipython-input-63-00bc84e50798>\", line 2, in <module>\n",
      "    assert(remove_html_markup(s) == \"foo\")\n",
      "AssertionError (expected)\n"
     ]
    }
   ],
   "source": [
    "with ExpectError():\n",
    "    assert(remove_html_markup(s) == \"foo\")"
   ]
  },
  {
   "cell_type": "markdown",
   "metadata": {
    "slideshow": {
     "slide_type": "subslide"
    },
    "solution2": "hidden",
    "solution2_first": true
   },
   "source": [
    "#### Part 2: Identify Extent and Cause\n",
    "\n",
    "Using the scientific method, identify the extent and cause of the problem. Write down your hypotheses and log your observations, as in\n",
    "\n",
    "|Input|Expectation|Output|Outcome|\n",
    "|-----|-----------|------|-------|\n",
    "|(input)|(expectation)|(output)|(outcome)|\n"
   ]
  },
  {
   "cell_type": "markdown",
   "metadata": {
    "slideshow": {
     "slide_type": "skip"
    },
    "solution2": "hidden"
   },
   "source": [
    "**Solution.** The first step is obviously\n",
    "\n",
    "|Input|Expectation|Output|Outcome|\n",
    "|-----|-----------|------|-------|\n",
    "|<b title=\"<Shakespeare's play>\">foo</b>|foo|\"foo|✘|\n"
   ]
  },
  {
   "cell_type": "markdown",
   "metadata": {
    "slideshow": {
     "slide_type": "subslide"
    },
    "solution2": "hidden",
    "solution2_first": true
   },
   "source": [
    "#### Part 3: Fix the Problem\n",
    "\n",
    "Design a fix for the problem. Show that it satisfies the earlier tests and does not violate any existing test."
   ]
  },
  {
   "cell_type": "markdown",
   "metadata": {
    "slideshow": {
     "slide_type": "skip"
    },
    "solution2": "hidden"
   },
   "source": [
    "**Solution**. Here's an improved implementation that actually tracks the opening and closing quote by storing the quoting character in the `quote` variable. (If `quote` is `''`, we are not in a string.)"
   ]
  },
  {
   "cell_type": "code",
   "execution_count": 64,
   "metadata": {
    "slideshow": {
     "slide_type": "skip"
    },
    "solution2": "hidden"
   },
   "outputs": [],
   "source": [
    "def remove_html_markup_with_proper_quotes(s):\n",
    "    tag = False\n",
    "    quote = ''\n",
    "    out = \"\"\n",
    "\n",
    "    for c in s:\n",
    "        assert tag or quote == ''\n",
    "\n",
    "        if c == '<' and quote == '':\n",
    "            tag = True\n",
    "        elif c == '>' and quote == '':\n",
    "            tag = False\n",
    "        elif (c == '\"' or c == \"'\") and tag and quote == '':\n",
    "            # beginning of string\n",
    "            quote = c\n",
    "        elif c == quote:\n",
    "            # end of string\n",
    "            quote = ''\n",
    "        elif not tag:\n",
    "            out = out + c\n",
    "\n",
    "    return out"
   ]
  },
  {
   "cell_type": "markdown",
   "metadata": {
    "slideshow": {
     "slide_type": "skip"
    },
    "solution2": "hidden"
   },
   "source": [
    "Python enthusiasts may note that we could also write `not quote` instead of `quote == ''`, leaving most of the original code untouched. We stick to classic Boolean comparisons here."
   ]
  },
  {
   "cell_type": "markdown",
   "metadata": {
    "slideshow": {
     "slide_type": "skip"
    },
    "solution2": "hidden"
   },
   "source": [
    "The function now satisfies the earlier failing test:"
   ]
  },
  {
   "cell_type": "code",
   "execution_count": 65,
   "metadata": {
    "cell_style": "split",
    "slideshow": {
     "slide_type": "skip"
    },
    "solution2": "hidden"
   },
   "outputs": [],
   "source": [
    "assert(remove_html_markup_with_proper_quotes(s) == \"foo\")"
   ]
  },
  {
   "cell_type": "markdown",
   "metadata": {
    "slideshow": {
     "slide_type": "skip"
    },
    "solution2": "hidden"
   },
   "source": [
    "as well as all our earlier tests:"
   ]
  },
  {
   "cell_type": "code",
   "execution_count": 66,
   "metadata": {
    "slideshow": {
     "slide_type": "skip"
    },
    "solution2": "hidden"
   },
   "outputs": [],
   "source": [
    "assert remove_html_markup_with_proper_quotes(\n",
    "    \"Here's some <strong>strong argument</strong>.\") == \\\n",
    "    \"Here's some strong argument.\"\n",
    "assert remove_html_markup_with_proper_quotes(\n",
    "    '<input type=\"text\" value=\"<your name>\">') == \"\"\n",
    "assert remove_html_markup_with_proper_quotes('<b>foo</b>') == 'foo'\n",
    "assert remove_html_markup_with_proper_quotes('<b>\"foo\"</b>') == '\"foo\"'\n",
    "assert remove_html_markup_with_proper_quotes('\"<b>foo</b>\"') == '\"foo\"'\n",
    "assert remove_html_markup_with_proper_quotes('<\"b\">foo</\"b\">') == 'foo'"
   ]
  }
 ],
 "metadata": {
  "ipub": {
   "bibliography": "fuzzingbook.bib",
   "toc": true
  },
  "kernelspec": {
   "display_name": "Python 3",
   "language": "python",
   "name": "python3"
  },
  "language_info": {
   "codemirror_mode": {
    "name": "ipython",
    "version": 3
   },
   "file_extension": ".py",
   "mimetype": "text/x-python",
   "name": "python",
   "nbconvert_exporter": "python",
   "pygments_lexer": "ipython3",
   "version": "3.8.6"
  },
  "toc": {
   "base_numbering": 1,
   "nav_menu": {},
   "number_sections": true,
   "sideBar": true,
   "skip_h1_title": true,
   "title_cell": "",
   "title_sidebar": "Contents",
   "toc_cell": false,
   "toc_position": {},
   "toc_section_display": true,
   "toc_window_display": true
  },
  "toc-autonumbering": false
 },
 "nbformat": 4,
 "nbformat_minor": 4
}