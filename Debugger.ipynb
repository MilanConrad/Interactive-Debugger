{
 "cells": [
  {
   "cell_type": "markdown",
   "metadata": {
    "button": false,
    "new_sheet": false,
    "run_control": {
     "read_only": false
    },
    "slideshow": {
     "slide_type": "slide"
    }
   },
   "source": [
    "# How Debuggers Work\n",
    "\n",
    "Interactive _debuggers_ are tools that allow you to selectively observe the program state during an execution.  In this chapter, you will learn how such debuggers work – by building your own debugger."
   ]
  },
  {
   "cell_type": "markdown",
   "metadata": {
    "button": false,
    "new_sheet": false,
    "run_control": {
     "read_only": false
    },
    "slideshow": {
     "slide_type": "subslide"
    }
   },
   "source": [
    "**Prerequisites**\n",
    "\n",
    "* You should have read the [Chapter on Tracing Executions](Tracer.ipynb).\n",
    "* Again, knowing a bit of _Python_ is helpful for understanding the code examples in the book."
   ]
  },
  {
   "cell_type": "code",
   "execution_count": 71,
   "metadata": {
    "button": false,
    "new_sheet": false,
    "run_control": {
     "read_only": false
    },
    "slideshow": {
     "slide_type": "skip"
    }
   },
   "outputs": [],
   "source": [
    "import bookutils"
   ]
  },
  {
   "cell_type": "code",
   "execution_count": 72,
   "metadata": {
    "slideshow": {
     "slide_type": "skip"
    }
   },
   "outputs": [],
   "source": [
    "import bookutils\n",
    "import sys"
   ]
  },
  {
   "cell_type": "markdown",
   "metadata": {
    "slideshow": {
     "slide_type": "skip"
    }
   },
   "source": [
    "## Synopsis\n",
    "<!-- Automatically generated. Do not edit. -->\n",
    "\n",
    "To [use the code provided in this chapter](Importing.ipynb), write\n",
    "\n",
    "```python\n",
    ">>> from debuggingbook.Debugger import <identifier>\n",
    "```\n",
    "\n",
    "and then make use of the following features.\n",
    "\n",
    "\n",
    "This chapter provides an interactive debugger for Python functions. The debugger is invoked as\n",
    "\n",
    "```python\n",
    "with Debugger():\n",
    "    function_to_be_observed()\n",
    "    ...\n",
    "```\n",
    "While running, you can enter _debugger commands_ at the `(debugger)` prompt. Here's an example session:\n",
    "\n",
    "```python\n",
    ">>> with Debugger():\n",
    ">>>     ret = remove_html_markup('abc')\n",
    ">>> ret\n",
    "Calling remove_html_markup(s = 'abc')\n",
    "```\n",
    "<samp>(debugger) <b>break 168</b></samp>\n",
    "```\n",
    "Breakpoints: {168}\n",
    "```\n",
    "<samp>(debugger) <b>continue</b></samp>\n",
    "```\n",
    "'abc'\n",
    "```\n",
    "The `Debugger` class can be easily extended in subclasses. A new method `NAME_command(self, arg)` will be invoked whenever a command named `NAME` is entered, with `arg` holding given command arguments (empty string if none).\n",
    "\n"
   ]
  },
  {
   "cell_type": "markdown",
   "metadata": {
    "button": false,
    "new_sheet": true,
    "run_control": {
     "read_only": false
    },
    "slideshow": {
     "slide_type": "slide"
    }
   },
   "source": [
    "## Debuggers\n",
    "\n",
    "_Interactive Debuggers_ (or short *debuggers*) are tools that allow you to observe program executions. A debugger typically offers the following features:\n",
    "\n",
    "* _Run_ the program\n",
    "* Define _conditions_ under which the execution should _stop_ and hand over control to the debugger. Conditions include\n",
    "    * a particular location is reached\n",
    "    * a particular variable takes a particular value\n",
    "    * or some other condition of choice.\n",
    "* When the program stops, you can _observe_ the current state, including\n",
    "    * the current location\n",
    "    * variables and their values\n",
    "    * the current function and its callers\n",
    "* When the program stops, you can _step_ through program execution, having it stop at the next instruction again.\n",
    "* Finally, you can also _resume_ execution to the next stop."
   ]
  },
  {
   "cell_type": "markdown",
   "metadata": {
    "button": false,
    "new_sheet": true,
    "run_control": {
     "read_only": false
    },
    "slideshow": {
     "slide_type": "subslide"
    }
   },
   "source": [
    "This functionality often comes as a _command-line interface_, typing commands at a prompt; or as a _graphical user interface_, selecting commands from the screen. Debuggers can come as standalone tools, or be integrated into a programming environment of choice."
   ]
  },
  {
   "cell_type": "markdown",
   "metadata": {
    "button": false,
    "new_sheet": true,
    "run_control": {
     "read_only": false
    },
    "slideshow": {
     "slide_type": "subslide"
    }
   },
   "source": [
    "Debugger interaction typically follows a _loop_ pattern._ First, you identify the location(s) you want to inspect, and tell the debugger to stop execution once one of these _breakpoints_ is reached. Here's a command that could instruct a command-line debugger to stop at Line 239:\n",
    "\n",
    "```\n",
    "(debugger) break 239\n",
    "(debugger) _\n",
    "```\n",
    "\n",
    "Then you have the debugger resume or start execution. The debugger will stop at the given location.\n",
    "\n",
    "```\n",
    "(debugger) continue\n",
    "Line 239: s = x\n",
    "(debugger) _\n",
    "```\n",
    "\n",
    "When it stops at the given location, you use debugger commands to inspect the state (and check whether things are as expected).\n",
    "\n",
    "```\n",
    "(debugger) print s\n",
    "s = 'abc'\n",
    "(debugger) _\n",
    "```\n",
    "\n",
    "You can then step through the program, executing more lines.\n",
    "\n",
    "```\n",
    "(debugger) step\n",
    "Line 240: c = s[0]\n",
    "(debugger) print c\n",
    "c = 'a'\n",
    "(debugger) _\n",
    "```\n",
    "\n",
    "You can also define new stop conditions, investigating other locations, variables, and conditions."
   ]
  },
  {
   "cell_type": "markdown",
   "metadata": {
    "slideshow": {
     "slide_type": "slide"
    }
   },
   "source": [
    "## Debugger Interaction\n",
    "\n",
    "Let us now show how to build such a debugger.  The key idea of an _interactive_ debugger is to set up the _tracing function_ such that it actually _asks_ what to do next, prompting you to enter a _command_. For the sake of simplicity, we collect such a command interactively from a command line, using the Python `input()` function."
   ]
  },
  {
   "cell_type": "markdown",
   "metadata": {
    "slideshow": {
     "slide_type": "subslide"
    }
   },
   "source": [
    "Our debugger holds a number of variables to indicate its current status:\n",
    "* `stepping` is True whenever the user wants to step into the next line.\n",
    "* `breakpoints` is a set of breakpoints (line numbers)\n",
    "* `interact` is True while the user stays at one position.\n",
    "\n",
    "We also store the current tracing information in three attributes `frame`, `event`, and `arg`."
   ]
  },
  {
   "cell_type": "code",
   "execution_count": 73,
   "metadata": {
    "slideshow": {
     "slide_type": "skip"
    }
   },
   "outputs": [],
   "source": [
    "from Tracer import Tracer"
   ]
  },
  {
   "cell_type": "code",
   "execution_count": 74,
   "metadata": {
    "slideshow": {
     "slide_type": "subslide"
    }
   },
   "outputs": [],
   "source": [
    "class Debugger(Tracer):\n",
    "    \"\"\"Interactive Debugger\"\"\"\n",
    "\n",
    "    def __init__(self, file=sys.stdout):\n",
    "        \"\"\"Create a new interactive debugger.\"\"\"\n",
    "        self.stepping = True\n",
    "        self.breakpoints = set()\n",
    "        self.interact = True\n",
    "\n",
    "        self.frame = None\n",
    "        self.event = None\n",
    "        self.arg = None\n",
    "\n",
    "        super().__init__(file)"
   ]
  },
  {
   "cell_type": "markdown",
   "metadata": {
    "slideshow": {
     "slide_type": "subslide"
    }
   },
   "source": [
    "This is the main entry point for our debugger. If we should stop, we go into user interaction."
   ]
  },
  {
   "cell_type": "code",
   "execution_count": 75,
   "metadata": {
    "slideshow": {
     "slide_type": "fragment"
    }
   },
   "outputs": [],
   "source": [
    "class Debugger(Debugger):\n",
    "    def traceit(self, frame, event, arg):\n",
    "        \"\"\"Tracing function; called at every line\"\"\"\n",
    "        self.frame = frame\n",
    "        self.event = event\n",
    "        self.arg = arg\n",
    "\n",
    "        if self.stop_here():\n",
    "            self.interaction_loop()\n",
    "\n",
    "        return self.traceit"
   ]
  },
  {
   "cell_type": "markdown",
   "metadata": {
    "slideshow": {
     "slide_type": "fragment"
    }
   },
   "source": [
    "We stop whenever we are stepping through the program or reach a breakpoint:"
   ]
  },
  {
   "cell_type": "code",
   "execution_count": 76,
   "metadata": {
    "slideshow": {
     "slide_type": "subslide"
    }
   },
   "outputs": [],
   "source": [
    "class Debugger(Debugger):\n",
    "    def stop_here(self):\n",
    "        \"\"\"Return true if we should stop\"\"\"\n",
    "        return self.stepping or self.frame.f_lineno in self.breakpoints"
   ]
  },
  {
   "cell_type": "markdown",
   "metadata": {
    "slideshow": {
     "slide_type": "fragment"
    }
   },
   "source": [
    "Our interaction loop shows the current status, reads in commands, and executes them."
   ]
  },
  {
   "cell_type": "code",
   "execution_count": 77,
   "metadata": {
    "slideshow": {
     "slide_type": "fragment"
    }
   },
   "outputs": [],
   "source": [
    "class Debugger(Debugger):\n",
    "    def interaction_loop(self):\n",
    "        \"\"\"Interact with the user\"\"\"\n",
    "        self.print_debugger_status(self.frame, self.event, self.arg)\n",
    "\n",
    "        self.interact = True\n",
    "        while self.interact:\n",
    "            command = input(\"(debugger) \")\n",
    "            self.execute(command)"
   ]
  },
  {
   "cell_type": "markdown",
   "metadata": {
    "slideshow": {
     "slide_type": "subslide"
    }
   },
   "source": [
    "For a moment, let us implement two commands, `step` and `continue`. `step` steps through the program:"
   ]
  },
  {
   "cell_type": "code",
   "execution_count": 78,
   "metadata": {
    "slideshow": {
     "slide_type": "fragment"
    }
   },
   "outputs": [],
   "source": [
    "class Debugger(Debugger):\n",
    "    def step_command(self, arg=\"\"):\n",
    "        \"\"\"Execute up to the next line\"\"\"\n",
    "        self.stepping = True\n",
    "        self.interact = False"
   ]
  },
  {
   "cell_type": "code",
   "execution_count": 79,
   "metadata": {
    "slideshow": {
     "slide_type": "fragment"
    }
   },
   "outputs": [],
   "source": [
    "class Debugger(Debugger):\n",
    "    def continue_command(self, arg=\"\"):\n",
    "        \"\"\"Resume execution\"\"\"\n",
    "        self.stepping = False\n",
    "        self.interact = False"
   ]
  },
  {
   "cell_type": "markdown",
   "metadata": {
    "slideshow": {
     "slide_type": "fragment"
    }
   },
   "source": [
    "The `execute()` method dispatches between these two."
   ]
  },
  {
   "cell_type": "code",
   "execution_count": 80,
   "metadata": {
    "slideshow": {
     "slide_type": "subslide"
    }
   },
   "outputs": [],
   "source": [
    "class Debugger(Debugger):\n",
    "    def execute(self, command):\n",
    "        if command.startswith('s'):\n",
    "            self.step_command()\n",
    "        elif command.startswith('c'):\n",
    "            self.continue_command()"
   ]
  },
  {
   "cell_type": "markdown",
   "metadata": {
    "slideshow": {
     "slide_type": "subslide"
    }
   },
   "source": [
    "Our debugger is now ready to run! We invoke it just like `Tracer`, using a `with` clause. The code\n",
    "\n",
    "```python\n",
    "with Debugger():\n",
    "    remove_html_markup('abc')\n",
    "```\n",
    "gives us a debugger prompt\n",
    "```\n",
    "(debugger) _\n",
    "```\n",
    "where we can enter one of our two commands. Let us do two steps through the program and then resume execution:"
   ]
  },
  {
   "cell_type": "code",
   "execution_count": 81,
   "metadata": {
    "slideshow": {
     "slide_type": "skip"
    }
   },
   "outputs": [],
   "source": [
    "from Intro_Debugging import remove_html_markup"
   ]
  },
  {
   "cell_type": "code",
   "execution_count": 82,
   "metadata": {
    "slideshow": {
     "slide_type": "skip"
    }
   },
   "outputs": [],
   "source": [
    "from bookutils import input, next_inputs"
   ]
  },
  {
   "cell_type": "code",
   "execution_count": 83,
   "metadata": {
    "slideshow": {
     "slide_type": "subslide"
    }
   },
   "outputs": [],
   "source": [
    "# ignore\n",
    "next_inputs([\"step\", \"step\", \"continue\"])"
   ]
  },
  {
   "cell_type": "code",
   "execution_count": 84,
   "metadata": {
    "slideshow": {
     "slide_type": "fragment"
    }
   },
   "outputs": [
    {
     "name": "stdout",
     "output_type": "stream",
     "text": [
      "Calling remove_html_markup(s = 'abc')\n",
      "172     tag = False\n",
      "                                         # tag = False\n",
      "173     quote = False\n"
     ]
    },
    {
     "data": {
      "text/plain": "<IPython.core.display.HTML object>",
      "text/html": "<samp>(debugger) <b>step</b></samp>"
     },
     "metadata": {},
     "output_type": "display_data"
    },
    {
     "data": {
      "text/plain": "<IPython.core.display.HTML object>",
      "text/html": "<samp>(debugger) <b>step</b></samp>"
     },
     "metadata": {},
     "output_type": "display_data"
    },
    {
     "data": {
      "text/plain": "<IPython.core.display.HTML object>",
      "text/html": "<samp>(debugger) <b>continue</b></samp>"
     },
     "metadata": {},
     "output_type": "display_data"
    }
   ],
   "source": [
    "with Debugger():\n",
    "    remove_html_markup('abc')"
   ]
  },
  {
   "cell_type": "markdown",
   "metadata": {
    "slideshow": {
     "slide_type": "subslide"
    }
   },
   "source": [
    "Try this out for yourself by running the above invocation in the interactive notebook! If you are reading the Web version, the top menu entry `Resources` -> `Edit as Notebook` will do the trick. Navigate to the above invocation and press `Shift`+`Enter`."
   ]
  },
  {
   "cell_type": "markdown",
   "metadata": {
    "slideshow": {
     "slide_type": "subslide"
    }
   },
   "source": [
    "### A Command Dispatcher"
   ]
  },
  {
   "cell_type": "markdown",
   "metadata": {
    "slideshow": {
     "slide_type": "fragment"
    }
   },
   "source": [
    "Our `execute()` function is still a bit rudimentary. A true command-line tool should provide means to tell which commands are available (`help`), automatically split arguments, and not stand in line of extensibility."
   ]
  },
  {
   "cell_type": "markdown",
   "metadata": {
    "slideshow": {
     "slide_type": "fragment"
    }
   },
   "source": [
    "We therefore implement a better `execute()` method which does all that. Our revised `execute()` method _inspects_ its class for methods that end in `_command()`, and automatically registers their names as commands. Hence, with the above, we already get `step` and `continue` as possible commands."
   ]
  },
  {
   "cell_type": "markdown",
   "metadata": {
    "slideshow": {
     "slide_type": "subslide"
    }
   },
   "source": [
    "### Excursion: Implementing execute()"
   ]
  },
  {
   "cell_type": "markdown",
   "metadata": {
    "slideshow": {
     "slide_type": "fragment"
    }
   },
   "source": [
    "Let us detail how we implement `execute()`. The `commands()` method returns a list of all commands (as strings) from the class."
   ]
  },
  {
   "cell_type": "code",
   "execution_count": 85,
   "metadata": {
    "slideshow": {
     "slide_type": "fragment"
    }
   },
   "outputs": [],
   "source": [
    "class Debugger(Debugger):\n",
    "    def commands(self):\n",
    "        cmds = [method.replace('_command', '')\n",
    "                for method in dir(self.__class__)\n",
    "                if method.endswith('_command')]\n",
    "        cmds.sort()\n",
    "        return cmds"
   ]
  },
  {
   "cell_type": "code",
   "execution_count": 86,
   "metadata": {
    "slideshow": {
     "slide_type": "fragment"
    }
   },
   "outputs": [
    {
     "data": {
      "text/plain": "['continue', 'step']"
     },
     "execution_count": 86,
     "metadata": {},
     "output_type": "execute_result"
    }
   ],
   "source": [
    "d = Debugger()\n",
    "d.commands()"
   ]
  },
  {
   "cell_type": "markdown",
   "metadata": {
    "slideshow": {
     "slide_type": "fragment"
    }
   },
   "source": [
    "The `command_method()` method converts a given command (or its abbrevation) into a method to be called."
   ]
  },
  {
   "cell_type": "code",
   "execution_count": 87,
   "metadata": {
    "slideshow": {
     "slide_type": "subslide"
    }
   },
   "outputs": [],
   "source": [
    "class Debugger(Debugger):\n",
    "    def command_method(self, command):\n",
    "        if command.startswith('#'):\n",
    "            return None  # Comment\n",
    "\n",
    "        possible_cmds = [possible_cmd for possible_cmd in self.commands()\n",
    "                         if possible_cmd.startswith(command)]\n",
    "        if len(possible_cmds) != 1:\n",
    "            self.help_command(command)\n",
    "            return None\n",
    "\n",
    "        cmd = possible_cmds[0]\n",
    "        return getattr(self, cmd + '_command')"
   ]
  },
  {
   "cell_type": "code",
   "execution_count": 88,
   "metadata": {
    "slideshow": {
     "slide_type": "subslide"
    }
   },
   "outputs": [
    {
     "data": {
      "text/plain": "<bound method Debugger.step_command of <__main__.Debugger object at 0x7f321815f610>>"
     },
     "execution_count": 88,
     "metadata": {},
     "output_type": "execute_result"
    }
   ],
   "source": [
    "d = Debugger()\n",
    "d.command_method(\"step\")"
   ]
  },
  {
   "cell_type": "code",
   "execution_count": 89,
   "metadata": {
    "slideshow": {
     "slide_type": "fragment"
    }
   },
   "outputs": [
    {
     "data": {
      "text/plain": "<bound method Debugger.step_command of <__main__.Debugger object at 0x7f32180f1d30>>"
     },
     "execution_count": 89,
     "metadata": {},
     "output_type": "execute_result"
    }
   ],
   "source": [
    "d = Debugger()\n",
    "d.command_method(\"s\")"
   ]
  },
  {
   "cell_type": "markdown",
   "metadata": {
    "slideshow": {
     "slide_type": "fragment"
    }
   },
   "source": [
    "The revised `execute()` method now determines this method and executes it with the given argument."
   ]
  },
  {
   "cell_type": "code",
   "execution_count": 90,
   "metadata": {
    "slideshow": {
     "slide_type": "subslide"
    }
   },
   "outputs": [],
   "source": [
    "class Debugger(Debugger):\n",
    "    def execute(self, command):\n",
    "        sep = command.find(' ')\n",
    "        if sep > 0:\n",
    "            cmd = command[:sep].strip()\n",
    "            arg = command[sep + 1:].strip()\n",
    "        else:\n",
    "            cmd = command.strip()\n",
    "            arg = \"\"\n",
    "\n",
    "        method = self.command_method(cmd)\n",
    "        if method:\n",
    "            method(arg)"
   ]
  },
  {
   "cell_type": "markdown",
   "metadata": {
    "slideshow": {
     "slide_type": "subslide"
    }
   },
   "source": [
    "If `command_method()` cannot find the command, or finds more than one matching the prefix, it invokes the `help` command providing additional assistance. `help` draws extra info on each command from its documentation string."
   ]
  },
  {
   "cell_type": "code",
   "execution_count": 91,
   "metadata": {
    "slideshow": {
     "slide_type": "subslide"
    }
   },
   "outputs": [],
   "source": [
    "class Debugger(Debugger):\n",
    "    def help_command(self, command=\"\"):\n",
    "        \"\"\"Give help on given command. If no command is given, give help on all\"\"\"\n",
    "\n",
    "        if command:\n",
    "            possible_cmds = [possible_cmd for possible_cmd in self.commands()\n",
    "                             if possible_cmd.startswith(command)]\n",
    "\n",
    "            if len(possible_cmds) == 0:\n",
    "                self.log(f\"Unknown command {repr(command)}. Possible commands are:\")\n",
    "                possible_cmds = self.commands()\n",
    "            elif len(possible_cmds) > 1:\n",
    "                self.log(f\"Ambiguous command {repr(command)}. Possible expansions are:\")\n",
    "        else:\n",
    "            possible_cmds = self.commands()\n",
    "\n",
    "        for cmd in possible_cmds:\n",
    "            method = self.command_method(cmd)\n",
    "            self.log(f\"{cmd:10} -- {method.__doc__}\")"
   ]
  },
  {
   "cell_type": "code",
   "execution_count": 92,
   "metadata": {
    "slideshow": {
     "slide_type": "subslide"
    }
   },
   "outputs": [
    {
     "name": "stdout",
     "output_type": "stream",
     "text": [
      "continue   -- Resume execution\n",
      "help       -- Give help on given command. If no command is given, give help on all\n",
      "step       -- Execute up to the next line\n"
     ]
    }
   ],
   "source": [
    "d = Debugger()\n",
    "d.execute(\"help\")"
   ]
  },
  {
   "cell_type": "code",
   "execution_count": 93,
   "metadata": {
    "slideshow": {
     "slide_type": "fragment"
    }
   },
   "outputs": [
    {
     "name": "stdout",
     "output_type": "stream",
     "text": [
      "Unknown command 'foo'. Possible commands are:\n",
      "continue   -- Resume execution\n",
      "help       -- Give help on given command. If no command is given, give help on all\n",
      "step       -- Execute up to the next line\n"
     ]
    }
   ],
   "source": [
    "d = Debugger()\n",
    "d.execute(\"foo\")"
   ]
  },
  {
   "cell_type": "markdown",
   "metadata": {
    "slideshow": {
     "slide_type": "subslide"
    }
   },
   "source": [
    "### End of Excursion"
   ]
  },
  {
   "cell_type": "markdown",
   "metadata": {
    "slideshow": {
     "slide_type": "slide"
    }
   },
   "source": [
    "## Printing Values\n",
    "\n",
    "With `execute()`, we can now easily extend our class – all it takes is for a new command `NAME` is a new `NAME_command()` method. Let us start by providing a `print` command to print all variables. We use similar code as for the `Tracer` class in the [chapter on tracing](Tracer.ipynb)."
   ]
  },
  {
   "cell_type": "code",
   "execution_count": 94,
   "metadata": {
    "slideshow": {
     "slide_type": "fragment"
    }
   },
   "outputs": [],
   "source": [
    "class Debugger(Debugger):\n",
    "    def print_command(self, arg=\"\"):\n",
    "        \"\"\"Print an expression. If no expression is given, print all variables\"\"\"\n",
    "        vars = self.frame.f_locals\n",
    "        self.log(\"\\n\".join([f\"{var} = {repr(vars[var])}\" for var in vars]))"
   ]
  },
  {
   "cell_type": "code",
   "execution_count": 95,
   "metadata": {
    "slideshow": {
     "slide_type": "fragment"
    }
   },
   "outputs": [],
   "source": [
    "# ignore\n",
    "next_inputs([\"step\", \"step\", \"step\", \"print\", \"continue\"])"
   ]
  },
  {
   "cell_type": "code",
   "execution_count": 96,
   "metadata": {
    "slideshow": {
     "slide_type": "subslide"
    }
   },
   "outputs": [
    {
     "name": "stdout",
     "output_type": "stream",
     "text": [
      "Calling remove_html_markup(s = 'abc')\n",
      "172     tag = False\n",
      "                                         # tag = False\n",
      "173     quote = False\n",
      "                                         # quote = False\n",
      "174     out = \"\"\n",
      "s = 'abc'\n",
      "tag = False\n",
      "quote = False\n"
     ]
    },
    {
     "data": {
      "text/plain": "<IPython.core.display.HTML object>",
      "text/html": "<samp>(debugger) <b>step</b></samp>"
     },
     "metadata": {},
     "output_type": "display_data"
    },
    {
     "data": {
      "text/plain": "<IPython.core.display.HTML object>",
      "text/html": "<samp>(debugger) <b>step</b></samp>"
     },
     "metadata": {},
     "output_type": "display_data"
    },
    {
     "data": {
      "text/plain": "<IPython.core.display.HTML object>",
      "text/html": "<samp>(debugger) <b>step</b></samp>"
     },
     "metadata": {},
     "output_type": "display_data"
    },
    {
     "data": {
      "text/plain": "<IPython.core.display.HTML object>",
      "text/html": "<samp>(debugger) <b>print</b></samp>"
     },
     "metadata": {},
     "output_type": "display_data"
    },
    {
     "data": {
      "text/plain": "<IPython.core.display.HTML object>",
      "text/html": "<samp>(debugger) <b>continue</b></samp>"
     },
     "metadata": {},
     "output_type": "display_data"
    }
   ],
   "source": [
    "with Debugger():\n",
    "    remove_html_markup('abc')"
   ]
  },
  {
   "cell_type": "markdown",
   "metadata": {
    "slideshow": {
     "slide_type": "subslide"
    }
   },
   "source": [
    "Let us extend `print` such that if an argument is given, it only evaluates and prints out this argument."
   ]
  },
  {
   "cell_type": "code",
   "execution_count": 97,
   "metadata": {
    "slideshow": {
     "slide_type": "fragment"
    }
   },
   "outputs": [],
   "source": [
    "class Debugger(Debugger):\n",
    "    def print_command(self, arg=\"\"):\n",
    "        \"\"\"Print an expression. If no expression is given, print all variables\"\"\"\n",
    "        vars = self.frame.f_locals\n",
    "\n",
    "        if not arg:\n",
    "            self.log(\"\\n\".join([f\"{var} = {repr(vars[var])}\" for var in vars]))\n",
    "        else:\n",
    "            try:\n",
    "                self.log(f\"{arg} = {repr(eval(arg, globals(), vars))}\")\n",
    "            except Exception as err:\n",
    "                self.log(f\"{err.__class__.__name__}: {err}\")"
   ]
  },
  {
   "cell_type": "code",
   "execution_count": 98,
   "metadata": {
    "slideshow": {
     "slide_type": "subslide"
    }
   },
   "outputs": [],
   "source": [
    "# ignore\n",
    "next_inputs([\"p s\", \"c\"])"
   ]
  },
  {
   "cell_type": "code",
   "execution_count": 99,
   "metadata": {
    "slideshow": {
     "slide_type": "fragment"
    }
   },
   "outputs": [
    {
     "name": "stdout",
     "output_type": "stream",
     "text": [
      "Calling remove_html_markup(s = 'abc')\n",
      "s = 'abc'\n"
     ]
    },
    {
     "data": {
      "text/plain": "<IPython.core.display.HTML object>",
      "text/html": "<samp>(debugger) <b>p s</b></samp>"
     },
     "metadata": {},
     "output_type": "display_data"
    },
    {
     "data": {
      "text/plain": "<IPython.core.display.HTML object>",
      "text/html": "<samp>(debugger) <b>c</b></samp>"
     },
     "metadata": {},
     "output_type": "display_data"
    }
   ],
   "source": [
    "with Debugger():\n",
    "    remove_html_markup('abc')"
   ]
  },
  {
   "cell_type": "markdown",
   "metadata": {
    "slideshow": {
     "slide_type": "fragment"
    }
   },
   "source": [
    "Note how we would abbreviate commands to speed things up. The argument to `print` can be any Python expression:"
   ]
  },
  {
   "cell_type": "code",
   "execution_count": 100,
   "metadata": {
    "slideshow": {
     "slide_type": "fragment"
    }
   },
   "outputs": [],
   "source": [
    "# ignore\n",
    "next_inputs([\"print (s[0], 2 + 2)\", \"continue\"])"
   ]
  },
  {
   "cell_type": "code",
   "execution_count": 101,
   "metadata": {
    "slideshow": {
     "slide_type": "subslide"
    }
   },
   "outputs": [
    {
     "name": "stdout",
     "output_type": "stream",
     "text": [
      "Calling remove_html_markup(s = 'abc')\n",
      "(s[0], 2 + 2) = ('a', 4)\n"
     ]
    },
    {
     "data": {
      "text/plain": "<IPython.core.display.HTML object>",
      "text/html": "<samp>(debugger) <b>print (s[0], 2 + 2)</b></samp>"
     },
     "metadata": {},
     "output_type": "display_data"
    },
    {
     "data": {
      "text/plain": "<IPython.core.display.HTML object>",
      "text/html": "<samp>(debugger) <b>continue</b></samp>"
     },
     "metadata": {},
     "output_type": "display_data"
    }
   ],
   "source": [
    "with Debugger():\n",
    "    remove_html_markup('abc')"
   ]
  },
  {
   "cell_type": "markdown",
   "metadata": {
    "slideshow": {
     "slide_type": "fragment"
    }
   },
   "source": [
    "Our `help` command also properly lists `print` as a possible command:"
   ]
  },
  {
   "cell_type": "code",
   "execution_count": 102,
   "metadata": {
    "slideshow": {
     "slide_type": "fragment"
    }
   },
   "outputs": [],
   "source": [
    "# ignore\n",
    "next_inputs([\"help print\", \"continue\"])"
   ]
  },
  {
   "cell_type": "code",
   "execution_count": 103,
   "metadata": {
    "slideshow": {
     "slide_type": "subslide"
    }
   },
   "outputs": [
    {
     "name": "stdout",
     "output_type": "stream",
     "text": [
      "Calling remove_html_markup(s = 'abc')\n",
      "print      -- Print an expression. If no expression is given, print all variables\n"
     ]
    },
    {
     "data": {
      "text/plain": "<IPython.core.display.HTML object>",
      "text/html": "<samp>(debugger) <b>help print</b></samp>"
     },
     "metadata": {},
     "output_type": "display_data"
    },
    {
     "data": {
      "text/plain": "<IPython.core.display.HTML object>",
      "text/html": "<samp>(debugger) <b>continue</b></samp>"
     },
     "metadata": {},
     "output_type": "display_data"
    }
   ],
   "source": [
    "with Debugger():\n",
    "    remove_html_markup('abc')"
   ]
  },
  {
   "cell_type": "markdown",
   "metadata": {
    "slideshow": {
     "slide_type": "slide"
    }
   },
   "source": [
    "## Listing Source Code\n",
    "\n",
    "We implement a `list` command that shows the source code of the current function."
   ]
  },
  {
   "cell_type": "code",
   "execution_count": 104,
   "metadata": {
    "slideshow": {
     "slide_type": "skip"
    }
   },
   "outputs": [],
   "source": [
    "import inspect"
   ]
  },
  {
   "cell_type": "code",
   "execution_count": 105,
   "metadata": {
    "slideshow": {
     "slide_type": "fragment"
    }
   },
   "outputs": [],
   "source": [
    "class Debugger(Debugger):\n",
    "    def list_command(self, arg=\"\"):\n",
    "        \"\"\"Show current function.\"\"\"\n",
    "        source_lines, line_number = inspect.getsourcelines(self.frame.f_code)\n",
    "\n",
    "        for line in source_lines:\n",
    "            self.log(f'{line_number + 1:4} {line}', end='')\n",
    "            line_number += 1"
   ]
  },
  {
   "cell_type": "code",
   "execution_count": 106,
   "metadata": {
    "slideshow": {
     "slide_type": "fragment"
    }
   },
   "outputs": [],
   "source": [
    "# ignore\n",
    "next_inputs([\"list\", \"continue\"])"
   ]
  },
  {
   "cell_type": "code",
   "execution_count": 107,
   "metadata": {
    "slideshow": {
     "slide_type": "subslide"
    }
   },
   "outputs": [
    {
     "name": "stdout",
     "output_type": "stream",
     "text": [
      "Calling remove_html_markup(s = 'abc')\n",
      " 172 def remove_html_markup(s):\n",
      " 173     tag = False\n",
      " 174     quote = False\n",
      " 175     out = \"\"\n",
      " 176 \n",
      " 177     for c in s:\n",
      " 178         assert tag or not quote\n",
      " 179 \n",
      " 180         if c == '<' and not quote:\n",
      " 181             tag = True\n",
      " 182         elif c == '>' and not quote:\n",
      " 183             tag = False\n",
      " 184         elif (c == '\"' or c == \"'\") and tag:\n",
      " 185             quote = not quote\n",
      " 186         elif not tag:\n",
      " 187             out = out + c\n",
      " 188 \n",
      " 189     return out\n"
     ]
    },
    {
     "data": {
      "text/plain": "<IPython.core.display.HTML object>",
      "text/html": "<samp>(debugger) <b>list</b></samp>"
     },
     "metadata": {},
     "output_type": "display_data"
    },
    {
     "data": {
      "text/plain": "<IPython.core.display.HTML object>",
      "text/html": "<samp>(debugger) <b>continue</b></samp>"
     },
     "metadata": {},
     "output_type": "display_data"
    }
   ],
   "source": [
    "with Debugger():\n",
    "    remove_html_markup('abc')"
   ]
  },
  {
   "cell_type": "markdown",
   "metadata": {
    "slideshow": {
     "slide_type": "slide"
    }
   },
   "source": [
    "## Setting Breakpoints\n",
    "\n",
    "Stepping through the program line by line is a bit cumbersome. We therefore implement _breakpoints_ – a set of lines that cause the program to be interrupted as soon as this line is met."
   ]
  },
  {
   "cell_type": "code",
   "execution_count": 108,
   "metadata": {
    "slideshow": {
     "slide_type": "fragment"
    }
   },
   "outputs": [],
   "source": [
    "class Debugger(Debugger):\n",
    "    def break_command(self, arg=\"\"):\n",
    "        \"\"\"Set a breakoint in given line. If no line is given, list all breakpoints\"\"\"\n",
    "        if arg:\n",
    "            self.breakpoints.add(int(arg))\n",
    "        self.log(\"Breakpoints:\", self.breakpoints)"
   ]
  },
  {
   "cell_type": "markdown",
   "metadata": {
    "slideshow": {
     "slide_type": "fragment"
    }
   },
   "source": [
    "Here's an example, setting a breakpoint at the end of the loop:"
   ]
  },
  {
   "cell_type": "code",
   "execution_count": 109,
   "metadata": {
    "slideshow": {
     "slide_type": "subslide"
    }
   },
   "outputs": [],
   "source": [
    "# ignore\n",
    "_, remove_html_markup_starting_line_number = \\\n",
    "    inspect.getsourcelines(remove_html_markup)\n",
    "next_inputs([f\"break {remove_html_markup_starting_line_number + 16}\",\n",
    "             \"continue\", \"print\", \"continue\", \"continue\", \"continue\"])"
   ]
  },
  {
   "cell_type": "code",
   "execution_count": 110,
   "metadata": {
    "slideshow": {
     "slide_type": "fragment"
    }
   },
   "outputs": [
    {
     "name": "stdout",
     "output_type": "stream",
     "text": [
      "Calling remove_html_markup(s = 'abc')\n",
      "Breakpoints: {187}\n"
     ]
    },
    {
     "data": {
      "text/plain": "<IPython.core.display.HTML object>",
      "text/html": "<samp>(debugger) <b>break 187</b></samp>"
     },
     "metadata": {},
     "output_type": "display_data"
    },
    {
     "data": {
      "text/plain": "<IPython.core.display.HTML object>",
      "text/html": "<samp>(debugger) <b>continue</b></samp>"
     },
     "metadata": {},
     "output_type": "display_data"
    }
   ],
   "source": [
    "with Debugger():\n",
    "    remove_html_markup('abc')"
   ]
  },
  {
   "cell_type": "code",
   "execution_count": 111,
   "metadata": {
    "slideshow": {
     "slide_type": "skip"
    }
   },
   "outputs": [],
   "source": [
    "from bookutils import quiz"
   ]
  },
  {
   "cell_type": "code",
   "execution_count": 112,
   "metadata": {
    "slideshow": {
     "slide_type": "subslide"
    }
   },
   "outputs": [
    {
     "data": {
      "text/plain": "<IPython.core.display.HTML object>",
      "text/html": "\n    \n    <script>\n    function answer(quiz_id) {\n        ans = 0;\n        for (i = 1;; i++) {\n            checkbox = document.getElementById(quiz_id + \"-\" + i.toString());\n            if (!checkbox)\n                break;\n            if (checkbox.checked)\n                ans |= (1 << i);\n        }\n        return ans;\n    }\n    function check_selection(quiz_id, correct_answer, multiple_choice) {\n        given_answer = answer(quiz_id);\n        if (given_answer == correct_answer)\n        {\n            document.getElementById(quiz_id + \"-submit\").value = \"Correct!\";\n            for (i = 1;; i++) {\n                checkbox = document.getElementById(quiz_id + \"-\" + i.toString());\n                label = document.getElementById(quiz_id + \"-\" + i.toString() + \"-label\")\n                if (!checkbox)\n                    break;\n    \n                if (checkbox.checked) {\n                    label.style.fontWeight = \"bold\";\n                }\n                else {\n                    label.style.textDecoration = \"line-through\";\n                }\n            }\n        }\n        else \n        {\n            document.getElementById(quiz_id + \"-submit\").value = \"Try again\";\n            if (!multiple_choice) {\n                for (i = 1;; i++) {\n                    checkbox = document.getElementById(quiz_id + \"-\" + i.toString());\n                    label = document.getElementById(quiz_id + \"-\" + i.toString() + \"-label\")\n\n                    if (!checkbox)\n                        break;\n                    if (checkbox.checked) {\n                        label.style.textDecoration = \"line-through\";\n                    }\n                }\n            }\n        }\n    }\n    function clear_selection(quiz_id) {\n        document.getElementById(quiz_id + \"-submit\").value = \"Submit\";\n    }\n    </script>\n    \n    <div class=\"quiz\">\n    <h3 class=\"quiz_title\">Quiz</h3>\n    <p>\n    <div class=\"quiz_question\">What happens if we enter 'break 2 + 3'?</div>\n    </p>\n    <p>\n    <div class=\"quiz_options\" title=\"Pick a choice.\">\n    \n        <input type=\"radio\" name=\"d69b80c2-3280-11eb-8fd6-b57b42464725\" id=\"d69b80c2-3280-11eb-8fd6-b57b42464725-1\" onclick=\"clear_selection('d69b80c2-3280-11eb-8fd6-b57b42464725')\">\n        <label id=\"d69b80c2-3280-11eb-8fd6-b57b42464725-1-label\" for=\"d69b80c2-3280-11eb-8fd6-b57b42464725-1\">A breakpoint is set in Line 2.</label><br>\n    \n        <input type=\"radio\" name=\"d69b80c2-3280-11eb-8fd6-b57b42464725\" id=\"d69b80c2-3280-11eb-8fd6-b57b42464725-2\" onclick=\"clear_selection('d69b80c2-3280-11eb-8fd6-b57b42464725')\">\n        <label id=\"d69b80c2-3280-11eb-8fd6-b57b42464725-2-label\" for=\"d69b80c2-3280-11eb-8fd6-b57b42464725-2\">A breakpoint is set in Line 5.</label><br>\n    \n        <input type=\"radio\" name=\"d69b80c2-3280-11eb-8fd6-b57b42464725\" id=\"d69b80c2-3280-11eb-8fd6-b57b42464725-3\" onclick=\"clear_selection('d69b80c2-3280-11eb-8fd6-b57b42464725')\">\n        <label id=\"d69b80c2-3280-11eb-8fd6-b57b42464725-3-label\" for=\"d69b80c2-3280-11eb-8fd6-b57b42464725-3\">Two breakpoints are set in Lines 2 and 3.</label><br>\n    \n        <input type=\"radio\" name=\"d69b80c2-3280-11eb-8fd6-b57b42464725\" id=\"d69b80c2-3280-11eb-8fd6-b57b42464725-4\" onclick=\"clear_selection('d69b80c2-3280-11eb-8fd6-b57b42464725')\">\n        <label id=\"d69b80c2-3280-11eb-8fd6-b57b42464725-4-label\" for=\"d69b80c2-3280-11eb-8fd6-b57b42464725-4\">The debugger raises a ValueError exception.</label><br>\n    \n    </div>\n    </p>\n    <input id=\"d69b80c2-3280-11eb-8fd6-b57b42464725-submit\" type=\"submit\" value=\"Submit\" onclick=\"check_selection('d69b80c2-3280-11eb-8fd6-b57b42464725', 16, 0)\">\n    </div>\n    "
     },
     "execution_count": 112,
     "metadata": {},
     "output_type": "execute_result"
    }
   ],
   "source": [
    "quiz(\"What happens if we enter 'break 2 + 3'?\",\n",
    "     [\n",
    "         \"A breakpoint is set in Line 2.\",\n",
    "         \"A breakpoint is set in Line 5.\",\n",
    "         \"Two breakpoints are set in Lines 2 and 3.\",\n",
    "         \"The debugger raises a ValueError exception.\"\n",
    "     ], 12345 % 7)"
   ]
  },
  {
   "cell_type": "markdown",
   "metadata": {
    "slideshow": {
     "slide_type": "fragment"
    }
   },
   "source": [
    "Try it out yourself by executing the above code block!"
   ]
  },
  {
   "cell_type": "markdown",
   "metadata": {
    "slideshow": {
     "slide_type": "slide"
    }
   },
   "source": [
    "## Deleting Breakpoints\n",
    "\n",
    "To delete breakpoints, we introduce a `delete` command:"
   ]
  },
  {
   "cell_type": "code",
   "execution_count": 113,
   "metadata": {
    "slideshow": {
     "slide_type": "fragment"
    }
   },
   "outputs": [],
   "source": [
    "class Debugger(Debugger):\n",
    "    def delete_command(self, arg=\"\"):\n",
    "        \"\"\"Delete breakoint in given line. Without given line, clear all breakpoints\"\"\"\n",
    "        if arg:\n",
    "            try:\n",
    "                self.breakpoints.remove(int(arg))\n",
    "            except KeyError:\n",
    "                self.log(f\"No such breakpoint: {arg}\")\n",
    "        else:\n",
    "            self.breakpoints = set()\n",
    "        self.log(\"Breakpoints:\", self.breakpoints)"
   ]
  },
  {
   "cell_type": "code",
   "execution_count": 114,
   "metadata": {
    "slideshow": {
     "slide_type": "subslide"
    }
   },
   "outputs": [],
   "source": [
    "# ignore\n",
    "next_inputs([f\"break {remove_html_markup_starting_line_number + 16}\",\n",
    "             \"continue\", \"print\",\n",
    "             f\"delete {remove_html_markup_starting_line_number + 16}\",\n",
    "             \"continue\"])"
   ]
  },
  {
   "cell_type": "code",
   "execution_count": 115,
   "metadata": {
    "slideshow": {
     "slide_type": "fragment"
    }
   },
   "outputs": [
    {
     "name": "stdout",
     "output_type": "stream",
     "text": [
      "Calling remove_html_markup(s = 'abc')\n",
      "s = 'abc'\n"
     ]
    },
    {
     "data": {
      "text/plain": "<IPython.core.display.HTML object>",
      "text/html": "<samp>(debugger) <b>print</b></samp>"
     },
     "metadata": {},
     "output_type": "display_data"
    },
    {
     "data": {
      "text/plain": "<IPython.core.display.HTML object>",
      "text/html": "<samp>(debugger) <b>continue</b></samp>"
     },
     "metadata": {},
     "output_type": "display_data"
    }
   ],
   "source": [
    "with Debugger():\n",
    "    remove_html_markup('abc')"
   ]
  },
  {
   "cell_type": "code",
   "execution_count": 116,
   "metadata": {
    "slideshow": {
     "slide_type": "subslide"
    }
   },
   "outputs": [
    {
     "data": {
      "text/plain": "<IPython.core.display.HTML object>",
      "text/html": "\n    \n    <script>\n    function answer(quiz_id) {\n        ans = 0;\n        for (i = 1;; i++) {\n            checkbox = document.getElementById(quiz_id + \"-\" + i.toString());\n            if (!checkbox)\n                break;\n            if (checkbox.checked)\n                ans |= (1 << i);\n        }\n        return ans;\n    }\n    function check_selection(quiz_id, correct_answer, multiple_choice) {\n        given_answer = answer(quiz_id);\n        if (given_answer == correct_answer)\n        {\n            document.getElementById(quiz_id + \"-submit\").value = \"Correct!\";\n            for (i = 1;; i++) {\n                checkbox = document.getElementById(quiz_id + \"-\" + i.toString());\n                label = document.getElementById(quiz_id + \"-\" + i.toString() + \"-label\")\n                if (!checkbox)\n                    break;\n    \n                if (checkbox.checked) {\n                    label.style.fontWeight = \"bold\";\n                }\n                else {\n                    label.style.textDecoration = \"line-through\";\n                }\n            }\n        }\n        else \n        {\n            document.getElementById(quiz_id + \"-submit\").value = \"Try again\";\n            if (!multiple_choice) {\n                for (i = 1;; i++) {\n                    checkbox = document.getElementById(quiz_id + \"-\" + i.toString());\n                    label = document.getElementById(quiz_id + \"-\" + i.toString() + \"-label\")\n\n                    if (!checkbox)\n                        break;\n                    if (checkbox.checked) {\n                        label.style.textDecoration = \"line-through\";\n                    }\n                }\n            }\n        }\n    }\n    function clear_selection(quiz_id) {\n        document.getElementById(quiz_id + \"-submit\").value = \"Submit\";\n    }\n    </script>\n    \n    <div class=\"quiz\">\n    <h3 class=\"quiz_title\">Quiz</h3>\n    <p>\n    <div class=\"quiz_question\">What does the command 'delete' (without argument) do?</div>\n    </p>\n    <p>\n    <div class=\"quiz_options\" title=\"Check all that apply.\">\n    \n        <input type=\"checkbox\" name=\"d69b80c3-3280-11eb-8fd6-b57b42464725\" id=\"d69b80c3-3280-11eb-8fd6-b57b42464725-1\" onclick=\"clear_selection('d69b80c3-3280-11eb-8fd6-b57b42464725')\">\n        <label id=\"d69b80c3-3280-11eb-8fd6-b57b42464725-1-label\" for=\"d69b80c3-3280-11eb-8fd6-b57b42464725-1\">It deletes all breakpoints</label><br>\n    \n        <input type=\"checkbox\" name=\"d69b80c3-3280-11eb-8fd6-b57b42464725\" id=\"d69b80c3-3280-11eb-8fd6-b57b42464725-2\" onclick=\"clear_selection('d69b80c3-3280-11eb-8fd6-b57b42464725')\">\n        <label id=\"d69b80c3-3280-11eb-8fd6-b57b42464725-2-label\" for=\"d69b80c3-3280-11eb-8fd6-b57b42464725-2\">It deletes the source code</label><br>\n    \n        <input type=\"checkbox\" name=\"d69b80c3-3280-11eb-8fd6-b57b42464725\" id=\"d69b80c3-3280-11eb-8fd6-b57b42464725-3\" onclick=\"clear_selection('d69b80c3-3280-11eb-8fd6-b57b42464725')\">\n        <label id=\"d69b80c3-3280-11eb-8fd6-b57b42464725-3-label\" for=\"d69b80c3-3280-11eb-8fd6-b57b42464725-3\">It lists all breakpoints</label><br>\n    \n        <input type=\"checkbox\" name=\"d69b80c3-3280-11eb-8fd6-b57b42464725\" id=\"d69b80c3-3280-11eb-8fd6-b57b42464725-4\" onclick=\"clear_selection('d69b80c3-3280-11eb-8fd6-b57b42464725')\">\n        <label id=\"d69b80c3-3280-11eb-8fd6-b57b42464725-4-label\" for=\"d69b80c3-3280-11eb-8fd6-b57b42464725-4\">It stops execution</label><br>\n    \n    </div>\n    </p>\n    <input id=\"d69b80c3-3280-11eb-8fd6-b57b42464725-submit\" type=\"submit\" value=\"Submit\" onclick=\"check_selection('d69b80c3-3280-11eb-8fd6-b57b42464725', 10, 1)\">\n    </div>\n    "
     },
     "execution_count": 116,
     "metadata": {},
     "output_type": "execute_result"
    }
   ],
   "source": [
    "quiz(\"What does the command 'delete' (without argument) do?\",\n",
    "    [\n",
    "        \"It deletes all breakpoints\",\n",
    "        \"It deletes the source code\",\n",
    "        \"It lists all breakpoints\",\n",
    "        \"It stops execution\"\n",
    "    ],\n",
    "    [n for n in range(2 // 2, 2 * 2) if n % 2 / 2]\n",
    "    )"
   ]
  },
  {
   "cell_type": "markdown",
   "metadata": {
    "slideshow": {
     "slide_type": "slide"
    }
   },
   "source": [
    "## Listings with Benefits\n",
    "\n",
    "Let us extend `list` a bit such that \n",
    "\n",
    "1. it can also list a given function, and \n",
    "2. it shows the current line (`>`) as well as breakpoints (`#`)"
   ]
  },
  {
   "cell_type": "code",
   "execution_count": 117,
   "metadata": {
    "slideshow": {
     "slide_type": "subslide"
    }
   },
   "outputs": [],
   "source": [
    "class Debugger(Debugger):\n",
    "    def list_command(self, arg=\"\"):\n",
    "        \"\"\"Show current function. If arg is given, show its source code.\"\"\"\n",
    "        if arg:\n",
    "            try:\n",
    "                obj = eval(arg)\n",
    "                source_lines, line_number = inspect.getsourcelines(obj)\n",
    "            except Exception as err:\n",
    "                self.log(f\"{err.__class__.__name__}: {err}\")\n",
    "                return\n",
    "            current_line = -1\n",
    "        else:\n",
    "            source_lines, line_number = \\\n",
    "                inspect.getsourcelines(self.frame.f_code)\n",
    "            current_line = self.frame.f_lineno\n",
    "            line_number += 1\n",
    "\n",
    "        for line in source_lines:\n",
    "            spacer = ' '\n",
    "            if line_number == current_line:\n",
    "                spacer = '>'\n",
    "            elif line_number in self.breakpoints:\n",
    "                spacer = '#'\n",
    "            self.log(f'{line_number:4}{spacer} {line}', end='')\n",
    "            line_number += 1"
   ]
  },
  {
   "cell_type": "code",
   "execution_count": 118,
   "outputs": [],
   "source": [
    "class Debugger(Debugger):\n",
    "    def assign_command(self, arg=\"\"):\n",
    "        \"\"\"If arg is given, assign the given value to a local variable.\"\"\"\n",
    "        '(eval(arg, globals(), vars)'\n",
    "\n",
    "        vars = self.frame.f_locals\n",
    "        var,val = '',''\n",
    "        if arg:\n",
    "            index = 1\n",
    "            for char in arg:\n",
    "                if char!='=':\n",
    "                    var=var+char\n",
    "                    index = index + 1\n",
    "                else:\n",
    "                    val = arg[index:]\n",
    "            try:\n",
    "                assignvalue = eval(val,globals(),vars)\n",
    "                vars.update({var:assignvalue})\n",
    "                self.log(var+'='+assignvalue)\n",
    "            except Exception as err:\n",
    "                self.log(f\"{err.__class__.__name__}: {err}\")\n",
    "\n"
   ],
   "metadata": {
    "collapsed": false,
    "pycharm": {
     "name": "#%%\n"
    }
   }
  },
  {
   "cell_type": "code",
   "execution_count": 119,
   "metadata": {
    "slideshow": {
     "slide_type": "subslide"
    }
   },
   "outputs": [],
   "source": [
    "# ignore\n",
    "_, remove_html_markup_starting_line_number = \\\n",
    "    inspect.getsourcelines(remove_html_markup)\n",
    "next_inputs([f\"break {remove_html_markup_starting_line_number + 16}\",\n",
    "             \"list\", \"continue\", \"delete\", \"list\", \"continue\"])"
   ]
  },
  {
   "cell_type": "code",
   "execution_count": 120,
   "metadata": {
    "slideshow": {
     "slide_type": "fragment"
    }
   },
   "outputs": [
    {
     "name": "stdout",
     "output_type": "stream",
     "text": [
      "Calling remove_html_markup(s = 'abc')\n"
     ]
    },
    {
     "data": {
      "text/plain": "<IPython.core.display.HTML object>",
      "text/html": "<samp>(debugger) <b>continue</b></samp>"
     },
     "metadata": {},
     "output_type": "display_data"
    }
   ],
   "source": [
    "with Debugger():\n",
    "    remove_html_markup('abc')"
   ]
  },
  {
   "cell_type": "markdown",
   "metadata": {
    "slideshow": {
     "slide_type": "subslide"
    }
   },
   "source": [
    "### Quitting\n",
    "\n",
    "In the Python debugger interface, we can only observe, but not alter the control flow. To make sure we can always exit out of our debugging session, we introduce a `quit` command that deletes all breakpoints and resumes execution until the observed function finishes."
   ]
  },
  {
   "cell_type": "code",
   "execution_count": 121,
   "metadata": {
    "slideshow": {
     "slide_type": "fragment"
    }
   },
   "outputs": [],
   "source": [
    "class Debugger(Debugger):\n",
    "    def quit_command(self, arg=\"\"):\n",
    "        \"\"\"Finish execution\"\"\"\n",
    "        self.breakpoints = []\n",
    "        self.stepping = False\n",
    "        self.interact = False"
   ]
  },
  {
   "cell_type": "markdown",
   "metadata": {
    "slideshow": {
     "slide_type": "fragment"
    }
   },
   "source": [
    "With this, our command palette is pretty complete, and we can use our debugger to happily inspect Python executions."
   ]
  },
  {
   "cell_type": "code",
   "execution_count": 122,
   "metadata": {
    "slideshow": {
     "slide_type": "subslide"
    }
   },
   "outputs": [],
   "source": [
    "# ignore\n",
    "next_inputs([\"help\", \"quit\"])"
   ]
  },
  {
   "cell_type": "code",
   "execution_count": 123,
   "metadata": {
    "slideshow": {
     "slide_type": "fragment"
    }
   },
   "outputs": [
    {
     "name": "stdout",
     "output_type": "stream",
     "text": [
      "Calling remove_html_markup(s = 'abc')\n"
     ]
    },
    {
     "data": {
      "text/plain": "<IPython.core.display.HTML object>",
      "text/html": "<samp>(debugger) <b>continue</b></samp>"
     },
     "metadata": {},
     "output_type": "display_data"
    }
   ],
   "source": [
    "with Debugger():\n",
    "    remove_html_markup('abc')"
   ]
  },
  {
   "cell_type": "markdown",
   "metadata": {
    "slideshow": {
     "slide_type": "slide"
    }
   },
   "source": [
    "## Synopsis"
   ]
  },
  {
   "cell_type": "markdown",
   "metadata": {
    "slideshow": {
     "slide_type": "fragment"
    }
   },
   "source": [
    "This chapter provides an interactive debugger for Python functions. The debugger is invoked as\n",
    "\n",
    "```python\n",
    "with Debugger():\n",
    "    function_to_be_observed()\n",
    "    ...\n",
    "```\n",
    "While running, you can enter _debugger commands_ at the `(debugger)` prompt. Here's an example session:"
   ]
  },
  {
   "cell_type": "code",
   "execution_count": 124,
   "metadata": {
    "slideshow": {
     "slide_type": "subslide"
    }
   },
   "outputs": [],
   "source": [
    "# ignore\n",
    "_, remove_html_markup_starting_line_number = \\\n",
    "    inspect.getsourcelines(remove_html_markup)\n",
    "next_inputs([\"help\", f\"break {remove_html_markup_starting_line_number + 16}\",\n",
    "             \"list\", \"continue\", \"step\", \"print out\", \"quit\"])"
   ]
  },
  {
   "cell_type": "code",
   "execution_count": 125,
   "metadata": {
    "slideshow": {
     "slide_type": "fragment"
    }
   },
   "outputs": [
    {
     "name": "stdout",
     "output_type": "stream",
     "text": [
      "Calling remove_html_markup(s = 'abc')\n",
      "Breakpoints: {187}\n"
     ]
    },
    {
     "data": {
      "text/plain": "<IPython.core.display.HTML object>",
      "text/html": "<samp>(debugger) <b>break 187</b></samp>"
     },
     "metadata": {},
     "output_type": "display_data"
    },
    {
     "data": {
      "text/plain": "<IPython.core.display.HTML object>",
      "text/html": "<samp>(debugger) <b>continue</b></samp>"
     },
     "metadata": {},
     "output_type": "display_data"
    },
    {
     "data": {
      "text/plain": "'abc'"
     },
     "execution_count": 125,
     "metadata": {},
     "output_type": "execute_result"
    }
   ],
   "source": [
    "with Debugger():\n",
    "    ret = remove_html_markup('abc')\n",
    "ret"
   ]
  },
  {
   "cell_type": "markdown",
   "metadata": {
    "slideshow": {
     "slide_type": "subslide"
    }
   },
   "source": [
    "The `Debugger` class can be easily extended in subclasses. A new method `NAME_command(self, arg)` will be invoked whenever a command named `NAME` is entered, with `arg` holding given command arguments (empty string if none)."
   ]
  },
  {
   "cell_type": "markdown",
   "metadata": {
    "button": false,
    "new_sheet": true,
    "run_control": {
     "read_only": false
    },
    "slideshow": {
     "slide_type": "slide"
    }
   },
   "source": [
    "## Lessons Learned\n",
    "\n",
    "* _Debugging hooks_ from interpreted languages allow for simple interactive debugging.\n",
    "* A command-line debugging framework can be very easily extended with additional functionality."
   ]
  },
  {
   "cell_type": "markdown",
   "metadata": {
    "button": false,
    "new_sheet": false,
    "run_control": {
     "read_only": false
    },
    "slideshow": {
     "slide_type": "slide"
    }
   },
   "source": [
    "## Next Steps\n",
    "\n",
    "In the next chapter, we will see how to\n",
    "\n",
    "* [locating defects by learning correlations between execution features and failures](DefectLocalizer.ipynb)\n"
   ]
  },
  {
   "cell_type": "markdown",
   "metadata": {
    "slideshow": {
     "slide_type": "slide"
    }
   },
   "source": [
    "## Background\n",
    "\n",
    "\\todo{add}"
   ]
  },
  {
   "cell_type": "markdown",
   "metadata": {
    "button": false,
    "new_sheet": true,
    "run_control": {
     "read_only": false
    },
    "slideshow": {
     "slide_type": "slide"
    }
   },
   "source": [
    "## Exercises\n"
   ]
  },
  {
   "cell_type": "markdown",
   "metadata": {
    "button": false,
    "new_sheet": false,
    "run_control": {
     "read_only": false
    },
    "slideshow": {
     "slide_type": "subslide"
    },
    "solution2": "hidden",
    "solution2_first": true
   },
   "source": [
    "### Exercise 1: Changing State\n",
    "\n",
    "Some Python implementations allow to alter the state, by assigning values to `frame.f_locals`. Implement a `assign VAR=VALUE` command that allows to change the value of (local) variable `VAR` to the new value `VALUE`."
   ]
  },
  {
   "cell_type": "markdown",
   "metadata": {
    "slideshow": {
     "slide_type": "skip"
    },
    "solution2": "hidden"
   },
   "source": [
    "**Solution.** Assigning values may or may not work, depending on your Python implementation. Here's an `assign` command that gets things right, assuming we can assign to `frame.f_locals`."
   ]
  },
  {
   "cell_type": "code",
   "execution_count": 126,
   "metadata": {
    "slideshow": {
     "slide_type": "skip"
    },
    "solution2": "hidden"
   },
   "outputs": [],
   "source": [
    "class Debugger(Debugger):\n",
    "    def assign_command(self, arg):\n",
    "        \"\"\"Use as 'assign VAR=VALUE'. Assign VALUE to local variable VAR.\"\"\"\n",
    "        sep = arg.find('=')\n",
    "        if sep > 0:\n",
    "            var = arg[:sep].strip()\n",
    "            value = arg[sep + 1:].strip()\n",
    "        else:\n",
    "            self.help_command(\"assign\")\n",
    "            return\n",
    "\n",
    "        try:\n",
    "            self.frame.f_locals[var] = eval(value, globals(),\n",
    "                                            self.frame.f_locals)\n",
    "        except Exception as err:\n",
    "            self.log(f\"{err.__class__.__name__}: {err}\")"
   ]
  },
  {
   "cell_type": "markdown",
   "metadata": {
    "slideshow": {
     "slide_type": "skip"
    },
    "solution2": "hidden"
   },
   "source": [
    "This implementation allows us to _add_ variables, but not necessarily to _alter_ existing variables:"
   ]
  },
  {
   "cell_type": "code",
   "execution_count": 127,
   "metadata": {
    "slideshow": {
     "slide_type": "skip"
    },
    "solution2": "hidden"
   },
   "outputs": [],
   "source": [
    "# ignore\n",
    "next_inputs([\"assign b = 45\", \"assign s = 'xyz'\", \"print\", \"step\",\n",
    "             \"print\", \"continue\"])"
   ]
  },
  {
   "cell_type": "code",
   "execution_count": 128,
   "metadata": {
    "slideshow": {
     "slide_type": "skip"
    },
    "solution2": "hidden"
   },
   "outputs": [
    {
     "name": "stdout",
     "output_type": "stream",
     "text": [
      "Calling remove_html_markup(s = 'abc')\n",
      "s = 'abc'\n",
      "No such breakpoint: 187\n",
      "Breakpoints: set()\n"
     ]
    },
    {
     "data": {
      "text/plain": "<IPython.core.display.HTML object>",
      "text/html": "<samp>(debugger) <b>print</b></samp>"
     },
     "metadata": {},
     "output_type": "display_data"
    },
    {
     "data": {
      "text/plain": "<IPython.core.display.HTML object>",
      "text/html": "<samp>(debugger) <b>delete 187</b></samp>"
     },
     "metadata": {},
     "output_type": "display_data"
    },
    {
     "data": {
      "text/plain": "<IPython.core.display.HTML object>",
      "text/html": "<samp>(debugger) <b>continue</b></samp>"
     },
     "metadata": {},
     "output_type": "display_data"
    }
   ],
   "source": [
    "with Debugger():\n",
    "    remove_html_markup('abc')"
   ]
  },
  {
   "cell_type": "markdown",
   "metadata": {
    "button": false,
    "new_sheet": false,
    "run_control": {
     "read_only": false
    },
    "slideshow": {
     "slide_type": "subslide"
    }
   },
   "source": [
    "### Exercise 2: More Commands\n",
    "\n",
    "Extending the `Debugger` class with extra features and commands is a breeze. The following commands are inspired from [the GNU command-line debugger (GDB)](https://www.gnu.org/software/gdb/):"
   ]
  },
  {
   "cell_type": "markdown",
   "metadata": {
    "button": false,
    "new_sheet": false,
    "run_control": {
     "read_only": false
    },
    "slideshow": {
     "slide_type": "subslide"
    }
   },
   "source": [
    "#### Named breakpoints (\"break\")\n",
    "\n",
    "With `break FUNCTION` and `delete FUNCTION`, set and delete a breakpoint at `FUNCTION`."
   ]
  },
  {
   "cell_type": "code",
   "execution_count": 129,
   "outputs": [],
   "source": [
    "class Debugger(Debugger):\n",
    "    def break_command(self, arg=\"\"):\n",
    "        \"\"\"Set a breakoint in given line or a given function. If no line or function is given, list all breakpoints\"\"\"\n",
    "        if arg:\n",
    "            try:\n",
    "                self.breakpoints.add(int(arg))\n",
    "            except ValueError as err:\n",
    "                try:\n",
    "                    obj =eval(arg, globals(),self.frame.f_locals)\n",
    "                    source_lines, line_number = inspect.getsourcelines(obj)\n",
    "                    self.breakpoints.add(line_number+2) #Line number of functions points one line above begin of function\n",
    "                except Exception as err:\n",
    "                    self.log(f\"{err.__class__.__name__}: {err}\")\n",
    "        self.log(\"Breakpoints:\", self.breakpoints)"
   ],
   "metadata": {
    "collapsed": false,
    "pycharm": {
     "name": "#%%\n"
    }
   }
  },
  {
   "cell_type": "code",
   "execution_count": 142,
   "outputs": [
    {
     "name": "stdout",
     "output_type": "stream",
     "text": [
      "Calling remove_html_markup(s = 'abcd')\n",
      " 172  def remove_html_markup(s):\n",
      " 173      tag = False\n",
      " 174      quote = False\n",
      " 175      out = \"\"\n",
      " 176  \n",
      " 177      for c in s:\n",
      " 178          assert tag or not quote\n",
      " 179  \n",
      " 180          if c == '<' and not quote:\n",
      " 181              tag = True\n",
      " 182          elif c == '>' and not quote:\n",
      " 183              tag = False\n",
      " 184          elif (c == '\"' or c == \"'\") and tag:\n",
      " 185              quote = not quote\n",
      " 186          elif not tag:\n",
      " 187              out = out + c\n",
      " 188  \n",
      " 189      return out\n",
      " 172  def remove_html_markup(s):\n",
      " 173      tag = False\n",
      " 174      quote = False\n",
      " 175      out = \"\"\n",
      " 176  \n",
      " 177      for c in s:\n",
      " 178          assert tag or not quote\n",
      " 179  \n",
      " 180          if c == '<' and not quote:\n",
      " 181              tag = True\n",
      " 182          elif c == '>' and not quote:\n",
      " 183              tag = False\n",
      " 184          elif (c == '\"' or c == \"'\") and tag:\n",
      " 185              quote = not quote\n",
      " 186          elif not tag:\n",
      " 187              out = out + c\n",
      " 188  \n",
      " 189      return out\n",
      " 172  def remove_html_markup(s):\n",
      " 173      tag = False\n",
      " 174      quote = False\n",
      " 175      out = \"\"\n",
      " 176  \n",
      " 177      for c in s:\n",
      " 178          assert tag or not quote\n",
      " 179  \n",
      " 180          if c == '<' and not quote:\n",
      " 181              tag = True\n",
      " 182          elif c == '>' and not quote:\n",
      " 183              tag = False\n",
      " 184          elif (c == '\"' or c == \"'\") and tag:\n",
      " 185              quote = not quote\n",
      " 186          elif not tag:\n",
      " 187              out = out + c\n",
      " 188  \n",
      " 189      return out\n",
      "assign     -- Use as 'assign VAR=VALUE'. Assign VALUE to local variable VAR.\n",
      "break      -- Set a breakoint in given line or a given function. If no line or function is given, list all breakpoints\n",
      "continue   -- Resume execution\n",
      "delete     -- Delete breakoint in given line. Without given line, clear all breakpoints\n",
      "help       -- Give help on given command. If no command is given, give help on all\n",
      "list       -- Show current function. If arg is given, show its source code.\n",
      "print      -- Print an expression. If no expression is given, print all variables\n",
      "quit       -- Finish execution\n",
      "step       -- Execute up to the next line\n",
      "assign     -- Use as 'assign VAR=VALUE'. Assign VALUE to local variable VAR.\n",
      "break      -- Set a breakoint in given line or a given function. If no line or function is given, list all breakpoints\n",
      "continue   -- Resume execution\n",
      "delete     -- Delete breakoint in given line. Without given line, clear all breakpoints\n",
      "help       -- Give help on given command. If no command is given, give help on all\n",
      "list       -- Show current function. If arg is given, show its source code.\n",
      "print      -- Print an expression. If no expression is given, print all variables\n",
      "quit       -- Finish execution\n",
      "step       -- Execute up to the next line\n"
     ]
    }
   ],
   "source": [
    "with Debugger():\n",
    "    remove_html_markup('abcd')"
   ],
   "metadata": {
    "collapsed": false,
    "pycharm": {
     "name": "#%%\n"
    }
   }
  },
  {
   "cell_type": "markdown",
   "metadata": {
    "button": false,
    "new_sheet": false,
    "run_control": {
     "read_only": false
    },
    "slideshow": {
     "slide_type": "subslide"
    }
   },
   "source": [
    "#### Step over functions (\"next\")\n",
    "\n",
    "When stopped at a function call, the `next` command should execute the entire call, stopping when the function returns. (In contrast, `step` stops at the first line of the function called.)"
   ]
  },
  {
   "cell_type": "markdown",
   "metadata": {
    "button": false,
    "new_sheet": false,
    "run_control": {
     "read_only": false
    },
    "slideshow": {
     "slide_type": "subslide"
    }
   },
   "source": [
    "#### Print call stack (\"where\")\n",
    "\n",
    "Implement a `where` command that shows the stack of calling functions."
   ]
  },
  {
   "cell_type": "markdown",
   "metadata": {
    "button": false,
    "new_sheet": false,
    "run_control": {
     "read_only": false
    },
    "slideshow": {
     "slide_type": "subslide"
    }
   },
   "source": [
    "#### Move up and down the call stack (\"up\" and \"down\")\n",
    "\n",
    "After entering the `up` command, explore the source and variables of the _calling_ function rather than the current function. Use `up` repeatedly to move further up the stack. `down` returns to the caller."
   ]
  },
  {
   "cell_type": "markdown",
   "metadata": {
    "button": false,
    "new_sheet": false,
    "run_control": {
     "read_only": false
    },
    "slideshow": {
     "slide_type": "subslide"
    }
   },
   "source": [
    "#### Execute until line (\"until\")\n",
    "\n",
    "With `until LINE`, resume execution until a line greater than `LINE` is reached. If `LINE` is not given, resume execution until a line greater than the current is reached. This is useful to avoid stepping through multiple loop iterations."
   ]
  },
  {
   "cell_type": "markdown",
   "metadata": {
    "button": false,
    "new_sheet": false,
    "run_control": {
     "read_only": false
    },
    "slideshow": {
     "slide_type": "subslide"
    }
   },
   "source": [
    "#### Execute until return (\"finish\")\n",
    "\n",
    "With `finish`, resume execution until the current fucnction returns."
   ]
  },
  {
   "cell_type": "markdown",
   "metadata": {
    "button": false,
    "new_sheet": false,
    "run_control": {
     "read_only": false
    },
    "slideshow": {
     "slide_type": "subslide"
    }
   },
   "source": [
    "#### Watchpoints (\"watch\")\n",
    "\n",
    "With `watch CONDITION`, stop execution as soon as `CONDITION` changes its value. (Use the code from our `EventTracer` class in the [chapter on Tracing](Tracer.ipynb).) `delete CONDITION` removes the watchpoint. Keep in mind that some variable names may not exist at all times."
   ]
  },
  {
   "cell_type": "markdown",
   "metadata": {
    "button": false,
    "new_sheet": false,
    "run_control": {
     "read_only": false
    },
    "slideshow": {
     "slide_type": "subslide"
    }
   },
   "source": [
    "### Exercise 3: Time-Travel Debugging\n",
    "\n",
    "Rather than inspecting a function at the moment it executes, you can also _record_ the entire state (call stack, local variables, etc.) during execution, and then run an interactive session to step through the recorded execution. Your time travel debugger would be invoked as\n",
    "\n",
    "```python\n",
    "with TimeTravelDebugger():\n",
    "    function_to_be_tracked()\n",
    "    ...\n",
    "```\n",
    "\n",
    "The interaction then starts at the end of the `with` block."
   ]
  },
  {
   "cell_type": "markdown",
   "metadata": {
    "button": false,
    "new_sheet": false,
    "run_control": {
     "read_only": false
    },
    "slideshow": {
     "slide_type": "subslide"
    }
   },
   "source": [
    "#### Part 1: Recording Values\n",
    "\n",
    "Start with a subclass of `Tracer` from the [chapter on tracing](Tracer.ipynb) (say, `TimeTravelTracer`) to execute a program while recording all values. Keep in mind that recording even only local variables at each step quickly consumes large amounts of memory. As an alternative, consider recording only _changes_ to variables, with the option to restore an entire state from a baseline and later changes."
   ]
  },
  {
   "cell_type": "markdown",
   "metadata": {
    "button": false,
    "new_sheet": false,
    "run_control": {
     "read_only": false
    },
    "slideshow": {
     "slide_type": "subslide"
    }
   },
   "source": [
    "#### Part 2: Command Line Interface\n",
    "\n",
    "Create `TimeTravelDebugger` as subclass of both `TimeTravelTracer` and `Debugger` to provide a command line interface as with `Debugger`, including additional commands which get you back to earlier states:\n",
    "\n",
    "* `back` is like `step`, except that you go one line back\n",
    "* `restart` gets you to the beginning of the execution\n",
    "* `rewind` gets you to the beginning of the current function invocation"
   ]
  },
  {
   "cell_type": "markdown",
   "metadata": {
    "button": false,
    "new_sheet": false,
    "run_control": {
     "read_only": false
    },
    "slideshow": {
     "slide_type": "subslide"
    }
   },
   "source": [
    "#### Part 3: Graphical User Interface\n",
    "\n",
    "Create `GUItimeTravelDebugger` to provide a _graphical user interface_ that allows you to explore a recorded execution, using HTML and JavaScript."
   ]
  },
  {
   "cell_type": "markdown",
   "metadata": {
    "button": false,
    "new_sheet": false,
    "run_control": {
     "read_only": false
    },
    "slideshow": {
     "slide_type": "fragment"
    }
   },
   "source": [
    "Here's a simple example to get you started. Assume you have recorded the following line numbers and variable values:"
   ]
  },
  {
   "cell_type": "code",
   "execution_count": 131,
   "metadata": {
    "slideshow": {
     "slide_type": "subslide"
    }
   },
   "outputs": [],
   "source": [
    "recording = [\n",
    "    (10, {'x': 25}),\n",
    "    (11, {'x': 25}),\n",
    "    (12, {'x': 26, 'a': \"abc\"}),\n",
    "    (13, {'x': 26, 'a': \"abc\"}),\n",
    "    (10, {'x': 30}),\n",
    "    (11, {'x': 30}),\n",
    "    (12, {'x': 31, 'a': \"def\"}),\n",
    "    (13, {'x': 31, 'a': \"def\"}),\n",
    "    (10, {'x': 35}),\n",
    "    (11, {'x': 35}),\n",
    "    (12, {'x': 36, 'a': \"ghi\"}),\n",
    "    (13, {'x': 36, 'a': \"ghi\"}),\n",
    "]"
   ]
  },
  {
   "cell_type": "markdown",
   "metadata": {
    "slideshow": {
     "slide_type": "subslide"
    }
   },
   "source": [
    "Then, the following function will provide a _slider_ that will allow you to explore these values:"
   ]
  },
  {
   "cell_type": "code",
   "execution_count": 132,
   "metadata": {
    "slideshow": {
     "slide_type": "skip"
    }
   },
   "outputs": [],
   "source": [
    "from bookutils import HTML"
   ]
  },
  {
   "cell_type": "code",
   "execution_count": 133,
   "metadata": {
    "slideshow": {
     "slide_type": "subslide"
    }
   },
   "outputs": [],
   "source": [
    "def slider(rec):\n",
    "    lines_over_time = [line for (line, var) in rec]\n",
    "    vars_over_time = []\n",
    "    for (line, vars) in rec:\n",
    "        vars_over_time.append(\", \".join(f\"{var} = {vars[var]}\"\n",
    "                                        for var in vars))\n",
    "\n",
    "    # print(lines_over_time)\n",
    "    # print(vars_over_time)\n",
    "\n",
    "    template = f'''\n",
    "    <div class=\"time_travel_debugger\">\n",
    "      <input type=\"range\" min=\"0\" max=\"{len(lines_over_time) - 1}\"\n",
    "      value=\"0\" class=\"slider\" id=\"time_slider\">\n",
    "      Line <span id=\"line\">{lines_over_time[0]}</span>:\n",
    "      <span id=\"vars\">{vars_over_time[0]}</span>\n",
    "    </div>\n",
    "    <script>\n",
    "       var lines_over_time = {lines_over_time};\n",
    "       var vars_over_time = {vars_over_time};\n",
    "\n",
    "       var time_slider = document.getElementById(\"time_slider\");\n",
    "       var line = document.getElementById(\"line\");\n",
    "       var vars = document.getElementById(\"vars\");\n",
    "\n",
    "       time_slider.oninput = function() {{\n",
    "          line.innerHTML = lines_over_time[this.value];\n",
    "          vars.innerHTML = vars_over_time[this.value];\n",
    "       }}\n",
    "    </script>\n",
    "    '''\n",
    "    # print(template)\n",
    "    return HTML(template)"
   ]
  },
  {
   "cell_type": "code",
   "execution_count": 134,
   "metadata": {
    "slideshow": {
     "slide_type": "subslide"
    }
   },
   "outputs": [
    {
     "data": {
      "text/plain": "<IPython.core.display.HTML object>",
      "text/html": "\n    <div class=\"time_travel_debugger\">\n      <input type=\"range\" min=\"0\" max=\"11\"\n      value=\"0\" class=\"slider\" id=\"time_slider\">\n      Line <span id=\"line\">10</span>:\n      <span id=\"vars\">x = 25</span>\n    </div>\n    <script>\n       var lines_over_time = [10, 11, 12, 13, 10, 11, 12, 13, 10, 11, 12, 13];\n       var vars_over_time = ['x = 25', 'x = 25', 'x = 26, a = abc', 'x = 26, a = abc', 'x = 30', 'x = 30', 'x = 31, a = def', 'x = 31, a = def', 'x = 35', 'x = 35', 'x = 36, a = ghi', 'x = 36, a = ghi'];\n\n       var time_slider = document.getElementById(\"time_slider\");\n       var line = document.getElementById(\"line\");\n       var vars = document.getElementById(\"vars\");\n\n       time_slider.oninput = function() {\n          line.innerHTML = lines_over_time[this.value];\n          vars.innerHTML = vars_over_time[this.value];\n       }\n    </script>\n    "
     },
     "execution_count": 134,
     "metadata": {},
     "output_type": "execute_result"
    }
   ],
   "source": [
    "slider(recording)"
   ]
  },
  {
   "cell_type": "markdown",
   "metadata": {
    "slideshow": {
     "slide_type": "fragment"
    }
   },
   "source": [
    "Explore the HTML and JavaScript details of how `slider()` works, and then expand it to a user interface where you can\n",
    "\n",
    "* see the current source code (together with the line being executed)\n",
    "* search for specific events, such as a line being executed or a variable changing its value\n",
    "\n",
    "Just like `slider()`, your user interface should come in pure HTML and JavaScript such that it can run in a browser (or a Jupyter notebook) without interacting with a Python program."
   ]
  }
 ],
 "metadata": {
  "ipub": {
   "bibliography": "fuzzingbook.bib",
   "toc": true
  },
  "kernelspec": {
   "name": "python3",
   "language": "python",
   "display_name": "Python 3"
  },
  "language_info": {
   "codemirror_mode": {
    "name": "ipython",
    "version": 3
   },
   "file_extension": ".py",
   "mimetype": "text/x-python",
   "name": "python",
   "nbconvert_exporter": "python",
   "pygments_lexer": "ipython3",
   "version": "3.6.10"
  },
  "toc": {
   "base_numbering": 1,
   "nav_menu": {},
   "number_sections": true,
   "sideBar": true,
   "skip_h1_title": true,
   "title_cell": "",
   "title_sidebar": "Contents",
   "toc_cell": false,
   "toc_position": {},
   "toc_section_display": true,
   "toc_window_display": true
  },
  "toc-autonumbering": false,
  "toc-showtags": false
 },
 "nbformat": 4,
 "nbformat_minor": 4
}